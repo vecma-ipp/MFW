{
 "cells": [
  {
   "cell_type": "code",
   "execution_count": null,
   "metadata": {},
   "outputs": [],
   "source": [
    "%load_ext autoreload\n",
    "%autoreload 2"
   ]
  },
  {
   "cell_type": "code",
   "execution_count": 1,
   "metadata": {},
   "outputs": [],
   "source": [
    "import numpy as np\n",
    "import pandas as pd\n",
    "import math as m\n",
    "from itertools import product\n",
    "import time as t\n",
    "\n",
    "from matplotlib import pyplot as plt"
   ]
  },
  {
   "cell_type": "code",
   "execution_count": 3,
   "metadata": {},
   "outputs": [],
   "source": [
    "from da_utils import plot_diff_all, plot_gem0_scan, write_gem0_offline, write_gem0_fromfile, write_gem0_fromcpo"
   ]
  },
  {
   "cell_type": "code",
   "execution_count": 4,
   "metadata": {},
   "outputs": [],
   "source": [
    "xlabels = ['te_value', 'ti_value', 'te_ddrho', 'ti_ddrho']\n",
    "ylabels = ['te_transp_flux', 'ti_transp_flux']\n",
    "\n",
    "n_fts=8"
   ]
  },
  {
   "cell_type": "code",
   "execution_count": null,
   "metadata": {},
   "outputs": [],
   "source": [
    "### To create GEM0 scan files:\n",
    "\n",
    "date_now = '20240201'\n",
    "\n",
    "#file_in = \"../../muscle3/ref_train_data_5000.csv\"\n",
    "#file_in = \"gem0_new_data_20231215.csv\"\n",
    "#file_in = \"gem0py_lhc_20240110_all.csv\"\n",
    "\n",
    "# coming back to 5000 full grid GEM0 data\n",
    "#file_in = \"gem0_new_data_20231208.csv\"\n",
    "# ... but on corrected radial locations\n",
    "#file_in = \"gem0_new_data_20231215.csv\"\n",
    "# ... newly generated such reading\n",
    "file_in = 'gem0py_new_20240201.csv'\n",
    "# LHC sample of size 12000\n",
    "#file_in = 'gem0py_new_20240123.csv'\n",
    "\n",
    "modtype=\"gpr\"\n",
    "codename=\"gem0py\"\n",
    "\n",
    "### Read inputs\n",
    "data = pd.read_csv(file_in)\n",
    "data_x = data[xlabels]\n",
    "data_y = data[ylabels]\n",
    "x = np.array(data_x)\n",
    "\n",
    "# Create scan files\n",
    "print(\"Creating scan files\")\n",
    "\n",
    "remainder_file_path = f\"scan_{codename}{modtype}_remainder_\"\n",
    "remainder_file_date = date_now\n",
    "st_t = t.time()\n",
    "\n",
    "scan_data = [[plot_gem0_scan(x,input_number=i,output_number=o, flag_plot=False, file_name_suf=date_now, extend_factor=0.05, \\\n",
    "                               cut_option='file', remainder_values=f\"{remainder_file_path}{xlabels[i]}_{remainder_file_date}\", \\\n",
    "                             ) for i in range(len(xlabels))] for o in range(len(ylabels))]\n",
    "print(\"Time to create scan files: \", t.time()-st_t)\n",
    "\n",
    "scan_data_perft = []\n",
    "\n",
    "# Reshape dictionaries\n",
    "for n_ft in range(n_fts):\n",
    "     scan_data_perft.append({(f\"{xlabels[i]}_{ylabels[j]}\",k): scan_data[j][i][(f\"ft{n_ft}\",k)] for i,j,k in product(range(len(xlabels)),range(len(ylabels)),['x','y'])})\t\n",
    "\n",
    "# Write down scan files\n",
    "#date_last = '20240116'\n",
    "\n",
    "for n_ft in range(n_fts):\n",
    "     s = scan_data_perft[n_ft]\n",
    "     spd = pd.DataFrame.from_dict(s)\n",
    "     spd.to_csv(f\"scan_{codename}py_{date_now}_ft{n_ft}.csv\")\n"
   ]
  },
  {
   "cell_type": "code",
   "execution_count": null,
   "metadata": {},
   "outputs": [],
   "source": [
    "# # Test: reading a multi-indexed dataframe\n",
    "# test_df = pd.read_csv(\"scan_gem0_remainder_te_value.csv\", header=[0, 1], index_col=0,)\n",
    "\n",
    "# test_df = test_df[(f\"ft{0}\", xlabels[0])]\n",
    "\n",
    "# test_array = np.array(test_df)\n",
    "# print(test_array)"
   ]
  },
  {
   "cell_type": "code",
   "execution_count": null,
   "metadata": {},
   "outputs": [],
   "source": [
    "# To create surrogate scan files:\n",
    "\n",
    "#!cd ../../../EasySurrogate && pip install . && cd tests/gem_gp && for((i=0;i<8;i++)); do python3 test_model_ann.py ${i} 20231218 && cp scan_${i}.csv ../../../MFW/uq/basicda/scan_gem0surr_20240105_ft${i}.csv ; done && cd ../../../MFW/uq/basicda\n",
    "\n",
    "!cd ../../../EasySurrogate && pip install . && cd tests/gem_gp && for((i=0;i<8;i++)); do python3 test_model.py ${i} 20231212 && cp scan_${i}.csv ../../../MFW/uq/basicda/scan_gem0surr_20240105_ft${i}.csv ; done && cd ../../../MFW/uq/basicda\n"
   ]
  },
  {
   "cell_type": "code",
   "execution_count": 10,
   "metadata": {},
   "outputs": [],
   "source": [
    "# To plot the difference between GEM0 and surrogate, and their comparison\n",
    "\n",
    "date = '20240201'\n",
    "surtype = 'gpr'\n",
    "codename = 'gem0py'\n",
    "\n",
    "file_pref_gem0 = f\"{codename}py_{date}\"\n",
    "file_pref_surr = f\"{codename}{surtype}_{date}\"\n",
    "\n",
    "save_file = f\"{codename}vs{surtype}_{date}_0.pdf\"\n",
    "\n",
    "plot_diff_all(file_pref_1=file_pref_gem0, file_pref_2=file_pref_surr, save_file=save_file)\n",
    "\n",
    "!mv *gem0pyvsgpr_20240201_0.pdf ../../.."
   ]
  },
  {
   "cell_type": "code",
   "execution_count": null,
   "metadata": {},
   "outputs": [],
   "source": [
    "# To generate a dataset of LHCS GEM0 evaluations\n",
    "#nft = 8\n",
    "date = '20240125'\n",
    "\n",
    "file_in = 'gem0py_new_20240123.csv'\n",
    "\n",
    "save_filename=f\"gem0py_lhc_{date}_ft\"\n",
    "\n",
    "n_samples_p_ft = 1500\n",
    "\n",
    "for i in range(n_fts):\n",
    "    \n",
    "    print(f\"flux tube number: {i}\")\n",
    "\n",
    "    write_gem0_offline(n_samples=n_samples_p_ft, n_ft=i, filename=save_filename, file_in=file_in)\n"
   ]
  },
  {
   "cell_type": "code",
   "execution_count": null,
   "metadata": {},
   "outputs": [],
   "source": [
    "# To generate an expanded dataset of GEM0 evaluations\n",
    "\n",
    "from da_utils import write_gem0_expanded\n",
    "\n",
    "datenow = '20240126'\n",
    "save_filename = f\"gem0py_new_{datenow}.csv\"\n",
    "\n",
    "file_old = \"gem_648_data.csv\"\n",
    "\n",
    "expand_factor = 1.0\n",
    "\n",
    "write_gem0_expanded(file_old, save_filename, expand_factor=expand_factor, calloption=2)"
   ]
  },
  {
   "cell_type": "code",
   "execution_count": null,
   "metadata": {},
   "outputs": [],
   "source": [
    "# Add new readings to a training data set\n",
    "\n",
    "from da_utils import merge_result_csv\n",
    "\n",
    "code=\"gem0py\"\n",
    "\n",
    "date_old = \"20240126\"\n",
    "date_new = \"20240129\"\n",
    "date_now = \"20240129\"\n",
    "\n",
    "file_old = f\"{code}_new_{date_old}.csv\"\n",
    "file_new = f\"test_{code}_{date_new}.csv\"\n",
    "file_tot = f\"{code}_new_{date_now}.csv\"\n",
    "\n",
    "merge_result_csv([file_old, file_new], file_tot)\n"
   ]
  },
  {
   "cell_type": "code",
   "execution_count": null,
   "metadata": {},
   "outputs": [],
   "source": [
    "# To generate a dataset of GEM0 evaluations for given input file\n",
    "\n",
    "from da_utils import write_gem0_fromfile\n",
    "\n",
    "# 1) Testing an new point saved by a workflow during the run\n",
    "# filename_in = 'new_surrogate_points_it98.csv'\n",
    "# filename_out = 'test_gem0py_20240129.csv'\n",
    "\n",
    "# 2) A sample generated as a full grid around the final point of the worflow\n",
    "# ATTENTION: last coretransp, coreprof, equilibrium have to be copied to /uq/basicda/\n",
    "date = '20240202'\n",
    "filename_in = f\"gem0py_newpoint_{date}.csv\"\n",
    "filename_out = f\"gem0py_new_{date}.csv\"\n",
    "\n",
    "write_gem0_fromfile(filename_in, filename_out)\n"
   ]
  },
  {
   "cell_type": "code",
   "execution_count": 8,
   "metadata": {},
   "outputs": [],
   "source": [
    "# temporary: merge generated csv file into one, adding a column with the flux tube number\n",
    "\n",
    "import glob\n",
    "\n",
    "date = '20240125'\n",
    "path = f\"gem0py_lhc_{date}_ft*.csv\" \n",
    "\n",
    "all_files = glob.glob(path)\n",
    "df_from_each_file = [pd.read_csv(f) for f in all_files]\n",
    "\n",
    "for i in range(len(df_from_each_file)):\n",
    "    df_from_each_file[i]['ft'] = i\n",
    "\n",
    "df_merged = pd.concat(df_from_each_file, ignore_index=True, sort=False)\n",
    "df_merged.to_csv( f\"gem0py_lhc_{date}_all.csv\")\n"
   ]
  },
  {
   "cell_type": "code",
   "execution_count": null,
   "metadata": {},
   "outputs": [],
   "source": [
    "# copy EasySurrogate campaign objects and replace model objects"
   ]
  },
  {
   "cell_type": "code",
   "execution_count": null,
   "metadata": {},
   "outputs": [],
   "source": [
    "# Reformating: read the M3-WF resulting CSV and save the last point in format row: values, columns: Te/i gradTe/i ft\n",
    "\n",
    "#import re\n",
    "\n",
    "naming_map = {\n",
    "    'te_value' : 'Te',\n",
    "    'ti_value' : 'Ti',\n",
    "    'te_ddrho' : 'dTe',\n",
    "    'ti_ddrho' : 'dTi',\n",
    "    'te_transp_flux': 'flux-Te',\n",
    "    'ti_transp_flux': 'flux-Ti',    \n",
    "    'diff_te': 'diff-Te',\n",
    "    'diff_ti': 'diff-Ti',\n",
    "    'vconv_te': 'vconv-Te',\n",
    "    'vconv_ti': 'vconv-Ti',\n",
    "}\n",
    "\n",
    "dateorig = '20240202'\n",
    "datenow  = '20240202'\n",
    "code = 'gem0'\n",
    "file_in = f\"res_{code}_{dateorig}.csv\"\n",
    "file_out = f\"final_point_{code}_{datenow}.csv\"\n",
    "\n",
    "#def find(name, data=data): return [ s for s in np.array(data.columns) if re.findall(name, s) ]\n",
    "\n",
    "header = [v+'-ft'+str(j) for (k,v),j in product(naming_map.items(),range(1,9))]\n",
    "\n",
    "data = pd.read_csv(file_in, sep=' ', header=None, names=header, usecols=[i for i in range(len(header))])\n",
    "\n",
    "#print(header) ###DEBUG\n",
    "#print(data.iloc[0]) ###DEBUG\n",
    "#print(data.describe()) ##DEBUG\n",
    "\n",
    "last_ind = -1\n",
    "last_reading = data.iloc[last_ind]\n",
    "\n",
    "nfts = 8\n",
    "\n",
    "data_list_new = []\n",
    "\n",
    "for i in range(nfts):\n",
    "\n",
    "    element = {x:last_reading[f\"{naming_map[x]}-ft{i+1}\"] for x in xlabels}\n",
    "    element['ft'] = i\n",
    "\n",
    "    data_list_new.append(element)\n",
    "\n",
    "data_new = pd.DataFrame(data_list_new)\n",
    "data_new.to_csv(file_out)\n"
   ]
  },
  {
   "cell_type": "code",
   "execution_count": null,
   "metadata": {},
   "outputs": [],
   "source": [
    "# Call pyGEM0 for single file - test why calling it for CPO and a value differs!\n",
    "\n",
    "dateorig = '20240201'\n",
    "datenow  = '20240201'\n",
    "code = 'gem0'\n",
    "\n",
    "file_in = f\"final_point_{code}_{datenow}.csv\"\n",
    "file_out = f\"test.csv\"\n",
    "\n",
    "pr_filename = 'gem0_coreprof_in.cpo'\n",
    "eq_filename = 'gem0_equilibrium_in.cpo'\n",
    "tr_filename = 'gem0_coretransp_in.cpo'\n",
    "\n",
    "write_gem0_fromcpo(pr_filename, eq_filename, tr_filename)\n",
    "\n",
    "write_gem0_fromfile(file_in, file_out)"
   ]
  },
  {
   "cell_type": "code",
   "execution_count": null,
   "metadata": {},
   "outputs": [],
   "source": [
    "# Create a new full-product grid of profile values around a given point\n",
    "\n",
    "from da_utils import write_profs_fromfile_grid\n",
    "\n",
    "date = '20240202'\n",
    "\n",
    "file_in  = f\"final_point_gem0_{date}.csv\"\n",
    "file_out = f\"gem0py_newpoint_{date}.csv\"\n",
    "\n",
    "write_profs_fromfile_grid(file_in, file_out, num_steps=2)"
   ]
  },
  {
   "cell_type": "code",
   "execution_count": 22,
   "metadata": {},
   "outputs": [
    {
     "data": {
      "text/plain": [
       "0"
      ]
     },
     "execution_count": 22,
     "metadata": {},
     "output_type": "execute_result"
    },
    {
     "data": {
      "image/png": "[encoded data removed]",
      "text/plain": [
       "<Figure size 640x480 with 1 Axes>"
      ]
     },
     "metadata": {},
     "output_type": "display_data"
    }
   ],
   "source": [
    "# Plot convergence of state disctance for Retraining algo\n",
    "import sys\n",
    "sys.path.append(f\"/u/yyudin/code/MFW/muscle3/src/\")\n",
    "from muscle_utils.utils import plot_state_conv\n",
    "\n",
    "filename = 'retr_algo_conv'\n",
    "\n",
    "data_df = pd.read_csv(f\"{filename}.csv\")\n",
    "\n",
    "plot_state_conv(data_df, filename, normalised=False)\n"
   ]
  },
  {
   "cell_type": "code",
   "execution_count": 21,
   "metadata": {},
   "outputs": [],
   "source": [
    "# # Save data on the Retraining algo convergence\n",
    "\n",
    "# data_dict = {\n",
    "#     'it'               : [0, 1, 2, 3, 4,],\n",
    "#     'd_prevfin_gtstst' : [176495.8859822613, 603.4057452947857, 396.9942234314026, 396.9009948076408, 396.90088219565587,],\n",
    "#     'd_fin_gtststs'    : [603.4057452947857, 396.9942234314026, 396.9009948076408, 396.90088219565587, 396.90089323357563,],\n",
    "#     'd_prevfin_fin'    : [177104.3934354466, 277.10771108302293, 1.0398953618411646, 0.01074603640113972, 0.00034824677236947895],\n",
    "# }\n",
    "\n",
    "# data_df = pd.DataFrame(data_dict)\n",
    "# data_df.to_csv(f\"{filename}.csv\")"
   ]
  },
  {
   "cell_type": "code",
   "execution_count": 15,
   "metadata": {},
   "outputs": [
    {
     "name": "stdout",
     "output_type": "stream",
     "text": [
      "{'te_value_0': 1720.00051697186, 'ti_value_0': 1727.2526321474}\n"
     ]
    }
   ],
   "source": [
    "# # Testing the ProfileCPODecoder\n",
    "\n",
    "# import os\n",
    "\n",
    "# import easyvvuq as uq\n",
    "\n",
    "# from base.profile_cpo_decoder import ProfileCPODecoder\n",
    "\n",
    "# test_run_file = 'test_easyvvuq'\n",
    "# test_run_dir = os.path.abspath(test_run_file)\n",
    "\n",
    "# decoder = ProfileCPODecoder(cpo_filename='ets_coreprof_out.cpo')\n",
    "\n",
    "# qoi = decoder.parse_sim_output({'run_dir':test_run_dir})\n",
    "\n",
    "# print(qoi)"
   ]
  },
  {
   "cell_type": "code",
   "execution_count": null,
   "metadata": {},
   "outputs": [],
   "source": [
    "# To get the idea of flux variance as a fnction of rho (and temeperatures, gradients,...)\n",
    "\n",
    "ft_coords = [0.143587306141853 , 0.309813886880875 , 0.442991137504578 , 0.560640752315521 , 0.668475985527039 , 0.769291400909424 , 0.864721715450287 , 0.955828309059143]\n",
    "\n",
    "alpha_transp = 0.5\n",
    "\n",
    "species = ['i', 'e']\n",
    "filenames = [f\"resuq_main_t{sp}_transp_flux_all_csldvnei_43.csv\" for sp in species]\n",
    "\n",
    "data_dfs = [pd.read_csv(filename) for filename in filenames]\n",
    "\n",
    "n_params = 4\n",
    "n_p_p_d = 3\n",
    "n_s_p_ft = n_p_p_d ** n_params\n",
    "n_fts = 8\n",
    "    \n",
    "# ATTENTION: to geat real average w.r.t. prior uncertainty on profiles, use wieght from  G-Legendre quadrature (n=3)\n",
    "mean_weights_1d = [0.5555555555555556, 0.8888888888888888, 0.5555555555555556]\n",
    "mean_weights_full = [m.prod(x) for x in product(mean_weights_1d, repeat=n_params)]\n",
    "weighted_avg = lambda data,valcol,weightcol: (data[valcol]*data[weightcol]).sum() / data[weightcol].sum()\n",
    "# -> looks like wighting does not change much\n",
    "\n",
    "for data_df,sp in zip(data_dfs, species):\n",
    "\n",
    "    # add ft column\n",
    "    data_df = data_df.reindex(columns=data_df.columns.tolist() + ['ft'])\n",
    "    for n_ft in range(n_fts):\n",
    "        data_df['ft'].iloc[n_s_p_ft*(n_ft):n_s_p_ft*(n_ft+1)]= n_ft\n",
    "    \n",
    "    # Get the average of t?_transp_flux_std for ft\n",
    "    colname1 = f\"t{sp}_transp_flux_std\"\n",
    "    t_transp_flux_stds = [data_df[data_df['ft']==n_ft][colname1].mean() for n_ft in range(n_fts)]\n",
    "\n",
    "    colname2 = f\"t{sp}_transp_flux\"\n",
    "    t_transp_flux_avgs = [data_df[data_df['ft']==n_ft][colname2].mean() for n_ft in range(n_fts)]\n",
    "\n",
    "    t_transp_flux_covs = [std/avg for std,avg in zip(t_transp_flux_stds, t_transp_flux_avgs)]\n",
    "\n",
    "    # Output\n",
    "    print(f\"naive CoV for Q{sp}:\\n{t_transp_flux_covs}\")\n",
    "    #plt.plot(ft_coords, t_transp_flux_covs, label=f\"unweighted naive CoV[Q_{sp}]\", marker='.', alpha=alpha_transp)\n",
    "\n",
    "    # Inverse the sum and division operations!\n",
    "    colname3 = f\"t{sp}_transp_flux_cov\"\n",
    "    data_df[colname3] = data_df[colname1] / data_df[colname2]\n",
    "    t_transp_flux_tcovs = [data_df[data_df['ft']==n_ft][colname3].mean() for n_ft in range(n_fts)]\n",
    "    print(f\"unweighted CoV for Q{sp}:\\n{t_transp_flux_wcovs}\")\n",
    "    #plt.plot(ft_coords, t_transp_flux_wcovs, label=f\"unweighted CoV[Q_{sp}]\", marker='.', alpha=alpha_transp)\n",
    "\n",
    "    # Add weight column\n",
    "    data_df = data_df.reindex(columns=data_df.columns.tolist() + ['weight'])\n",
    "    for n_ft in range(n_fts):\n",
    "        data_df['weight'].iloc[n_s_p_ft*(n_ft):n_s_p_ft*(n_ft+1)] = mean_weights_full\n",
    "\n",
    "    # Get weighted average of t?_transp_flux_std for ft\n",
    "    t_transp_flux_wstds  = [weighted_avg(data_df[data_df['ft']==n_ft], colname1, 'weight') for n_ft in range(n_fts)]\n",
    "    t_transp_flux_wavgs  = [weighted_avg(data_df[data_df['ft']==n_ft], colname2, 'weight') for n_ft in range(n_fts)]\n",
    "    t_transp_flux_twcovs = [weighted_avg(data_df[data_df['ft']==n_ft], colname3, 'weight') for n_ft in range(n_fts)]\n",
    "    t_transp_flux_wcovs = [std/avg for std,avg in zip(t_transp_flux_wstds, t_transp_flux_wavgs)]\n",
    "\n",
    "    print(f\"weighted naive CoV for Q{sp}:\\n{t_transp_flux_wcovs}\")\n",
    "    #plt.plot(ft_coords, t_transp_flux_wcovs, label=f\"weighted naive CoV[Q_{sp}]\", marker='.', alpha=alpha_transp)\n",
    "\n",
    "    print(f\"weighted CoV for Q{sp}:\\n{t_transp_flux_wcovs}\")\n",
    "    plt.plot(ft_coords, t_transp_flux_twcovs, label=f\"CoV[Q_{sp}]\", marker='.', alpha=alpha_transp)\n",
    "\n",
    "plt.legend(loc='best')\n",
    "plt.grid()\n",
    "\n",
    "#plt.xlabel(f\"flux tube number\")\n",
    "plt.xlabel(f\"$\\\\rho_{{tor}}^{{norm}}$\")\n",
    "plt.ylabel(f\"CoV, fraction of the mean\")\n",
    "plt.title(f\"Marginalised Aleatoric Coefficient of Variation for Heat Flux\")\n",
    "\n",
    "plt.savefig('gem_flux_cov_pft.pdf')"
   ]
  }
 ],
 "metadata": {
  "kernelspec": {
   "display_name": "python3114",
   "language": "python",
   "name": "python3"
  },
  "language_info": {
   "codemirror_mode": {
    "name": "ipython",
    "version": 3
   },
   "file_extension": ".py",
   "mimetype": "text/x-python",
   "name": "python",
   "nbconvert_exporter": "python",
   "pygments_lexer": "ipython3",
   "version": "3.11.4"
  }
 },
 "nbformat": 4,
 "nbformat_minor": 2
}
