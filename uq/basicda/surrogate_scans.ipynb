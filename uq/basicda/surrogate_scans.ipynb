{
 "cells": [
  {
   "cell_type": "code",
   "execution_count": 1,
   "metadata": {},
   "outputs": [],
   "source": [
    "%load_ext autoreload\n",
    "%autoreload 2"
   ]
  },
  {
   "cell_type": "code",
   "execution_count": 2,
   "metadata": {},
   "outputs": [],
   "source": [
    "import numpy as np\n",
    "import pandas as pd\n",
    "from itertools import product"
   ]
  },
  {
   "cell_type": "code",
   "execution_count": 13,
   "metadata": {},
   "outputs": [],
   "source": [
    "from da_utils import plot_diff_all, plot_gem0_scan"
   ]
  },
  {
   "cell_type": "code",
   "execution_count": 14,
   "metadata": {},
   "outputs": [
    {
     "name": "stdout",
     "output_type": "stream",
     "text": [
      "for te_value @ft#0 remainder values are: [ 1807.38363671 -2654.58327936 -3295.23287111]\n",
      "for te_value @ft#1 remainder values are: [ 1306.95836692 -5539.09665125 -3792.55775593]\n",
      "for te_value @ft#2 remainder values are: [ 1148.62325406 -6378.02803047 -1219.412089  ]\n",
      "for te_value @ft#3 remainder values are: [ 1000.63293933 -5998.75995782 -2246.38414478]\n",
      "for te_value @ft#4 remainder values are: [  833.67970928 -3191.1136587  -2204.78987435]\n",
      "for te_value @ft#5 remainder values are: [  647.38343041 -3644.59069779 -3022.08719382]\n",
      "for te_value @ft#6 remainder values are: [  474.89902343 -3601.71451251 -2689.19692887]\n",
      "for te_value @ft#7 remainder values are: [  294.17757546 -5021.83599104 -3095.12494902]\n",
      "for ti_value @ft#0 remainder values are: [ 2896.72963577 -2654.58327936 -3295.23287111]\n",
      "for ti_value @ft#1 remainder values are: [ 2402.46845849 -5539.09665125 -3792.55775593]\n",
      "for ti_value @ft#2 remainder values are: [ 1878.5433022  -6378.02803047 -1219.412089  ]\n",
      "for ti_value @ft#3 remainder values are: [ 1331.56040649 -5998.75995782 -2246.38414478]\n",
      "for ti_value @ft#4 remainder values are: [ 1021.89055284 -3191.1136587  -2204.78987435]\n",
      "for ti_value @ft#5 remainder values are: [  781.76666797 -3644.59069779 -3022.08719382]\n",
      "for ti_value @ft#6 remainder values are: [  564.82216449 -3601.71451251 -2689.19692887]\n",
      "for ti_value @ft#7 remainder values are: [  298.65590458 -5021.83599104 -3095.12494902]\n",
      "for te_ddrho @ft#0 remainder values are: [ 2896.72963577  1807.38363671 -3295.23287111]\n",
      "for te_ddrho @ft#1 remainder values are: [ 2402.46845849  1306.95836692 -3792.55775593]\n",
      "for te_ddrho @ft#2 remainder values are: [ 1878.5433022   1148.62325406 -1219.412089  ]\n",
      "for te_ddrho @ft#3 remainder values are: [ 1331.56040649  1000.63293933 -2246.38414478]\n",
      "for te_ddrho @ft#4 remainder values are: [ 1021.89055284   833.67970928 -2204.78987435]\n",
      "for te_ddrho @ft#5 remainder values are: [  781.76666797   647.38343041 -3022.08719382]\n",
      "for te_ddrho @ft#6 remainder values are: [  564.82216449   474.89902343 -2689.19692887]\n",
      "for te_ddrho @ft#7 remainder values are: [  298.65590458   294.17757546 -3095.12494902]\n",
      "for ti_ddrho @ft#0 remainder values are: [ 2896.72963577  1807.38363671 -2654.58327936]\n",
      "for ti_ddrho @ft#1 remainder values are: [ 2402.46845849  1306.95836692 -5539.09665125]\n",
      "for ti_ddrho @ft#2 remainder values are: [ 1878.5433022   1148.62325406 -6378.02803047]\n",
      "for ti_ddrho @ft#3 remainder values are: [ 1331.56040649  1000.63293933 -5998.75995782]\n",
      "for ti_ddrho @ft#4 remainder values are: [ 1021.89055284   833.67970928 -3191.1136587 ]\n",
      "for ti_ddrho @ft#5 remainder values are: [  781.76666797   647.38343041 -3644.59069779]\n",
      "for ti_ddrho @ft#6 remainder values are: [  564.82216449   474.89902343 -3601.71451251]\n",
      "for ti_ddrho @ft#7 remainder values are: [  298.65590458   294.17757546 -5021.83599104]\n",
      "for te_value @ft#0 remainder values are: [ 1807.38363671 -2654.58327936 -3295.23287111]\n",
      "for te_value @ft#1 remainder values are: [ 1306.95836692 -5539.09665125 -3792.55775593]\n",
      "for te_value @ft#2 remainder values are: [ 1148.62325406 -6378.02803047 -1219.412089  ]\n",
      "for te_value @ft#3 remainder values are: [ 1000.63293933 -5998.75995782 -2246.38414478]\n",
      "for te_value @ft#4 remainder values are: [  833.67970928 -3191.1136587  -2204.78987435]\n",
      "for te_value @ft#5 remainder values are: [  647.38343041 -3644.59069779 -3022.08719382]\n",
      "for te_value @ft#6 remainder values are: [  474.89902343 -3601.71451251 -2689.19692887]\n",
      "for te_value @ft#7 remainder values are: [  294.17757546 -5021.83599104 -3095.12494902]\n",
      "for ti_value @ft#0 remainder values are: [ 2896.72963577 -2654.58327936 -3295.23287111]\n",
      "for ti_value @ft#1 remainder values are: [ 2402.46845849 -5539.09665125 -3792.55775593]\n",
      "for ti_value @ft#2 remainder values are: [ 1878.5433022  -6378.02803047 -1219.412089  ]\n",
      "for ti_value @ft#3 remainder values are: [ 1331.56040649 -5998.75995782 -2246.38414478]\n",
      "for ti_value @ft#4 remainder values are: [ 1021.89055284 -3191.1136587  -2204.78987435]\n",
      "for ti_value @ft#5 remainder values are: [  781.76666797 -3644.59069779 -3022.08719382]\n",
      "for ti_value @ft#6 remainder values are: [  564.82216449 -3601.71451251 -2689.19692887]\n",
      "for ti_value @ft#7 remainder values are: [  298.65590458 -5021.83599104 -3095.12494902]\n",
      "for te_ddrho @ft#0 remainder values are: [ 2896.72963577  1807.38363671 -3295.23287111]\n",
      "for te_ddrho @ft#1 remainder values are: [ 2402.46845849  1306.95836692 -3792.55775593]\n",
      "for te_ddrho @ft#2 remainder values are: [ 1878.5433022   1148.62325406 -1219.412089  ]\n",
      "for te_ddrho @ft#3 remainder values are: [ 1331.56040649  1000.63293933 -2246.38414478]\n",
      "for te_ddrho @ft#4 remainder values are: [ 1021.89055284   833.67970928 -2204.78987435]\n",
      "for te_ddrho @ft#5 remainder values are: [  781.76666797   647.38343041 -3022.08719382]\n",
      "for te_ddrho @ft#6 remainder values are: [  564.82216449   474.89902343 -2689.19692887]\n",
      "for te_ddrho @ft#7 remainder values are: [  298.65590458   294.17757546 -3095.12494902]\n",
      "for ti_ddrho @ft#0 remainder values are: [ 2896.72963577  1807.38363671 -2654.58327936]\n",
      "for ti_ddrho @ft#1 remainder values are: [ 2402.46845849  1306.95836692 -5539.09665125]\n",
      "for ti_ddrho @ft#2 remainder values are: [ 1878.5433022   1148.62325406 -6378.02803047]\n",
      "for ti_ddrho @ft#3 remainder values are: [ 1331.56040649  1000.63293933 -5998.75995782]\n",
      "for ti_ddrho @ft#4 remainder values are: [ 1021.89055284   833.67970928 -3191.1136587 ]\n",
      "for ti_ddrho @ft#5 remainder values are: [  781.76666797   647.38343041 -3644.59069779]\n",
      "for ti_ddrho @ft#6 remainder values are: [  564.82216449   474.89902343 -3601.71451251]\n",
      "for ti_ddrho @ft#7 remainder values are: [  298.65590458   294.17757546 -5021.83599104]\n"
     ]
    }
   ],
   "source": [
    "### To create GEM0 scan files:\n",
    "\n",
    "#file_in = \"../../muscle3/ref_train_data_5000.csv\"\n",
    "file_in = \"gem0_new_data_20231215.csv\"\n",
    "\n",
    "xlabels = ['te_value', 'ti_value', 'te_ddrho', 'ti_ddrho']\n",
    "ylabels = ['te_transp_flux', 'ti_transp_flux']\n",
    "\n",
    "### Read inputs\n",
    "data = pd.read_csv(file_in)\n",
    "data_x = data[xlabels]\n",
    "data_y = data[ylabels]\n",
    "x = np.array(data_x)\n",
    "\n",
    "scan_data = [[plot_gem0_scan(x,input_number=i,output_number=o, flag_plot=False) for i in range(len(xlabels))] for o in range(len(ylabels))]\n",
    "\n",
    "scan_data_perft = []\n",
    "\n",
    "# Reshape dictionaries\n",
    "for n_ft in range(8):\n",
    "     scan_data_perft.append({(f\"{xlabels[i]}_{ylabels[j]}\",k): scan_data[j][i][(f\"ft{n_ft}\",k)] for i,j,k in product(range(len(xlabels)),range(len(ylabels)),['x','y'])})\t\n",
    "\n",
    "# Write down\n",
    "date_last = '20231219'\n",
    "\n",
    "for n_ft in range(8):\n",
    "     s = scan_data_perft[n_ft]\n",
    "     spd = pd.DataFrame.from_dict(s)\n",
    "     spd.to_csv(f\"scan_gem0py_{date_last}_ft{n_ft}.csv\")\n"
   ]
  },
  {
   "cell_type": "code",
   "execution_count": 10,
   "metadata": {},
   "outputs": [],
   "source": [
    "# To plot the difference between GEM0 and surrogate, and theis comparison\n",
    "\n",
    "date = '20231219'\n",
    "\n",
    "file_pref_gem0 = 'gem0py_20231219'\n",
    "file_pref_surr = 'gem0surr_20231218'\n",
    "\n",
    "plot_diff_all(file_pref_1=file_pref_gem0, file_pref_2=file_pref_surr, save_file=f\"gem0vssurr_{date}.pdf\")\n",
    "\n",
    "!mv *gem0vssurr_20231219.pdf ../../.."
   ]
  },
  {
   "cell_type": "code",
   "execution_count": null,
   "metadata": {},
   "outputs": [],
   "source": [
    "# To generate a dataset of GEM0 evaluations"
   ]
  }
 ],
 "metadata": {
  "kernelspec": {
   "display_name": "python3114",
   "language": "python",
   "name": "python3"
  },
  "language_info": {
   "codemirror_mode": {
    "name": "ipython",
    "version": 3
   },
   "file_extension": ".py",
   "mimetype": "text/x-python",
   "name": "python",
   "nbconvert_exporter": "python",
   "pygments_lexer": "ipython3",
   "version": "3.11.4"
  }
 },
 "nbformat": 4,
 "nbformat_minor": 2
}
