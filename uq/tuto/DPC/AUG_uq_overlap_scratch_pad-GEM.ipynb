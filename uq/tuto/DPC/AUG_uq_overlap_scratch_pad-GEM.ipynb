{
 "cells": [
  {
   "cell_type": "markdown",
   "metadata": {
    "slideshow": {
     "slide_type": "slide"
    }
   },
   "source": [
    "# Explore the AUG workflow and single flux tube UQ data sets\n",
    "\n",
    "- this uses \n",
    "  - AUG_mix-lim_gem_inoutput.txt\n",
    "  - AUG_mix-lim_gem_flux_area.txt"
   ]
  },
  {
   "cell_type": "markdown",
   "metadata": {
    "ExecuteTime": {
     "end_time": "2020-08-15T12:19:21.864321Z",
     "start_time": "2020-08-15T12:19:21.861536Z"
    },
    "slideshow": {
     "slide_type": "slide"
    }
   },
   "source": [
    "## A fairly standard set of imports"
   ]
  },
  {
   "cell_type": "code",
   "execution_count": null,
   "metadata": {
    "ExecuteTime": {
     "end_time": "2020-11-17T11:50:02.119005Z",
     "start_time": "2020-11-17T11:49:48.874118Z"
    }
   },
   "outputs": [],
   "source": [
    "%matplotlib inline\n",
    "#%matplotlib notebook\n",
    "import os\n",
    "import matplotlib\n",
    "if not os.getenv(\"DISPLAY\"): matplotlib.use('Agg')\n",
    "import matplotlib.pylab as plt\n",
    "from IPython.display import set_matplotlib_formats\n",
    "set_matplotlib_formats('png', 'pdf')\n",
    "import numpy as np\n",
    "import pandas as pd\n",
    "pd.options.display.max_rows = 128\n",
    "from utility import _ewma, plot_smoothed, plot_unsmoothed"
   ]
  },
  {
   "cell_type": "markdown",
   "metadata": {
    "slideshow": {
     "slide_type": "slide"
    }
   },
   "source": [
    "## Read and examine the workflow data"
   ]
  },
  {
   "cell_type": "code",
   "execution_count": null,
   "metadata": {
    "ExecuteTime": {
     "end_time": "2020-11-17T11:50:14.231516Z",
     "start_time": "2020-11-17T11:50:02.122961Z"
    }
   },
   "outputs": [],
   "source": [
    "# read the data from the AUG workflow runs\n",
    "AUG_gem_wf = pd.read_table('../../data/AUG_mix-lim_gem_inoutput.txt', delimiter='  *', engine='python')\n",
    "AUG_gem_pb = pd.read_table('../../data/AUG_mix-lim_flux_area.txt', delimiter='  *', engine='python') "
   ]
  },
  {
   "cell_type": "code",
   "execution_count": null,
   "metadata": {
    "ExecuteTime": {
     "end_time": "2020-11-17T11:50:15.058765Z",
     "start_time": "2020-11-17T11:50:14.234300Z"
    },
    "scrolled": true
   },
   "outputs": [],
   "source": [
    "AUG_gem_wf.describe().T"
   ]
  },
  {
   "cell_type": "code",
   "execution_count": null,
   "metadata": {
    "ExecuteTime": {
     "end_time": "2020-11-17T11:50:15.617846Z",
     "start_time": "2020-11-17T11:50:15.066740Z"
    },
    "scrolled": true
   },
   "outputs": [],
   "source": [
    "AUG_gem_pb.describe().T"
   ]
  },
  {
   "cell_type": "markdown",
   "metadata": {
    "slideshow": {
     "slide_type": "slide"
    }
   },
   "source": [
    "### Set up some column selections"
   ]
  },
  {
   "cell_type": "code",
   "execution_count": null,
   "metadata": {
    "ExecuteTime": {
     "end_time": "2020-11-17T11:50:15.628865Z",
     "start_time": "2020-11-17T11:50:15.621512Z"
    }
   },
   "outputs": [],
   "source": [
    "active_t = []\n",
    "active_t.append(['time', 'Te-ft1', 'dTe-ft1', 'Ti-ft1', 'dTi-ft1', 'flux-Te-ft1', 'flux-Ti-ft1'])\n",
    "active_t.append(['time', 'Te-ft2', 'dTe-ft2', 'Ti-ft2', 'dTi-ft2', 'flux-Te-ft2', 'flux-Ti-ft2'])\n",
    "active_t.append(['time', 'Te-ft3', 'dTe-ft3', 'Ti-ft3', 'dTi-ft3', 'flux-Te-ft3', 'flux-Ti-ft3'])\n",
    "active_t.append(['time', 'Te-ft4', 'dTe-ft4', 'Ti-ft4', 'dTi-ft4', 'flux-Te-ft4', 'flux-Ti-ft4'])\n",
    "active_t.append(['time', 'Te-ft5', 'dTe-ft5', 'Ti-ft5', 'dTi-ft5', 'flux-Te-ft5', 'flux-Ti-ft5'])\n",
    "active_t.append(['time', 'Te-ft6', 'dTe-ft6', 'Ti-ft6', 'dTi-ft6', 'flux-Te-ft6', 'flux-Ti-ft6'])\n",
    "active_t.append(['time', 'Te-ft7', 'dTe-ft7', 'Ti-ft7', 'dTi-ft7', 'flux-Te-ft7', 'flux-Ti-ft7'])\n",
    "active_t.append(['time', 'Te-ft8', 'dTe-ft8', 'Ti-ft8', 'dTi-ft8', 'flux-Te-ft8', 'flux-Ti-ft8'])"
   ]
  },
  {
   "cell_type": "code",
   "execution_count": null,
   "metadata": {
    "ExecuteTime": {
     "end_time": "2020-11-17T11:50:15.650913Z",
     "start_time": "2020-11-17T11:50:15.637306Z"
    }
   },
   "outputs": [],
   "source": [
    "# setup some column groups \n",
    "Te_cols = ['Te-ft1', 'Te-ft2', 'Te-ft3', 'Te-ft4', 'Te-ft5', 'Te-ft6', 'Te-ft7', 'Te-ft8']\n",
    "Ti_cols = ['Ti-ft1', 'Ti-ft2', 'Ti-ft3', 'Ti-ft4', 'Ti-ft5', 'Ti-ft6', 'Ti-ft7', 'Ti-ft8']\n",
    "dTe_cols = ['dTe-ft1', 'dTe-ft2', 'dTe-ft3', 'dTe-ft4', 'dTe-ft5', 'dTe-ft6', 'dTe-ft7', 'dTe-ft8']\n",
    "dTi_cols = ['dTi-ft1', 'dTi-ft2', 'dTi-ft3', 'dTi-ft4', 'dTi-ft5', 'dTi-ft6', 'dTi-ft7', 'dTi-ft8']\n",
    "Te_flux_cols = ['flux-Te-ft1', 'flux-Te-ft2', 'flux-Te-ft3', 'flux-Te-ft4', \n",
    "                'flux-Te-ft5', 'flux-Te-ft6', 'flux-Te-ft7', 'flux-Te-ft8'] \n",
    "Ti_flux_cols = ['flux-Ti-ft1', 'flux-Ti-ft2', 'flux-Ti-ft3', 'flux-Ti-ft4', \n",
    "                'flux-Ti-ft5', 'flux-Ti-ft6', 'flux-Ti-ft7', 'flux-Ti-ft8']\n",
    "ne_cols = ['ne-ft1', 'ne-ft2', 'ne-ft3', 'ne-ft4', 'ne-ft5', 'ne-ft6', 'ne-ft7', 'ne-ft8']\n",
    "dne_cols = ['dne-ft1', 'dne-ft2', 'dne-ft3', 'dne-ft4', 'dne-ft5', 'dne-ft6', 'dne-ft7', 'dne-ft8']\n",
    "ne_flux_cols = ['flux-ne-ft1', 'flux-ne-ft2', 'flux-ne-ft3', 'flux-ne-ft4', \n",
    "                'flux-ne-ft5', 'flux-ne-ft6', 'flux-ne-ft7', 'flux-ne-ft8']\n",
    "cp_Te_flux_cols = ['cp-flux-Te-ft1', 'cp-flux-Te-ft2', 'cp-flux-Te-ft3', 'cp-flux-Te-ft4', \n",
    "                   'cp-flux-Te-ft5', 'cp-flux-Te-ft6', 'cp-flux-Te-ft7', 'cp-flux-Te-ft8'] \n",
    "cp_Ti_flux_cols = ['cp-flux-Ti-ft1', 'cp-flux-Ti-ft2', 'cp-flux-Ti-ft3', 'cp-flux-Ti-ft4', \n",
    "                   'cp-flux-Ti-ft5', 'cp-flux-Ti-ft6', 'cp-flux-Ti-ft7', 'cp-flux-Ti-ft8']\n",
    "cp_ne_flux_cols = ['cp-flux-ne-ft1', 'cp-flux-ne-ft2', 'cp-flux-ne-ft3', 'cp-flux-ne-ft4', \n",
    "                   'cp-flux-ne-ft5', 'cp-flux-ne-ft6', 'cp-flux-ne-ft7', 'cp-flux-ne-ft8']"
   ]
  },
  {
   "cell_type": "code",
   "execution_count": null,
   "metadata": {
    "ExecuteTime": {
     "end_time": "2020-11-17T11:50:15.666729Z",
     "start_time": "2020-11-17T11:50:15.659378Z"
    }
   },
   "outputs": [],
   "source": [
    "# setup some column groups \n",
    "dvdrho_cols = ['dvdrho1', 'dvdrho2', 'dvdrho3', 'dvdrho4', 'dvdrho5', 'dvdrho6', 'dvdrho7', 'dvdrho8']\n",
    "surfaceA_cols = ['surfaceA1', 'surfaceA2', 'surfaceA3', 'surfaceA4', \n",
    "                 'surfaceA5', 'surfaceA6', 'surfaceA7', 'surfaceA8']\n",
    "Te_source_int_cols = ['Te-source-int-ft1', 'Te-source-int-ft2', 'Te-source-int-ft3', 'Te-source-int-ft4', \n",
    "                      'Te-source-int-ft5', 'Te-source-int-ft6', 'Te-source-int-ft7', 'Te-source-int-ft8'] \n",
    "Ti_source_int_cols = ['Ti-source-int-ft1', 'Ti-source-int-ft2', 'Ti-source-int-ft3', 'Ti-source-int-ft4', \n",
    "                      'Ti-source-int-ft5', 'Ti-source-int-ft6', 'Ti-source-int-ft7', 'Ti-source-int-ft8']\n",
    "E_source_int_cols = ['E-source-int-ft1', 'E-source-int-ft2', 'E-source-int-ft3', 'E-source-int-ft4', \n",
    "                     'E-source-int-ft5', 'E-source-int-ft6', 'E-source-int-ft7', 'E-source-int-ft8']\n",
    "E_flux_cols = ['flux-E-ft1', 'flux-E-ft2', 'flux-E-ft3', 'flux-E-ft4', \n",
    "               'flux-E-ft5', 'flux-E-ft6', 'flux-E-ft7', 'flux-E-ft8']\n",
    "cp_E_flux_cols = ['cp-flux-E-ft1', 'cp-flux-E-ft2', 'cp-flux-E-ft3', 'cp-flux-E-ft4', \n",
    "                  'cp-flux-E-ft5', 'cp-flux-E-ft6', 'cp-flux-E-ft7', 'cp-flux-E-ft8']"
   ]
  },
  {
   "cell_type": "markdown",
   "metadata": {
    "slideshow": {
     "slide_type": "slide"
    }
   },
   "source": [
    "## Add some columns for comparing the \"power-balance\" transport coefficients"
   ]
  },
  {
   "cell_type": "code",
   "execution_count": null,
   "metadata": {
    "ExecuteTime": {
     "end_time": "2020-11-17T11:50:16.794794Z",
     "start_time": "2020-11-17T11:50:15.675780Z"
    }
   },
   "outputs": [],
   "source": [
    "AUG_gem_pb[E_source_int_cols] = np.array(AUG_gem_pb[Te_source_int_cols]) + np.array(AUG_gem_pb[Ti_source_int_cols])\n",
    "AUG_gem_pb[Te_flux_cols] = np.array(AUG_gem_pb[Te_source_int_cols]) ## / np.array(AUG_gem_pb[surfaceA_cols])\n",
    "AUG_gem_pb[Ti_flux_cols] = np.array(AUG_gem_pb[Ti_source_int_cols]) ## / np.array(AUG_gem_pb[surfaceA_cols])\n",
    "AUG_gem_pb[E_flux_cols] = np.array(AUG_gem_pb[E_source_int_cols]) ## / np.array(AUG_gem_pb[surfaceA_cols])\n",
    "#AUG_gem_wf[E_flux_cols] = np.array(AUG_gem_wf[Te_flux_cols]) + np.array(AUG_gem_wf[Ti_flux_cols])\n",
    "AUG_gem_wf[E_flux_cols] = np.array(AUG_gem_wf[cp_Te_flux_cols]) + np.array(AUG_gem_wf[cp_Ti_flux_cols])\n"
   ]
  },
  {
   "cell_type": "code",
   "execution_count": null,
   "metadata": {
    "ExecuteTime": {
     "end_time": "2020-11-17T11:50:17.255802Z",
     "start_time": "2020-11-17T11:50:16.797930Z"
    }
   },
   "outputs": [],
   "source": [
    "AUG_gem_pb[E_flux_cols].describe().T"
   ]
  },
  {
   "cell_type": "markdown",
   "metadata": {
    "slideshow": {
     "slide_type": "slide"
    }
   },
   "source": [
    "## Plot some of the \"power-balance\" columns"
   ]
  },
  {
   "cell_type": "code",
   "execution_count": null,
   "metadata": {
    "ExecuteTime": {
     "end_time": "2020-11-17T11:50:55.662410Z",
     "start_time": "2020-11-17T11:50:17.271649Z"
    },
    "slideshow": {
     "slide_type": "skip"
    }
   },
   "outputs": [],
   "source": [
    "fig, ax = plt.subplots(4, 2, figsize=(24,24))\n",
    "AUG_gem_pb.plot(x='time', y=dvdrho_cols, ax=ax[0,0])\n",
    "AUG_gem_pb.plot(x='time', y=surfaceA_cols, ax=ax[0,1])\n",
    "AUG_gem_pb.plot(x='time', y=Te_source_int_cols, ax=ax[1,0])\n",
    "AUG_gem_pb.plot(x='time', y=Ti_source_int_cols, ax=ax[1,1])\n",
    "AUG_gem_pb.plot(x='time', y=Te_flux_cols, ax=ax[2,0])\n",
    "AUG_gem_pb.plot(x='time', y=Ti_flux_cols, ax=ax[2,1])\n",
    "AUG_gem_pb.plot(x='time', y=E_source_int_cols, ax=ax[3,0])\n",
    "AUG_gem_pb.plot(x='time', y=E_flux_cols, ax=ax[3,1])\n",
    "plt.suptitle('AUG_gem_pb');"
   ]
  },
  {
   "cell_type": "markdown",
   "metadata": {
    "slideshow": {
     "slide_type": "slide"
    }
   },
   "source": [
    "## Flux tube electron and ion energy fluxes"
   ]
  },
  {
   "cell_type": "code",
   "execution_count": null,
   "metadata": {
    "ExecuteTime": {
     "end_time": "2020-11-17T11:51:07.152144Z",
     "start_time": "2020-11-17T11:50:55.667515Z"
    }
   },
   "outputs": [],
   "source": [
    "plot_unsmoothed(\n",
    "    [{\"data\": AUG_gem_wf, \"style\": '-'}],\n",
    "    [{\"cols\": Te_flux_cols, \"label\": 'electron energy flux density [W m^{-2}]', \"limit\": (1e4,1e5)},\n",
    "     {\"cols\": Ti_flux_cols, \"label\": 'ion energy flux density [W m^{-2}]', \"limit\": (1e4,1e5)}],\n",
    "    logy=True)"
   ]
  },
  {
   "cell_type": "markdown",
   "metadata": {
    "slideshow": {
     "slide_type": "slide"
    }
   },
   "source": [
    "## Flux tube Te & Ti"
   ]
  },
  {
   "cell_type": "code",
   "execution_count": null,
   "metadata": {
    "ExecuteTime": {
     "end_time": "2020-11-17T11:51:11.632902Z",
     "start_time": "2020-11-17T11:51:07.155735Z"
    }
   },
   "outputs": [],
   "source": [
    "plot_unsmoothed(\n",
    "    [{\"data\": AUG_gem_wf, \"style\": '-'}],\n",
    "    [{\"cols\": Te_cols, \"label\": 'electron temperature [eV]', \"limit\": (200,3500)},\n",
    "     {\"cols\": Ti_cols, \"label\": 'ion temperature [eV]', \"limit\": (200,2500)}])"
   ]
  },
  {
   "cell_type": "markdown",
   "metadata": {
    "slideshow": {
     "slide_type": "slide"
    }
   },
   "source": [
    "## Flux tube dTe & dTi"
   ]
  },
  {
   "cell_type": "code",
   "execution_count": null,
   "metadata": {
    "ExecuteTime": {
     "end_time": "2020-11-17T11:51:15.131759Z",
     "start_time": "2020-11-17T11:51:11.634969Z"
    }
   },
   "outputs": [],
   "source": [
    "plot_unsmoothed(\n",
    "    [{\"data\": AUG_gem_wf, \"style\": '-'}],\n",
    "    [{\"cols\": dTe_cols, \"label\": 'electron temperature gradient [eV/m]', \"limit\": (-8000,0)},\n",
    "     {\"cols\": dTi_cols, \"label\": 'ion temperature gradient [eV/m]', \"limit\": (-5000,0)}],\n",
    "    logy=False)"
   ]
  },
  {
   "cell_type": "markdown",
   "metadata": {
    "slideshow": {
     "slide_type": "slide"
    }
   },
   "source": [
    "## Flux tube ne & dne (not evolved so should be pretty much constant)"
   ]
  },
  {
   "cell_type": "code",
   "execution_count": null,
   "metadata": {
    "ExecuteTime": {
     "end_time": "2020-11-17T11:51:17.984026Z",
     "start_time": "2020-11-17T11:51:15.134033Z"
    }
   },
   "outputs": [],
   "source": [
    "plot_unsmoothed(\n",
    "    [{\"data\": AUG_gem_wf, \"style\": '-'}],\n",
    "    [{\"cols\": ne_cols, \"label\": 'electron density [m^{-3}]', \"limit\": (3.5e19,4.5e19)},\n",
    "     {\"cols\": dne_cols, \"label\": 'electron density gradient [m^{-3}/m]', \"limit\": (-0.65e19,-0.45e19)}],\n",
    "    logy=False)"
   ]
  },
  {
   "cell_type": "markdown",
   "metadata": {
    "slideshow": {
     "slide_type": "slide"
    }
   },
   "source": [
    "## Flux tube ne fluxes"
   ]
  },
  {
   "cell_type": "code",
   "execution_count": null,
   "metadata": {
    "ExecuteTime": {
     "end_time": "2020-11-17T11:51:22.056649Z",
     "start_time": "2020-11-17T11:51:17.986693Z"
    }
   },
   "outputs": [],
   "source": [
    "plot_unsmoothed(\n",
    "    [{\"data\": AUG_gem_wf, \"style\": '-'}],\n",
    "    [{\"cols\": ne_flux_cols, \"label\": 'electron particle flux [s^{-1}]', \"limit\": (-1.5e20,0e20)},\n",
    "     {\"cols\": ne_flux_cols, \"label\": 'electron particle flux [s^{-1}]', \"limit\": (-1.5e20,0e20)}],\n",
    "    logy=False)"
   ]
  },
  {
   "cell_type": "markdown",
   "metadata": {
    "slideshow": {
     "slide_type": "slide"
    }
   },
   "source": [
    "## Summed energy fluxes"
   ]
  },
  {
   "cell_type": "code",
   "execution_count": null,
   "metadata": {
    "ExecuteTime": {
     "end_time": "2020-11-17T11:51:33.795135Z",
     "start_time": "2020-11-17T11:51:22.059493Z"
    }
   },
   "outputs": [],
   "source": [
    "plot_unsmoothed(\n",
    "    [{\"data\": AUG_gem_wf, \"style\": '-'}, {\"data\": AUG_gem_pb, \"style\": ':'}],\n",
    "    [{\"cols\": E_flux_cols, \"label\": 'summed energy flux density [W m^{-2}]', \"limit\": (0e4,6e6)}],\n",
    "    logy=False, figsize=(24,16))"
   ]
  },
  {
   "cell_type": "code",
   "execution_count": null,
   "metadata": {
    "ExecuteTime": {
     "end_time": "2020-11-17T11:51:42.128088Z",
     "start_time": "2020-11-17T11:51:33.797932Z"
    }
   },
   "outputs": [],
   "source": [
    "plot_smoothed(\n",
    "    [{\"data\": AUG_gem_wf, \"style\": '-'}, {\"data\": AUG_gem_pb, \"style\": ':'}],\n",
    "    [{\"cols\": E_flux_cols, \"label\": 'summed energy flux density [W m^{-2}]', \"limit\": (0e4,6e6)}],\n",
    "    logy=False, figsize=(24,16))"
   ]
  },
  {
   "cell_type": "markdown",
   "metadata": {
    "slideshow": {
     "slide_type": "slide"
    }
   },
   "source": [
    "## Histograms of energy fluxes"
   ]
  },
  {
   "cell_type": "code",
   "execution_count": null,
   "metadata": {
    "ExecuteTime": {
     "end_time": "2020-11-17T11:51:42.187166Z",
     "start_time": "2020-11-17T11:51:42.137661Z"
    }
   },
   "outputs": [],
   "source": [
    "CorrFac = np.array([1.03999752, 1.05092586, 1.06618315, 1.08478152, 1.10574832,\n",
    "       1.12937492, 1.15678054, 1.19109317])\n",
    "ConvFlux = 1.5 * np.array([ 6245.99024853, 11378.80341194, 13262.82115728, 13228.95249612,\n",
    "       11956.42601699,  9881.26452619,  7287.47402199,  4258.16894439])\n",
    "Surface = np.array([ 6.61697437, 14.21520929, 20.2323399 , 25.48157489, 30.22466848,\n",
    "       34.59816126, 38.68713401, 42.5575824 ])\n",
    "#print(np.array(AUG_gem_wf[E_flux_cols])[-1] / CorrFac + ConvFlux)\n",
    "#print(np.array(AUG_gem_pb[E_source_int_cols])[-1]/Surface)\n",
    "#print((np.array(AUG_gem_pb[E_source_int_cols])[-1]/Surface - ConvFlux) * CorrFac)\n",
    "#print(np.array(AUG_gem_wf[E_flux_cols])[-1])\n",
    "Revised_PB_energy = (np.array(AUG_gem_pb[E_source_int_cols])/Surface - ConvFlux) * CorrFac\n",
    "print(Revised_PB_energy[-1])\n",
    "# AUG_gem_wf[E_flux_cols] = Revised_PB_energy"
   ]
  },
  {
   "cell_type": "code",
   "execution_count": null,
   "metadata": {
    "ExecuteTime": {
     "end_time": "2020-11-17T11:54:50.717498Z",
     "start_time": "2020-11-17T11:54:32.846217Z"
    },
    "code_folding": []
   },
   "outputs": [],
   "source": [
    "plt.subplots(2,4,figsize=(24,16))\n",
    "offset=40000\n",
    "for i in range(8):\n",
    "    L = E_flux_cols[i]\n",
    "    plt.subplot(2,4,i+1)\n",
    "    plt.hist([AUG_gem_wf[L][offset:], AUG_gem_pb[L][offset:]], bins=100, \n",
    "             label=['AUG_gem_wf', 'AUG_gem_pb'], log=True);\n",
    "    plt.xlabel(L)\n",
    "    plt.legend()\n",
    "plt.suptitle('Data from %0.2f to %0.2f seconds' % \n",
    "             (AUG_gem_wf['time'][offset:].min(), AUG_gem_wf['time'][offset:].max()));"
   ]
  },
  {
   "cell_type": "code",
   "execution_count": null,
   "metadata": {
    "ExecuteTime": {
     "end_time": "2020-11-17T11:51:58.899384Z",
     "start_time": "2020-11-17T11:51:56.259701Z"
    }
   },
   "outputs": [],
   "source": [
    "plt.figure(figsize=(24,16))\n",
    "plt.plot(AUG_gem_wf.time, AUG_gem_wf[E_flux_cols]/AUG_gem_pb[E_flux_cols])\n",
    "plt.legend(loc=0, labels=E_flux_cols, ncol=4)\n",
    "plt.xlabel('Time'); plt.ylabel('wf/pb energy flux'); plt.ylim(0.5, 2.0); plt.suptitle('Standard Power Balance');"
   ]
  },
  {
   "cell_type": "markdown",
   "metadata": {
    "slideshow": {
     "slide_type": "slide"
    }
   },
   "source": [
    "# The End"
   ]
  },
  {
   "cell_type": "code",
   "execution_count": null,
   "metadata": {
    "ExecuteTime": {
     "end_time": "2020-11-17T11:51:59.523829Z",
     "start_time": "2020-11-17T11:51:58.903176Z"
    },
    "slideshow": {
     "slide_type": "skip"
    }
   },
   "outputs": [],
   "source": [
    "import utility, importlib\n",
    "importlib.reload(utility)\n",
    "from utility import _ewma, plot_smoothed, plot_unsmoothed"
   ]
  }
 ],
 "metadata": {
  "celltoolbar": "Slideshow",
  "kernelspec": {
   "display_name": "Python 3",
   "language": "python",
   "name": "python3"
  },
  "language_info": {
   "codemirror_mode": {
    "name": "ipython",
    "version": 3
   },
   "file_extension": ".py",
   "mimetype": "text/x-python",
   "name": "python",
   "nbconvert_exporter": "python",
   "pygments_lexer": "ipython3",
   "version": "3.8.6"
  },
  "latex_envs": {
   "LaTeX_envs_menu_present": true,
   "autoclose": false,
   "autocomplete": true,
   "bibliofile": "biblio.bib",
   "cite_by": "apalike",
   "current_citInitial": 1,
   "eqLabelWithNumbers": true,
   "eqNumInitial": 1,
   "hotkeys": {
    "equation": "Ctrl-E",
    "itemize": "Ctrl-I"
   },
   "labels_anchors": false,
   "latex_user_defs": false,
   "report_style_numbering": false,
   "user_envs_cfg": false
  },
  "latex_metadata": {
   "affiliation": "Max Planck Institute for Plasma Physics, Garching, Germany",
   "author": "David P. Coster",
   "title": "VECMA Fusion Notebooks"
  }
 },
 "nbformat": 4,
 "nbformat_minor": 4
}
