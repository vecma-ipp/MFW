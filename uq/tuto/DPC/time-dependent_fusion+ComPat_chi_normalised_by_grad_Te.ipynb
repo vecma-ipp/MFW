{
 "cells": [
  {
   "cell_type": "markdown",
   "metadata": {},
   "source": [
    "Combining the fusion.py code with the ComPat stochastic inducer, III\n",
    "=======================================================\n",
    "Here we will not be running the fusion code to steady state, but for dt seconds and then updating the chi."
   ]
  },
  {
   "cell_type": "code",
   "execution_count": null,
   "metadata": {
    "ExecuteTime": {
     "end_time": "2020-08-05T16:58:01.133126Z",
     "start_time": "2020-08-05T16:57:46.660816Z"
    }
   },
   "outputs": [],
   "source": [
    "%matplotlib inline\n",
    "#notebook\n",
    "import numpy as np\n",
    "import fusion\n",
    "import ComPat\n",
    "import scipy.constants  \n",
    "eV = scipy.constants.eV\n",
    "import os\n",
    "import matplotlib\n",
    "if not os.getenv(\"DISPLAY\"): matplotlib.use('Agg')\n",
    "import matplotlib.pylab as plt\n",
    "from IPython.display import set_matplotlib_formats\n",
    "set_matplotlib_formats('png', 'pdf')\n",
    "\n",
    "import scipy.constants\n",
    "from fipy import Variable, FaceVariable, CellVariable, TransientTerm, DiffusionTerm, Viewer, meshes"
   ]
  },
  {
   "cell_type": "markdown",
   "metadata": {},
   "source": [
    "**fusion.solve_Te** solves\n",
    "\n",
    "$$\\frac{3}{2}\\frac{\\partial}{\\partial t}\\left(n(\\rho,t) T(\\rho,t)\\right) =\n",
    "    \\nabla_\\rho \\left[ n(\\rho,t) \\chi(\\rho,t) \\nabla_\\rho\n",
    "    (T(\\rho,t))\\right] + S(\\rho, t)$$\n",
    "\n",
    "with a boundary condition given by $Te_{bc}$ and an initial\n",
    "uniform temperatore of 1000 eV; the quantities are\n",
    "\n",
    "- $n(\\rho,t)$ characterizes the plasma density\n",
    "\n",
    "- $\\chi(\\rho,t)$ characterizes the thermal conductivity\n",
    "\n",
    "- $S(\\rho,t)$ characterizes the source\n",
    "\n",
    "The geometry of the simulation is characterised by the minor radius\n",
    "$a_0$, major radius $R_0$ and elongation $E_0$\n",
    "(while the geometry is solved in the cylindrical approximation, the\n",
    "actual radius used, $a$, is adjusted on the basis of $a_0$\n",
    "and $E_0$).\n",
    "\n",
    "These are the standard (default) settings for the fusion code except for setting dt=0.001 and plotting off."
   ]
  },
  {
   "cell_type": "code",
   "execution_count": null,
   "metadata": {
    "ExecuteTime": {
     "end_time": "2020-08-05T16:58:01.145591Z",
     "start_time": "2020-08-05T16:58:01.136463Z"
    }
   },
   "outputs": [],
   "source": [
    "Qe_tot=2e6        # heating power [W]\n",
    "H0=0              # position of Gaussian [-]\n",
    "Hw=0.1            # width of Gaussian [-]\n",
    "Te_bc=100         # outer edge Te boundary condition [eV]\n",
    "chi=1             # thermal diffusivity [m^2 s^{-1}]\n",
    "a0=1              # minor radius [m]\n",
    "R0=3              # major radius [m]\n",
    "E0=1.5            # ellipticity\n",
    "b_pos=0.98        # position of density pedestal [-]\n",
    "b_height=6e19     # height of density pedestal [m^-3]\n",
    "b_sol=2e19        # sol value for density pedestal [m^-3]\n",
    "b_width=0.01      # width of density pedestal [-]\n",
    "b_slope=0.01      # slope of density pedestal [?]\n",
    "nr=100            # number of radial grid points\n",
    "dt=0.01           # time-step [s]\n",
    "plots=False       # enable FiPy plots"
   ]
  },
  {
   "cell_type": "markdown",
   "metadata": {},
   "source": [
    "Set up the fusion model.  We will normalise some quantities to the steady state value so we first calculate that."
   ]
  },
  {
   "cell_type": "code",
   "execution_count": null,
   "metadata": {
    "ExecuteTime": {
     "end_time": "2020-08-05T16:58:01.309046Z",
     "start_time": "2020-08-05T16:58:01.150639Z"
    }
   },
   "outputs": [],
   "source": [
    "Te_ss, ne_ss, rho_ss, rho_norm_ss, Qe_ss, V_ss = \\\n",
    "    fusion.solve_Te(Qe_tot=Qe_tot, H0=H0, Hw=Hw, Te_bc=Te_bc, chi=chi, \n",
    "                    a0=a0, R0=R0, E0=E0, \n",
    "                    b_pos=b_pos, b_height=b_height, b_sol=b_sol, \n",
    "                    b_width=b_width, b_slope=b_slope, \n",
    "                    nr=nr, dt=100, plots=False)"
   ]
  },
  {
   "cell_type": "code",
   "execution_count": null,
   "metadata": {
    "ExecuteTime": {
     "end_time": "2020-08-05T16:58:01.926194Z",
     "start_time": "2020-08-05T16:58:01.319344Z"
    }
   },
   "outputs": [],
   "source": [
    "W_kin = np.cumsum(V_ss*Te_ss*ne_ss*eV*1.5)\n",
    "S_e   = np.cumsum(V_ss*Qe_ss)\n",
    "tau_e = W_kin / S_e\n",
    "print ('Volume = %s, Stored energy = %s, Integrated source = %s, confinement time = %s' %\n",
    "       (np.cumsum(V_ss)[-1], W_kin[-1], S_e[-1], tau_e[-1]))\n",
    "plt.figure()\n",
    "plt.plot(rho_ss, tau_e)"
   ]
  },
  {
   "cell_type": "code",
   "execution_count": null,
   "metadata": {
    "ExecuteTime": {
     "end_time": "2020-08-05T16:58:01.942830Z",
     "start_time": "2020-08-05T16:58:01.929605Z"
    }
   },
   "outputs": [],
   "source": [
    "Gd_ss = -np.gradient(Te_ss, rho_ss) * ne_ss * eV\n",
    " \n",
    "Gi_ss = np.cumsum(Qe_ss *  np.diff(rho_ss).mean() * rho_ss) / (rho_ss + np.diff(rho_ss).mean()/2)\n",
    "Gi_ss = np.append([Gi_ss[0]/2],(Gi_ss[1:]+Gi_ss[:-1])/2)\n",
    "\n",
    "print(Gi_ss[Gi_ss.shape[0]//2] / Gd_ss[Gd_ss.shape[0]//2])"
   ]
  },
  {
   "cell_type": "markdown",
   "metadata": {},
   "source": [
    "## Function: plot_results"
   ]
  },
  {
   "cell_type": "code",
   "execution_count": null,
   "metadata": {
    "ExecuteTime": {
     "end_time": "2020-08-05T16:58:01.999511Z",
     "start_time": "2020-08-05T16:58:01.951357Z"
    }
   },
   "outputs": [],
   "source": [
    "def plot_results(runs, run, Te_all, CASE, close_plots=False):\n",
    "    # All Te profiles\n",
    "    plt.figure()\n",
    "    plt.plot(run['rho'], Te_all.T)\n",
    "    plt.xlabel('rho')\n",
    "    plt.ylabel('Te')\n",
    "    plt.title('%s' % (CASE))\n",
    "    plt.savefig('Te_snapshots_%s.png' % (CASE))\n",
    "    if close_plots: plt.close()\n",
    "\n",
    "    # Central Te versus time\n",
    "    plt.figure()\n",
    "    plt.plot(T, Te_all[:,0])\n",
    "    plt.plot([T.min(),T.max()], [Te_ss[0], Te_ss[0]])\n",
    "    plt.xlabel('Time [s]')\n",
    "    plt.ylabel('Central Te [eV]')\n",
    "    plt.title('%s' % (CASE))\n",
    "    plt.savefig('Te_0_%s.png' % (CASE))\n",
    "    if close_plots: plt.close()\n",
    "\n",
    "    # chi versus time\n",
    "    plt.figure()\n",
    "    plt.plot(T, [r['chi'] for r in runs.values()])\n",
    "    plt.plot([T.min(),T.max()], [chi, chi])\n",
    "    plt.xlabel('Time [$s$]')\n",
    "    plt.ylabel('$\\chi$ [$m^2 s^{-1}$]')\n",
    "    plt.title('%s' % (CASE))\n",
    "    plt.savefig('chi_%s.png' % (CASE))\n",
    "    if close_plots: plt.close()\n",
    "\n",
    "    # Flux versus time, together with steady state \"target\" flux (determined by integration of the source term\n",
    "    plt.figure()\n",
    "    plt.plot(T, 10**np.array([r['x1'] for r in runs.values()]))\n",
    "    plt.plot([T.min(),T.max()], [run['flux_ref'], run['flux_ref']])\n",
    "    plt.xlabel('Time [$s$]')\n",
    "    plt.ylabel('flux[$W m^{-2}$]')\n",
    "    plt.title('%s\\nflux mean = %0.3f, std-dev = %0.3f, ref = %0.3f' % \n",
    "              (CASE, \n",
    "               (10**np.array([r['x1'] for r in runs.values()])).mean(), \n",
    "               (10**np.array([r['x1'] for r in runs.values()])).std(),\n",
    "               run['flux_ref']))\n",
    "    plt.savefig('Flux_%s.png' % (CASE))\n",
    "    if close_plots: plt.close()\n",
    "\n",
    "    # Histogram of the central Te over the complete set of iterations\n",
    "    plt.figure()\n",
    "    plt.hist(Te_all[:,0], bins=20)\n",
    "    plt.xlabel('Te[0]')\n",
    "    plt.ylabel('count')\n",
    "    plt.title('Histogram of Te_0 over all iterations\\n%s\\nmean = %0.3f, std-dev = %0.3f' % \n",
    "              (CASE, np.mean(Te_all, axis=0)[0], np.std(Te_all, axis=0)[0]))\n",
    "    plt.savefig('Te_0_histogram_all_%s.png' % (CASE))\n",
    "    if close_plots: plt.close()\n",
    "\n",
    "    # Histogram of the central Te over the last 50% of the iterations\n",
    "    plt.figure()\n",
    "    plt.hist(Te_all[NITER//2:,0], bins=20)\n",
    "    plt.xlabel('Te[0]')\n",
    "    plt.ylabel('count')\n",
    "    plt.title('Histogram of Te_0 over last 50%% iterations\\n%s\\nmean = %0.3f, std-dev = %0.3f' % \n",
    "              (CASE, np.mean(Te_all[NITER//2:], axis=0)[0], np.std(Te_all[NITER//2:], axis=0)[0]))\n",
    "    plt.savefig('Te_0_histogram_last_50%%_%s.png' % (CASE))\n",
    "    if close_plots: plt.close()\n",
    "\n",
    "    # Plot of mean and standard deviation of Te over all iterations\n",
    "    plt.figure()\n",
    "    plt.plot(run['rho'], Te_all.mean(axis=0), 'b', label='All iterations')\n",
    "    plt.fill_between(run['rho'], \n",
    "                     Te_all.mean(axis=0)-Te_all.std(axis=0), \n",
    "                     Te_all.mean(axis=0)+Te_all.std(axis=0), color='blue', alpha=0.5)\n",
    "    plt.xlabel('rho')\n",
    "    plt.ylabel('Te')\n",
    "    plt.legend(loc=0)\n",
    "    plt.title('%s' % (CASE))\n",
    "    plt.savefig('Te_mean_stddev_all_%s.png' % (CASE))\n",
    "    if close_plots: plt.close()\n",
    "\n",
    "    # Plot of mean and standard deviation of Te over the last 50% of the iterations\n",
    "    plt.figure()\n",
    "    plt.plot(run['rho'], Te_all[NITER//2:].mean(axis=0), 'r', label='Last 50% iterations')\n",
    "    plt.fill_between(run['rho'], \n",
    "                     Te_all[NITER//2:].mean(axis=0)-Te_all[NITER//2:].std(axis=0), \n",
    "                     Te_all[NITER//2:].mean(axis=0)+Te_all[NITER//2:].std(axis=0), color='red', alpha=0.5)\n",
    "    plt.xlabel('rho')\n",
    "    plt.ylabel('Te')\n",
    "    plt.legend(loc=0)\n",
    "    plt.title('%s' % (CASE))\n",
    "    plt.savefig('Te_mean_stddev_last_50%%_%s.png' % (CASE))\n",
    "    if close_plots: plt.close()"
   ]
  },
  {
   "cell_type": "markdown",
   "metadata": {},
   "source": [
    "## Function definition: evolve_Te\n",
    "Define a function to evolve **Te** for **NITER** steps of **dt** with randomize parameters of **s2**, **s3**, **d2**, **d3**, **N1**, **N2**, **N3** with targets of **l1**, **l2** and **l3** using **alpha**, **beta** and **gamma** parameters.\n",
    "\n",
    "\n",
    "- the initial $\\chi$ is the default (1.0)\n",
    "- in each step (repeated NITER times)\n",
    "    - one step of dt is made using $\\chi$\n",
    "    - the updated temperature profile is used to recalculate $\\chi$ using a flux that has been \"randomised\"\n",
    "\n",
    "$$\n",
    "\\chi_{new} = \\frac{\\Gamma_{new}}{\\Gamma_{target}} * \\left(\\beta + (1-\\beta) \\left(\\frac{\\nabla T_{new}}{\\nabla T_{target}}\\right)^\\gamma\\right) * \\chi\n",
    "$$\n",
    "\n",
    "where, for example, $\\beta=0.1$ and $\\gamma=4$\n",
    "\n",
    "**Note:** that we are implementing the randomize model on the log of the fluxes!"
   ]
  },
  {
   "cell_type": "code",
   "execution_count": null,
   "metadata": {
    "ExecuteTime": {
     "end_time": "2020-08-05T16:58:02.041709Z",
     "start_time": "2020-08-05T16:58:02.004957Z"
    }
   },
   "outputs": [],
   "source": [
    "def evolve_Te(Qe_tot=2e6, H0=0, Hw=0.1, Te_bc=100, chi=1, a0=1, R0=3, E0=1.5, \n",
    "              b_pos=0.98, b_height=6e19, b_sol=2e19, b_width=0.01, b_slope=0.01, \n",
    "              nr=100, plots=False,\n",
    "              dt=0.1, NITER=1000, \n",
    "              s2 = 0.2, s3 = 0.2, d2 = 10, d3 = 10, N1 = 10, N2 = 90, N3 = 30, \n",
    "              l1=1.0, l2=1.0, l3=1.0, x1=1.0, \n",
    "              alpha=0.01, beta=0.1, gamma=0.0):\n",
    "    a = a0*np.sqrt(E0)\n",
    "    V = 2*np.pi * 2*np.pi*R0\n",
    "    mesh = meshes.CylindricalGrid1D(nr=nr, Lr=a)\n",
    "    Te = CellVariable(name=\"Te\", mesh=mesh, value=1e3)\n",
    "    ne = CellVariable(name=\"ne\", mesh=mesh, value=fusion.F_ped(mesh.cellCenters.value[0]/a, b_pos, b_height, b_sol, b_width, b_slope))\n",
    "    Qe = CellVariable(name=\"Qe\", mesh=mesh, value=np.exp(-((mesh.cellCenters.value/a-H0)/(Hw))**2)[0])\n",
    "    Qe = Qe * Qe_tot/((mesh.cellVolumes*Qe.value).sum() * V)\n",
    "\n",
    "    Gi = np.cumsum(mesh.cellVolumes*Qe.value) / (mesh.cellCenters.value[0] + mesh.dx/2)\n",
    "    Gi = np.append([Gi[0]/2],(Gi[1:]+Gi[:-1])/2)\n",
    "\n",
    "    print('Volume = %s m^3' % (mesh.cellVolumes.sum() * V))\n",
    "    print('Heating power = %0.3e W' % ((mesh.cellVolumes*Qe).sum() * V))\n",
    "\n",
    "    Te.constrain(Te_bc, mesh.facesRight)\n",
    "    \n",
    "    T = dt*(np.arange(NITER)+1)\n",
    "    \n",
    "    if plots: \n",
    "        viewer = Viewer(vars=(Te), title='Heating power = %0.3e W\\nchi = %s' % (Qe.cellVolumeAverage.value * V, chi), \n",
    "                    datamin=0, datamax=5000)\n",
    "\n",
    "    l1 = np.log10(Gi[Gi.shape[0]//2]) * l1\n",
    "    l2 = np.log10(Gi[Gi.shape[0]//2]) * l2\n",
    "    l3 = np.log10(Gi[Gi.shape[0]//2]) * l3\n",
    "    x1 = l1; x2 = l1**2\n",
    "\n",
    "    np.log10(Gi[Gi.shape[0]//2])\n",
    "    chi_run = chi\n",
    "\n",
    "    run = {}\n",
    "    run['rho'] = mesh.cellCenters.value[0]\n",
    "    run['flux_ref'] = Gi[Gi.shape[0]//2]\n",
    "    \n",
    "    runs = {}\n",
    "    for N in np.arange(0,NITER):\n",
    "        eqI = TransientTerm(coeff=scipy.constants.e*ne*1.5) == DiffusionTerm(coeff=scipy.constants.e*ne*chi_run) + Qe\n",
    "        eqI.solve(var=Te, dt=dt)\n",
    "        if plots: viewer.plot()\n",
    "        Gd = -np.gradient(Te.value, mesh.cellCenters.value[0]) * ne.value * eV\n",
    "        runs[N] = {}\n",
    "        runs[N]['Te'] = Te.value.copy()\n",
    "        runs[N]['x'], runs[N]['mean'], runs[N]['std'], runs[N]['xrange'], runs[N]['x1'], runs[N]['x2'] = \\\n",
    "            ComPat.randomize(N1=N1, N2=N2, N3=N3, \n",
    "                             l1=l1, l2=l2, l3=l3, \n",
    "                             s2=s2, s3=s3, \n",
    "                             d2=d2, d3=d3, \n",
    "                             x1=x1, x2=x2, alpha=alpha)\n",
    "        runs[N]['gTnorm'] = Gd[Gd.shape[0]//2] / Gd_ss[Gd_ss.shape[0]//2]\n",
    "        x1 = runs[N]['x1']\n",
    "        x2 = runs[N]['x2']\n",
    "        l1 = x1\n",
    "        runs[N]['chi'] = (10 ** runs[N]['x1'] / Gi[Gi.shape[0]//2]) * (beta + (1.0 - beta) * runs[N]['gTnorm']**gamma) * chi\n",
    "        chi_run = runs[N]['chi']\n",
    "    return runs, run"
   ]
  },
  {
   "cell_type": "markdown",
   "metadata": {},
   "source": [
    "## Setup and run case\n",
    "\n",
    "Now setup the parameters, run the code and save the results"
   ]
  },
  {
   "cell_type": "code",
   "execution_count": null,
   "metadata": {
    "ExecuteTime": {
     "end_time": "2020-08-05T17:02:14.304487Z",
     "start_time": "2020-08-05T17:02:03.226609Z"
    },
    "scrolled": false
   },
   "outputs": [],
   "source": [
    "dt    = 0.1                         # time-step [s]\n",
    "NITER = np.int(np.rint(10.0/dt))    # all runs are for 10 seconds\n",
    "T = dt*(np.arange(NITER)+1)\n",
    "\n",
    "# randomize parameters\n",
    "s2 = 0.2; s3 = 0.2\n",
    "d2 = 10; d3 = 10\n",
    "N1 = 10; N2 = 90; N3 = 30\n",
    "\n",
    "# scalings for fluxes\n",
    "l1 = 0.1\n",
    "l2 = 1.0 \n",
    "l3 = 1.0\n",
    "\n",
    "alpha = 0.01                        # exponential averaging factor\n",
    "beta  = 0.1                         # base level of chi\n",
    "gamma = 4.0                         # exponent of ratio of gradients\n",
    "\n",
    "\n",
    "#I=0\n",
    "#for dt in [0.1, 0.01, 0.001]:\n",
    "#    NITER = np.int(np.rint(10.0/dt))\n",
    "#    T = dt*(np.arange(NITER)+1)\n",
    "#    for alpha in [0.1, 0.01, 0.001]:\n",
    "#        for gamma in [0.0, 2.0, 4.0]:\n",
    "#            for S in [1e-3, 1e-2, 1e-1, 2e-1, 5e-1, 1e-0, 2e-0, 5e-0, 1e1]:\n",
    "#                I += 1\n",
    "#                s2 = S\n",
    "#                s3 = S\n",
    "#                CASE = 'dt=%s_alpha=%s_gamma=%s_s2=s3=%s' % (dt, alpha, gamma, S)\n",
    "#                print(I,CASE)\n",
    "                \n",
    "runs, run = evolve_Te(dt = dt, NITER = NITER, \n",
    "                      s2 = s2, s3 = s3,\n",
    "                      d2 = d2, d3 = d3, \n",
    "                      N1 = N1, N2 = N2, N3 = N3, \n",
    "                      l1 = l1, l2 = l2, l3 = l3,\n",
    "                      alpha = alpha, beta = beta, gamma = gamma\n",
    "                     )\n",
    "\n",
    "Te_all = np.array([r['Te'] for r in runs.values()])\n",
    "\n",
    "with open(\"results_test.log\", \"a+\") as file:\n",
    "    print(N1, N2, N3, s2, s3, d2, d3, alpha, beta, gamma, dt, NITER, \n",
    "          (10**np.array([r['x1'] for r in runs.values()])).mean(), \n",
    "          (10**np.array([r['x1'] for r in runs.values()])).std(),\n",
    "          run['flux_ref'],\n",
    "          np.mean(Te_all, axis=0)[0], np.std(Te_all, axis=0)[0],\n",
    "          np.mean(Te_all[NITER//2:], axis=0)[0], np.std(Te_all[NITER//2:], axis=0)[0],\n",
    "          file=file, sep=',')\n",
    "\n",
    "plot_results(runs, run, Te_all, \n",
    "             'dt=%s_alpha=%s_gamma=%s_s2=%s_s3=%s' % (dt, alpha, gamma, s2, s3),\n",
    "             False\n",
    "            )"
   ]
  }
 ],
 "metadata": {
  "kernelspec": {
   "display_name": "Python 3",
   "language": "python",
   "name": "python3"
  },
  "language_info": {
   "codemirror_mode": {
    "name": "ipython",
    "version": 3
   },
   "file_extension": ".py",
   "mimetype": "text/x-python",
   "name": "python",
   "nbconvert_exporter": "python",
   "pygments_lexer": "ipython3",
   "version": "3.7.3"
  },
  "latex_metadata": {
   "affiliation": "Max Planck Institute for Plasma Physics, Garching, Germany",
   "author": "David P. Coster",
   "title": "VECMA Fusion Notebooks"
  }
 },
 "nbformat": 4,
 "nbformat_minor": 4
}
