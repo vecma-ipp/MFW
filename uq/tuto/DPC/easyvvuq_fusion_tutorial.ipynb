{
 "cells": [
  {
   "cell_type": "markdown",
   "metadata": {
    "slideshow": {
     "slide_type": "slide"
    }
   },
   "source": [
    "# EasyVVUQ fusion tutorial\n",
    "\n",
    "Run an EasyVVUQ campaign to analyze the sensitivity of the temperature\n",
    "profile predicted by a simplified model of heat conduction in a\n",
    "tokamak plasma.\n",
    "\n",
    "This is done with PCE."
   ]
  },
  {
   "cell_type": "markdown",
   "metadata": {
    "slideshow": {
     "slide_type": "slide"
    }
   },
   "source": [
    "## Import easyvvuq, chaospy and standard modules"
   ]
  },
  {
   "cell_type": "code",
   "execution_count": null,
   "metadata": {
    "ExecuteTime": {
     "end_time": "2020-08-17T12:22:28.244821Z",
     "start_time": "2020-08-17T12:22:20.802604Z"
    }
   },
   "outputs": [],
   "source": [
    "%matplotlib inline\n",
    "#%matplotlib notebook\n",
    "import os\n",
    "import matplotlib\n",
    "if not os.getenv(\"DISPLAY\"): matplotlib.use('Agg')\n",
    "import matplotlib.pylab as plt\n",
    "from IPython.display import set_matplotlib_formats\n",
    "set_matplotlib_formats('png', 'pdf')\n",
    "import easyvvuq as uq\n",
    "import chaospy as cp\n",
    "import pickle\n",
    "import time\n",
    "import numpy as np "
   ]
  },
  {
   "cell_type": "markdown",
   "metadata": {
    "slideshow": {
     "slide_type": "slide"
    }
   },
   "source": [
    "## Start off by creating a fresh campaign called \"fusion_pce.\""
   ]
  },
  {
   "cell_type": "code",
   "execution_count": null,
   "metadata": {
    "ExecuteTime": {
     "end_time": "2020-08-17T12:22:28.882173Z",
     "start_time": "2020-08-17T12:22:28.250423Z"
    }
   },
   "outputs": [],
   "source": [
    "my_campaign = uq.Campaign(name='fusion_pce.')"
   ]
  },
  {
   "cell_type": "markdown",
   "metadata": {
    "slideshow": {
     "slide_type": "slide"
    }
   },
   "source": [
    "## Define the parameter space\n",
    "\n"
   ]
  },
  {
   "cell_type": "code",
   "execution_count": null,
   "metadata": {
    "ExecuteTime": {
     "end_time": "2020-08-17T12:22:28.924845Z",
     "start_time": "2020-08-17T12:22:28.889045Z"
    }
   },
   "outputs": [],
   "source": [
    "params = {\n",
    "    \"Qe_tot\":   {\"type\": \"float\",   \"min\": 1.0e6, \"max\": 50.0e6, \"default\": 2e6},\n",
    "    \"H0\":       {\"type\": \"float\",   \"min\": 0.00,  \"max\": 1.0,    \"default\": 0},\n",
    "    \"Hw\":       {\"type\": \"float\",   \"min\": 0.01,  \"max\": 100.0,  \"default\": 0.1},\n",
    "    \"Te_bc\":    {\"type\": \"float\",   \"min\": 10.0,  \"max\": 1000.0, \"default\": 100},\n",
    "    \"chi\":      {\"type\": \"float\",   \"min\": 0.01,  \"max\": 100.0,  \"default\": 1},\n",
    "    \"a0\":       {\"type\": \"float\",   \"min\": 0.2,   \"max\": 10.0,   \"default\": 1},\n",
    "    \"R0\":       {\"type\": \"float\",   \"min\": 0.5,   \"max\": 20.0,   \"default\": 3},\n",
    "    \"E0\":       {\"type\": \"float\",   \"min\": 1.0,   \"max\": 10.0,   \"default\": 1.5},\n",
    "    \"b_pos\":    {\"type\": \"float\",   \"min\": 0.95,  \"max\": 0.99,   \"default\": 0.98},\n",
    "    \"b_height\": {\"type\": \"float\",   \"min\": 3e19,  \"max\": 10e19,  \"default\": 6e19},\n",
    "    \"b_sol\":    {\"type\": \"float\",   \"min\": 2e18,  \"max\": 3e19,   \"default\": 2e19},\n",
    "    \"b_width\":  {\"type\": \"float\",   \"min\": 0.005, \"max\": 0.025,  \"default\": 0.01},\n",
    "    \"b_slope\":  {\"type\": \"float\",   \"min\": 0.0,   \"max\": 0.05,   \"default\": 0.01},\n",
    "    \"Te_0\":     {\"type\": \"float\",   \"min\": 1e-5,  \"max\": 1e6,    \"default\": 1000.0},\n",
    "    \"nr\":       {\"type\": \"integer\", \"min\": 10,    \"max\": 1000,   \"default\": 100},\n",
    "    \"dt\":       {\"type\": \"float\",   \"min\": 1e-3,  \"max\": 1e3,    \"default\": 100},\n",
    "    \"out_file\": {\"type\": \"string\",  \"default\": \"output.csv\"}\n",
    "}"
   ]
  },
  {
   "cell_type": "markdown",
   "metadata": {
    "slideshow": {
     "slide_type": "slide"
    }
   },
   "source": [
    "## Create an encoder, decoder and collater for PCE test app"
   ]
  },
  {
   "cell_type": "code",
   "execution_count": null,
   "metadata": {
    "ExecuteTime": {
     "end_time": "2020-08-17T12:22:28.969055Z",
     "start_time": "2020-08-17T12:22:28.931309Z"
    }
   },
   "outputs": [],
   "source": [
    "encoder = uq.encoders.GenericEncoder(template_fname='fusion.template',\n",
    "                                     delimiter='$',\n",
    "                                     target_filename='fusion_in.json')\n",
    "\n",
    "\n",
    "decoder = uq.decoders.SimpleCSV(target_filename=\"output.csv\",\n",
    "                                output_columns=[\"te\", \"ne\", \"rho\", \"rho_norm\"],\n",
    "                                header=0)\n",
    "\n",
    "collater = uq.collate.AggregateSamples(average=False)"
   ]
  },
  {
   "cell_type": "markdown",
   "metadata": {},
   "source": [
    "## Add the app (automatically set as current app)"
   ]
  },
  {
   "cell_type": "code",
   "execution_count": null,
   "metadata": {
    "ExecuteTime": {
     "end_time": "2020-08-17T12:22:29.083562Z",
     "start_time": "2020-08-17T12:22:28.977376Z"
    }
   },
   "outputs": [],
   "source": [
    "my_campaign.add_app(name=\"fusion\",\n",
    "                    params=params,\n",
    "                    encoder=encoder,\n",
    "                    decoder=decoder,\n",
    "                    collater=collater)"
   ]
  },
  {
   "cell_type": "markdown",
   "metadata": {
    "slideshow": {
     "slide_type": "slide"
    }
   },
   "source": [
    "## Create the sampler (here simplified to two uncertain quantities)"
   ]
  },
  {
   "cell_type": "code",
   "execution_count": null,
   "metadata": {
    "ExecuteTime": {
     "end_time": "2020-08-17T12:22:29.108330Z",
     "start_time": "2020-08-17T12:22:29.087872Z"
    }
   },
   "outputs": [],
   "source": [
    "vary = {\n",
    "    \"Qe_tot\":   cp.Uniform(1.8e6, 2.2e6),\n",
    "    \"Te_bc\":    cp.Uniform(80.0,  120.0)\n",
    "}"
   ]
  },
  {
   "cell_type": "markdown",
   "metadata": {},
   "source": [
    "\"\"\" other possible quantities to vary\n",
    "    \"H0\":       cp.Uniform(0.0,   0.2),\n",
    "    \"Hw\":       cp.Uniform(0.1,   0.5),\n",
    "    \"chi\":      cp.Uniform(0.8,   1.2), \n",
    "\n",
    "    \"a0\":       cp.Uniform(0.9,   1.1), \n",
    "    \"R0\":       cp.Uniform(2.7,   3.3), \n",
    "    \"E0\":       cp.Uniform(1.4,   1.6), \n",
    "    \"b_pos\":    cp.Uniform(0.95,  0.99), \n",
    "    \"b_height\": cp.Uniform(5e19,  7e19), \n",
    "    \"b_sol\":    cp.Uniform(1e19,  3e19), \n",
    "    \"b_width\":  cp.Uniform(0.015, 0.025), \n",
    "    \"b_slope\":  cp.Uniform(0.005, 0.020),\n",
    "    \"Te_0\":     cp.Uniform(100.0, 5000.0)\n",
    "\"\"\""
   ]
  },
  {
   "cell_type": "markdown",
   "metadata": {
    "slideshow": {
     "slide_type": "slide"
    }
   },
   "source": [
    "## Associate a sampler with the campaign"
   ]
  },
  {
   "cell_type": "code",
   "execution_count": null,
   "metadata": {
    "ExecuteTime": {
     "end_time": "2020-08-17T12:22:29.451108Z",
     "start_time": "2020-08-17T12:22:29.119291Z"
    }
   },
   "outputs": [],
   "source": [
    "my_campaign.set_sampler(uq.sampling.PCESampler(vary=vary, polynomial_order=3))"
   ]
  },
  {
   "cell_type": "markdown",
   "metadata": {
    "slideshow": {
     "slide_type": "-"
    }
   },
   "source": [
    "## Draw all samples (of the finite set of samples)"
   ]
  },
  {
   "cell_type": "code",
   "execution_count": null,
   "metadata": {
    "ExecuteTime": {
     "end_time": "2020-08-17T12:22:29.834127Z",
     "start_time": "2020-08-17T12:22:29.461936Z"
    }
   },
   "outputs": [],
   "source": [
    "my_campaign.draw_samples()\n",
    "print('Number of samples = %s' % my_campaign.get_active_sampler().count)"
   ]
  },
  {
   "cell_type": "markdown",
   "metadata": {
    "slideshow": {
     "slide_type": "-"
    }
   },
   "source": [
    "## Create and populate the run directories"
   ]
  },
  {
   "cell_type": "code",
   "execution_count": null,
   "metadata": {
    "ExecuteTime": {
     "end_time": "2020-08-17T12:22:29.950198Z",
     "start_time": "2020-08-17T12:22:29.847717Z"
    }
   },
   "outputs": [],
   "source": [
    "my_campaign.populate_runs_dir()"
   ]
  },
  {
   "cell_type": "markdown",
   "metadata": {
    "slideshow": {
     "slide_type": "slide"
    }
   },
   "source": [
    "## Run the cases"
   ]
  },
  {
   "cell_type": "code",
   "execution_count": null,
   "metadata": {
    "ExecuteTime": {
     "end_time": "2020-08-17T12:22:57.256957Z",
     "start_time": "2020-08-17T12:22:29.970003Z"
    }
   },
   "outputs": [],
   "source": [
    "cwd = os.getcwd().replace(' ', '\\ ')      # deal with ' ' in the path\n",
    "cmd = f\"{cwd}/fusion_model.py fusion_in.json\"\n",
    "my_campaign.apply_for_each_run_dir(uq.actions.ExecuteLocal(cmd, interpret='python3'));"
   ]
  },
  {
   "cell_type": "markdown",
   "metadata": {
    "slideshow": {
     "slide_type": "-"
    }
   },
   "source": [
    "## Collate the results"
   ]
  },
  {
   "cell_type": "code",
   "execution_count": null,
   "metadata": {
    "ExecuteTime": {
     "end_time": "2020-08-17T12:22:58.447889Z",
     "start_time": "2020-08-17T12:22:57.263003Z"
    }
   },
   "outputs": [],
   "source": [
    "my_campaign.collate()"
   ]
  },
  {
   "cell_type": "markdown",
   "metadata": {
    "slideshow": {
     "slide_type": "-"
    }
   },
   "source": [
    "## Post-processing analysis"
   ]
  },
  {
   "cell_type": "code",
   "execution_count": null,
   "metadata": {
    "ExecuteTime": {
     "end_time": "2020-08-17T12:23:58.943033Z",
     "start_time": "2020-08-17T12:22:58.452317Z"
    }
   },
   "outputs": [],
   "source": [
    "my_campaign.apply_analysis(uq.analysis.PCEAnalysis(sampler=my_campaign.get_active_sampler(), \n",
    "                                                   qoi_cols=[\"te\", \"ne\", \"rho\", \"rho_norm\"]))"
   ]
  },
  {
   "cell_type": "markdown",
   "metadata": {
    "slideshow": {
     "slide_type": "slide"
    }
   },
   "source": [
    "## Get descriptive statistics"
   ]
  },
  {
   "cell_type": "code",
   "execution_count": null,
   "metadata": {
    "ExecuteTime": {
     "end_time": "2020-08-17T12:23:58.981284Z",
     "start_time": "2020-08-17T12:23:58.949356Z"
    }
   },
   "outputs": [],
   "source": [
    "results = my_campaign.get_last_analysis()\n",
    "stats = results['statistical_moments']['te']\n",
    "per = results['percentiles']['te']\n",
    "sobols = results['sobols_first']['te']\n",
    "rho = results['statistical_moments']['rho']['mean']\n",
    "rho_norm = results['statistical_moments']['rho_norm']['mean']"
   ]
  },
  {
   "cell_type": "markdown",
   "metadata": {
    "slideshow": {
     "slide_type": "slide"
    }
   },
   "source": [
    "## Plot the calculated Te: mean, with std deviation, 10 and 90% and range"
   ]
  },
  {
   "cell_type": "code",
   "execution_count": null,
   "metadata": {
    "ExecuteTime": {
     "end_time": "2020-08-17T12:24:04.031180Z",
     "start_time": "2020-08-17T12:23:58.996314Z"
    }
   },
   "outputs": [],
   "source": [
    "plt.figure(figsize=(14,6)) \n",
    "plt.plot(rho, stats['mean'], 'b-', label='Mean')\n",
    "plt.plot(rho, stats['mean']-stats['std'], 'b--', label='+1 std deviation')\n",
    "plt.plot(rho, stats['mean']+stats['std'], 'b--')\n",
    "plt.fill_between(rho, stats['mean']-stats['std'], stats['mean']+stats['std'], color='b', alpha=0.2)\n",
    "plt.plot(rho, per['p10'].ravel(), 'b:', label='10 and 90 percentiles')\n",
    "plt.plot(rho, per['p90'].ravel(), 'b:')\n",
    "plt.fill_between(rho, per['p10'].ravel(), per['p90'].ravel(), color='b', alpha=0.1)\n",
    "plt.fill_between(rho, [r.lower[0] for r in results['output_distributions']['te']], [r.upper[0] for r in results['output_distributions']['te']], color='b', alpha=0.05)\n",
    "plt.legend(loc=0); plt.xlabel('rho [m]'); plt.ylabel('Te [eV]'); plt.title(my_campaign.campaign_dir);"
   ]
  },
  {
   "cell_type": "markdown",
   "metadata": {
    "slideshow": {
     "slide_type": "slide"
    }
   },
   "source": [
    "## Plot the first Sobol results"
   ]
  },
  {
   "cell_type": "code",
   "execution_count": null,
   "metadata": {
    "ExecuteTime": {
     "end_time": "2020-08-17T12:24:05.375756Z",
     "start_time": "2020-08-17T12:24:04.037500Z"
    }
   },
   "outputs": [],
   "source": [
    "plt.figure(figsize=(14,6)) \n",
    "for k in sobols.keys(): plt.plot(rho, sobols[k][0], label=k)\n",
    "plt.legend(loc=0)\n",
    "plt.xlabel('rho [m]')\n",
    "plt.ylabel('sobols_first')\n",
    "plt.title(my_campaign.campaign_dir);"
   ]
  },
  {
   "cell_type": "markdown",
   "metadata": {
    "slideshow": {
     "slide_type": "slide"
    }
   },
   "source": [
    "## Plot the total Sobol results"
   ]
  },
  {
   "cell_type": "code",
   "execution_count": null,
   "metadata": {
    "ExecuteTime": {
     "end_time": "2020-08-17T12:24:06.805033Z",
     "start_time": "2020-08-17T12:24:05.391315Z"
    }
   },
   "outputs": [],
   "source": [
    "plt.figure(figsize=(14,6)) \n",
    "for k in results['sobols_total']['te'].keys(): plt.plot(rho, results['sobols_total']['te'][k][0], label=k)\n",
    "plt.legend(loc=0)    \n",
    "plt.xlabel('rho [m]')\n",
    "plt.ylabel('sobols_total')\n",
    "plt.title(my_campaign.campaign_dir);"
   ]
  },
  {
   "cell_type": "markdown",
   "metadata": {
    "slideshow": {
     "slide_type": "slide"
    }
   },
   "source": [
    "## Plot the distributions of Te"
   ]
  },
  {
   "cell_type": "code",
   "execution_count": null,
   "metadata": {
    "ExecuteTime": {
     "end_time": "2020-08-17T12:26:04.391503Z",
     "start_time": "2020-08-17T12:25:46.985459Z"
    }
   },
   "outputs": [],
   "source": [
    "plt.figure(figsize=(14,6))\n",
    "for i, D in enumerate(results['output_distributions']['te']):\n",
    "    _Te = np.linspace(D.lower[0], D.upper[0], 101)\n",
    "    _DF = D.pdf(_Te)\n",
    "    plt.loglog(_Te, _DF, 'b-')\n",
    "    plt.loglog(stats['mean'][i], np.interp(stats['mean'][i], _Te, _DF), 'bo')\n",
    "    plt.loglog(stats['mean'][i]-stats['std'][i], np.interp(stats['mean'][i]-stats['std'][i], _Te, _DF), 'b*')\n",
    "    plt.loglog(stats['mean'][i]+stats['std'][i], np.interp(stats['mean'][i]+stats['std'][i], _Te, _DF), 'b*')\n",
    "    plt.loglog(per['p10'].ravel()[i],  np.interp(per['p10'].ravel()[i], _Te, _DF), 'b+')\n",
    "    plt.loglog(per['p90'].ravel()[i],  np.interp(per['p90'].ravel()[i], _Te, _DF), 'b+')\n",
    "plt.xlabel('Te'); plt.ylabel('distribution of Te'); plt.title(my_campaign.campaign_dir);"
   ]
  },
  {
   "cell_type": "markdown",
   "metadata": {
    "slideshow": {
     "slide_type": "slide"
    }
   },
   "source": [
    "# The End"
   ]
  }
 ],
 "metadata": {
  "celltoolbar": "Slideshow",
  "kernelspec": {
   "display_name": "Python 3",
   "language": "python",
   "name": "python3"
  },
  "language_info": {
   "codemirror_mode": {
    "name": "ipython",
    "version": 3
   },
   "file_extension": ".py",
   "mimetype": "text/x-python",
   "name": "python",
   "nbconvert_exporter": "python",
   "pygments_lexer": "ipython3",
   "version": "3.8.5"
  },
  "latex_metadata": {
   "affiliation": "Max Planck Institute for Plasma Physics, Garching, Germany",
   "author": "David P. Coster",
   "title": "VECMA Fusion Notebooks"
  }
 },
 "nbformat": 4,
 "nbformat_minor": 4
}
