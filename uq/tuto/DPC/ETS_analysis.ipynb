{
 "cells": [
  {
   "cell_type": "code",
   "execution_count": null,
   "metadata": {
    "ExecuteTime": {
     "end_time": "2020-11-25T09:40:54.002395Z",
     "start_time": "2020-11-25T09:40:50.787210Z"
    },
    "slideshow": {
     "slide_type": "slide"
    }
   },
   "outputs": [],
   "source": [
    "import sys\n",
    "sys.path.append('ASCII_UAL')\n",
    "import ascii_cpo\n",
    "import numpy as np\n",
    "import scipy.interpolate\n",
    "import matplotlib.pyplot as plt\n",
    "import scipy.constants"
   ]
  },
  {
   "cell_type": "code",
   "execution_count": null,
   "metadata": {
    "ExecuteTime": {
     "end_time": "2020-11-25T09:40:55.071925Z",
     "start_time": "2020-11-25T09:40:54.005028Z"
    },
    "slideshow": {
     "slide_type": "-"
    }
   },
   "outputs": [],
   "source": [
    "# Read the data\n",
    "CS = ascii_cpo.read('CPO_GEM0/ets_coresource_in.cpo', 'coresource')\n",
    "EQ = ascii_cpo.read('CPO_GEM0/chease_equilibrium_0100.cpo', 'equilibrium')\n",
    "CP = ascii_cpo.read('CPO_GEM0/ets_coreprof_0100.cpo', 'coreprof')\n",
    "CTg = ascii_cpo.read('CPO_GEM0/gem0_coretransp_0100.cpo', 'coretransp')\n",
    "CTi = ascii_cpo.read('CPO_GEM0/imp4dv_coretransp_0100.cpo', 'coretransp')"
   ]
  },
  {
   "cell_type": "markdown",
   "metadata": {
    "slideshow": {
     "slide_type": "slide"
    }
   },
   "source": [
    "## Analysis using rho_tor\n",
    "\n",
    "Since the ETS-5 code base is mostly working in rho_tor, we will start the analysis in rho_tor"
   ]
  },
  {
   "cell_type": "code",
   "execution_count": null,
   "metadata": {
    "ExecuteTime": {
     "end_time": "2020-11-25T09:40:55.117375Z",
     "start_time": "2020-11-25T09:40:55.084326Z"
    }
   },
   "outputs": [],
   "source": [
    "# set up the three rho_tor grids\n",
    "CS_rho_tor = CS.values[0].rho_tor\n",
    "EQ_rho_tor = EQ.profiles_1d.rho_tor\n",
    "CP_rho_tor = CP.rho_tor\n",
    "\n",
    "# set up functions for equilibrium quantities\n",
    "volume_fun = scipy.interpolate.UnivariateSpline(EQ_rho_tor, EQ.profiles_1d.volume, s=0.0, k=3)\n",
    "surface_fun = scipy.interpolate.UnivariateSpline(EQ_rho_tor, EQ.profiles_1d.surface, s=0.0, k=3)\n",
    "gm3_fun = scipy.interpolate.UnivariateSpline(EQ_rho_tor, EQ.profiles_1d.gm3, s=0.0, k=3)\n",
    "gm7_fun = scipy.interpolate.UnivariateSpline(EQ_rho_tor, EQ.profiles_1d.gm7, s=0.0, k=3)\n",
    "\n",
    "# set up functions for source quantities, both from coresource and coreprof\n",
    "si_fun = scipy.interpolate.UnivariateSpline(CS_rho_tor, CS.values[0].si.exp[:,0], s=0.0, k=3)\n",
    "se_fun = si_fun\n",
    "si_cp_fun = scipy.interpolate.UnivariateSpline(CP_rho_tor, CP.ni.source_term.value[:,0], s=0.0, k=3)\n",
    "se_cp_fun = si_cp_fun\n",
    "qe_fun = scipy.interpolate.UnivariateSpline(CS_rho_tor, CS.values[0].qe.exp, s=0.0, k=3)\n",
    "qi_fun = scipy.interpolate.UnivariateSpline(CS_rho_tor, CS.values[0].qi.exp[:,0], s=0.0, k=3)\n",
    "qe_cp_fun = scipy.interpolate.UnivariateSpline(CP_rho_tor, CP.te.source_term.value, s=0.0, k=3)\n",
    "qi_cp_fun = scipy.interpolate.UnivariateSpline(CP_rho_tor, CP.ti.source_term.value[:,0], s=0.0, k=3)\n",
    "\n",
    "# set up integrals of sources\n",
    "se_int_fun = scipy.interpolate.UnivariateSpline(CS_rho_tor, np.cumsum(np.diff(volume_fun(CS_rho_tor), prepend=0) * se_fun(CS_rho_tor)), s=0.0, k=3)\n",
    "se_cp_int_fun = scipy.interpolate.UnivariateSpline(CP_rho_tor, np.cumsum(np.diff(volume_fun(CP_rho_tor), prepend=0) * se_cp_fun(CP_rho_tor)), s=0.0, k=3)\n",
    "si_int_fun = scipy.interpolate.UnivariateSpline(CS_rho_tor, np.cumsum(np.diff(volume_fun(CS_rho_tor), prepend=0) * si_fun(CS_rho_tor)), s=0.0, k=3)\n",
    "si_cp_int_fun = scipy.interpolate.UnivariateSpline(CP_rho_tor, np.cumsum(np.diff(volume_fun(CP_rho_tor), prepend=0) * si_cp_fun(CP_rho_tor)), s=0.0, k=3)\n",
    "qe_int_fun = scipy.interpolate.UnivariateSpline(CS_rho_tor, np.cumsum(np.diff(volume_fun(CS_rho_tor), prepend=0) * qe_fun(CS_rho_tor)), s=0.0, k=3)\n",
    "qe_cp_int_fun = scipy.interpolate.UnivariateSpline(CP_rho_tor, np.cumsum(np.diff(volume_fun(CP_rho_tor), prepend=0) * qe_cp_fun(CP_rho_tor)), s=0.0, k=3)\n",
    "qi_int_fun = scipy.interpolate.UnivariateSpline(CS_rho_tor, np.cumsum(np.diff(volume_fun(CS_rho_tor), prepend=0) * qi_fun(CS_rho_tor)), s=0.0, k=3)\n",
    "qi_cp_int_fun = scipy.interpolate.UnivariateSpline(CP_rho_tor, np.cumsum(np.diff(volume_fun(CP_rho_tor), prepend=0) * qi_cp_fun(CP_rho_tor)), s=0.0, k=3)\n",
    "\n",
    "# set up functions of primary quantities\n",
    "te_fun = scipy.interpolate.UnivariateSpline(CP_rho_tor, CP.te.value, s=0.0, k=3)\n",
    "ne_fun = scipy.interpolate.UnivariateSpline(CP_rho_tor, CP.ne.value, s=0.0, k=3)\n",
    "ti_fun = scipy.interpolate.UnivariateSpline(CP_rho_tor, CP.ti.value[:,0], s=0.0, k=3)\n",
    "ni_fun = scipy.interpolate.UnivariateSpline(CP_rho_tor, CP.ni.value[:,0], s=0.0, k=3)"
   ]
  },
  {
   "cell_type": "code",
   "execution_count": null,
   "metadata": {
    "ExecuteTime": {
     "end_time": "2020-11-25T09:40:55.142780Z",
     "start_time": "2020-11-25T09:40:55.124150Z"
    },
    "slideshow": {
     "slide_type": "slide"
    }
   },
   "outputs": [],
   "source": [
    "### particle source integrals\n",
    "print(\"Electron particle source integral %0.6e compared with the flux from the ETS %0.6e\" % \n",
    "      (np.trapz(se_fun(CS_rho_tor), volume_fun(CS_rho_tor)), CP.ne.flux.flux_dv[-1]))\n",
    "print(\"Ion particle source integral %0.6e compared with the flux from the ETS %0.6e\" %\n",
    "      (np.trapz(si_fun(CS_rho_tor), volume_fun(CS_rho_tor)), CP.ni.flux.flux_dv[:,0][-1]))\n",
    "\n",
    "print('Integrals based on a spline fit to np.cumsum form')\n",
    "print('  Electron total particle source from coresource = %0.6e and from coreprof = %0.6e' %\n",
    "      (se_int_fun(CS_rho_tor[-1]), se_cp_int_fun(CS_rho_tor[-1])))\n",
    "print('  Ion total particle source from coresource = %0.6e and from coreprof = %0.6e' %\n",
    "      (si_int_fun(CS_rho_tor[-1]), si_cp_int_fun(CS_rho_tor[-1])))"
   ]
  },
  {
   "cell_type": "code",
   "execution_count": null,
   "metadata": {
    "ExecuteTime": {
     "end_time": "2020-11-25T09:40:55.263998Z",
     "start_time": "2020-11-25T09:40:55.149730Z"
    },
    "slideshow": {
     "slide_type": "slide"
    }
   },
   "outputs": [],
   "source": [
    "### electron energy source integrals\n",
    "print(\"Electron energy source integral (from coresource) calulated using\\n  np.trapz %0.6e and\\n  np.cumsum %0.6e and their ratio\\n   %0.6f\" % \n",
    "      (np.trapz(qe_fun(CS_rho_tor), volume_fun(CS_rho_tor)), \n",
    "       np.cumsum(np.diff(volume_fun(CS_rho_tor), prepend=0) * qe_fun(CS_rho_tor))[-1],\n",
    "       np.cumsum(np.diff(volume_fun(CS_rho_tor), prepend=0) * qe_fun(CS_rho_tor))[-1] / \n",
    "         np.trapz(qe_fun(CS_rho_tor), volume_fun(CS_rho_tor))))\n",
    "\n",
    "print(\"Electron energy source integral (from coreprof) calulated using\\n  np.trapz %0.6e and\\n  np.cumsum %0.6e and their ratio\\n   %0.6f\" % \n",
    "      (np.trapz(qe_cp_fun(CP_rho_tor), volume_fun(CP_rho_tor)), \n",
    "       np.cumsum(np.diff(volume_fun(CP_rho_tor), prepend=0) * qe_cp_fun(CP_rho_tor))[-1],\n",
    "       np.cumsum(np.diff(volume_fun(CP_rho_tor), prepend=0) * qe_cp_fun(CP_rho_tor))[-1] / \n",
    "         np.trapz(qe_cp_fun(CP_rho_tor), volume_fun(CP_rho_tor))))\n",
    "\n",
    "print(\"Electron energy source integral (via splines) from coresource %0.6e and coreprof %0.6e\" % \n",
    "      (qe_int_fun(CS_rho_tor[-1]),qe_cp_int_fun(CS_rho_tor[-1])))"
   ]
  },
  {
   "cell_type": "code",
   "execution_count": null,
   "metadata": {
    "ExecuteTime": {
     "end_time": "2020-11-25T09:40:55.303750Z",
     "start_time": "2020-11-25T09:40:55.286137Z"
    },
    "slideshow": {
     "slide_type": "slide"
    }
   },
   "outputs": [],
   "source": [
    "### ion energy source integrals\n",
    "print(\"Ion energy source integral (from coresource) calulated using\\n  np.trapz %0.6e and\\n  np.cumsum %0.6e and their ratio\\n   %0.6f\" % \n",
    "      (np.trapz(qi_fun(CS_rho_tor), volume_fun(CS_rho_tor)), \n",
    "       np.cumsum(np.diff(volume_fun(CS_rho_tor), prepend=0) * qi_fun(CS_rho_tor))[-1],\n",
    "       np.cumsum(np.diff(volume_fun(CS_rho_tor), prepend=0) * qi_fun(CS_rho_tor))[-1] / \n",
    "         np.trapz(qi_fun(CS_rho_tor), volume_fun(CS_rho_tor))))\n",
    "\n",
    "print(\"Ion energy source integral (from coreprof) calulated using\\n  np.trapz %0.6e and\\n  np.cumsum %0.6e and their ratio\\n   %0.6f\" % \n",
    "      (np.trapz(qi_cp_fun(CP_rho_tor), volume_fun(CP_rho_tor)), \n",
    "       np.cumsum(np.diff(volume_fun(CP_rho_tor), prepend=0) * qi_cp_fun(CP_rho_tor))[-1],\n",
    "       np.cumsum(np.diff(volume_fun(CP_rho_tor), prepend=0) * qi_cp_fun(CP_rho_tor))[-1] / \n",
    "         np.trapz(qi_cp_fun(CP_rho_tor), volume_fun(CP_rho_tor))))\n",
    "\n",
    "print(\"Ion energy source integral (via splines) from coresource %0.6e and coreprof %0.6e\" % \n",
    "      (qi_int_fun(CS_rho_tor[-1]),qi_cp_int_fun(CS_rho_tor[-1])))"
   ]
  },
  {
   "cell_type": "code",
   "execution_count": null,
   "metadata": {
    "ExecuteTime": {
     "end_time": "2020-11-25T09:40:56.294344Z",
     "start_time": "2020-11-25T09:40:55.311794Z"
    },
    "slideshow": {
     "slide_type": "slide"
    }
   },
   "outputs": [],
   "source": [
    "### Compare integrals and fluxes: particles\n",
    "fig, ax = plt.subplots(1, 2, figsize=(24,8))\n",
    "plt.subplot(1,2,1)\n",
    "plt.plot(CP_rho_tor, se_int_fun(CP_rho_tor), label='Integration of coretransp particle source')\n",
    "plt.plot(CP_rho_tor, se_cp_int_fun(CP_rho_tor), label='Integration of coreprof particle source')\n",
    "plt.plot(CP_rho_tor, CP.ne.flux.flux_dv, label='Fluxes from ETS')\n",
    "plt.legend(loc=0) ; plt.xlabel('rho_tor') ; plt.ylabel('Electron fluxes');\n",
    "plt.subplot(1,2,2)\n",
    "plt.plot(CP_rho_tor, si_int_fun(CP_rho_tor), label='Integration of coretransp particle source')\n",
    "plt.plot(CP_rho_tor, si_cp_int_fun(CP_rho_tor), label='Integration of coreprof particle source')\n",
    "plt.plot(CP_rho_tor, CP.ni.flux.flux_dv[:,0], label='Fluxes from ETS')\n",
    "plt.legend(loc=0) ; plt.xlabel('rho_tor') ; plt.ylabel('Ion fluxes');"
   ]
  },
  {
   "cell_type": "code",
   "execution_count": null,
   "metadata": {
    "ExecuteTime": {
     "end_time": "2020-11-25T09:40:56.814742Z",
     "start_time": "2020-11-25T09:40:56.298072Z"
    },
    "slideshow": {
     "slide_type": "slide"
    }
   },
   "outputs": [],
   "source": [
    "### Compare integrals and fluxes: total energy\n",
    "\n",
    "Q = qi_int_fun(CP_rho_tor) + qe_int_fun(CP_rho_tor)\n",
    "Q_cp = qi_cp_int_fun(CP_rho_tor) + qe_cp_int_fun(CP_rho_tor)\n",
    "G_total = CP.te.flux.flux_dv + CP.ti.flux.flux_dv[:,0]\n",
    "G_conv = (CP.ne.flux.flux_dv*CP.te.value + CP.ni.flux.flux_dv[:,0]*CP.ti.value[:,0]) * scipy.constants.eV\n",
    "G_cond = G_total - 1.5 * G_conv\n",
    "\n",
    "fig, ax = plt.subplots(1, 1, figsize=(24,8))\n",
    "plt.subplot(1,1,1)\n",
    "plt.plot(CP_rho_tor, Q, label='integration of coresource e and i energy sources')\n",
    "plt.plot(CP_rho_tor, Q_cp, label='integration of coreprof e and i energy sources')\n",
    "plt.plot(CP_rho_tor, G_total, label='ETS total energy flux')\n",
    "plt.legend(loc=0) ; plt.xlabel('rho_tor') ; plt.ylabel('Total conductive energy fluxes');"
   ]
  },
  {
   "cell_type": "code",
   "execution_count": null,
   "metadata": {
    "ExecuteTime": {
     "end_time": "2020-11-25T09:40:57.369952Z",
     "start_time": "2020-11-25T09:40:56.822864Z"
    },
    "slideshow": {
     "slide_type": "slide"
    }
   },
   "outputs": [],
   "source": [
    "### Reconciliation of transport coefficients and fluxes\n",
    "\n",
    "def S_eq(rho_tor, volume_fun, surface_fun, gm3_fun, gm7_fun, n_fun, D, v):\n",
    "    return volume_fun(rho_tor, nu=1) / surface_fun(rho_tor) * (- D * n_fun(rho_tor, nu=1) * gm3_fun(rho_tor) +  v  * n_fun(rho_tor) * gm7_fun(rho_tor))\n",
    "\n",
    "def Q_eq(rho_tor, volume_fun, surface_fun, gm3_fun, gm7_fun, t_fun, n_fun, D, v):\n",
    "    return volume_fun(rho_tor, nu=1) / surface_fun(rho_tor) * (- D * t_fun(rho_tor, nu=1) * gm3_fun(rho_tor) +  v * t_fun(rho_tor) * gm7_fun(rho_tor)) * n_fun(rho_tor) * scipy.constants.eV\n",
    "\n",
    "Q_e_eq = Q_eq(CP_rho_tor, volume_fun, surface_fun, gm3_fun, gm7_fun, te_fun, ne_fun, CP.te.transp_coef.diff, CP.te.transp_coef.vconv)\n",
    "Q_i_eq = Q_eq(CP_rho_tor, volume_fun, surface_fun, gm3_fun, gm7_fun, ti_fun, ni_fun, CP.te.transp_coef.diff, CP.ti.transp_coef.vconv[:,0] )\n",
    "\n",
    "S_CP = surface_fun(CP_rho_tor)\n",
    "\n",
    "fig, ax = plt.subplots(1, 1, figsize=(24,8))\n",
    "plt.subplot(1,1,1)\n",
    "plt.plot(CP_rho_tor[1:], ((Q_e_eq + Q_i_eq) * S_CP)[1:], label=\"Conductive flux from D's and v's\")\n",
    "plt.plot(CP_rho_tor, G_cond, label='ETS conductive flux')\n",
    "plt.legend(loc=0) ; plt.xlabel('rho_tor') ; plt.ylabel('Total conductive energy fluxes');"
   ]
  },
  {
   "cell_type": "code",
   "execution_count": null,
   "metadata": {
    "ExecuteTime": {
     "end_time": "2020-11-25T09:55:34.637120Z",
     "start_time": "2020-11-25T09:55:34.079260Z"
    },
    "slideshow": {
     "slide_type": "-"
    }
   },
   "outputs": [],
   "source": [
    "### Reconciliation of transport coefficients and fluxes, GEM0\n",
    "CTg0 = CTg.values[0]\n",
    "Q_e_eq_GEM0 = Q_eq(CTg0.rho_tor, volume_fun, surface_fun, gm3_fun, gm7_fun, te_fun, ne_fun, CTg0.te_transp.diff_eff, CTg0.te_transp.vconv_eff)\n",
    "Q_i_eq_GEM0 = Q_eq(CTg0.rho_tor, volume_fun, surface_fun, gm3_fun, gm7_fun, ti_fun, ni_fun, CTg0.te_transp.diff_eff, CTg0.te_transp.vconv_eff)\n",
    "\n",
    "CorrFac = (CTg0.rho_tor*0+1) / (volume_fun(CTg0.rho_tor, nu=1) / surface_fun(CTg0.rho_tor))\n",
    "\n",
    "fig, ax = plt.subplots(1, 1, figsize=(24,8))\n",
    "plt.subplot(1,1,1)\n",
    "plt.plot(CTg0.rho_tor, CTg0.te_transp.flux, 'o', label=\"flux from GEM0\")\n",
    "plt.plot(CTg0.rho_tor, Q_e_eq_GEM0, 'o', label=\"flux from GEM0 D's and v's\")\n",
    "plt.plot(CTg0.rho_tor, Q_e_eq_GEM0 * CorrFac, 'o', label=\"flux from corrected GEM0 D's and v's\")\n",
    "plt.legend(loc=0) ; plt.xlabel('rho_tor') ; plt.ylabel('Total conductive energy fluxes')\n",
    "plt.suptitle(\"Operations in rho_tor\\nRatios of [fluxes from corrected GEM0 D's and v's] to [flux from GEM0] = %s\" %\n",
    "    str(Q_e_eq_GEM0 * CorrFac / CTg0.te_transp.flux).replace('\\n',''));"
   ]
  },
  {
   "cell_type": "markdown",
   "metadata": {
    "slideshow": {
     "slide_type": "slide"
    }
   },
   "source": [
    "## Analysis using rho_tor_norm\n",
    "\n",
    "Since there was a mismatch in the boundary values of rho_tor between the different CPOs, we will try redoing the analysis using rho_tor_norm"
   ]
  },
  {
   "cell_type": "code",
   "execution_count": null,
   "metadata": {
    "ExecuteTime": {
     "end_time": "2020-11-25T09:52:29.715648Z",
     "start_time": "2020-11-25T09:52:29.570609Z"
    }
   },
   "outputs": [],
   "source": [
    "# set up the three rho_tor_norm grids\n",
    "rho_tor_sep_eq = EQ.profiles_1d.rho_tor[-1]\n",
    "rho_tor_sep_cs = CS.values[0].rho_tor[-1]\n",
    "rho_tor_sep_cp = CP.rho_tor[-1]\n",
    "CS_rho_tor_norm = CS.values[0].rho_tor / CS.values[0].rho_tor[-1]\n",
    "EQ_rho_tor_norm = EQ.profiles_1d.rho_tor / EQ.profiles_1d.rho_tor[-1]\n",
    "CP_rho_tor_norm = CP.rho_tor / CP.rho_tor[-1]\n",
    "\n",
    "# set up functions for equilibrium quantities\n",
    "volume_fun_norm = scipy.interpolate.UnivariateSpline(EQ_rho_tor_norm, EQ.profiles_1d.volume, s=0.0, k=3)\n",
    "surface_fun_norm = scipy.interpolate.UnivariateSpline(EQ_rho_tor_norm, EQ.profiles_1d.surface, s=0.0, k=3)\n",
    "gm3_fun_norm = scipy.interpolate.UnivariateSpline(EQ_rho_tor_norm, EQ.profiles_1d.gm3 / rho_tor_sep_eq**2, s=0.0, k=3)\n",
    "gm7_fun_norm = scipy.interpolate.UnivariateSpline(EQ_rho_tor_norm, EQ.profiles_1d.gm7 / rho_tor_sep_eq, s=0.0, k=3)\n",
    "\n",
    "# set up functions for source quantities, both from coresource and coreprof\n",
    "si_fun_norm = scipy.interpolate.UnivariateSpline(CS_rho_tor_norm, CS.values[0].si.exp[:,0], s=0.0, k=3)\n",
    "se_fun_norm = si_fun_norm\n",
    "si_cp_fun_norm = scipy.interpolate.UnivariateSpline(CP_rho_tor_norm, CP.ni.source_term.value[:,0], s=0.0, k=3)\n",
    "se_cp_fun_norm = si_cp_fun_norm\n",
    "qe_fun_norm = scipy.interpolate.UnivariateSpline(CS_rho_tor_norm, CS.values[0].qe.exp, s=0.0, k=3)\n",
    "qi_fun_norm = scipy.interpolate.UnivariateSpline(CS_rho_tor_norm, CS.values[0].qi.exp[:,0], s=0.0, k=3)\n",
    "qe_cp_fun_norm = scipy.interpolate.UnivariateSpline(CP_rho_tor_norm, CP.te.source_term.value, s=0.0, k=3)\n",
    "qi_cp_fun_norm = scipy.interpolate.UnivariateSpline(CP_rho_tor_norm, CP.ti.source_term.value[:,0], s=0.0, k=3)\n",
    "\n",
    "# set up integrals of sources\n",
    "se_int_fun_norm = scipy.interpolate.UnivariateSpline(CS_rho_tor_norm, np.cumsum(np.diff(volume_fun_norm(CS_rho_tor_norm), prepend=0) * se_fun(CS_rho_tor_norm)), s=0.0, k=3)\n",
    "se_cp_int_fun_norm = scipy.interpolate.UnivariateSpline(CP_rho_tor_norm, np.cumsum(np.diff(volume_fun_norm(CP_rho_tor_norm), prepend=0) * se_cp_fun(CP_rho_tor_norm)), s=0.0, k=3)\n",
    "si_int_fun_norm = scipy.interpolate.UnivariateSpline(CS_rho_tor_norm, np.cumsum(np.diff(volume_fun_norm(CS_rho_tor_norm), prepend=0) * si_fun_norm(CS_rho_tor_norm)), s=0.0, k=3)\n",
    "si_cp_int_fun_norm = scipy.interpolate.UnivariateSpline(CP_rho_tor_norm, np.cumsum(np.diff(volume_fun_norm(CP_rho_tor_norm), prepend=0) * si_cp_fun_norm(CP_rho_tor_norm)), s=0.0, k=3)\n",
    "qe_int_fun_norm = scipy.interpolate.UnivariateSpline(CS_rho_tor_norm, np.cumsum(np.diff(volume_fun_norm(CS_rho_tor_norm), prepend=0) * qe_fun_norm(CS_rho_tor_norm)), s=0.0, k=3)\n",
    "qe_cp_int_fun_norm = scipy.interpolate.UnivariateSpline(CP_rho_tor_norm, np.cumsum(np.diff(volume_fun_norm(CP_rho_tor_norm), prepend=0) * qe_cp_fun_norm(CP_rho_tor_norm)), s=0.0, k=3)\n",
    "qi_int_fun_norm = scipy.interpolate.UnivariateSpline(CS_rho_tor_norm, np.cumsum(np.diff(volume_fun_norm(CS_rho_tor_norm), prepend=0) * qi_fun_norm(CS_rho_tor_norm)), s=0.0, k=3)\n",
    "qi_cp_int_fun_norm = scipy.interpolate.UnivariateSpline(CP_rho_tor_norm, np.cumsum(np.diff(volume_fun_norm(CP_rho_tor_norm), prepend=0) * qi_cp_fun_norm(CP_rho_tor_norm)), s=0.0, k=3)\n",
    "\n",
    "# set up functions of primary quantities\n",
    "te_fun_norm = scipy.interpolate.UnivariateSpline(CP_rho_tor_norm, CP.te.value, s=0.0, k=3)\n",
    "ne_fun_norm = scipy.interpolate.UnivariateSpline(CP_rho_tor_norm, CP.ne.value, s=0.0, k=3)\n",
    "ti_fun_norm = scipy.interpolate.UnivariateSpline(CP_rho_tor_norm, CP.ti.value[:,0], s=0.0, k=3)\n",
    "ni_fun_norm = scipy.interpolate.UnivariateSpline(CP_rho_tor_norm, CP.ni.value[:,0], s=0.0, k=3)"
   ]
  },
  {
   "cell_type": "code",
   "execution_count": null,
   "metadata": {
    "ExecuteTime": {
     "end_time": "2020-11-25T09:56:16.101326Z",
     "start_time": "2020-11-25T09:56:15.471627Z"
    },
    "slideshow": {
     "slide_type": "slide"
    }
   },
   "outputs": [],
   "source": [
    "### Reconciliation of transport coefficients and fluxes, GEM0 (normed)\n",
    "\n",
    "Q_e_eq_GEM0_norm = Q_eq(CTg0.rho_tor_norm, volume_fun_norm, surface_fun_norm, gm3_fun_norm, gm7_fun_norm, te_fun_norm, ne_fun_norm, CTg0.te_transp.diff_eff, CTg0.te_transp.vconv_eff)\n",
    "Q_i_eq_GEM0_norm = Q_eq(CTg0.rho_tor_norm, volume_fun_norm, surface_fun_norm, gm3_fun_norm, gm7_fun_norm, ti_fun_norm, ni_fun_norm, CTg0.te_transp.diff_eff, CTg0.te_transp.vconv_eff)\n",
    "\n",
    "CorrFac_norm = (CTg0.rho_tor_norm*0+rho_tor_sep_eq) / (volume_fun_norm(CTg0.rho_tor_norm, nu=1) / surface_fun_norm(CTg0.rho_tor_norm))\n",
    "\n",
    "fig, ax = plt.subplots(1, 1, figsize=(24,12))\n",
    "plt.subplot(1,1,1)\n",
    "plt.plot(CTg0.rho_tor, CTg0.te_transp.flux, 'o', label=\"flux from GEM0\")\n",
    "plt.plot(CTg0.rho_tor, Q_e_eq_GEM0_norm, 'o', label=\"flux from GEM0 D's and v's\")\n",
    "plt.plot(CTg0.rho_tor, Q_e_eq_GEM0_norm * CorrFac_norm, 'o', label=\"flux from corrected GEM0 D's and v's\")\n",
    "plt.legend(loc=0) ; plt.xlabel('rho_tor_norm') ; plt.ylabel('Total conductive energy flux densities')\n",
    "plt.suptitle(\"Operations in rho_tor_norm\\nRatios of [fluxes from corrected GEM0 D's and v's] to [flux from GEM0] = %s\" %\n",
    "    str(Q_e_eq_GEM0_norm * CorrFac_norm / CTg0.te_transp.flux).replace('\\n',''));"
   ]
  },
  {
   "cell_type": "code",
   "execution_count": null,
   "metadata": {
    "ExecuteTime": {
     "end_time": "2020-11-25T09:40:58.895771Z",
     "start_time": "2020-11-25T09:40:58.869687Z"
    },
    "slideshow": {
     "slide_type": "slide"
    }
   },
   "outputs": [],
   "source": [
    "### particle source integrals\n",
    "print(\"Electron particle source integral %0.6e compared with the flux from the ETS %0.6e\" % \n",
    "      (np.trapz(se_fun_norm(CS_rho_tor_norm), volume_fun_norm(CS_rho_tor_norm)), CP.ne.flux.flux_dv[-1]))\n",
    "print(\"Ion particle source integral %0.6e compared with the flux from the ETS %0.6e\" %\n",
    "      (np.trapz(si_fun_norm(CS_rho_tor_norm), volume_fun_norm(CS_rho_tor_norm)), CP.ni.flux.flux_dv[:,0][-1]))\n",
    "\n",
    "print('Integrals based on a spline fit to np.cumsum form')\n",
    "print('  Electron total particle source from coresource = %0.6e and from coreprof = %0.6e' %\n",
    "      (se_int_fun_norm(CS_rho_tor_norm[-1]), se_cp_int_fun_norm(CS_rho_tor_norm[-1])))\n",
    "print('  Ion total particle source from coresource = %0.6e and from coreprof = %0.6e' %\n",
    "      (si_int_fun_norm(CS_rho_tor_norm[-1]), si_cp_int_fun_norm(CS_rho_tor_norm[-1])))"
   ]
  },
  {
   "cell_type": "code",
   "execution_count": null,
   "metadata": {
    "ExecuteTime": {
     "end_time": "2020-11-25T09:40:58.994026Z",
     "start_time": "2020-11-25T09:40:58.907240Z"
    }
   },
   "outputs": [],
   "source": [
    "### electron energy source integrals\n",
    "print(\"Electron energy source integral (from coresource) calulated using\\n  np.trapz %0.6e and\\n  np.cumsum %0.6e and their ratio\\n   %0.6f\" % \n",
    "      (np.trapz(qe_fun_norm(CS_rho_tor_norm), volume_fun_norm(CS_rho_tor_norm)), \n",
    "       np.cumsum(np.diff(volume_fun_norm(CS_rho_tor_norm), prepend=0) * qe_fun_norm(CS_rho_tor_norm))[-1],\n",
    "       np.cumsum(np.diff(volume_fun_norm(CS_rho_tor_norm), prepend=0) * qe_fun_norm(CS_rho_tor_norm))[-1] / \n",
    "         np.trapz(qe_fun_norm(CS_rho_tor_norm), volume_fun_norm(CS_rho_tor_norm))))\n",
    "\n",
    "print(\"Electron energy source integral (from coreprof) calulated using\\n  np.trapz %0.6e and\\n  np.cumsum %0.6e and their ratio\\n   %0.6f\" % \n",
    "      (np.trapz(qe_cp_fun_norm(CP_rho_tor_norm), volume_fun_norm(CP_rho_tor_norm)), \n",
    "       np.cumsum(np.diff(volume_fun_norm(CP_rho_tor_norm), prepend=0) * qe_cp_fun_norm(CP_rho_tor_norm))[-1],\n",
    "       np.cumsum(np.diff(volume_fun_norm(CP_rho_tor_norm), prepend=0) * qe_cp_fun_norm(CP_rho_tor_norm))[-1] / \n",
    "         np.trapz(qe_cp_fun_norm(CP_rho_tor_norm), volume_fun_norm(CP_rho_tor_norm))))\n",
    "\n",
    "print(\"Electron energy source integral (via splines) from coresource %0.6e and coreprof %0.6e\" % \n",
    "      (qe_int_fun_norm(CS_rho_tor_norm[-1]),qe_cp_int_fun_norm(CS_rho_tor_norm[-1])))"
   ]
  },
  {
   "cell_type": "code",
   "execution_count": null,
   "metadata": {
    "ExecuteTime": {
     "end_time": "2020-11-25T09:40:59.053830Z",
     "start_time": "2020-11-25T09:40:59.004785Z"
    }
   },
   "outputs": [],
   "source": [
    "### ion energy source integrals\n",
    "print(\"Ion energy source integral (from coresource) calulated using\\n  np.trapz %0.6e and\\n  np.cumsum %0.6e and their ratio\\n   %0.6f\" % \n",
    "      (np.trapz(qi_fun_norm(CS_rho_tor_norm), volume_fun_norm(CS_rho_tor_norm)), \n",
    "       np.cumsum(np.diff(volume_fun_norm(CS_rho_tor_norm), prepend=0) * qi_fun_norm(CS_rho_tor_norm))[-1],\n",
    "       np.cumsum(np.diff(volume_fun_norm(CS_rho_tor_norm), prepend=0) * qi_fun_norm(CS_rho_tor_norm))[-1] / \n",
    "         np.trapz(qi_fun_norm(CS_rho_tor_norm), volume_fun_norm(CS_rho_tor_norm))))\n",
    "\n",
    "print(\"Ion energy source integral (from coreprof) calulated using\\n  np.trapz %0.6e and\\n  np.cumsum %0.6e and their ratio\\n   %0.6f\" % \n",
    "      (np.trapz(qi_cp_fun_norm(CP_rho_tor_norm), volume_fun_norm(CP_rho_tor_norm)), \n",
    "       np.cumsum(np.diff(volume_fun_norm(CP_rho_tor_norm), prepend=0) * qi_cp_fun_norm(CP_rho_tor_norm))[-1],\n",
    "       np.cumsum(np.diff(volume_fun_norm(CP_rho_tor_norm), prepend=0) * qi_cp_fun_norm(CP_rho_tor_norm))[-1] / \n",
    "         np.trapz(qi_cp_fun_norm(CP_rho_tor_norm), volume_fun_norm(CP_rho_tor_norm))))\n",
    "\n",
    "print(\"Ion energy source integral (via splines) from coresource %0.6e and coreprof %0.6e\" % \n",
    "      (qi_int_fun_norm(CS_rho_tor_norm[-1]),qi_cp_int_fun_norm(CS_rho_tor_norm[-1])))"
   ]
  }
 ],
 "metadata": {
  "celltoolbar": "Slideshow",
  "kernelspec": {
   "display_name": "Python 3",
   "language": "python",
   "name": "python3"
  },
  "language_info": {
   "codemirror_mode": {
    "name": "ipython",
    "version": 3
   },
   "file_extension": ".py",
   "mimetype": "text/x-python",
   "name": "python",
   "nbconvert_exporter": "python",
   "pygments_lexer": "ipython3",
   "version": "3.8.6"
  },
  "latex_envs": {
   "LaTeX_envs_menu_present": true,
   "autoclose": false,
   "autocomplete": true,
   "bibliofile": "biblio.bib",
   "cite_by": "apalike",
   "current_citInitial": 1,
   "eqLabelWithNumbers": true,
   "eqNumInitial": 1,
   "hotkeys": {
    "equation": "Ctrl-E",
    "itemize": "Ctrl-I"
   },
   "labels_anchors": false,
   "latex_user_defs": false,
   "report_style_numbering": false,
   "user_envs_cfg": false
  }
 },
 "nbformat": 4,
 "nbformat_minor": 2
}
