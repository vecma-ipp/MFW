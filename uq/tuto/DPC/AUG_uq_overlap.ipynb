{
 "cells": [
  {
   "cell_type": "code",
   "execution_count": null,
   "metadata": {
    "ExecuteTime": {
     "end_time": "2020-08-14T19:32:01.625680Z",
     "start_time": "2020-08-14T19:31:59.700575Z"
    }
   },
   "outputs": [],
   "source": [
    "%matplotlib inline\n",
    "#%matplotlib notebook\n",
    "import os\n",
    "import matplotlib\n",
    "if not os.getenv(\"DISPLAY\"): matplotlib.use('Agg')\n",
    "import matplotlib.pylab as plt\n",
    "from IPython.display import set_matplotlib_formats\n",
    "set_matplotlib_formats('png', 'pdf')\n",
    "import numpy as np\n",
    "import pandas as pd\n",
    "pd.options.display.max_rows = 100\n",
    "import cmocean"
   ]
  },
  {
   "cell_type": "code",
   "execution_count": null,
   "metadata": {
    "ExecuteTime": {
     "end_time": "2020-08-14T19:32:02.754384Z",
     "start_time": "2020-08-14T19:32:01.634185Z"
    }
   },
   "outputs": [],
   "source": [
    "# read the data from the AUG workflow runs\n",
    "AUG_gem = pd.read_table('../../data/AUG_gem_inoutput.txt', delimiter='  *', engine='python') \n",
    "AUG_gem.describe().T"
   ]
  },
  {
   "cell_type": "code",
   "execution_count": null,
   "metadata": {
    "ExecuteTime": {
     "end_time": "2020-08-14T19:32:02.771602Z",
     "start_time": "2020-08-14T19:32:02.756772Z"
    }
   },
   "outputs": [],
   "source": [
    "AUG_gem.columns\n",
    "active = ['time', \n",
    "          'Te-ft1', 'Te-ft2', 'Te-ft3', 'Te-ft4', 'Te-ft5', 'Te-ft6', 'Te-ft7', 'Te-ft8', \n",
    "          'dTe-ft1', 'dTe-ft2', 'dTe-ft3', 'dTe-ft4', 'dTe-ft5', 'dTe-ft6', 'dTe-ft7', 'dTe-ft8', \n",
    "          'Ti-ft1', 'Ti-ft2', 'Ti-ft3', 'Ti-ft4', 'Ti-ft5', 'Ti-ft6', 'Ti-ft7', 'Ti-ft8', \n",
    "          'dTi-ft1', 'dTi-ft2', 'dTi-ft3', 'dTi-ft4', 'dTi-ft5', 'dTi-ft6', 'dTi-ft7', 'dTi-ft8', \n",
    "          'flux-Te-ft1', 'flux-Te-ft2', 'flux-Te-ft3', 'flux-Te-ft4', \n",
    "          'flux-Te-ft5', 'flux-Te-ft6', 'flux-Te-ft7', 'flux-Te-ft8', \n",
    "          'flux-Ti-ft1', 'flux-Ti-ft2', 'flux-Ti-ft3', 'flux-Ti-ft4', \n",
    "          'flux-Ti-ft5', 'flux-Ti-ft6', 'flux-Ti-ft7', 'flux-Ti-ft8']\n",
    "active_t = []\n",
    "active_t.append(['time', 'Te-ft1', 'dTe-ft1', 'Ti-ft1', 'dTi-ft1', 'flux-Te-ft1', 'flux-Ti-ft1'])\n",
    "active_t.append(['time', 'Te-ft2', 'dTe-ft2', 'Ti-ft2', 'dTi-ft2', 'flux-Te-ft2', 'flux-Ti-ft2'])\n",
    "active_t.append(['time', 'Te-ft3', 'dTe-ft3', 'Ti-ft3', 'dTi-ft3', 'flux-Te-ft3', 'flux-Ti-ft3'])\n",
    "active_t.append(['time', 'Te-ft4', 'dTe-ft4', 'Ti-ft4', 'dTi-ft4', 'flux-Te-ft4', 'flux-Ti-ft4'])\n",
    "active_t.append(['time', 'Te-ft5', 'dTe-ft5', 'Ti-ft5', 'dTi-ft5', 'flux-Te-ft5', 'flux-Ti-ft5'])\n",
    "active_t.append(['time', 'Te-ft6', 'dTe-ft6', 'Ti-ft6', 'dTi-ft6', 'flux-Te-ft6', 'flux-Ti-ft6'])\n",
    "active_t.append(['time', 'Te-ft7', 'dTe-ft7', 'Ti-ft7', 'dTi-ft7', 'flux-Te-ft7', 'flux-Ti-ft7'])\n",
    "active_t.append(['time', 'Te-ft8', 'dTe-ft8', 'Ti-ft8', 'dTi-ft8', 'flux-Te-ft8', 'flux-Ti-ft8'])"
   ]
  },
  {
   "cell_type": "code",
   "execution_count": null,
   "metadata": {
    "ExecuteTime": {
     "end_time": "2020-08-14T19:32:02.849439Z",
     "start_time": "2020-08-14T19:32:02.776011Z"
    }
   },
   "outputs": [],
   "source": [
    "# read the data from the AUG single flux tube UQ runs\n",
    "G = pd.read_csv('../../data/gem_uq_inoutput.csv')\n",
    "G.describe().T"
   ]
  },
  {
   "cell_type": "code",
   "execution_count": null,
   "metadata": {
    "ExecuteTime": {
     "end_time": "2020-08-14T19:32:02.864546Z",
     "start_time": "2020-08-14T19:32:02.855075Z"
    }
   },
   "outputs": [],
   "source": [
    "# setup some column groups \n",
    "Te_cols = ['Te-ft1', 'Te-ft2', 'Te-ft3', 'Te-ft4', 'Te-ft5', 'Te-ft6', 'Te-ft7', 'Te-ft8']\n",
    "Ti_cols = ['Ti-ft1', 'Ti-ft2', 'Ti-ft3', 'Ti-ft4', 'Ti-ft5', 'Ti-ft6', 'Ti-ft7', 'Ti-ft8']\n",
    "dTe_cols = ['dTe-ft1', 'dTe-ft2', 'dTe-ft3', 'dTe-ft4', 'dTe-ft5', 'dTe-ft6', 'dTe-ft7', 'dTe-ft8']\n",
    "dTi_cols = ['dTi-ft1', 'dTi-ft2', 'dTi-ft3', 'dTi-ft4', 'dTi-ft5', 'dTi-ft6', 'dTi-ft7', 'dTi-ft8']\n",
    "Te_flux_cols = ['flux-Te-ft1', 'flux-Te-ft2', 'flux-Te-ft3', 'flux-Te-ft4', \n",
    "                'flux-Te-ft5', 'flux-Te-ft6', 'flux-Te-ft7', 'flux-Te-ft8'] \n",
    "Ti_flux_cols = ['flux-Ti-ft1', 'flux-Ti-ft2', 'flux-Ti-ft3', 'flux-Ti-ft4', \n",
    "                'flux-Ti-ft5', 'flux-Ti-ft6', 'flux-Ti-ft7', 'flux-Ti-ft8']"
   ]
  },
  {
   "cell_type": "code",
   "execution_count": null,
   "metadata": {
    "ExecuteTime": {
     "end_time": "2020-08-14T19:33:46.319786Z",
     "start_time": "2020-08-14T19:32:02.884159Z"
    },
    "scrolled": false
   },
   "outputs": [],
   "source": [
    "# loop over the flux tubes (complete data set, every 100th data point)\n",
    "for t in active_t:\n",
    "    axes = pd.plotting.scatter_matrix(AUG_gem.iloc[::100][t], alpha=0.5, diagonal='hist', figsize=(7,4))\n",
    "    corr = np.array(AUG_gem[::100][t].corr())\n",
    "    for i, j in zip(*plt.np.triu_indices_from(axes, k=1)):\n",
    "        axes[i, j].annotate(\"%.3f\" %corr[i,j], (0.8, 0.8), xycoords='axes fraction', ha='center', va='center')\n",
    "    plt.figure(figsize=(7,4))\n",
    "    plt.imshow(corr, cmap='RdBu_r', vmin=-1, vmax=+1)\n",
    "    plt.xticks(np.arange(corr.shape[0]), t, rotation=90);\n",
    "    plt.yticks(np.arange(corr.shape[1]), t);\n",
    "    plt.colorbar();"
   ]
  },
  {
   "cell_type": "code",
   "execution_count": null,
   "metadata": {
    "ExecuteTime": {
     "end_time": "2020-08-14T19:35:04.140162Z",
     "start_time": "2020-08-14T19:33:46.326579Z"
    },
    "scrolled": false
   },
   "outputs": [],
   "source": [
    "# loop over the flux tubes (starting from 4000th point, every 10th data point)\n",
    "for t in active_t:\n",
    "    axes = pd.plotting.scatter_matrix(AUG_gem.iloc[4000::10][t], alpha=0.5, diagonal='hist', figsize=(7,4))\n",
    "    corr = np.array(AUG_gem[4000::10][t].corr())\n",
    "    for i, j in zip(*plt.np.triu_indices_from(axes, k=1)):\n",
    "        axes[i, j].annotate(\"%.3f\" %corr[i,j], (0.8, 0.8), xycoords='axes fraction', ha='center', va='center')\n",
    "    plt.figure(figsize=(7,4))\n",
    "    plt.imshow(corr, cmap='RdBu_r', vmin=-1, vmax=+1)\n",
    "    plt.xticks(np.arange(corr.shape[0]), t, rotation=90);\n",
    "    plt.yticks(np.arange(corr.shape[1]), t);\n",
    "    plt.colorbar();"
   ]
  },
  {
   "cell_type": "code",
   "execution_count": null,
   "metadata": {
    "ExecuteTime": {
     "end_time": "2020-08-14T19:35:08.014570Z",
     "start_time": "2020-08-14T19:35:04.145920Z"
    }
   },
   "outputs": [],
   "source": [
    "# worryingly we see a trend in time for flux-Te-ft1\n",
    "\n",
    "# let's plot the electron and ion energy fluxes\n",
    "AUG_gem.plot(x='time', y=Te_flux_cols, logy=True);\n",
    "AUG_gem.plot(x='time', y=Ti_flux_cols, logy=True);"
   ]
  },
  {
   "cell_type": "code",
   "execution_count": null,
   "metadata": {
    "ExecuteTime": {
     "end_time": "2020-08-14T19:35:11.578534Z",
     "start_time": "2020-08-14T19:35:08.019048Z"
    }
   },
   "outputs": [],
   "source": [
    "# let's do some averaging\n",
    "from numba import jit\n",
    "from numba import float64\n",
    "from numba import int64\n",
    "@jit((float64[:], float64), nopython=True, nogil=True)\n",
    "def _ewma(arr_in, alpha):\n",
    "    r\"\"\"Exponentialy weighted moving average specified by a decay parameter\n",
    "\n",
    "        y[t] = (x[t] + (1-a)*x[t-1] + (1-a)^2*x[t-2] + ... + (1-a)^n*x[t-n]) /\n",
    "               (1 + (1-a) + (1-a)^2 + ... + (1-a)^n).\n",
    "\n",
    "    Parameters\n",
    "    ----------\n",
    "    arr_in : np.ndarray, float64\n",
    "        A single dimenisional numpy array\n",
    "    alpha : int64\n",
    "        The decay parameter\n",
    "\n",
    "    Returns\n",
    "    -------\n",
    "    np.ndarray\n",
    "        The EWMA vector, same length / shape as ``arr_in``\n",
    "    \"\"\"\n",
    "    n = arr_in.shape[0]\n",
    "    ewma = np.empty(n, dtype=float64)\n",
    "    w = 1\n",
    "    ewma_old = arr_in[0]\n",
    "    ewma[0] = ewma_old\n",
    "    for i in range(1, n):\n",
    "        w += (1-alpha)**i\n",
    "        ewma_old = ewma_old*(1-alpha) + arr_in[i]\n",
    "        ewma[i] = ewma_old / w\n",
    "    return ewma"
   ]
  },
  {
   "cell_type": "code",
   "execution_count": null,
   "metadata": {
    "ExecuteTime": {
     "end_time": "2020-08-14T19:35:12.202898Z",
     "start_time": "2020-08-14T19:35:11.581259Z"
    }
   },
   "outputs": [],
   "source": [
    "# smoothed electron energy fluxes\n",
    "plt.figure()\n",
    "for c in Te_flux_cols:\n",
    "    plt.plot(AUG_gem.time, _ewma(np.array(AUG_gem[c]), 1e-3), label=c)\n",
    "plt.legend(loc=0, ncol=2)\n",
    "plt.ylim(0,1e5)\n",
    "plt.xlabel('time [s]')\n",
    "plt.ylabel('electron energy flux density [W m^{-2}]')\n",
    "plt.title('smoothing alpha = 1e-3')"
   ]
  },
  {
   "cell_type": "code",
   "execution_count": null,
   "metadata": {
    "ExecuteTime": {
     "end_time": "2020-08-14T19:35:12.871487Z",
     "start_time": "2020-08-14T19:35:12.206615Z"
    }
   },
   "outputs": [],
   "source": [
    "# smoothed ion energy fluxes\n",
    "plt.figure()\n",
    "for c in Ti_flux_cols:\n",
    "    plt.plot(AUG_gem.time, _ewma(np.array(AUG_gem[c]), float64(1e-3)), label=c)\n",
    "plt.legend(loc=0, ncol=2)\n",
    "plt.ylim(0,1.3e5)\n",
    "plt.xlabel('time [s]')\n",
    "plt.ylabel('ion energy flux density [W m^{-2}]')\n",
    "plt.title('smoothing alpha = 1e-3')"
   ]
  },
  {
   "cell_type": "code",
   "execution_count": null,
   "metadata": {
    "ExecuteTime": {
     "end_time": "2020-08-14T19:35:12.900891Z",
     "start_time": "2020-08-14T19:35:12.881097Z"
    }
   },
   "outputs": [],
   "source": [
    "# analyze a column group\n",
    "def analyze(AUG_columns, uq_columns, xlabel):\n",
    "    AUG_gem.plot(x='time', y=AUG_columns);\n",
    "\n",
    "    AUG_gem.iloc[4000:].plot(x='time', y=AUG_columns);\n",
    "\n",
    "    fig, ax = plt.subplots()\n",
    "    cols = AUG_columns.copy()\n",
    "    for c in cols:\n",
    "        AUG_gem.hist(column=c, alpha=0.25, ax=ax, density=True)\n",
    "    G.hist(column=uq_columns, alpha=0.75, ax=ax, density=True)\n",
    "    cols.append(uq_columns)\n",
    "    plt.legend(cols, ncol=3)\n",
    "    plt.xlabel(xlabel)\n",
    "    plt.title(\"all rows\");\n",
    "    \n",
    "    fig, ax = plt.subplots()\n",
    "    cols = AUG_columns.copy()\n",
    "    for c in cols:\n",
    "        AUG_gem.iloc[4000:].hist(column=c, alpha=0.25, ax=ax, density=True)\n",
    "    G.hist(column=uq_columns, alpha=0.75, ax=ax, density=True)\n",
    "    cols.append(uq_columns)\n",
    "    plt.legend(cols, ncol=3)\n",
    "    plt.xlabel(xlabel)\n",
    "    plt.title(\"from row 4000 onwards\");"
   ]
  },
  {
   "cell_type": "code",
   "execution_count": null,
   "metadata": {
    "ExecuteTime": {
     "end_time": "2020-08-14T19:35:16.560216Z",
     "start_time": "2020-08-14T19:35:12.906649Z"
    }
   },
   "outputs": [],
   "source": [
    "analyze(Te_cols, 'te_value', 'Te [eV]')\n",
    "print(\"\"\"\n",
    "* from about 4000 onwards Te is in a quasi steady-state\n",
    "* the Te choices for the UQ are too wide for a single flux tube\n",
    "* the Te choices are not wide enough for all of the flux tubes \n",
    "  (which wouldn't make sense since other things also change)\n",
    "\"\"\")"
   ]
  },
  {
   "cell_type": "code",
   "execution_count": null,
   "metadata": {
    "ExecuteTime": {
     "end_time": "2020-08-14T19:35:20.157038Z",
     "start_time": "2020-08-14T19:35:16.566251Z"
    }
   },
   "outputs": [],
   "source": [
    "analyze(dTe_cols, 'te_ddrho', 'd/drho Te [eV/m]')\n",
    "print(\"\"\"\n",
    "* dTe is much noiser than Te!\n",
    "* from about 4000 onwards Te is in a quasi steady-state\n",
    "* the dTe choices seem to be a bit narrow given the nose levels\n",
    "\"\"\")"
   ]
  },
  {
   "cell_type": "code",
   "execution_count": null,
   "metadata": {
    "ExecuteTime": {
     "end_time": "2020-08-14T19:35:23.760027Z",
     "start_time": "2020-08-14T19:35:20.163464Z"
    }
   },
   "outputs": [],
   "source": [
    "analyze(Ti_cols, 'ti_value', 'Ti [eV]')\n",
    "print(\"\"\"\n",
    "* Ti seems to be noisier than Te (limiting only applied to Te?)\n",
    "* from about 4000 onwards Ti is in a quasi steady-state\n",
    "* the Ti choices for the UQ are too wide for a single flux tube\n",
    "* the Ti choices are not wide enough for all of the flux tubes \n",
    "  (which wouldn't make sense since other things also change)\n",
    "\"\"\")"
   ]
  },
  {
   "cell_type": "code",
   "execution_count": null,
   "metadata": {
    "ExecuteTime": {
     "end_time": "2020-08-14T19:35:27.799419Z",
     "start_time": "2020-08-14T19:35:23.767033Z"
    }
   },
   "outputs": [],
   "source": [
    "analyze(dTi_cols, 'ti_ddrho', 'd/drho Ti [eV/m]')\n",
    "print(\"\"\"\n",
    "* dTi is much noiser than Ti and dTe!\n",
    "* from about 4000 onwards dTi is perhaps in a quasi steady-state\n",
    "* the dTi choices seem to be a bit narrow given the nose levels\n",
    "* probably need to re-do analysis with limiting of deltas for (Te, dTe, Ti, dTi)\n",
    "\"\"\")"
   ]
  }
 ],
 "metadata": {
  "kernelspec": {
   "display_name": "Python 3",
   "language": "python",
   "name": "python3"
  },
  "language_info": {
   "codemirror_mode": {
    "name": "ipython",
    "version": 3
   },
   "file_extension": ".py",
   "mimetype": "text/x-python",
   "name": "python",
   "nbconvert_exporter": "python",
   "pygments_lexer": "ipython3",
   "version": "3.7.3"
  }
 },
 "nbformat": 4,
 "nbformat_minor": 4
}
