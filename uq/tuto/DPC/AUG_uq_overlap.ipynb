{
 "cells": [
  {
   "cell_type": "code",
   "execution_count": null,
   "metadata": {
    "ExecuteTime": {
     "end_time": "2020-08-14T09:26:05.918623Z",
     "start_time": "2020-08-14T09:26:04.481781Z"
    }
   },
   "outputs": [],
   "source": [
    "%matplotlib inline\n",
    "#%matplotlib notebook\n",
    "import os\n",
    "import matplotlib\n",
    "if not os.getenv(\"DISPLAY\"): matplotlib.use('Agg')\n",
    "import matplotlib.pylab as plt\n",
    "from IPython.display import set_matplotlib_formats\n",
    "set_matplotlib_formats('png', 'pdf')\n",
    "import numpy as np\n",
    "import pandas as pd\n",
    "pd.options.display.max_rows = 100"
   ]
  },
  {
   "cell_type": "code",
   "execution_count": null,
   "metadata": {
    "ExecuteTime": {
     "end_time": "2020-08-14T09:26:08.057530Z",
     "start_time": "2020-08-14T09:26:05.924420Z"
    }
   },
   "outputs": [],
   "source": [
    "# read the data from the AUG workflow runs\n",
    "AUG_gem = pd.read_table('../../data/AUG_gem_inoutput.txt', delimiter='  *', engine='python') \n",
    "AUG_gem.describe().T"
   ]
  },
  {
   "cell_type": "code",
   "execution_count": null,
   "metadata": {
    "ExecuteTime": {
     "end_time": "2020-08-14T09:26:08.186211Z",
     "start_time": "2020-08-14T09:26:08.063807Z"
    }
   },
   "outputs": [],
   "source": [
    "# read the data from the AUG single flux tube UQ runs\n",
    "G = pd.read_csv('../../data/gem_uq_inoutput.csv')\n",
    "G.describe().T"
   ]
  },
  {
   "cell_type": "code",
   "execution_count": null,
   "metadata": {
    "ExecuteTime": {
     "end_time": "2020-08-14T09:26:08.218914Z",
     "start_time": "2020-08-14T09:26:08.194620Z"
    }
   },
   "outputs": [],
   "source": [
    "# setup some column groups \n",
    "Te_cols = ['Te-ft1', 'Te-ft2', 'Te-ft3', 'Te-ft4', 'Te-ft5', 'Te-ft6', 'Te-ft7', 'Te-ft8']\n",
    "Ti_cols = ['Ti-ft1', 'Ti-ft2', 'Ti-ft3', 'Ti-ft4', 'Ti-ft5', 'Ti-ft6', 'Ti-ft7', 'Ti-ft8']\n",
    "dTe_cols = ['dTe-ft1', 'dTe-ft2', 'dTe-ft3', 'dTe-ft4', 'dTe-ft5', 'dTe-ft6', 'dTe-ft7', 'dTe-ft8']\n",
    "dTi_cols = ['dTi-ft1', 'dTi-ft2', 'dTi-ft3', 'dTi-ft4', 'dTi-ft5', 'dTi-ft6', 'dTi-ft7', 'dTi-ft8']"
   ]
  },
  {
   "cell_type": "code",
   "execution_count": null,
   "metadata": {
    "ExecuteTime": {
     "end_time": "2020-08-14T09:26:08.255207Z",
     "start_time": "2020-08-14T09:26:08.236387Z"
    }
   },
   "outputs": [],
   "source": [
    "AUG_gem.iloc[::100].shape"
   ]
  },
  {
   "cell_type": "code",
   "execution_count": null,
   "metadata": {
    "ExecuteTime": {
     "end_time": "2020-08-14T09:26:08.295833Z",
     "start_time": "2020-08-14T09:26:08.269811Z"
    }
   },
   "outputs": [],
   "source": [
    "#axes = pd.plotting.scatter_matrix(AUG_gem.iloc[::100], alpha=0.5, diagonal='hist', figsize=(8,6))\n",
    "#corr = np.array(AUG_gem[::100].corr())\n",
    "#for i, j in zip(*plt.np.triu_indices_from(axes, k=1)):\n",
    "#    axes[i, j].annotate(\"%.3f\" %corr[i,j], (0.8, 0.8), xycoords='axes fraction', ha='center', va='center')\n",
    "#plt.show()"
   ]
  },
  {
   "cell_type": "code",
   "execution_count": null,
   "metadata": {
    "ExecuteTime": {
     "end_time": "2020-08-14T09:26:08.344230Z",
     "start_time": "2020-08-14T09:26:08.307140Z"
    }
   },
   "outputs": [],
   "source": [
    "# analyze a column group\n",
    "def analyze(AUG_columns, uq_columns, xlabel):\n",
    "    AUG_gem.plot(x='time', y=AUG_columns);\n",
    "\n",
    "    AUG_gem.iloc[4000:].plot(x='time', y=AUG_columns);\n",
    "\n",
    "    fig, ax = plt.subplots()\n",
    "    cols = AUG_columns.copy()\n",
    "    for c in cols:\n",
    "        AUG_gem.hist(column=c, alpha=0.25, ax=ax, density=True)\n",
    "    G.hist(column=uq_columns, alpha=0.75, ax=ax, density=True)\n",
    "    cols.append(uq_columns)\n",
    "    plt.legend(cols, ncol=3)\n",
    "    plt.xlabel(xlabel)\n",
    "    plt.title(\"all rows\");\n",
    "    \n",
    "    fig, ax = plt.subplots()\n",
    "    cols = AUG_columns.copy()\n",
    "    for c in cols:\n",
    "        AUG_gem.iloc[4000:].hist(column=c, alpha=0.25, ax=ax, density=True)\n",
    "    G.hist(column=uq_columns, alpha=0.75, ax=ax, density=True)\n",
    "    cols.append(uq_columns)\n",
    "    plt.legend(cols, ncol=3)\n",
    "    plt.xlabel(xlabel)\n",
    "    plt.title(\"from row 4000 onwards\");"
   ]
  },
  {
   "cell_type": "code",
   "execution_count": null,
   "metadata": {
    "ExecuteTime": {
     "end_time": "2020-08-14T09:26:19.209501Z",
     "start_time": "2020-08-14T09:26:08.362273Z"
    }
   },
   "outputs": [],
   "source": [
    "analyze(Te_cols, 'te_value', 'Te [eV]')\n",
    "print(\"\"\"\n",
    "* from about 4000 onwards Te is in a quasi steady-state\n",
    "* the Te choices for the UQ are too wide for a single flux tube\n",
    "* the Te choices are not wide enough for all of the flux tubes \n",
    "  (which wouldn't make sense since other things also change)\n",
    "\"\"\")"
   ]
  },
  {
   "cell_type": "code",
   "execution_count": null,
   "metadata": {
    "ExecuteTime": {
     "end_time": "2020-08-14T09:26:29.979437Z",
     "start_time": "2020-08-14T09:26:19.215746Z"
    }
   },
   "outputs": [],
   "source": [
    "analyze(dTe_cols, 'te_ddrho', 'd/drho Te [eV/m]')\n",
    "print(\"\"\"\n",
    "* dTe is much noiser than Te!\n",
    "* from about 4000 onwards Te is in a quasi steady-state\n",
    "* the dTe choices seem to be a bit narrow given the nose levels\n",
    "\"\"\")"
   ]
  },
  {
   "cell_type": "code",
   "execution_count": null,
   "metadata": {
    "ExecuteTime": {
     "end_time": "2020-08-14T09:26:41.442810Z",
     "start_time": "2020-08-14T09:26:29.986383Z"
    }
   },
   "outputs": [],
   "source": [
    "analyze(Ti_cols, 'ti_value', 'Ti [eV]')\n",
    "print(\"\"\"\n",
    "* Ti seems to be noisier than Te (limiting only applied to Te?)\n",
    "* from about 4000 onwards Ti is in a quasi steady-state\n",
    "* the Ti choices for the UQ are too wide for a single flux tube\n",
    "* the Ti choices are not wide enough for all of the flux tubes \n",
    "  (which wouldn't make sense since other things also change)\n",
    "\"\"\")"
   ]
  },
  {
   "cell_type": "code",
   "execution_count": null,
   "metadata": {
    "ExecuteTime": {
     "end_time": "2020-08-14T09:26:53.299594Z",
     "start_time": "2020-08-14T09:26:41.478081Z"
    }
   },
   "outputs": [],
   "source": [
    "analyze(dTi_cols, 'ti_ddrho', 'd/drho Ti [eV/m]')\n",
    "print(\"\"\"\n",
    "* dTi is much noiser than Ti and dTe!\n",
    "* from about 4000 onwards dTi is perhaps in a quasi steady-state\n",
    "* the dTi choices seem to be a bit narrow given the nose levels\n",
    "* probably need to re-do analysis with limiting of deltas for (Te, dTe, Ti, dTi)\n",
    "\"\"\")"
   ]
  }
 ],
 "metadata": {
  "kernelspec": {
   "display_name": "Python 3",
   "language": "python",
   "name": "python3"
  },
  "language_info": {
   "codemirror_mode": {
    "name": "ipython",
    "version": 3
   },
   "file_extension": ".py",
   "mimetype": "text/x-python",
   "name": "python",
   "nbconvert_exporter": "python",
   "pygments_lexer": "ipython3",
   "version": "3.8.5"
  }
 },
 "nbformat": 4,
 "nbformat_minor": 4
}
