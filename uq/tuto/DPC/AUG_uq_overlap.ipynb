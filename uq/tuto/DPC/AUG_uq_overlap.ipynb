{
 "cells": [
  {
   "cell_type": "markdown",
   "metadata": {
    "slideshow": {
     "slide_type": "slide"
    }
   },
   "source": [
    "# Explore the AUG workflow and single flux tube UQ data sets\n",
    "\n",
    "- this uses \n",
    "  - uq/data/AUG_gem_inoutput.txt for the WF data\n",
    "    - with limits on Te and dTe\n",
    "  - uq/data/gem_uq_inoutput.csv for the single flux tube UQ data"
   ]
  },
  {
   "cell_type": "markdown",
   "metadata": {
    "ExecuteTime": {
     "end_time": "2020-08-15T12:19:21.864321Z",
     "start_time": "2020-08-15T12:19:21.861536Z"
    },
    "slideshow": {
     "slide_type": "slide"
    }
   },
   "source": [
    "## A fairly standard set of imports"
   ]
  },
  {
   "cell_type": "code",
   "execution_count": null,
   "metadata": {
    "ExecuteTime": {
     "end_time": "2020-08-25T11:31:00.189694Z",
     "start_time": "2020-08-25T11:30:55.025009Z"
    }
   },
   "outputs": [],
   "source": [
    "%matplotlib inline\n",
    "#%matplotlib notebook\n",
    "import os\n",
    "import matplotlib\n",
    "if not os.getenv(\"DISPLAY\"): matplotlib.use('Agg')\n",
    "import matplotlib.pylab as plt\n",
    "from IPython.display import set_matplotlib_formats\n",
    "set_matplotlib_formats('png', 'pdf')\n",
    "import numpy as np\n",
    "import pandas as pd\n",
    "pd.options.display.max_rows = 100\n",
    "from utility import plot_correlations, _ewma, plot_smoothed, plot_unsmoothed, analyze"
   ]
  },
  {
   "cell_type": "markdown",
   "metadata": {
    "slideshow": {
     "slide_type": "slide"
    }
   },
   "source": [
    "## Read and examine the workflow data"
   ]
  },
  {
   "cell_type": "code",
   "execution_count": null,
   "metadata": {
    "ExecuteTime": {
     "end_time": "2020-08-25T11:31:02.691878Z",
     "start_time": "2020-08-25T11:31:00.208530Z"
    }
   },
   "outputs": [],
   "source": [
    "# read the data from the AUG workflow runs\n",
    "AUG_gem = pd.read_table('../../data/AUG_gem_inoutput.txt', delimiter='  *', engine='python') \n",
    "AUG_gem.describe().T"
   ]
  },
  {
   "cell_type": "markdown",
   "metadata": {
    "slideshow": {
     "slide_type": "slide"
    }
   },
   "source": [
    "### Set up some column selections"
   ]
  },
  {
   "cell_type": "code",
   "execution_count": null,
   "metadata": {
    "ExecuteTime": {
     "end_time": "2020-08-25T11:31:02.725178Z",
     "start_time": "2020-08-25T11:31:02.707341Z"
    }
   },
   "outputs": [],
   "source": [
    "AUG_gem.columns\n",
    "active_t = []\n",
    "active_t.append(['time', 'Te-ft1', 'dTe-ft1', 'Ti-ft1', 'dTi-ft1', 'flux-Te-ft1', 'flux-Ti-ft1'])\n",
    "active_t.append(['time', 'Te-ft2', 'dTe-ft2', 'Ti-ft2', 'dTi-ft2', 'flux-Te-ft2', 'flux-Ti-ft2'])\n",
    "active_t.append(['time', 'Te-ft3', 'dTe-ft3', 'Ti-ft3', 'dTi-ft3', 'flux-Te-ft3', 'flux-Ti-ft3'])\n",
    "active_t.append(['time', 'Te-ft4', 'dTe-ft4', 'Ti-ft4', 'dTi-ft4', 'flux-Te-ft4', 'flux-Ti-ft4'])\n",
    "active_t.append(['time', 'Te-ft5', 'dTe-ft5', 'Ti-ft5', 'dTi-ft5', 'flux-Te-ft5', 'flux-Ti-ft5'])\n",
    "active_t.append(['time', 'Te-ft6', 'dTe-ft6', 'Ti-ft6', 'dTi-ft6', 'flux-Te-ft6', 'flux-Ti-ft6'])\n",
    "active_t.append(['time', 'Te-ft7', 'dTe-ft7', 'Ti-ft7', 'dTi-ft7', 'flux-Te-ft7', 'flux-Ti-ft7'])\n",
    "active_t.append(['time', 'Te-ft8', 'dTe-ft8', 'Ti-ft8', 'dTi-ft8', 'flux-Te-ft8', 'flux-Ti-ft8'])"
   ]
  },
  {
   "cell_type": "markdown",
   "metadata": {
    "slideshow": {
     "slide_type": "slide"
    }
   },
   "source": [
    "## Read and examine the UQ data"
   ]
  },
  {
   "cell_type": "code",
   "execution_count": null,
   "metadata": {
    "ExecuteTime": {
     "end_time": "2020-08-25T11:31:02.895811Z",
     "start_time": "2020-08-25T11:31:02.742668Z"
    }
   },
   "outputs": [],
   "source": [
    "# read the data from the AUG single flux tube UQ runs\n",
    "G = pd.read_csv('../../data/gem_uq_inoutput.csv')\n",
    "G.describe().T"
   ]
  },
  {
   "cell_type": "markdown",
   "metadata": {
    "slideshow": {
     "slide_type": "slide"
    }
   },
   "source": [
    "### Set up some column selections"
   ]
  },
  {
   "cell_type": "code",
   "execution_count": null,
   "metadata": {
    "ExecuteTime": {
     "end_time": "2020-08-25T11:31:02.940766Z",
     "start_time": "2020-08-25T11:31:02.911709Z"
    }
   },
   "outputs": [],
   "source": [
    "# setup some column groups \n",
    "Te_cols = ['Te-ft1', 'Te-ft2', 'Te-ft3', 'Te-ft4', 'Te-ft5', 'Te-ft6', 'Te-ft7', 'Te-ft8']\n",
    "Ti_cols = ['Ti-ft1', 'Ti-ft2', 'Ti-ft3', 'Ti-ft4', 'Ti-ft5', 'Ti-ft6', 'Ti-ft7', 'Ti-ft8']\n",
    "dTe_cols = ['dTe-ft1', 'dTe-ft2', 'dTe-ft3', 'dTe-ft4', 'dTe-ft5', 'dTe-ft6', 'dTe-ft7', 'dTe-ft8']\n",
    "dTi_cols = ['dTi-ft1', 'dTi-ft2', 'dTi-ft3', 'dTi-ft4', 'dTi-ft5', 'dTi-ft6', 'dTi-ft7', 'dTi-ft8']\n",
    "Te_flux_cols = ['flux-Te-ft1', 'flux-Te-ft2', 'flux-Te-ft3', 'flux-Te-ft4', \n",
    "                'flux-Te-ft5', 'flux-Te-ft6', 'flux-Te-ft7', 'flux-Te-ft8'] \n",
    "Ti_flux_cols = ['flux-Ti-ft1', 'flux-Ti-ft2', 'flux-Ti-ft3', 'flux-Ti-ft4', \n",
    "                'flux-Ti-ft5', 'flux-Ti-ft6', 'flux-Ti-ft7', 'flux-Ti-ft8']"
   ]
  },
  {
   "cell_type": "markdown",
   "metadata": {
    "ExecuteTime": {
     "end_time": "2020-08-15T13:03:43.226502Z",
     "start_time": "2020-08-15T13:03:43.221791Z"
    },
    "slideshow": {
     "slide_type": "slide"
    }
   },
   "source": [
    "## Plot the correlations for the various flux tubes (complete data set, every 100th data point)"
   ]
  },
  {
   "cell_type": "code",
   "execution_count": null,
   "metadata": {
    "ExecuteTime": {
     "end_time": "2020-08-25T11:33:02.550115Z",
     "start_time": "2020-08-25T11:31:02.950609Z"
    },
    "scrolled": true
   },
   "outputs": [],
   "source": [
    "plot_correlations(AUG_gem.iloc[::100], active_t)"
   ]
  },
  {
   "cell_type": "markdown",
   "metadata": {
    "slideshow": {
     "slide_type": "slide"
    }
   },
   "source": [
    "## Plot the correlations for the various flux tubes (starting from 4000th point, every 10th data point)"
   ]
  },
  {
   "cell_type": "code",
   "execution_count": null,
   "metadata": {
    "ExecuteTime": {
     "end_time": "2020-08-25T11:35:00.146556Z",
     "start_time": "2020-08-25T11:33:02.578374Z"
    },
    "scrolled": true
   },
   "outputs": [],
   "source": [
    "plot_correlations(AUG_gem.iloc[4000::10], active_t)"
   ]
  },
  {
   "cell_type": "markdown",
   "metadata": {
    "slideshow": {
     "slide_type": "-"
    }
   },
   "source": [
    "**Worryingly we see a trend in time for flux-Te-ft1**"
   ]
  },
  {
   "cell_type": "markdown",
   "metadata": {
    "slideshow": {
     "slide_type": "slide"
    }
   },
   "source": [
    "\n",
    "## Let's plot energy fluxes, \n",
    "### Unsmoothed electron and ion energy fluxes"
   ]
  },
  {
   "cell_type": "code",
   "execution_count": null,
   "metadata": {
    "ExecuteTime": {
     "end_time": "2020-08-25T11:35:06.543988Z",
     "start_time": "2020-08-25T11:35:00.166004Z"
    }
   },
   "outputs": [],
   "source": [
    "plot_unsmoothed(\n",
    "    [{\"data\": AUG_gem, \"style\": '-'}],\n",
    "    [{\"cols\": Te_flux_cols, \"label\": 'electron energy flux density [W m^{-2}]', \"limit\": (1e2,1e6)},\n",
    "     {\"cols\": Ti_flux_cols, \"label\": 'ion energy flux density [W m^{-2}]', \"limit\": (1e2,1e6)}],\n",
    "    logy=True)"
   ]
  },
  {
   "cell_type": "markdown",
   "metadata": {
    "slideshow": {
     "slide_type": "slide"
    }
   },
   "source": [
    "### Smoothed electron and ion energy fluxes"
   ]
  },
  {
   "cell_type": "code",
   "execution_count": null,
   "metadata": {
    "ExecuteTime": {
     "end_time": "2020-08-25T11:35:08.853307Z",
     "start_time": "2020-08-25T11:35:06.562359Z"
    }
   },
   "outputs": [],
   "source": [
    "plot_smoothed(\n",
    "    [{\"data\": AUG_gem, \"style\": '-'}],\n",
    "    [{\"cols\": Te_flux_cols, \"label\": 'electron energy flux density [W m^{-2}]', \"limit\": (0,0.7e5)},\n",
    "     {\"cols\": Ti_flux_cols, \"label\": 'ion energy flux density [W m^{-2}]', \"limit\": (0,1.2e5)}],\n",
    "    logy=False)"
   ]
  },
  {
   "cell_type": "markdown",
   "metadata": {
    "slideshow": {
     "slide_type": "slide"
    }
   },
   "source": [
    "## Now analyze column groups"
   ]
  },
  {
   "cell_type": "markdown",
   "metadata": {
    "slideshow": {
     "slide_type": "slide"
    }
   },
   "source": [
    "### Te"
   ]
  },
  {
   "cell_type": "code",
   "execution_count": null,
   "metadata": {
    "ExecuteTime": {
     "end_time": "2020-08-25T11:35:15.314748Z",
     "start_time": "2020-08-25T11:35:08.860339Z"
    },
    "scrolled": true
   },
   "outputs": [],
   "source": [
    "analyze(AUG_gem, Te_cols, G, 'te_value', 'Te [eV]', 4000)"
   ]
  },
  {
   "cell_type": "markdown",
   "metadata": {},
   "source": [
    "* from about 4000 onwards Te is in a quasi steady-state\n",
    "* the Te choices for the UQ are too wide for a single flux tube\n",
    "  * but not wide enough for all of the flux tubes \n",
    "  (which wouldn't make sense since other things also change)"
   ]
  },
  {
   "cell_type": "markdown",
   "metadata": {
    "slideshow": {
     "slide_type": "slide"
    }
   },
   "source": [
    "### d/drho Te"
   ]
  },
  {
   "cell_type": "code",
   "execution_count": null,
   "metadata": {
    "ExecuteTime": {
     "end_time": "2020-08-25T11:35:23.053510Z",
     "start_time": "2020-08-25T11:35:15.328935Z"
    },
    "scrolled": true
   },
   "outputs": [],
   "source": [
    "analyze(AUG_gem, dTe_cols, G, 'te_ddrho', 'd/drho Te [eV/m]', 4000)"
   ]
  },
  {
   "cell_type": "markdown",
   "metadata": {},
   "source": [
    "* dTe is much noisier than Te!\n",
    "* from about 4000 onwards Te is in a quasi steady-state\n",
    "* the dTe choices seem to be a bit narrow given the noise levels"
   ]
  },
  {
   "cell_type": "markdown",
   "metadata": {
    "slideshow": {
     "slide_type": "slide"
    }
   },
   "source": [
    "### Ti"
   ]
  },
  {
   "cell_type": "code",
   "execution_count": null,
   "metadata": {
    "ExecuteTime": {
     "end_time": "2020-08-25T11:35:28.060292Z",
     "start_time": "2020-08-25T11:35:23.057798Z"
    },
    "scrolled": true
   },
   "outputs": [],
   "source": [
    "analyze(AUG_gem, Ti_cols, G, 'ti_value', 'Ti [eV]', 4000)"
   ]
  },
  {
   "cell_type": "markdown",
   "metadata": {},
   "source": [
    "* Ti seems to be noisier than Te (limiting only applied to Te?)\n",
    "* from about 4000 onwards Ti is in a quasi steady-state\n",
    "* the Ti choices for the UQ are too wide for a single flux tube\n",
    "  * but not wide enough for all of the flux tubes \n",
    "  (which wouldn't make sense since other things also change)"
   ]
  },
  {
   "cell_type": "markdown",
   "metadata": {
    "slideshow": {
     "slide_type": "slide"
    }
   },
   "source": [
    "### d/drho Ti"
   ]
  },
  {
   "cell_type": "code",
   "execution_count": null,
   "metadata": {
    "ExecuteTime": {
     "end_time": "2020-08-25T11:35:33.146137Z",
     "start_time": "2020-08-25T11:35:28.084214Z"
    },
    "scrolled": true
   },
   "outputs": [],
   "source": [
    "analyze(AUG_gem, dTi_cols, G, 'ti_ddrho', 'd/drho Ti [eV/m]', 4000)"
   ]
  },
  {
   "cell_type": "markdown",
   "metadata": {},
   "source": [
    "* dTi is much noisier than Ti and dTe!\n",
    "* from about 4000 onwards dTi is perhaps in a quasi steady-state\n",
    "* the dTi choices seem to be a bit narrow given the noise levels\n",
    "* **probably need to re-do analysis with limiting of deltas for (Te, dTe, Ti, dTi)**"
   ]
  },
  {
   "cell_type": "markdown",
   "metadata": {
    "slideshow": {
     "slide_type": "slide"
    }
   },
   "source": [
    "# The End"
   ]
  }
 ],
 "metadata": {
  "celltoolbar": "Slideshow",
  "kernelspec": {
   "display_name": "Python 3",
   "language": "python",
   "name": "python3"
  },
  "language_info": {
   "codemirror_mode": {
    "name": "ipython",
    "version": 3
   },
   "file_extension": ".py",
   "mimetype": "text/x-python",
   "name": "python",
   "nbconvert_exporter": "python",
   "pygments_lexer": "ipython3",
   "version": "3.7.4"
  },
  "latex_envs": {
   "LaTeX_envs_menu_present": true,
   "autoclose": false,
   "autocomplete": true,
   "bibliofile": "biblio.bib",
   "cite_by": "apalike",
   "current_citInitial": 1,
   "eqLabelWithNumbers": true,
   "eqNumInitial": 1,
   "hotkeys": {
    "equation": "Ctrl-E",
    "itemize": "Ctrl-I"
   },
   "labels_anchors": false,
   "latex_user_defs": false,
   "report_style_numbering": false,
   "user_envs_cfg": false
  },
  "latex_metadata": {
   "affiliation": "Max Planck Institute for Plasma Physics, Garching, Germany",
   "author": "David P. Coster",
   "title": "VECMA Fusion Notebooks"
  }
 },
 "nbformat": 4,
 "nbformat_minor": 4
}
