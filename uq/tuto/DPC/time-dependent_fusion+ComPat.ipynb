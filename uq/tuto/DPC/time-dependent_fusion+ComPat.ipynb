{
 "cells": [
  {
   "cell_type": "markdown",
   "metadata": {},
   "source": [
    "Combining the fusion.py code with the ComPat stochastic inducer, II\n",
    "=======================================================\n",
    "Here we will not be running the fusion code to steady state, but for dt seconds and then updating the chi."
   ]
  },
  {
   "cell_type": "code",
   "execution_count": null,
   "metadata": {
    "ExecuteTime": {
     "end_time": "2020-07-31T09:16:38.050365Z",
     "start_time": "2020-07-31T09:16:23.329601Z"
    }
   },
   "outputs": [],
   "source": [
    "%matplotlib inline\n",
    "#notebook\n",
    "import numpy as np\n",
    "import fusion\n",
    "import ComPat\n",
    "import scipy.constants  \n",
    "eV = scipy.constants.eV\n",
    "import os\n",
    "import matplotlib\n",
    "if not os.getenv(\"DISPLAY\"): matplotlib.use('Agg')\n",
    "import matplotlib.pylab as plt\n",
    "from IPython.display import set_matplotlib_formats\n",
    "set_matplotlib_formats('png', 'pdf')\n",
    "\n",
    "import scipy.constants\n",
    "from fipy import Variable, FaceVariable, CellVariable, TransientTerm, DiffusionTerm, Viewer, meshes"
   ]
  },
  {
   "cell_type": "markdown",
   "metadata": {},
   "source": [
    "**fusion.solve_Te** solves\n",
    "\n",
    "$$\\frac{3}{2}\\frac{\\partial}{\\partial t}\\left(n(\\rho,t) T(\\rho,t)\\right) =\n",
    "    \\nabla_\\rho \\left[ n(\\rho,t) \\chi(\\rho,t) \\nabla_\\rho\n",
    "    (T(\\rho,t))\\right] + S(\\rho, t)$$\n",
    "\n",
    "with a boundary condition given by $Te_{bc}$ and an initial\n",
    "uniform temperatore of 1000 eV; the quantities are\n",
    "\n",
    "- $n(\\rho,t)$ characterizes the plasma density\n",
    "\n",
    "- $\\chi(\\rho,t)$ characterizes the thermal conductivity\n",
    "\n",
    "- $S(\\rho,t)$ characterizes the source\n",
    "\n",
    "The geometry of the simulation is characterised by the minor radius\n",
    "$a_0$, major radius $R_0$ and elongation $E_0$\n",
    "(while the geometry is solved in the cylindrical approximation, the\n",
    "actual radius used, $a$, is adjusted on the basis of $a_0$\n",
    "and $E_0$).\n",
    "\n",
    "These are the standard (default) settings for the fusion code except for setting dt=0.001 and plotting off."
   ]
  },
  {
   "cell_type": "code",
   "execution_count": null,
   "metadata": {
    "ExecuteTime": {
     "end_time": "2020-07-31T09:16:38.092346Z",
     "start_time": "2020-07-31T09:16:38.061574Z"
    }
   },
   "outputs": [],
   "source": [
    "Qe_tot=2e6        # heating power [W]\n",
    "H0=0              # position of Gaussian [-]\n",
    "Hw=0.1            # width of Gaussian [-]\n",
    "Te_bc=100         # outer edge Te boundary condition [eV]\n",
    "chi=1             # thermal diffusivity [m^2 s^{-1}]\n",
    "a0=1              # minor radius [m]\n",
    "R0=3              # major radius [m]\n",
    "E0=1.5            # ellipticity\n",
    "b_pos=0.98        # position of density pedestal [-]\n",
    "b_height=6e19     # height of density pedestal [m^-3]\n",
    "b_sol=2e19        # sol value for density pedestal [m^-3]\n",
    "b_width=0.01      # width of density pedestal [-]\n",
    "b_slope=0.01      # slope of density pedestal [?]\n",
    "nr=100            # number of radial grid points\n",
    "dt=0.01           # time-step [s]\n",
    "plots=False       # enable FiPy plots"
   ]
  },
  {
   "cell_type": "markdown",
   "metadata": {},
   "source": [
    "Set up the fusion model."
   ]
  },
  {
   "cell_type": "code",
   "execution_count": null,
   "metadata": {
    "ExecuteTime": {
     "end_time": "2020-07-31T09:16:38.574389Z",
     "start_time": "2020-07-31T09:16:38.125354Z"
    }
   },
   "outputs": [],
   "source": [
    "a = a0*np.sqrt(E0)\n",
    "V = 2*np.pi * 2*np.pi*R0\n",
    "mesh = meshes.CylindricalGrid1D(nr=nr, Lr=a)\n",
    "Te = CellVariable(name=\"Te\", mesh=mesh, value=1e3)\n",
    "ne = CellVariable(name=\"ne\", mesh=mesh, value=fusion.F_ped(mesh.cellCenters.value[0]/a, b_pos, b_height, b_sol, b_width, b_slope))\n",
    "Qe = CellVariable(name=\"Qe\", mesh=mesh, value=np.exp(-((mesh.cellCenters.value/a-H0)/(Hw))**2)[0])\n",
    "Qe = Qe * Qe_tot/((mesh.cellVolumes*Qe.value).sum() * V)\n",
    "\n",
    "Gi = np.cumsum(mesh.cellVolumes*Qe.value) / (mesh.cellCenters.value[0] + mesh.dx/2)\n",
    "Gi = np.append([Gi[0]/2],(Gi[1:]+Gi[:-1])/2)\n",
    "\n",
    "print('Volume = %s m^3' % (mesh.cellVolumes.sum() * V))\n",
    "print('Heating power = %0.3e W' % ((mesh.cellVolumes*Qe).sum() * V))\n",
    "\n",
    "Te.constrain(Te_bc, mesh.facesRight)"
   ]
  },
  {
   "cell_type": "markdown",
   "metadata": {},
   "source": [
    "Now set up the values for the stochastization model.\n",
    "\n",
    "Note that we are implementing the randomize model on the log of the fluxes!"
   ]
  },
  {
   "cell_type": "code",
   "execution_count": null,
   "metadata": {
    "ExecuteTime": {
     "end_time": "2020-07-31T09:16:38.619867Z",
     "start_time": "2020-07-31T09:16:38.587684Z"
    }
   },
   "outputs": [],
   "source": [
    "s2 = 0.2; s3 = 0.2; d2 = 10; d3 = 10\n",
    "N1 = 10; N2 = 90; N3 = 30\n",
    "l1 = np.log10(Gi[Gi.shape[0]//2])\n",
    "l2 = l1; l3 = l1\n",
    "x1 = l1; x2 = l1**2\n",
    "\n",
    "alpha = 0.01\n",
    "NITER = 1000\n",
    "T = dt*(np.arange(NITER)+1)"
   ]
  },
  {
   "cell_type": "markdown",
   "metadata": {},
   "source": [
    "Run the model for NITER steps.\n",
    "\n",
    "- the initial chi is the default (1.0)\n",
    "- one step is performed\n",
    "- the updated temperature profile is used to recalculate chi\n",
    "- another step is performed, chi is recalculated, and this is then repeated"
   ]
  },
  {
   "cell_type": "code",
   "execution_count": null,
   "metadata": {
    "ExecuteTime": {
     "end_time": "2020-07-31T09:22:01.756173Z",
     "start_time": "2020-07-31T09:16:38.637105Z"
    }
   },
   "outputs": [],
   "source": [
    "if plots: \n",
    "    viewer = Viewer(vars=(Te), title='Heating power = %0.3e W\\nchi = %s' % (Qe.cellVolumeAverage.value * V, chi), \n",
    "                    datamin=0, datamax=5000)\n",
    "\n",
    "chi_run = chi\n",
    "l1_c = x1/10\n",
    "x1_c = x1/10\n",
    "\n",
    "Te_history = []\n",
    "runs = {}\n",
    "for N in np.arange(0,NITER):\n",
    "    eqI = TransientTerm(coeff=scipy.constants.e*ne*1.5) == DiffusionTerm(coeff=scipy.constants.e*ne*chi_run) + Qe\n",
    "    eqI.solve(var=Te, dt=dt)\n",
    "    if plots: viewer.plot()\n",
    "    Te_history.append(Te.value.copy())\n",
    "#    Gd = -np.gradient(Te.value, mesh.cellCenters.value[0]) * ne.value * eV\n",
    "    runs[N] = {}\n",
    "    runs[N]['x'], runs[N]['mean'], runs[N]['std'], runs[N]['xrange'], runs[N]['x1'], runs[N]['x2'] = ComPat.randomize(N1, N2, N3, l1=l1_c, l2=l2, l3=l3, s2=s2, s3=s3, d2=d2, d3=d3, x1=x1_c, x2=x2, alpha=alpha)\n",
    "    x1_c = runs[N]['x1']\n",
    "    l1_c = x1_c\n",
    "#    runs[N]['chi'] = 10 ** runs[N]['x1'] / Gd[Gd.shape[0]//2]\n",
    "    runs[N]['chi'] = 10 ** runs[N]['x1'] / Gi[Gi.shape[0]//2]\n",
    "    chi_run = runs[N]['chi']"
   ]
  },
  {
   "cell_type": "markdown",
   "metadata": {},
   "source": [
    "## All Te profiles"
   ]
  },
  {
   "cell_type": "code",
   "execution_count": null,
   "metadata": {
    "ExecuteTime": {
     "end_time": "2020-07-31T09:22:14.756468Z",
     "start_time": "2020-07-31T09:22:01.769041Z"
    }
   },
   "outputs": [],
   "source": [
    "plt.figure()\n",
    "Te_all =  np.array(Te_history)\n",
    "plt.plot(mesh.cellCenters.value[0], Te_all.T)\n",
    "plt.xlabel('rho')\n",
    "plt.ylabel('Te')\n",
    "plt.title('dt = %s, alpha = %s, NITER = %s' % (dt, alpha, NITER))\n",
    "plt.savefig('Te_snapshots_dt=%s_alpha=%s.png' % (dt, alpha))"
   ]
  },
  {
   "cell_type": "markdown",
   "metadata": {},
   "source": [
    "## Central Te versus iteration number"
   ]
  },
  {
   "cell_type": "code",
   "execution_count": null,
   "metadata": {
    "ExecuteTime": {
     "end_time": "2020-07-31T09:22:16.185465Z",
     "start_time": "2020-07-31T09:22:14.771430Z"
    }
   },
   "outputs": [],
   "source": [
    "plt.figure()\n",
    "plt.plot(T, Te_all[:,0])\n",
    "plt.xlabel('Time [s]')\n",
    "plt.ylabel('Central Te [eV]')\n",
    "plt.title('dt = %s, alpha = %s' % (dt, alpha))\n",
    "plt.savefig('Te_0_dt=%s_alpha=%s.png' % (dt, alpha))"
   ]
  },
  {
   "cell_type": "markdown",
   "metadata": {},
   "source": [
    "## Flux versus the iteration number, together with steady state \"target\" flux (determined by integration of the source term)."
   ]
  },
  {
   "cell_type": "code",
   "execution_count": null,
   "metadata": {
    "ExecuteTime": {
     "end_time": "2020-07-31T09:22:17.739312Z",
     "start_time": "2020-07-31T09:22:16.192921Z"
    }
   },
   "outputs": [],
   "source": [
    "plt.figure()\n",
    "plt.plot(T, 10**np.array([r['x1'] for r in runs.values()]))\n",
    "plt.xlabel('macro iteration')\n",
    "plt.ylabel('flux')\n",
    "plt.plot([T.min(),T.max()], [Gi[Gi.shape[0]//2], Gi[Gi.shape[0]//2]])\n",
    "plt.xlabel('Time [s]')\n",
    "plt.ylabel('flux')\n",
    "plt.title('dt = %s, alpha = %s' % (dt, alpha))\n",
    "plt.savefig('Flux_dt=%s_alpha=%s.png' % (dt, alpha))\n",
    "print('All iterations: flux mean = %s, std-dev = %s, ref = %s' % \n",
    "      ((10**np.array([r['x1'] for r in runs.values()])).mean(), \n",
    "       (10**np.array([r['x1'] for r in runs.values()])).std(),\n",
    "       Gi[Gi.shape[0]//2]))"
   ]
  },
  {
   "cell_type": "markdown",
   "metadata": {},
   "source": [
    "## Histogram of the central Te over the complete set of iterations"
   ]
  },
  {
   "cell_type": "code",
   "execution_count": null,
   "metadata": {
    "ExecuteTime": {
     "end_time": "2020-07-31T09:22:20.825981Z",
     "start_time": "2020-07-31T09:22:17.760683Z"
    }
   },
   "outputs": [],
   "source": [
    "plt.figure()\n",
    "plt.hist(Te_all[:,0], bins=20)\n",
    "plt.xlabel('Te[0]')\n",
    "plt.ylabel('count')\n",
    "plt.title('Histogram of Te_0 over all iterations\\ndt = %s, alpha = %s' % (dt, alpha))\n",
    "plt.savefig('Te_0_histogram_all_dt=%s_alpha=%s.png' % (dt, alpha))\n",
    "print('All iterations: Te_0 mean = %s, std-dev = %s' % (np.mean(Te_all, axis=0)[0], np.std(Te_all, axis=0)[0]))"
   ]
  },
  {
   "cell_type": "markdown",
   "metadata": {},
   "source": [
    "## Histogram of the central Te over the last 50% of the iterations"
   ]
  },
  {
   "cell_type": "code",
   "execution_count": null,
   "metadata": {
    "ExecuteTime": {
     "end_time": "2020-07-31T09:22:23.750271Z",
     "start_time": "2020-07-31T09:22:20.832535Z"
    }
   },
   "outputs": [],
   "source": [
    "plt.figure()\n",
    "plt.hist(Te_all[NITER//2:,0], bins=20)\n",
    "plt.xlabel('Te[0]')\n",
    "plt.ylabel('count')\n",
    "plt.title('Histogram of Te_0 over last 50%% iterations\\ndt = %s, alpha = %s' % (dt, alpha))\n",
    "plt.savefig('Te_0_histogram_last_50%%_dt=%s_alpha=%s.png' % (dt, alpha))\n",
    "print('Last 50%% iterations: Te_0 mean = %s, std-dev = %s' % (np.mean(Te_all[NITER//2:], axis=0)[0], np.std(Te_all[NITER//2:], axis=0)[0]))"
   ]
  },
  {
   "cell_type": "markdown",
   "metadata": {},
   "source": [
    "## Plot of mean and standard deviation of Te over all iterations"
   ]
  },
  {
   "cell_type": "code",
   "execution_count": null,
   "metadata": {
    "ExecuteTime": {
     "end_time": "2020-07-31T09:22:26.517753Z",
     "start_time": "2020-07-31T09:22:23.754605Z"
    }
   },
   "outputs": [],
   "source": [
    "plt.figure()\n",
    "plt.plot(mesh.cellCenters.value[0], Te_all.mean(axis=0), 'b', label='All iterations')\n",
    "plt.fill_between(mesh.cellCenters.value[0], \n",
    "                 Te_all.mean(axis=0)-Te_all.std(axis=0), \n",
    "                 Te_all.mean(axis=0)+Te_all.std(axis=0), color='blue', alpha=0.5)\n",
    "plt.xlabel('rho')\n",
    "plt.ylabel('Te')\n",
    "plt.legend(loc=0)\n",
    "plt.title('dt = %s, alpha = %s, NITER = %s' % (dt, alpha, NITER))\n",
    "plt.savefig('Te_mean_stddev_all_dt=%s_alpha=%s.png' % (dt, alpha))"
   ]
  },
  {
   "cell_type": "markdown",
   "metadata": {},
   "source": [
    "## Plot of mean and standard deviation of Te over the last 50% of the iterations"
   ]
  },
  {
   "cell_type": "code",
   "execution_count": null,
   "metadata": {
    "ExecuteTime": {
     "end_time": "2020-07-31T09:22:29.398411Z",
     "start_time": "2020-07-31T09:22:26.522637Z"
    }
   },
   "outputs": [],
   "source": [
    "plt.figure()\n",
    "plt.plot(mesh.cellCenters.value[0], Te_all[NITER//2:].mean(axis=0), 'r', label='Last 50% iterations')\n",
    "plt.fill_between(mesh.cellCenters.value[0], \n",
    "                 Te_all[NITER//2:].mean(axis=0)-Te_all[NITER//2:].std(axis=0), \n",
    "                 Te_all[NITER//2:].mean(axis=0)+Te_all[NITER//2:].std(axis=0), color='red', alpha=0.5)\n",
    "plt.xlabel('rho')\n",
    "plt.ylabel('Te')\n",
    "plt.legend(loc=0)\n",
    "plt.title('dt = %s, alpha = %s, NITER = %s' % (dt, alpha, NITER))\n",
    "plt.savefig('Te_mean_stddev_last_50%%_dt=%s_alpha=%s.png' % (dt, alpha))"
   ]
  },
  {
   "cell_type": "code",
   "execution_count": null,
   "metadata": {
    "ExecuteTime": {
     "end_time": "2020-07-31T09:22:29.441475Z",
     "start_time": "2020-07-31T09:22:29.404524Z"
    }
   },
   "outputs": [],
   "source": [
    "with open(\"results.log\", \"a+\") as file:\n",
    "    print(N1, N2, N3, s2, s3, d2, d3, alpha, dt, NITER, \n",
    "          (10**np.array([r['x1'] for r in runs.values()])).mean(), \n",
    "          (10**np.array([r['x1'] for r in runs.values()])).std(),\n",
    "          Gi[Gi.shape[0]//2],\n",
    "          np.mean(Te_all, axis=0)[0], np.std(Te_all, axis=0)[0],\n",
    "          np.mean(Te_all[NITER//2:], axis=0)[0], np.std(Te_all[NITER//2:], axis=0)[0],\n",
    "         file=file, sep=',')"
   ]
  }
 ],
 "metadata": {
  "kernelspec": {
   "display_name": "Python 3",
   "language": "python",
   "name": "python3"
  },
  "language_info": {
   "codemirror_mode": {
    "name": "ipython",
    "version": 3
   },
   "file_extension": ".py",
   "mimetype": "text/x-python",
   "name": "python",
   "nbconvert_exporter": "python",
   "pygments_lexer": "ipython3",
   "version": "3.8.5"
  },
  "latex_metadata": {
   "affiliation": "Max Planck Institute for Plasma Physics, Garching, Germany",
   "author": "David P. Coster",
   "title": "VECMA Fusion Notebooks"
  }
 },
 "nbformat": 4,
 "nbformat_minor": 4
}
