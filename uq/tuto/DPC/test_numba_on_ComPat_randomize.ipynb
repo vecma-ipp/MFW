{
 "cells": [
  {
   "cell_type": "code",
   "execution_count": null,
   "metadata": {
    "ExecuteTime": {
     "end_time": "2020-07-31T07:27:20.596510Z",
     "start_time": "2020-07-31T07:27:06.178754Z"
    }
   },
   "outputs": [],
   "source": [
    "%matplotlib inline\n",
    "#notebook\n",
    "import numpy as np\n",
    "import matplotlib.pylab as plt\n",
    "import ComPat\n",
    "from IPython.display import set_matplotlib_formats\n",
    "set_matplotlib_formats('png', 'pdf')\n",
    "from numba import jit"
   ]
  },
  {
   "cell_type": "code",
   "execution_count": null,
   "metadata": {
    "ExecuteTime": {
     "end_time": "2020-07-31T07:27:20.723492Z",
     "start_time": "2020-07-31T07:27:20.616870Z"
    }
   },
   "outputs": [],
   "source": [
    "@jit(nopython=True) # Set \"nopython\" mode for best performance, equivalent to @njit\n",
    "def randomize(N1, N2, N3, l1, l2, l3, s2, s3, d2, d3, x1=None, x2=None, alpha=None):\n",
    "\n",
    "    x = np.zeros((N1+N2+1))\n",
    "    x[0] = l1\n",
    "    x[1] = l2+s2*(np.random.random()*2-1)\n",
    "    for i in range(2,N1+1):\n",
    "      x[i] = x[i-1]+s2*(np.random.random()*2-1)-(x[i-1]-l2)/d2\n",
    "    for i in range(N1+1,N1+N2+1):\n",
    "      x[i] = x[i-1]+s3*(np.random.random()*2-1)-(x[i-1]-l3)/d3\n",
    "    x_mean = x[N3:].mean()\n",
    "    x_std  = x[N3:].std()\n",
    "    x_range = np.array([N3,N1+N2])\n",
    "    if alpha is not None:\n",
    "        if x1 is not None:\n",
    "            for xv in x:\n",
    "                x1 = (1 - alpha) * x1 + alpha * xv\n",
    "        if x2 is not None:\n",
    "            for xv in x:\n",
    "                x2 = (1 - alpha) * x2 + alpha * xv**2\n",
    "    return x, x_mean, x_std, x_range, x1, x2"
   ]
  },
  {
   "cell_type": "code",
   "execution_count": null,
   "metadata": {
    "ExecuteTime": {
     "end_time": "2020-07-31T10:59:02.904245Z",
     "start_time": "2020-07-31T10:58:49.251013Z"
    }
   },
   "outputs": [],
   "source": [
    "#%timeit x, mean, std, xrange, x1, x2 = ComPat.randomize(100, 1900, 50, 0.0, 1.5, 1.0, 0.1, 0.1, 10, 10)\n",
    "%timeit x, mean, std, xrange, x1, x2 = randomize(100, 1900, 50, 0.0, 1.5, 1.0, 0.1, 0.1, 10, 10)"
   ]
  }
 ],
 "metadata": {
  "kernelspec": {
   "display_name": "Python 3",
   "language": "python",
   "name": "python3"
  },
  "language_info": {
   "codemirror_mode": {
    "name": "ipython",
    "version": 3
   },
   "file_extension": ".py",
   "mimetype": "text/x-python",
   "name": "python",
   "nbconvert_exporter": "python",
   "pygments_lexer": "ipython3",
   "version": "3.8.5"
  }
 },
 "nbformat": 4,
 "nbformat_minor": 4
}
