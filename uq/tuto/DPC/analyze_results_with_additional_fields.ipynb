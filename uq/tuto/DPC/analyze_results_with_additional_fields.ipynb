{
 "cells": [
  {
   "cell_type": "markdown",
   "metadata": {
    "slideshow": {
     "slide_type": "slide"
    }
   },
   "source": [
    "# Analysis of data produced by \"time-dependent_fusion+ComPat_chi_normalised_by_grad_Te.ipynb\"\n",
    "\n",
    "The results are based on solving a diffusion equation for heat transport in a cylindrical approximation of a tokamak.\n",
    "\n",
    "Here the interest is on the effect of varying parameters related to the induction of stochasticity onto a relatively simple model."
   ]
  },
  {
   "cell_type": "markdown",
   "metadata": {
    "slideshow": {
     "slide_type": "slide"
    }
   },
   "source": [
    "## A pretty standard set of imports"
   ]
  },
  {
   "cell_type": "code",
   "execution_count": null,
   "metadata": {
    "ExecuteTime": {
     "end_time": "2020-08-19T08:32:48.919606Z",
     "start_time": "2020-08-19T08:32:47.301011Z"
    },
    "scrolled": true
   },
   "outputs": [],
   "source": [
    "%matplotlib inline\n",
    "#%matplotlib notebook\n",
    "import os\n",
    "import matplotlib\n",
    "if not os.getenv(\"DISPLAY\"): matplotlib.use('Agg')\n",
    "import matplotlib.pylab as plt\n",
    "from IPython.display import set_matplotlib_formats\n",
    "set_matplotlib_formats('png', 'pdf')\n",
    "import numpy as np\n",
    "import pandas as pd\n",
    "pd.options.display.max_rows = 100"
   ]
  },
  {
   "cell_type": "markdown",
   "metadata": {
    "slideshow": {
     "slide_type": "slide"
    }
   },
   "source": [
    "## Read the data\n",
    "\n",
    "The input parameters to the model that are used here are:\n",
    "\n",
    "- s2, the randomness factor in the overshoot phase (here the same as s3)\n",
    "- s3, the ramdomness factor in the post-overdhoot factor (here the same as s2)\n",
    "- dt, the time-step used to solve the equation\n",
    "- NITER, the number of time-steps, here determined by NITER * dt = 10s\n",
    "- alpha, the exponential smoothing factor\n",
    "- gamma, the dependence of the chi or flux on the ratio of the current temperature gradient to the steady state gradient (as an exponent of this ratio)\n",
    "\n",
    "The output quantities we will analyze here are the mean and standard deviation of the core Te calculated over the last 50% of the iterations (i.e. the last 5 seconds of the simulation)."
   ]
  },
  {
   "cell_type": "code",
   "execution_count": null,
   "metadata": {
    "ExecuteTime": {
     "end_time": "2020-08-19T08:32:48.983246Z",
     "start_time": "2020-08-19T08:32:48.924559Z"
    },
    "scrolled": false
   },
   "outputs": [],
   "source": [
    "D = pd.read_csv('results_test.log')\n",
    "print(D.columns)\n",
    "D[['dt', 'NITER', 'alpha', 'beta', 'gamma', 's2', 's3', 'Te_0_mean_50%', 'Te_0_std_50%']]"
   ]
  },
  {
   "cell_type": "markdown",
   "metadata": {
    "slideshow": {
     "slide_type": "slide"
    }
   },
   "source": [
    "## Analysis\n",
    "We expect the randomness factor, s2 = s3, to have a strong impact when it becomes large.\n",
    "\n",
    "Below we see the impact on the mean core Te and note that the impact is large once the randomness factor is larger than about 0.2, but that there is also a strong impact on other parameters."
   ]
  },
  {
   "cell_type": "code",
   "execution_count": null,
   "metadata": {
    "ExecuteTime": {
     "end_time": "2020-08-19T08:32:53.100104Z",
     "start_time": "2020-08-19T08:32:48.990160Z"
    }
   },
   "outputs": [],
   "source": [
    "fig, ax = plt.subplots(figsize=(18,6))\n",
    "for i, g in D[D.gamma==0.0].groupby(['dt', 'alpha']):\n",
    "    g.plot(x='s2', y='Te_0_mean_50%', \n",
    "           style='o', logx=True, logy=True, ax=ax, \n",
    "           label='dt=%s, alpha=%s' % (np.ndarray.item(g.dt.unique()), np.ndarray.item(g.alpha.unique())), \n",
    "           title='Te_0 dependence on s2 by dt and alpha\\ngamma=0.0')\n",
    "plt.ylabel('Te_0_mean_50%') ; plt.legend(loc=0, ncol=5, fontsize=8);"
   ]
  },
  {
   "cell_type": "markdown",
   "metadata": {
    "slideshow": {
     "slide_type": "slide"
    }
   },
   "source": [
    "This is even more obviously seen in the standard deviation of the core Te."
   ]
  },
  {
   "cell_type": "code",
   "execution_count": null,
   "metadata": {
    "ExecuteTime": {
     "end_time": "2020-08-19T08:32:57.231496Z",
     "start_time": "2020-08-19T08:32:53.106284Z"
    }
   },
   "outputs": [],
   "source": [
    "fig, ax = plt.subplots(figsize=(18,6))\n",
    "for i, g in D[D.gamma==0.0].groupby(['dt', 'alpha']):\n",
    "    g.plot(x='s2', y='Te_0_std_50%', \n",
    "           style='o', logx=True, logy=True, ax=ax, \n",
    "           label='dt=%s, alpha=%s' % (np.ndarray.item(g.dt.unique()), np.ndarray.item(g.alpha.unique())), \n",
    "           title='Te_0 dependence on s2 by dt and alpha\\ngamma=0.0')\n",
    "plt.ylabel('Te_0_std_50%') ; plt.legend(loc=0, ncol=5, fontsize=8);"
   ]
  },
  {
   "cell_type": "markdown",
   "metadata": {
    "slideshow": {
     "slide_type": "slide"
    }
   },
   "source": [
    "We now zoom in on one choice of alpha (0.1) and dt (0.1) and see that the mean and standard deviation become comparable for a randomness factor of 0.5."
   ]
  },
  {
   "cell_type": "code",
   "execution_count": null,
   "metadata": {
    "ExecuteTime": {
     "end_time": "2020-08-19T08:32:59.096872Z",
     "start_time": "2020-08-19T08:32:57.235018Z"
    }
   },
   "outputs": [],
   "source": [
    "D[(D.alpha==0.1) & (D.dt==0.1)].plot(x='s2', y=['Te_0_mean_50%', 'Te_0_std_50%'], \n",
    "                                    style='o', logx=True, logy=True,\n",
    "                                    title='Te_0 dependence on randomization level\\nalpha=0.1, dt=0.1',\n",
    "                                    figsize=(18,6))\n",
    "plt.ylabel('$Te_0$ [$eV$]');"
   ]
  },
  {
   "cell_type": "markdown",
   "metadata": {
    "slideshow": {
     "slide_type": "slide"
    }
   },
   "source": [
    "Reducing dt from 0.1 to 0.01 delays this convergence of the mean and standard deviation until a randomness factor of 2.  This increases the cost of the computation, though, by a factor of 10."
   ]
  },
  {
   "cell_type": "code",
   "execution_count": null,
   "metadata": {
    "ExecuteTime": {
     "end_time": "2020-08-19T08:33:01.241091Z",
     "start_time": "2020-08-19T08:32:59.104524Z"
    }
   },
   "outputs": [],
   "source": [
    "D[(D.alpha==0.1) & (D.dt==0.01)].plot(x='s2', y=['Te_0_mean_50%', 'Te_0_std_50%'], \n",
    "                                      style='o', logx=True, logy=True,\n",
    "                                      title='Te_0 dependence on randomization level\\nalpha=0.1, dt=0.01',\n",
    "                                      figsize=(18,6))\n",
    "plt.ylabel('$Te_0$ [$eV$]');"
   ]
  },
  {
   "cell_type": "markdown",
   "metadata": {
    "slideshow": {
     "slide_type": "slide"
    }
   },
   "source": [
    "If, instead of reducing dt, we reduce alpha from 0.1 to 0.01, we can delay the convergence until a randomness factor of 1, without increasing the cost of calculation."
   ]
  },
  {
   "cell_type": "code",
   "execution_count": null,
   "metadata": {
    "ExecuteTime": {
     "end_time": "2020-08-19T08:33:03.269782Z",
     "start_time": "2020-08-19T08:33:01.243839Z"
    }
   },
   "outputs": [],
   "source": [
    "D[(D.alpha==0.01) & (D.dt==0.1)].plot(x='s2', y=['Te_0_mean_50%', 'Te_0_std_50%'], \n",
    "                                      style='o', logx=True, logy=True,\n",
    "                                      title='Te_0 dependence on randomization level\\nalpha=0.01, dt=0.1',\n",
    "                                      figsize=(18,6))\n",
    "plt.ylabel('$Te_0$ [$eV$]');"
   ]
  },
  {
   "cell_type": "markdown",
   "metadata": {
    "slideshow": {
     "slide_type": "slide"
    }
   },
   "source": [
    "With both dt and alpha set to 0.01, the overlap starts at the same point as for dt=0.01, alpha=0.1, i.e. for a radomness factor of 2, but the results at a randomness factor of 1 look better."
   ]
  },
  {
   "cell_type": "code",
   "execution_count": null,
   "metadata": {
    "ExecuteTime": {
     "end_time": "2020-08-19T08:33:05.553813Z",
     "start_time": "2020-08-19T08:33:03.330043Z"
    },
    "scrolled": false
   },
   "outputs": [],
   "source": [
    "D[(D.alpha==0.01) & (D.dt==0.01)].plot(x='s2', y=['Te_0_mean_50%', 'Te_0_std_50%'], \n",
    "                                       style='o', logx=True, logy=True,\n",
    "                                       title='Te_0 dependence on randomization level\\nalpha=0.01, dt=0.01',\n",
    "                                       figsize=(18,6))\n",
    "plt.ylabel('$Te_0$ [$eV$]');"
   ]
  },
  {
   "cell_type": "markdown",
   "metadata": {
    "slideshow": {
     "slide_type": "slide"
    }
   },
   "source": [
    "Keeping alpha = 0.01 and dropping dt to 0.001 does not really give us an increase in the overlap randomness value.  Note that this increases the cost of the calculation by another factor of 10!"
   ]
  },
  {
   "cell_type": "code",
   "execution_count": null,
   "metadata": {
    "ExecuteTime": {
     "end_time": "2020-08-19T08:33:07.708979Z",
     "start_time": "2020-08-19T08:33:05.572099Z"
    }
   },
   "outputs": [],
   "source": [
    "D[(D.alpha==0.01) & (D.dt==0.001)].plot(x='s2', y=['Te_0_mean_50%', 'Te_0_std_50%'], \n",
    "                                        style='o', logx=True, logy=True,\n",
    "                                        title='Te_0 dependence on randomization level\\nalpha=0.01, dt=0.001',\n",
    "                                        figsize=(18,6))\n",
    "plt.ylabel('$Te_0$ [$eV$]');"
   ]
  },
  {
   "cell_type": "markdown",
   "metadata": {
    "slideshow": {
     "slide_type": "slide"
    }
   },
   "source": [
    "Reducing alpha to 0.001 while keeping dt at 0.01 does improve things --- the overlap is now delayed until a randomness parameters of 5.  This improvement does not induce an additional cost above that which happenened when going from dt=0.1 to dt=0.01."
   ]
  },
  {
   "cell_type": "code",
   "execution_count": null,
   "metadata": {
    "ExecuteTime": {
     "end_time": "2020-08-19T08:33:09.522178Z",
     "start_time": "2020-08-19T08:33:07.723479Z"
    }
   },
   "outputs": [],
   "source": [
    "D[(D.alpha==0.001) & (D.dt==0.01)].plot(x='s2', y=['Te_0_mean_50%', 'Te_0_std_50%'], \n",
    "                                        style='o', logx=True, logy=True,\n",
    "                                        title='Te_0 dependence on randomization level\\nalpha=0.001, dt=0.01',\n",
    "                                        figsize=(18,6))\n",
    "plt.ylabel('$Te_0$ [$eV$]');"
   ]
  },
  {
   "cell_type": "markdown",
   "metadata": {
    "slideshow": {
     "slide_type": "slide"
    }
   },
   "source": [
    "Reducing both alpha and dt to 0.001 does not give a significant improvement over just reducing alpha."
   ]
  },
  {
   "cell_type": "code",
   "execution_count": null,
   "metadata": {
    "ExecuteTime": {
     "end_time": "2020-08-19T08:33:11.273111Z",
     "start_time": "2020-08-19T08:33:09.537430Z"
    }
   },
   "outputs": [],
   "source": [
    "D[(D.alpha==0.001) & (D.dt==0.001)].plot(x='s2', y=['Te_0_mean_50%', 'Te_0_std_50%'], \n",
    "                                         style='o', logx=True, logy=True,\n",
    "                                         title='Te_0 dependence on randomization level\\nalpha=0.001, dt=0.001',\n",
    "                                         figsize=(18,6))\n",
    "plt.ylabel('$Te_0$ [$eV$]');"
   ]
  },
  {
   "cell_type": "markdown",
   "metadata": {
    "slideshow": {
     "slide_type": "slide"
    }
   },
   "source": [
    "Here we select for a randomness factor of 1.0 and produce plots versus alpha separated by dt."
   ]
  },
  {
   "cell_type": "code",
   "execution_count": null,
   "metadata": {
    "ExecuteTime": {
     "end_time": "2020-08-19T08:33:14.608548Z",
     "start_time": "2020-08-19T08:33:11.278316Z"
    },
    "scrolled": false
   },
   "outputs": [],
   "source": [
    "plt.figure(figsize=(18,6))\n",
    "for i, dt in enumerate([0.1, 0.01, 0.001, 0.0001]):\n",
    "    ax=plt.subplot(2,2,i+1)\n",
    "    D[(D.s2==1.0) & (D.dt==dt)].plot(x='alpha', y=['Te_0_mean_50%', 'Te_0_std_50%'], \n",
    "                                     style='o', logx=True, logy=False, \n",
    "                                     title='s2=s3 = 1.0, dt = %s' % (dt), ax=ax)\n",
    "    plt.ylabel('$Te_0$ [$eV$]')\n",
    "plt.suptitle('Te_0 dependence on alpha')\n",
    "plt.subplots_adjust(hspace=0.4)"
   ]
  },
  {
   "cell_type": "markdown",
   "metadata": {
    "slideshow": {
     "slide_type": "slide"
    }
   },
   "source": [
    "For a randomness factor of 0.2, all combinations of alpha and dt produce satisfactory results, though the results do improve as alpha is reduced."
   ]
  },
  {
   "cell_type": "code",
   "execution_count": null,
   "metadata": {
    "ExecuteTime": {
     "end_time": "2020-08-19T08:33:15.610667Z",
     "start_time": "2020-08-19T08:33:14.614836Z"
    },
    "scrolled": false
   },
   "outputs": [],
   "source": [
    "D[D.s2==0.2].plot(x='alpha', y=['Te_0_mean_50%', 'Te_0_std_50%'], \n",
    "                  style='o', logx=True, logy=False, \n",
    "                  title='Te_0 dependence on alpha\\ns2=s3 = 0.2',\n",
    "                  figsize=(18,6))\n",
    "plt.ylabel('$Te_0$ [$eV$]');"
   ]
  },
  {
   "cell_type": "markdown",
   "metadata": {
    "slideshow": {
     "slide_type": "slide"
    }
   },
   "source": [
    "Now we concentrate on the standard deviation for the 0.2 randomness case, plotting versus alpha but breaking up the data by dt.  We can see that lower alpha is better, and that generally lower dt is better as well."
   ]
  },
  {
   "cell_type": "code",
   "execution_count": null,
   "metadata": {
    "ExecuteTime": {
     "end_time": "2020-08-19T08:33:18.573483Z",
     "start_time": "2020-08-19T08:33:15.613798Z"
    },
    "scrolled": false
   },
   "outputs": [],
   "source": [
    "fig, ax = plt.subplots(figsize=(18,6))\n",
    "for i, g in D[D.s2==0.2].groupby('dt'):\n",
    "    g.plot(x='alpha', y='Te_0_std_50%', \n",
    "           style='o', logx=True, logy=True, ax=ax, label='dt=%s' % (i),\n",
    "           title='Te_0 dependence on alpha by dt\\ns2=s3 = 0.2')\n",
    "plt.ylabel('Te_0_std_50%');"
   ]
  },
  {
   "cell_type": "markdown",
   "metadata": {
    "slideshow": {
     "slide_type": "slide"
    }
   },
   "source": [
    "Showing only the gamma = 0.0 results, again shows the improvement that comes with reducing dt, even for the lowest alpha result."
   ]
  },
  {
   "cell_type": "code",
   "execution_count": null,
   "metadata": {
    "ExecuteTime": {
     "end_time": "2020-08-19T08:33:20.318768Z",
     "start_time": "2020-08-19T08:33:18.579596Z"
    },
    "scrolled": false
   },
   "outputs": [],
   "source": [
    "fig, ax = plt.subplots(figsize=(18,6))\n",
    "for i, g in D[(D.s2==0.2) & (D.gamma==0.0)].groupby('dt'):\n",
    "    g.plot(x='alpha', y='Te_0_std_50%', \n",
    "           style='o', logx=True, logy=True, ax=ax, label='dt=%s' % (i), \n",
    "           title='s2=%s, s3=%s gamma=%s' % (g.s2.unique(), g.s3.unique(), g.gamma.unique()))\n",
    "plt.ylabel('Te_0_std_50%');"
   ]
  },
  {
   "cell_type": "markdown",
   "metadata": {
    "slideshow": {
     "slide_type": "slide"
    }
   },
   "source": [
    "Gamma, by itself, does not seem to have a big impact."
   ]
  },
  {
   "cell_type": "code",
   "execution_count": null,
   "metadata": {
    "ExecuteTime": {
     "end_time": "2020-08-19T08:33:21.590672Z",
     "start_time": "2020-08-19T08:33:20.329355Z"
    },
    "scrolled": false
   },
   "outputs": [],
   "source": [
    "fig, ax = plt.subplots(figsize=(18,6))\n",
    "for i, g in D[(D.s2==0.2) & (D.dt==0.001)].groupby('alpha'):\n",
    "    g.plot(x='gamma', y='Te_0_std_50%', \n",
    "           style='o', logx=False, logy=True, ax=ax, label='alpha=%s' % (i), \n",
    "           title='s2=%s, s3=%s dt=%s' % (g.s2.unique(), g.s3.unique(), g.dt.unique()))\n",
    "plt.ylabel('Te_0_std_50%');"
   ]
  },
  {
   "cell_type": "markdown",
   "metadata": {
    "slideshow": {
     "slide_type": "slide"
    }
   },
   "source": [
    "We can also look at the mean and standard deviation of the fluxes, compared to the reference flux."
   ]
  },
  {
   "cell_type": "code",
   "execution_count": null,
   "metadata": {
    "ExecuteTime": {
     "end_time": "2020-08-19T08:33:25.605489Z",
     "start_time": "2020-08-19T08:33:21.595075Z"
    }
   },
   "outputs": [],
   "source": [
    "fig, ax = plt.subplots(figsize=(18,6))\n",
    "for i, g in D[(D.gamma==0.0) & (D.s2<=10)].groupby(['dt', 'alpha']):\n",
    "    g.plot(x='s2', y='flux_mean', \n",
    "           style='o', logx=True, logy=True, ax=ax, \n",
    "           label='dt=%s, alpha=%s' % (np.ndarray.item(g.dt.unique()), np.ndarray.item(g.alpha.unique())), \n",
    "           title='flux_mean dependence on s2 by dt and alpha\\ns2=s3 = 0.2')\n",
    "plt.ylim(1e3,1e6) ; plt.ylabel('flux_mean') ; plt.legend(loc=0, ncol=5, fontsize=8)\n",
    "plt.plot([D.s2.min(), 10.0], [D.flux_ref.mean(), D.flux_ref.mean()], 'k');"
   ]
  },
  {
   "cell_type": "code",
   "execution_count": null,
   "metadata": {
    "ExecuteTime": {
     "end_time": "2020-08-19T08:33:29.772096Z",
     "start_time": "2020-08-19T08:33:25.611201Z"
    },
    "slideshow": {
     "slide_type": "slide"
    }
   },
   "outputs": [],
   "source": [
    "fig, ax = plt.subplots(figsize=(18,6))\n",
    "for i, g in D[(D.gamma==0.0) & (D.s2<=10)].groupby(['dt', 'alpha']):\n",
    "    g.plot(x='s2', y='flux_std', \n",
    "           style='o', logx=True, logy=True, ax=ax, \n",
    "           label='dt=%s, alpha=%s' % (np.ndarray.item(g.dt.unique()), np.ndarray.item(g.alpha.unique())), \n",
    "           title='flux_std dependence on s2 by dt and alpha\\ns2=s3 = 0.2')\n",
    "plt.ylim(1e1,1e6) ; plt.ylabel('flux_std') ; plt.legend(loc=0, ncol=5, fontsize=8)\n",
    "plt.plot([D.s2.min(), 10.0], [D.flux_ref.mean(), D.flux_ref.mean()], 'k');"
   ]
  },
  {
   "cell_type": "markdown",
   "metadata": {
    "slideshow": {
     "slide_type": "slide"
    }
   },
   "source": [
    "Let us examine the cases with \n",
    " - s2 == 0.2\n",
    " - dt >= 1e-3\n",
    " - Te_0_std_50% < 50 eV\n",
    " \n",
    "We find that all such cases had an alpha of 0.001!"
   ]
  },
  {
   "cell_type": "code",
   "execution_count": null,
   "metadata": {
    "ExecuteTime": {
     "end_time": "2020-08-19T08:33:29.846560Z",
     "start_time": "2020-08-19T08:33:29.780062Z"
    },
    "scrolled": false
   },
   "outputs": [],
   "source": [
    "D[(D.s2==0.2) & (D.dt >= 1e-3) & (D['Te_0_std_50%'] < 50.0)]\\\n",
    "  [['s2', 's3', 'alpha', 'beta', 'gamma', 'dt', 'NITER', 'Te_0_mean_50%', 'Te_0_std_50%']].describe().T"
   ]
  },
  {
   "cell_type": "code",
   "execution_count": null,
   "metadata": {
    "ExecuteTime": {
     "end_time": "2020-08-19T08:33:29.945251Z",
     "start_time": "2020-08-19T08:33:29.856054Z"
    },
    "slideshow": {
     "slide_type": "slide"
    }
   },
   "outputs": [],
   "source": [
    "D.describe().T"
   ]
  },
  {
   "cell_type": "code",
   "execution_count": null,
   "metadata": {
    "ExecuteTime": {
     "end_time": "2020-08-19T08:33:29.996059Z",
     "start_time": "2020-08-19T08:33:29.950002Z"
    },
    "scrolled": false,
    "slideshow": {
     "slide_type": "slide"
    }
   },
   "outputs": [],
   "source": [
    "pd.options.display.max_rows = 100 ; D"
   ]
  }
 ],
 "metadata": {
  "celltoolbar": "Slideshow",
  "kernelspec": {
   "display_name": "Python 3",
   "language": "python",
   "name": "python3"
  },
  "language_info": {
   "codemirror_mode": {
    "name": "ipython",
    "version": 3
   },
   "file_extension": ".py",
   "mimetype": "text/x-python",
   "name": "python",
   "nbconvert_exporter": "python",
   "pygments_lexer": "ipython3",
   "version": "3.7.3"
  },
  "latex_envs": {
   "LaTeX_envs_menu_present": true,
   "autoclose": false,
   "autocomplete": true,
   "bibliofile": "biblio.bib",
   "cite_by": "apalike",
   "current_citInitial": 1,
   "eqLabelWithNumbers": true,
   "eqNumInitial": 1,
   "hotkeys": {
    "equation": "Ctrl-E",
    "itemize": "Ctrl-I"
   },
   "labels_anchors": false,
   "latex_user_defs": false,
   "report_style_numbering": false,
   "user_envs_cfg": false
  },
  "latex_metadata": {
   "affiliation": "Max Planck Institute for Plasma Physics, Garching, Germany",
   "author": "David P. Coster",
   "title": "VECMA Fusion Notebooks"
  }
 },
 "nbformat": 4,
 "nbformat_minor": 4
}
