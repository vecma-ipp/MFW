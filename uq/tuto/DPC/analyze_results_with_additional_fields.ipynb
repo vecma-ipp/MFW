{
 "cells": [
  {
   "cell_type": "code",
   "execution_count": null,
   "metadata": {
    "ExecuteTime": {
     "end_time": "2020-08-05T07:51:37.021327Z",
     "start_time": "2020-08-05T07:51:36.980873Z"
    },
    "scrolled": true
   },
   "outputs": [],
   "source": [
    "%matplotlib inline\n",
    "#%matplotlib notebook\n",
    "import matplotlib.pylab as plt\n",
    "import numpy as np\n",
    "import pandas as pd\n",
    "pd.options.display.max_rows = 100"
   ]
  },
  {
   "cell_type": "code",
   "execution_count": null,
   "metadata": {
    "ExecuteTime": {
     "end_time": "2020-08-05T17:02:20.301277Z",
     "start_time": "2020-08-05T17:02:20.253934Z"
    },
    "scrolled": false
   },
   "outputs": [],
   "source": [
    "D = pd.read_csv('results_test.log')\n",
    "D.columns\n",
    "D[['dt', 'NITER', 'alpha', 'beta', 'gamma', 's2', 's3', 'Te_0_mean_50%', 'Te_0_std_50%']]"
   ]
  },
  {
   "cell_type": "code",
   "execution_count": null,
   "metadata": {
    "ExecuteTime": {
     "end_time": "2020-08-05T09:58:28.180707Z",
     "start_time": "2020-08-05T09:58:25.992199Z"
    },
    "scrolled": true
   },
   "outputs": [],
   "source": [
    "D[(D.alpha==0.01) & (D.dt==0.01)].plot(x='s2', y=['Te_0_mean_50%', 'Te_0_std_50%'], \n",
    "                      style='o', logx=True, logy=True,\n",
    "                      title='alpha=0.01, dt=0.01');"
   ]
  },
  {
   "cell_type": "code",
   "execution_count": null,
   "metadata": {
    "ExecuteTime": {
     "end_time": "2020-08-05T09:59:13.061753Z",
     "start_time": "2020-08-05T09:59:10.533887Z"
    }
   },
   "outputs": [],
   "source": [
    "D[(D.alpha==0.001) & (D.dt==0.01)].plot(x='s2', y=['Te_0_mean_50%', 'Te_0_std_50%'], \n",
    "                      style='o', logx=True, logy=True,\n",
    "                      title='alpha=0.001, dt=0.01');"
   ]
  },
  {
   "cell_type": "code",
   "execution_count": null,
   "metadata": {
    "ExecuteTime": {
     "end_time": "2020-08-05T09:59:16.010267Z",
     "start_time": "2020-08-05T09:59:14.866339Z"
    }
   },
   "outputs": [],
   "source": [
    "D[(D.alpha==0.01) & (D.dt==0.001)].plot(x='s2', y=['Te_0_mean_50%', 'Te_0_std_50%'], \n",
    "                      style='o', logx=True, logy=True,\n",
    "                      title='alpha=0.01, dt=0.001');"
   ]
  },
  {
   "cell_type": "code",
   "execution_count": null,
   "metadata": {
    "ExecuteTime": {
     "end_time": "2020-08-05T09:59:25.391622Z",
     "start_time": "2020-08-05T09:59:23.779153Z"
    }
   },
   "outputs": [],
   "source": [
    "D[(D.alpha==0.1) & (D.dt==0.1)].plot(x='s2', y=['Te_0_mean_50%', 'Te_0_std_50%'], \n",
    "                      style='o', logx=True, logy=True,\n",
    "                      title='alpha=0.1, dt=0.1');"
   ]
  },
  {
   "cell_type": "code",
   "execution_count": null,
   "metadata": {
    "ExecuteTime": {
     "end_time": "2020-08-05T09:59:35.420366Z",
     "start_time": "2020-08-05T09:59:34.359890Z"
    }
   },
   "outputs": [],
   "source": [
    "D[(D.alpha==0.1) & (D.dt==0.01)].plot(x='s2', y=['Te_0_mean_50%', 'Te_0_std_50%'], \n",
    "                      style='o', logx=True, logy=True,\n",
    "                      title='alpha=0.1, dt=0.01');"
   ]
  },
  {
   "cell_type": "code",
   "execution_count": null,
   "metadata": {
    "ExecuteTime": {
     "end_time": "2020-08-05T09:59:41.355056Z",
     "start_time": "2020-08-05T09:59:40.062693Z"
    }
   },
   "outputs": [],
   "source": [
    "D[(D.alpha==0.001) & (D.dt==0.001)].plot(x='s2', y=['Te_0_mean_50%', 'Te_0_std_50%'], \n",
    "                      style='o', logx=True, logy=True,\n",
    "                      title='alpha=0.001, dt=0.001');"
   ]
  },
  {
   "cell_type": "code",
   "execution_count": null,
   "metadata": {
    "ExecuteTime": {
     "end_time": "2020-08-05T09:59:56.813111Z",
     "start_time": "2020-08-05T09:59:55.835010Z"
    },
    "scrolled": false
   },
   "outputs": [],
   "source": [
    "D[D.s2==1.0].plot(x='alpha', y=['Te_0_mean_50%', 'Te_0_std_50%'], \n",
    "                  style='o', logx=True, logy=False, \n",
    "                  title='s2=s3 = 1.0');"
   ]
  },
  {
   "cell_type": "code",
   "execution_count": null,
   "metadata": {
    "ExecuteTime": {
     "end_time": "2020-08-05T10:00:20.213981Z",
     "start_time": "2020-08-05T10:00:19.482872Z"
    },
    "scrolled": false
   },
   "outputs": [],
   "source": [
    "D[D.s2==0.2].plot(x='alpha', y=['Te_0_mean_50%', 'Te_0_std_50%'], \n",
    "                  style='o', logx=True, logy=False, \n",
    "                  title='s2=s3 = 0.2');"
   ]
  },
  {
   "cell_type": "code",
   "execution_count": null,
   "metadata": {
    "ExecuteTime": {
     "end_time": "2020-08-05T10:00:31.870745Z",
     "start_time": "2020-08-05T10:00:30.536284Z"
    },
    "scrolled": false
   },
   "outputs": [],
   "source": [
    "fig, ax = plt.subplots(figsize=(8,6))\n",
    "for i, g in D[D.s2==0.2].groupby('dt'):\n",
    "    g.plot(x='alpha', y='Te_0_std_50%', \n",
    "           style='o', logx=True, logy=True, ax=ax, label='dt=%s' % (i), \n",
    "           title='s2=s3 = 0.2')\n",
    "plt.ylabel('Te_0_std_50%');"
   ]
  },
  {
   "cell_type": "code",
   "execution_count": null,
   "metadata": {
    "ExecuteTime": {
     "end_time": "2020-08-05T10:18:44.463085Z",
     "start_time": "2020-08-05T10:18:42.061645Z"
    }
   },
   "outputs": [],
   "source": [
    "fig, ax = plt.subplots(figsize=(8,6))\n",
    "for i, g in D[D.gamma==0.0].groupby(['dt', 'alpha']):\n",
    "    g.plot(x='s2', y='Te_0_std_50%', \n",
    "           style='o', logx=True, logy=True, ax=ax, label='dt=%s, alpha=%s' % (g.dt.unique(), g.alpha.unique()), \n",
    "           title='s2=s3 = 0.2')\n",
    "plt.ylabel('Te_0_std_50%');"
   ]
  },
  {
   "cell_type": "code",
   "execution_count": null,
   "metadata": {
    "ExecuteTime": {
     "end_time": "2020-08-05T11:40:07.208759Z",
     "start_time": "2020-08-05T11:40:05.874832Z"
    },
    "scrolled": false
   },
   "outputs": [],
   "source": [
    "fig, ax = plt.subplots(figsize=(8,6))\n",
    "for i, g in D[(D.s2==0.2) & (D.gamma==0.0)].groupby('dt'):\n",
    "    g.plot(x='alpha', y='Te_0_std_50%', \n",
    "           style='o', logx=True, logy=True, ax=ax, label='dt=%s' % (i), \n",
    "           title='s2=%s, s3=%s gamma=%s' % (g.s2.unique(), g.s3.unique(), g.gamma.unique()))\n",
    "plt.ylabel('Te_0_std_50%');"
   ]
  },
  {
   "cell_type": "code",
   "execution_count": null,
   "metadata": {
    "ExecuteTime": {
     "end_time": "2020-08-05T10:20:43.617812Z",
     "start_time": "2020-08-05T10:20:42.220694Z"
    },
    "scrolled": false
   },
   "outputs": [],
   "source": [
    "fig, ax = plt.subplots(figsize=(8,6))\n",
    "for i, g in D[(D.s2==0.2) & (D.dt==0.001)].groupby('alpha'):\n",
    "    g.plot(x='gamma', y='Te_0_std_50%', \n",
    "           style='o', logx=False, logy=True, ax=ax, label='alpha=%s' % (i), \n",
    "           title='s2=%s, s3=%s dt=%s' % (g.s2.unique(), g.s3.unique(), g.dt.unique()))\n",
    "plt.ylabel('Te_0_std_50%');"
   ]
  },
  {
   "cell_type": "code",
   "execution_count": null,
   "metadata": {
    "ExecuteTime": {
     "end_time": "2020-08-05T17:00:54.362082Z",
     "start_time": "2020-08-05T17:00:54.236565Z"
    },
    "scrolled": false
   },
   "outputs": [],
   "source": [
    "D[['s2', 's3', 'alpha', 'beta', 'gamma', 'dt', 'NITER', 'Te_0_mean_50%', 'Te_0_std_50%']]"
   ]
  }
 ],
 "metadata": {
  "kernelspec": {
   "display_name": "Python 3",
   "language": "python",
   "name": "python3"
  },
  "language_info": {
   "codemirror_mode": {
    "name": "ipython",
    "version": 3
   },
   "file_extension": ".py",
   "mimetype": "text/x-python",
   "name": "python",
   "nbconvert_exporter": "python",
   "pygments_lexer": "ipython3",
   "version": "3.7.3"
  }
 },
 "nbformat": 4,
 "nbformat_minor": 4
}
