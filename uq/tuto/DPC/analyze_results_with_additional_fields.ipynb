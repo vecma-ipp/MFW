{
 "cells": [
  {
   "cell_type": "code",
   "execution_count": null,
   "metadata": {
    "ExecuteTime": {
     "end_time": "2020-08-01T16:55:22.454949Z",
     "start_time": "2020-08-01T16:55:20.833646Z"
    }
   },
   "outputs": [],
   "source": [
    "%matplotlib inline\n",
    "import matplotlib.pylab as plt\n",
    "import numpy as np\n",
    "import pandas as pd"
   ]
  },
  {
   "cell_type": "code",
   "execution_count": null,
   "metadata": {
    "ExecuteTime": {
     "end_time": "2020-08-01T16:55:22.511369Z",
     "start_time": "2020-08-01T16:55:22.459149Z"
    }
   },
   "outputs": [],
   "source": [
    "D = pd.read_csv('results_test.log')\n",
    "D.columns"
   ]
  },
  {
   "cell_type": "code",
   "execution_count": null,
   "metadata": {
    "ExecuteTime": {
     "end_time": "2020-08-01T16:55:24.117450Z",
     "start_time": "2020-08-01T16:55:22.519058Z"
    }
   },
   "outputs": [],
   "source": [
    "D[(D.alpha==0.01) & (D.dt==0.01)].plot(x='s2', y=['Te_0_mean_50%', 'Te_0_std_50%'], \n",
    "                      style='o', logx=True, logy=True,\n",
    "                      title='alpha=0.01, dt=0.01');"
   ]
  },
  {
   "cell_type": "code",
   "execution_count": null,
   "metadata": {
    "ExecuteTime": {
     "end_time": "2020-08-01T16:55:24.731244Z",
     "start_time": "2020-08-01T16:55:24.122302Z"
    }
   },
   "outputs": [],
   "source": [
    "D[D.s2==1.0].plot(x='alpha', y=['Te_0_mean_50%', 'Te_0_std_50%'], \n",
    "                  style='o', logx=True, logy=False, \n",
    "                  title='s2=s3 = 1.0');"
   ]
  },
  {
   "cell_type": "code",
   "execution_count": null,
   "metadata": {
    "ExecuteTime": {
     "end_time": "2020-08-01T16:55:25.409414Z",
     "start_time": "2020-08-01T16:55:24.747344Z"
    }
   },
   "outputs": [],
   "source": [
    "D[D.s2==0.2].plot(x='alpha', y=['Te_0_mean_50%', 'Te_0_std_50%'], \n",
    "                  style='o', logx=True, logy=False, \n",
    "                  title='s2=s3 = 0.2');"
   ]
  },
  {
   "cell_type": "code",
   "execution_count": null,
   "metadata": {
    "ExecuteTime": {
     "end_time": "2020-08-01T16:55:26.481460Z",
     "start_time": "2020-08-01T16:55:25.413639Z"
    }
   },
   "outputs": [],
   "source": [
    "fig, ax = plt.subplots(figsize=(8,6))\n",
    "for i, g in D[D.s2==0.2].groupby('dt'):\n",
    "    g.plot(x='alpha', y='Te_0_std_50%', \n",
    "           style='o', logx=True, logy=True, ax=ax, label='dt=%s' % (i), \n",
    "           title='s2=s3 = 0.2')\n",
    "plt.ylabel('Te_0_std_50%');"
   ]
  },
  {
   "cell_type": "code",
   "execution_count": null,
   "metadata": {
    "ExecuteTime": {
     "end_time": "2020-08-01T16:55:26.587062Z",
     "start_time": "2020-08-01T16:55:26.486808Z"
    }
   },
   "outputs": [],
   "source": [
    "D[D.s2==0.2][['s2', 's3', 'alpha', 'beta', 'gamma', 'dt', 'NITER', 'Te_0_mean_50%', 'Te_0_std_50%']]"
   ]
  }
 ],
 "metadata": {
  "kernelspec": {
   "display_name": "Python 3",
   "language": "python",
   "name": "python3"
  },
  "language_info": {
   "codemirror_mode": {
    "name": "ipython",
    "version": 3
   },
   "file_extension": ".py",
   "mimetype": "text/x-python",
   "name": "python",
   "nbconvert_exporter": "python",
   "pygments_lexer": "ipython3",
   "version": "3.7.3"
  }
 },
 "nbformat": 4,
 "nbformat_minor": 4
}
