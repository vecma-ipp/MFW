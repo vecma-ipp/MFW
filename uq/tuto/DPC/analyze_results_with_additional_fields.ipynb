{
 "cells": [
  {
   "cell_type": "markdown",
   "metadata": {},
   "source": [
    "# Analysis of data produced by \"time-dependent_fusion+ComPat_chi_normalised_by_grad_Te.ipynb\"\n",
    "\n",
    "The results are based on solving a diffusion equation for heat transport in a cylindrical approximation of a tokamak.\n",
    "\n",
    "Here the interest is on the effect of varying parameters related to the induction of stochasticity onto a relatively simple model."
   ]
  },
  {
   "cell_type": "code",
   "execution_count": null,
   "metadata": {
    "ExecuteTime": {
     "end_time": "2020-08-10T09:39:52.800987Z",
     "start_time": "2020-08-10T09:39:28.958328Z"
    },
    "scrolled": true
   },
   "outputs": [],
   "source": [
    "%matplotlib inline\n",
    "#%matplotlib notebook\n",
    "import os\n",
    "import matplotlib\n",
    "if not os.getenv(\"DISPLAY\"): matplotlib.use('Agg')\n",
    "import matplotlib.pylab as plt\n",
    "from IPython.display import set_matplotlib_formats\n",
    "set_matplotlib_formats('png', 'pdf')\n",
    "import numpy as np\n",
    "import pandas as pd\n",
    "pd.options.display.max_rows = 100"
   ]
  },
  {
   "cell_type": "markdown",
   "metadata": {},
   "source": [
    "The input parameters to the model that are used here are:\n",
    "\n",
    "- s2, the randomness factor in the overshoot phase (here the same as s3)\n",
    "- s3, the ramdomness factor in the post-overdhoot factor (here the same as s2)\n",
    "- dt, the time-step used to solve the equation\n",
    "- NITER, the number of time-steps, here determined by NITER * dt = 10s\n",
    "- alpha, the exponential smoothing factor\n",
    "- gamma, the dependence of the chi or flux on the ratio of the current temperature gradient to the steady state gradient (as an exponent of this ratio)\n",
    "\n",
    "The output quantities we will analyze here are the mean and standard deviation of the core Te calculated over the last 50% of the iterations (i.e. the last 5 seconds of the simulation)."
   ]
  },
  {
   "cell_type": "code",
   "execution_count": null,
   "metadata": {
    "ExecuteTime": {
     "end_time": "2020-08-10T09:39:53.027560Z",
     "start_time": "2020-08-10T09:39:52.808862Z"
    },
    "scrolled": false
   },
   "outputs": [],
   "source": [
    "D = pd.read_csv('results_test.log')\n",
    "D.columns\n",
    "D[['dt', 'NITER', 'alpha', 'beta', 'gamma', 's2', 's3', 'Te_0_mean_50%', 'Te_0_std_50%']]"
   ]
  },
  {
   "cell_type": "markdown",
   "metadata": {},
   "source": [
    "We expect the randomness factor, s2 = s3, to have a strong impact when it becomes large.\n",
    "\n",
    "Below we see the impact on the mean core Te and note that the impact is large once the ransomness factor is larger than about 0.2, but that there is also a strong impact on other parameters."
   ]
  },
  {
   "cell_type": "code",
   "execution_count": null,
   "metadata": {
    "ExecuteTime": {
     "end_time": "2020-08-10T09:40:02.946772Z",
     "start_time": "2020-08-10T09:39:53.039055Z"
    }
   },
   "outputs": [],
   "source": [
    "fig, ax = plt.subplots(figsize=(8,6))\n",
    "for i, g in D[D.gamma==0.0].groupby(['dt', 'alpha']):\n",
    "    g.plot(x='s2', y='Te_0_mean_50%', \n",
    "           style='o', logx=True, logy=True, ax=ax, label='dt=%s, alpha=%s' % (g.dt.unique(), g.alpha.unique()), \n",
    "           title='Te_0 dependence on s2 by dt and alpha\\ngamma=0.0')\n",
    "plt.ylabel('Te_0_mean_50%');"
   ]
  },
  {
   "cell_type": "markdown",
   "metadata": {},
   "source": [
    "This is even more obviously seen in the standard deviation of the core Te."
   ]
  },
  {
   "cell_type": "code",
   "execution_count": null,
   "metadata": {
    "ExecuteTime": {
     "end_time": "2020-08-10T09:40:11.331583Z",
     "start_time": "2020-08-10T09:40:02.953484Z"
    }
   },
   "outputs": [],
   "source": [
    "fig, ax = plt.subplots(figsize=(8,6))\n",
    "for i, g in D[D.gamma==0.0].groupby(['dt', 'alpha']):\n",
    "    g.plot(x='s2', y='Te_0_std_50%', \n",
    "           style='o', logx=True, logy=True, ax=ax, label='dt=%s, alpha=%s' % (g.dt.unique(), g.alpha.unique()), \n",
    "           title='Te_0 dependence on s2 by dt and alpha\\ngamma=0.0')\n",
    "plt.ylabel('Te_0_std_50%');"
   ]
  },
  {
   "cell_type": "markdown",
   "metadata": {},
   "source": [
    "We now zoom in on one choice of alpha (0.1) and dt (0.1) and see that the mean and standard deviation become comparable for a randomness factor of 0.5."
   ]
  },
  {
   "cell_type": "code",
   "execution_count": null,
   "metadata": {
    "ExecuteTime": {
     "end_time": "2020-08-10T09:40:16.398105Z",
     "start_time": "2020-08-10T09:40:11.370974Z"
    }
   },
   "outputs": [],
   "source": [
    "D[(D.alpha==0.1) & (D.dt==0.1)].plot(x='s2', y=['Te_0_mean_50%', 'Te_0_std_50%'], \n",
    "                      style='o', logx=True, logy=True,\n",
    "                      title='Te_0 dependence on randomization level\\nalpha=0.1, dt=0.1')\n",
    "plt.ylabel('$Te_0$ [$eV$]');"
   ]
  },
  {
   "cell_type": "markdown",
   "metadata": {},
   "source": [
    "Reducing dt from 0.1 to 0.01 delays this convergence of the mean and standard deviation until a randomness factor of 2.  This increases the cost of the computation, though, by a factor of 10."
   ]
  },
  {
   "cell_type": "code",
   "execution_count": null,
   "metadata": {
    "ExecuteTime": {
     "end_time": "2020-08-10T09:40:21.015218Z",
     "start_time": "2020-08-10T09:40:16.417655Z"
    }
   },
   "outputs": [],
   "source": [
    "D[(D.alpha==0.1) & (D.dt==0.01)].plot(x='s2', y=['Te_0_mean_50%', 'Te_0_std_50%'], \n",
    "                      style='o', logx=True, logy=True,\n",
    "                      title='Te_0 dependence on randomization level\\nalpha=0.1, dt=0.01')\n",
    "plt.ylabel('$Te_0$ [$eV$]');"
   ]
  },
  {
   "cell_type": "markdown",
   "metadata": {},
   "source": [
    "If, instead of reducing dt, we reduce alpha from 0.1 to 0.01, we can delay the convergence until a randomness factor of 1, without increasing the cost of calculation."
   ]
  },
  {
   "cell_type": "code",
   "execution_count": null,
   "metadata": {
    "ExecuteTime": {
     "end_time": "2020-08-10T09:40:26.270291Z",
     "start_time": "2020-08-10T09:40:21.023827Z"
    }
   },
   "outputs": [],
   "source": [
    "D[(D.alpha==0.01) & (D.dt==0.1)].plot(x='s2', y=['Te_0_mean_50%', 'Te_0_std_50%'], \n",
    "                      style='o', logx=True, logy=True,\n",
    "                      title='Te_0 dependence on randomization level\\nalpha=0.01, dt=0.1')\n",
    "plt.ylabel('$Te_0$ [$eV$]');"
   ]
  },
  {
   "cell_type": "markdown",
   "metadata": {},
   "source": [
    "With both dt and alpha set to 0.01, the overlap starts at the same point as for dt=0.01, alpha=0.1, i.e. for a radomness factor of 2, but the results at a randomness factor of 1 look better."
   ]
  },
  {
   "cell_type": "code",
   "execution_count": null,
   "metadata": {
    "ExecuteTime": {
     "end_time": "2020-08-10T09:40:31.358573Z",
     "start_time": "2020-08-10T09:40:26.282312Z"
    },
    "scrolled": true
   },
   "outputs": [],
   "source": [
    "D[(D.alpha==0.01) & (D.dt==0.01)].plot(x='s2', y=['Te_0_mean_50%', 'Te_0_std_50%'], \n",
    "                      style='o', logx=True, logy=True,\n",
    "                      title='Te_0 dependence on randomization level\\nalpha=0.01, dt=0.01')\n",
    "plt.ylabel('$Te_0$ [$eV$]');"
   ]
  },
  {
   "cell_type": "markdown",
   "metadata": {},
   "source": [
    "Keeping alpha = 0.01 and dropping dt to 0.001 does not really give us an increase in the overlap randomness value.  Note that this increases the cost of the calculation by another factor of 10!"
   ]
  },
  {
   "cell_type": "code",
   "execution_count": null,
   "metadata": {
    "ExecuteTime": {
     "end_time": "2020-08-10T09:40:36.041920Z",
     "start_time": "2020-08-10T09:40:31.380948Z"
    }
   },
   "outputs": [],
   "source": [
    "D[(D.alpha==0.01) & (D.dt==0.001)].plot(x='s2', y=['Te_0_mean_50%', 'Te_0_std_50%'], \n",
    "                      style='o', logx=True, logy=True,\n",
    "                      title='Te_0 dependence on randomization level\\nalpha=0.01, dt=0.001')\n",
    "plt.ylabel('$Te_0$ [$eV$]');"
   ]
  },
  {
   "cell_type": "markdown",
   "metadata": {},
   "source": [
    "Reducing alpha to 0.001 while keeping dt at 0.01 does improve things --- the overlap is now delayed until a randomness parameters of 5.  This improvement does not induce an additional cost above that which happenened when going from dt=0.1 to dt=0.01."
   ]
  },
  {
   "cell_type": "code",
   "execution_count": null,
   "metadata": {
    "ExecuteTime": {
     "end_time": "2020-08-10T09:40:40.803569Z",
     "start_time": "2020-08-10T09:40:36.048630Z"
    }
   },
   "outputs": [],
   "source": [
    "D[(D.alpha==0.001) & (D.dt==0.01)].plot(x='s2', y=['Te_0_mean_50%', 'Te_0_std_50%'], \n",
    "                      style='o', logx=True, logy=True,\n",
    "                      title='Te_0 dependence on randomization level\\nalpha=0.001, dt=0.01')\n",
    "plt.ylabel('$Te_0$ [$eV$]');"
   ]
  },
  {
   "cell_type": "markdown",
   "metadata": {},
   "source": [
    "Reducing both alpha and dt to 0.001 does not give a significant improvement over just reducing alpha."
   ]
  },
  {
   "cell_type": "code",
   "execution_count": null,
   "metadata": {
    "ExecuteTime": {
     "end_time": "2020-08-10T09:40:50.659096Z",
     "start_time": "2020-08-10T09:40:40.810943Z"
    }
   },
   "outputs": [],
   "source": [
    "D[(D.alpha==0.001) & (D.dt==0.001)].plot(x='s2', y=['Te_0_mean_50%', 'Te_0_std_50%'], \n",
    "                      style='o', logx=True, logy=True,\n",
    "                      title='Te_0 dependence on randomization level\\nalpha=0.001, dt=0.001')\n",
    "plt.ylabel('$Te_0$ [$eV$]');"
   ]
  },
  {
   "cell_type": "markdown",
   "metadata": {},
   "source": [
    "Here we select for a randomness factor of 1.0 and produce plots versus alpha separated by dt."
   ]
  },
  {
   "cell_type": "code",
   "execution_count": null,
   "metadata": {
    "ExecuteTime": {
     "end_time": "2020-08-10T09:40:53.703440Z",
     "start_time": "2020-08-10T09:40:50.680593Z"
    },
    "scrolled": false
   },
   "outputs": [],
   "source": [
    "D[(D.s2==1.0) & (D.dt==0.1)].plot(x='alpha', y=['Te_0_mean_50%', 'Te_0_std_50%'], \n",
    "                  style='o', logx=True, logy=False, \n",
    "                  title='Te_0 dependence on alpha\\ns2=s3 = 1.0, dt = 0.1')\n",
    "plt.ylabel('$Te_0$ [$eV$]');"
   ]
  },
  {
   "cell_type": "code",
   "execution_count": null,
   "metadata": {
    "ExecuteTime": {
     "end_time": "2020-08-10T09:40:56.641491Z",
     "start_time": "2020-08-10T09:40:53.708000Z"
    }
   },
   "outputs": [],
   "source": [
    "D[(D.s2==1.0) & (D.dt==0.01)].plot(x='alpha', y=['Te_0_mean_50%', 'Te_0_std_50%'], \n",
    "                  style='o', logx=True, logy=False, \n",
    "                  title='Te_0 dependence on alpha\\ns2=s3 = 1.0, dt = 0.01')\n",
    "plt.ylabel('$Te_0$ [$eV$]');"
   ]
  },
  {
   "cell_type": "code",
   "execution_count": null,
   "metadata": {
    "ExecuteTime": {
     "end_time": "2020-08-10T09:41:01.446361Z",
     "start_time": "2020-08-10T09:40:56.647525Z"
    }
   },
   "outputs": [],
   "source": [
    "D[(D.s2==1.0) & (D.dt==0.001)].plot(x='alpha', y=['Te_0_mean_50%', 'Te_0_std_50%'], \n",
    "                  style='o', logx=True, logy=False, \n",
    "                  title='Te_0 dependence on alpha\\ns2=s3 = 1.0, dt = 0.001')\n",
    "plt.ylabel('$Te_0$ [$eV$]');"
   ]
  },
  {
   "cell_type": "markdown",
   "metadata": {},
   "source": [
    "For a randomness factor of 0.2, all combinations of alpha and dt produce satisfactory results, though the results do improve as alpha is recuded."
   ]
  },
  {
   "cell_type": "code",
   "execution_count": null,
   "metadata": {
    "ExecuteTime": {
     "end_time": "2020-08-10T09:41:07.526820Z",
     "start_time": "2020-08-10T09:41:01.452594Z"
    },
    "scrolled": false
   },
   "outputs": [],
   "source": [
    "D[D.s2==0.2].plot(x='alpha', y=['Te_0_mean_50%', 'Te_0_std_50%'], \n",
    "                  style='o', logx=True, logy=False, \n",
    "                  title='Te_0 dependence on alpha\\ns2=s3 = 0.2')\n",
    "plt.ylabel('$Te_0$ [$eV$]');"
   ]
  },
  {
   "cell_type": "markdown",
   "metadata": {},
   "source": [
    "Now we concentrate on the standard deviation for the 0.2 randomness case, plotting versus alpha but breaking up the data by dt.  We can see that lower alpha is better, and that generally lower dt is better as well."
   ]
  },
  {
   "cell_type": "code",
   "execution_count": null,
   "metadata": {
    "ExecuteTime": {
     "end_time": "2020-08-10T09:41:12.806284Z",
     "start_time": "2020-08-10T09:41:07.534889Z"
    },
    "scrolled": false
   },
   "outputs": [],
   "source": [
    "fig, ax = plt.subplots(figsize=(8,6))\n",
    "for i, g in D[D.s2==0.2].groupby('dt'):\n",
    "    g.plot(x='alpha', y='Te_0_std_50%', \n",
    "           style='o', logx=True, logy=True, ax=ax, label='dt=%s' % (i), \n",
    "           title='Te_0 dependence on alpha by dt\\ns2=s3 = 0.2')\n",
    "plt.ylabel('Te_0_std_50%');"
   ]
  },
  {
   "cell_type": "markdown",
   "metadata": {},
   "source": [
    "Showing only the gamma = 0.0 results, again shows the improvement that comes with reducing dt, even for the lowest alpha result."
   ]
  },
  {
   "cell_type": "code",
   "execution_count": null,
   "metadata": {
    "ExecuteTime": {
     "end_time": "2020-08-10T09:41:19.662624Z",
     "start_time": "2020-08-10T09:41:12.818117Z"
    },
    "scrolled": false
   },
   "outputs": [],
   "source": [
    "fig, ax = plt.subplots(figsize=(8,6))\n",
    "for i, g in D[(D.s2==0.2) & (D.gamma==0.0)].groupby('dt'):\n",
    "    g.plot(x='alpha', y='Te_0_std_50%', \n",
    "           style='o', logx=True, logy=True, ax=ax, label='dt=%s' % (i), \n",
    "           title='s2=%s, s3=%s gamma=%s' % (g.s2.unique(), g.s3.unique(), g.gamma.unique()))\n",
    "plt.ylabel('Te_0_std_50%');"
   ]
  },
  {
   "cell_type": "markdown",
   "metadata": {},
   "source": [
    "Gamma, by itself, does not seem to have a big impact."
   ]
  },
  {
   "cell_type": "code",
   "execution_count": null,
   "metadata": {
    "ExecuteTime": {
     "end_time": "2020-08-10T09:41:24.558479Z",
     "start_time": "2020-08-10T09:41:19.668003Z"
    },
    "scrolled": false
   },
   "outputs": [],
   "source": [
    "fig, ax = plt.subplots(figsize=(8,6))\n",
    "for i, g in D[(D.s2==0.2) & (D.dt==0.001)].groupby('alpha'):\n",
    "    g.plot(x='gamma', y='Te_0_std_50%', \n",
    "           style='o', logx=False, logy=True, ax=ax, label='alpha=%s' % (i), \n",
    "           title='s2=%s, s3=%s dt=%s' % (g.s2.unique(), g.s3.unique(), g.dt.unique()))\n",
    "plt.ylabel('Te_0_std_50%');"
   ]
  },
  {
   "cell_type": "markdown",
   "metadata": {},
   "source": [
    "We can also look at the mean and standard deviation of the fluxes, compared to the reference flux."
   ]
  },
  {
   "cell_type": "code",
   "execution_count": null,
   "metadata": {
    "ExecuteTime": {
     "end_time": "2020-08-10T09:41:33.487156Z",
     "start_time": "2020-08-10T09:41:24.565364Z"
    }
   },
   "outputs": [],
   "source": [
    "fig, ax = plt.subplots(figsize=(8,6))\n",
    "for i, g in D[(D.gamma==0.0) & (D.s2<=10)].groupby(['dt', 'alpha']):\n",
    "    g.plot(x='s2', y='flux_mean', \n",
    "           style='o', logx=True, logy=True, ax=ax, label='dt=%s, alpha=%s' % (g.dt.unique(), g.alpha.unique()), \n",
    "           title='flux_mean dependence on s2 by dt and alpha\\ns2=s3 = 0.2')\n",
    "plt.ylim(1e3,1e6)\n",
    "plt.ylabel('flux_mean');\n",
    "plt.plot([D.s2.min(), 10.0], [D.flux_ref.mean(), D.flux_ref.mean()], 'k');"
   ]
  },
  {
   "cell_type": "code",
   "execution_count": null,
   "metadata": {
    "ExecuteTime": {
     "end_time": "2020-08-10T09:41:41.215220Z",
     "start_time": "2020-08-10T09:41:33.493305Z"
    }
   },
   "outputs": [],
   "source": [
    "fig, ax = plt.subplots(figsize=(8,6))\n",
    "for i, g in D[(D.gamma==0.0) & (D.s2<=10)].groupby(['dt', 'alpha']):\n",
    "    g.plot(x='s2', y='flux_std', \n",
    "           style='o', logx=True, logy=True, ax=ax, label='dt=%s, alpha=%s' % (g.dt.unique(), g.alpha.unique()), \n",
    "           title='flux_std dependence on s2 by dt and alpha\\ns2=s3 = 0.2')\n",
    "plt.ylim(1e1,1e6)\n",
    "plt.ylabel('flux_std');\n",
    "plt.plot([D.s2.min(), 10.0], [D.flux_ref.mean(), D.flux_ref.mean()], 'k');"
   ]
  },
  {
   "cell_type": "code",
   "execution_count": null,
   "metadata": {
    "ExecuteTime": {
     "end_time": "2020-08-10T09:41:41.279250Z",
     "start_time": "2020-08-10T09:41:41.220027Z"
    },
    "scrolled": false
   },
   "outputs": [],
   "source": [
    "D[['s2', 's3', 'alpha', 'beta', 'gamma', 'dt', 'NITER', 'Te_0_mean_50%', 'Te_0_std_50%']]"
   ]
  },
  {
   "cell_type": "code",
   "execution_count": null,
   "metadata": {
    "ExecuteTime": {
     "end_time": "2020-08-10T09:41:41.372736Z",
     "start_time": "2020-08-10T09:41:41.284594Z"
    },
    "scrolled": false
   },
   "outputs": [],
   "source": [
    "D"
   ]
  }
 ],
 "metadata": {
  "kernelspec": {
   "display_name": "Python 3",
   "language": "python",
   "name": "python3"
  },
  "language_info": {
   "codemirror_mode": {
    "name": "ipython",
    "version": 3
   },
   "file_extension": ".py",
   "mimetype": "text/x-python",
   "name": "python",
   "nbconvert_exporter": "python",
   "pygments_lexer": "ipython3",
   "version": "3.8.5"
  }
 },
 "nbformat": 4,
 "nbformat_minor": 4
}
