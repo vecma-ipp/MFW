{
 "cells": [
  {
   "cell_type": "code",
   "execution_count": null,
   "metadata": {
    "ExecuteTime": {
     "end_time": "2020-08-06T06:43:55.911824Z",
     "start_time": "2020-08-06T06:43:52.985840Z"
    },
    "scrolled": true
   },
   "outputs": [],
   "source": [
    "%matplotlib inline\n",
    "#%matplotlib notebook\n",
    "import matplotlib.pylab as plt\n",
    "import numpy as np\n",
    "import pandas as pd\n",
    "pd.options.display.max_rows = 100"
   ]
  },
  {
   "cell_type": "code",
   "execution_count": null,
   "metadata": {
    "ExecuteTime": {
     "end_time": "2020-08-06T06:43:55.986786Z",
     "start_time": "2020-08-06T06:43:55.914243Z"
    },
    "scrolled": false
   },
   "outputs": [],
   "source": [
    "D = pd.read_csv('results_test.log')\n",
    "D.columns\n",
    "D[['dt', 'NITER', 'alpha', 'beta', 'gamma', 's2', 's3', 'Te_0_mean_50%', 'Te_0_std_50%']]"
   ]
  },
  {
   "cell_type": "code",
   "execution_count": null,
   "metadata": {
    "ExecuteTime": {
     "end_time": "2020-08-06T07:16:55.645316Z",
     "start_time": "2020-08-06T07:16:54.381272Z"
    }
   },
   "outputs": [],
   "source": [
    "fig, ax = plt.subplots(figsize=(8,6))\n",
    "for i, g in D[D.gamma==0.0].groupby(['dt', 'alpha']):\n",
    "    g.plot(x='s2', y='Te_0_mean_50%', \n",
    "           style='o', logx=True, logy=True, ax=ax, label='dt=%s, alpha=%s' % (g.dt.unique(), g.alpha.unique()), \n",
    "           title='Te_0 dependence on s2 by dt and alpha\\ngamma=0.0')\n",
    "plt.ylabel('Te_0_mean_50%');"
   ]
  },
  {
   "cell_type": "code",
   "execution_count": null,
   "metadata": {
    "ExecuteTime": {
     "end_time": "2020-08-06T07:17:10.882892Z",
     "start_time": "2020-08-06T07:17:09.743138Z"
    }
   },
   "outputs": [],
   "source": [
    "fig, ax = plt.subplots(figsize=(8,6))\n",
    "for i, g in D[D.gamma==0.0].groupby(['dt', 'alpha']):\n",
    "    g.plot(x='s2', y='Te_0_std_50%', \n",
    "           style='o', logx=True, logy=True, ax=ax, label='dt=%s, alpha=%s' % (g.dt.unique(), g.alpha.unique()), \n",
    "           title='Te_0 dependence on s2 by dt and alpha\\ngamma=0.0')\n",
    "plt.ylabel('Te_0_std_50%');"
   ]
  },
  {
   "cell_type": "code",
   "execution_count": null,
   "metadata": {
    "ExecuteTime": {
     "end_time": "2020-08-06T06:49:22.679680Z",
     "start_time": "2020-08-06T06:49:21.579955Z"
    }
   },
   "outputs": [],
   "source": [
    "D[(D.alpha==0.1) & (D.dt==0.1)].plot(x='s2', y=['Te_0_mean_50%', 'Te_0_std_50%'], \n",
    "                      style='o', logx=True, logy=True,\n",
    "                      title='Te_0 dependence on randomization level\\nalpha=0.1, dt=0.1')\n",
    "plt.ylabel('$Te_0$ [$eV$]');"
   ]
  },
  {
   "cell_type": "code",
   "execution_count": null,
   "metadata": {
    "ExecuteTime": {
     "end_time": "2020-08-06T06:49:28.310259Z",
     "start_time": "2020-08-06T06:49:27.340768Z"
    }
   },
   "outputs": [],
   "source": [
    "D[(D.alpha==0.1) & (D.dt==0.01)].plot(x='s2', y=['Te_0_mean_50%', 'Te_0_std_50%'], \n",
    "                      style='o', logx=True, logy=True,\n",
    "                      title='Te_0 dependence on randomization level\\nalpha=0.1, dt=0.01')\n",
    "plt.ylabel('$Te_0$ [$eV$]');"
   ]
  },
  {
   "cell_type": "code",
   "execution_count": null,
   "metadata": {
    "ExecuteTime": {
     "end_time": "2020-08-06T06:46:08.602017Z",
     "start_time": "2020-08-06T06:46:07.627871Z"
    },
    "scrolled": true
   },
   "outputs": [],
   "source": [
    "D[(D.alpha==0.01) & (D.dt==0.01)].plot(x='s2', y=['Te_0_mean_50%', 'Te_0_std_50%'], \n",
    "                      style='o', logx=True, logy=True,\n",
    "                      title='Te_0 dependence on randomization level\\nalpha=0.01, dt=0.01')\n",
    "plt.ylabel('$Te_0$ [$eV$]');"
   ]
  },
  {
   "cell_type": "code",
   "execution_count": null,
   "metadata": {
    "ExecuteTime": {
     "end_time": "2020-08-06T06:48:33.378544Z",
     "start_time": "2020-08-06T06:48:32.566100Z"
    }
   },
   "outputs": [],
   "source": [
    "D[(D.alpha==0.01) & (D.dt==0.001)].plot(x='s2', y=['Te_0_mean_50%', 'Te_0_std_50%'], \n",
    "                      style='o', logx=True, logy=True,\n",
    "                      title='Te_0 dependence on randomization level\\nalpha=0.01, dt=0.001')\n",
    "plt.ylabel('$Te_0$ [$eV$]');"
   ]
  },
  {
   "cell_type": "code",
   "execution_count": null,
   "metadata": {
    "ExecuteTime": {
     "end_time": "2020-08-06T06:47:29.224897Z",
     "start_time": "2020-08-06T06:47:28.259165Z"
    }
   },
   "outputs": [],
   "source": [
    "D[(D.alpha==0.001) & (D.dt==0.01)].plot(x='s2', y=['Te_0_mean_50%', 'Te_0_std_50%'], \n",
    "                      style='o', logx=True, logy=True,\n",
    "                      title='Te_0 dependence on randomization level\\nalpha=0.001, dt=0.01')\n",
    "plt.ylabel('$Te_0$ [$eV$]');"
   ]
  },
  {
   "cell_type": "code",
   "execution_count": null,
   "metadata": {
    "ExecuteTime": {
     "end_time": "2020-08-06T06:50:45.466185Z",
     "start_time": "2020-08-06T06:50:44.523899Z"
    }
   },
   "outputs": [],
   "source": [
    "D[(D.alpha==0.001) & (D.dt==0.001)].plot(x='s2', y=['Te_0_mean_50%', 'Te_0_std_50%'], \n",
    "                      style='o', logx=True, logy=True,\n",
    "                      title='Te_0 dependence on randomization level\\nalpha=0.001, dt=0.001')\n",
    "plt.ylabel('$Te_0$ [$eV$]');"
   ]
  },
  {
   "cell_type": "code",
   "execution_count": null,
   "metadata": {
    "ExecuteTime": {
     "end_time": "2020-08-06T06:53:09.652173Z",
     "start_time": "2020-08-06T06:53:09.176551Z"
    },
    "scrolled": false
   },
   "outputs": [],
   "source": [
    "D[D.s2==1.0].plot(x='alpha', y=['Te_0_mean_50%', 'Te_0_std_50%'], \n",
    "                  style='o', logx=True, logy=False, \n",
    "                  title='Te_0 dependence on alpha\\ns2=s3 = 1.0')\n",
    "plt.ylabel('$Te_0$ [$eV$]');"
   ]
  },
  {
   "cell_type": "code",
   "execution_count": null,
   "metadata": {
    "ExecuteTime": {
     "end_time": "2020-08-06T06:53:18.681481Z",
     "start_time": "2020-08-06T06:53:18.116135Z"
    },
    "scrolled": false
   },
   "outputs": [],
   "source": [
    "D[D.s2==0.2].plot(x='alpha', y=['Te_0_mean_50%', 'Te_0_std_50%'], \n",
    "                  style='o', logx=True, logy=False, \n",
    "                  title='Te_0 dependence on alpha\\ns2=s3 = 0.2')\n",
    "plt.ylabel('$Te_0$ [$eV$]');"
   ]
  },
  {
   "cell_type": "code",
   "execution_count": null,
   "metadata": {
    "ExecuteTime": {
     "end_time": "2020-08-06T06:54:27.849380Z",
     "start_time": "2020-08-06T06:54:27.092048Z"
    },
    "scrolled": false
   },
   "outputs": [],
   "source": [
    "fig, ax = plt.subplots(figsize=(8,6))\n",
    "for i, g in D[D.s2==0.2].groupby('dt'):\n",
    "    g.plot(x='alpha', y='Te_0_std_50%', \n",
    "           style='o', logx=True, logy=True, ax=ax, label='dt=%s' % (i), \n",
    "           title='Te_0 dependence on alpha by dt\\ns2=s3 = 0.2')\n",
    "plt.ylabel('Te_0_std_50%');"
   ]
  },
  {
   "cell_type": "code",
   "execution_count": null,
   "metadata": {
    "ExecuteTime": {
     "end_time": "2020-08-06T06:59:29.967649Z",
     "start_time": "2020-08-06T06:59:29.271544Z"
    },
    "scrolled": false
   },
   "outputs": [],
   "source": [
    "fig, ax = plt.subplots(figsize=(8,6))\n",
    "for i, g in D[(D.s2==0.2) & (D.gamma==0.0)].groupby('dt'):\n",
    "    g.plot(x='alpha', y='Te_0_std_50%', \n",
    "           style='o', logx=True, logy=True, ax=ax, label='dt=%s' % (i), \n",
    "           title='s2=%s, s3=%s gamma=%s' % (g.s2.unique(), g.s3.unique(), g.gamma.unique()))\n",
    "plt.ylabel('Te_0_std_50%');"
   ]
  },
  {
   "cell_type": "code",
   "execution_count": null,
   "metadata": {
    "ExecuteTime": {
     "end_time": "2020-08-06T07:00:08.337562Z",
     "start_time": "2020-08-06T07:00:07.862118Z"
    },
    "scrolled": false
   },
   "outputs": [],
   "source": [
    "fig, ax = plt.subplots(figsize=(8,6))\n",
    "for i, g in D[(D.s2==0.2) & (D.dt==0.001)].groupby('alpha'):\n",
    "    g.plot(x='gamma', y='Te_0_std_50%', \n",
    "           style='o', logx=False, logy=True, ax=ax, label='alpha=%s' % (i), \n",
    "           title='s2=%s, s3=%s dt=%s' % (g.s2.unique(), g.s3.unique(), g.dt.unique()))\n",
    "plt.ylabel('Te_0_std_50%');"
   ]
  },
  {
   "cell_type": "code",
   "execution_count": null,
   "metadata": {
    "ExecuteTime": {
     "end_time": "2020-08-06T07:19:25.556927Z",
     "start_time": "2020-08-06T07:19:24.437152Z"
    }
   },
   "outputs": [],
   "source": [
    "fig, ax = plt.subplots(figsize=(8,6))\n",
    "for i, g in D[D.gamma==0.0].groupby(['dt', 'alpha']):\n",
    "    g.plot(x='s2', y='flux_mean', \n",
    "           style='o', logx=True, logy=True, ax=ax, label='dt=%s, alpha=%s' % (g.dt.unique(), g.alpha.unique()), \n",
    "           title='flux_mean dependence on s2 by dt and alpha\\ns2=s3 = 0.2')\n",
    "plt.ylim(1e3,1e6)\n",
    "plt.ylabel('flux_mean');"
   ]
  },
  {
   "cell_type": "code",
   "execution_count": null,
   "metadata": {
    "ExecuteTime": {
     "end_time": "2020-08-06T07:20:34.565210Z",
     "start_time": "2020-08-06T07:20:33.262610Z"
    }
   },
   "outputs": [],
   "source": [
    "fig, ax = plt.subplots(figsize=(8,6))\n",
    "for i, g in D[D.gamma==0.0].groupby(['dt', 'alpha']):\n",
    "    g.plot(x='s2', y='flux_std', \n",
    "           style='o', logx=True, logy=True, ax=ax, label='dt=%s, alpha=%s' % (g.dt.unique(), g.alpha.unique()), \n",
    "           title='flux_std dependence on s2 by dt and alpha\\ns2=s3 = 0.2')\n",
    "plt.ylim(1e1,1e6)\n",
    "plt.ylabel('flux_std');"
   ]
  },
  {
   "cell_type": "code",
   "execution_count": null,
   "metadata": {
    "ExecuteTime": {
     "end_time": "2020-08-05T17:00:54.362082Z",
     "start_time": "2020-08-05T17:00:54.236565Z"
    },
    "scrolled": false
   },
   "outputs": [],
   "source": [
    "D[['s2', 's3', 'alpha', 'beta', 'gamma', 'dt', 'NITER', 'Te_0_mean_50%', 'Te_0_std_50%']]"
   ]
  },
  {
   "cell_type": "code",
   "execution_count": null,
   "metadata": {
    "ExecuteTime": {
     "end_time": "2020-08-06T07:13:29.807815Z",
     "start_time": "2020-08-06T07:13:29.641111Z"
    }
   },
   "outputs": [],
   "source": [
    "D"
   ]
  }
 ],
 "metadata": {
  "kernelspec": {
   "display_name": "Python 3",
   "language": "python",
   "name": "python3"
  },
  "language_info": {
   "codemirror_mode": {
    "name": "ipython",
    "version": 3
   },
   "file_extension": ".py",
   "mimetype": "text/x-python",
   "name": "python",
   "nbconvert_exporter": "python",
   "pygments_lexer": "ipython3",
   "version": "3.7.3"
  }
 },
 "nbformat": 4,
 "nbformat_minor": 4
}
