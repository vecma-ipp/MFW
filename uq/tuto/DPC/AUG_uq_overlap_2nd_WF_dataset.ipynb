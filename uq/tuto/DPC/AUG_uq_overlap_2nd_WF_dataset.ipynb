{
 "cells": [
  {
   "cell_type": "markdown",
   "metadata": {
    "slideshow": {
     "slide_type": "slide"
    }
   },
   "source": [
    "# Explore the AUG workflow and single flux tube UQ data sets\n",
    "\n",
    "- this uses \n",
    "  - uq/data/AUG_mix-lim_gem_inoutput.txt for the WF data\n",
    "    - with limits on Te, dTe, Ti and dTi\n",
    "  - uq/data/gem_uq_inoutput.csv for the single flux tube UQ data"
   ]
  },
  {
   "cell_type": "markdown",
   "metadata": {
    "ExecuteTime": {
     "end_time": "2020-08-15T12:19:21.864321Z",
     "start_time": "2020-08-15T12:19:21.861536Z"
    },
    "slideshow": {
     "slide_type": "slide"
    }
   },
   "source": [
    "## A fairly standard set of imports"
   ]
  },
  {
   "cell_type": "code",
   "execution_count": null,
   "metadata": {
    "ExecuteTime": {
     "end_time": "2020-08-19T15:44:40.034342Z",
     "start_time": "2020-08-19T15:44:39.264403Z"
    }
   },
   "outputs": [],
   "source": [
    "%matplotlib inline\n",
    "#%matplotlib notebook\n",
    "import os\n",
    "import matplotlib\n",
    "if not os.getenv(\"DISPLAY\"): matplotlib.use('Agg')\n",
    "import matplotlib.pylab as plt\n",
    "from IPython.display import set_matplotlib_formats\n",
    "set_matplotlib_formats('png', 'pdf')\n",
    "import numpy as np\n",
    "import pandas as pd\n",
    "pd.options.display.max_rows = 100"
   ]
  },
  {
   "cell_type": "markdown",
   "metadata": {
    "slideshow": {
     "slide_type": "slide"
    }
   },
   "source": [
    "## Read and examine the workflow data"
   ]
  },
  {
   "cell_type": "code",
   "execution_count": null,
   "metadata": {
    "ExecuteTime": {
     "end_time": "2020-08-19T15:44:40.770433Z",
     "start_time": "2020-08-19T15:44:40.037328Z"
    }
   },
   "outputs": [],
   "source": [
    "# read the data from the AUG workflow runs\n",
    "AUG_gem = pd.read_table('../../data/AUG_mix-lim_gem_inoutput.txt', delimiter='  *', engine='python') \n",
    "AUG_gem.describe().T"
   ]
  },
  {
   "cell_type": "markdown",
   "metadata": {
    "slideshow": {
     "slide_type": "slide"
    }
   },
   "source": [
    "### Set up some column selections"
   ]
  },
  {
   "cell_type": "code",
   "execution_count": null,
   "metadata": {
    "ExecuteTime": {
     "end_time": "2020-08-19T15:44:40.796405Z",
     "start_time": "2020-08-19T15:44:40.777132Z"
    }
   },
   "outputs": [],
   "source": [
    "AUG_gem.columns\n",
    "active = ['time', \n",
    "          'Te-ft1', 'Te-ft2', 'Te-ft3', 'Te-ft4', 'Te-ft5', 'Te-ft6', 'Te-ft7', 'Te-ft8', \n",
    "          'dTe-ft1', 'dTe-ft2', 'dTe-ft3', 'dTe-ft4', 'dTe-ft5', 'dTe-ft6', 'dTe-ft7', 'dTe-ft8', \n",
    "          'Ti-ft1', 'Ti-ft2', 'Ti-ft3', 'Ti-ft4', 'Ti-ft5', 'Ti-ft6', 'Ti-ft7', 'Ti-ft8', \n",
    "          'dTi-ft1', 'dTi-ft2', 'dTi-ft3', 'dTi-ft4', 'dTi-ft5', 'dTi-ft6', 'dTi-ft7', 'dTi-ft8', \n",
    "          'flux-Te-ft1', 'flux-Te-ft2', 'flux-Te-ft3', 'flux-Te-ft4', \n",
    "          'flux-Te-ft5', 'flux-Te-ft6', 'flux-Te-ft7', 'flux-Te-ft8', \n",
    "          'flux-Ti-ft1', 'flux-Ti-ft2', 'flux-Ti-ft3', 'flux-Ti-ft4', \n",
    "          'flux-Ti-ft5', 'flux-Ti-ft6', 'flux-Ti-ft7', 'flux-Ti-ft8']\n",
    "active_t = []\n",
    "active_t.append(['time', 'Te-ft1', 'dTe-ft1', 'Ti-ft1', 'dTi-ft1', 'flux-Te-ft1', 'flux-Ti-ft1'])\n",
    "active_t.append(['time', 'Te-ft2', 'dTe-ft2', 'Ti-ft2', 'dTi-ft2', 'flux-Te-ft2', 'flux-Ti-ft2'])\n",
    "active_t.append(['time', 'Te-ft3', 'dTe-ft3', 'Ti-ft3', 'dTi-ft3', 'flux-Te-ft3', 'flux-Ti-ft3'])\n",
    "active_t.append(['time', 'Te-ft4', 'dTe-ft4', 'Ti-ft4', 'dTi-ft4', 'flux-Te-ft4', 'flux-Ti-ft4'])\n",
    "active_t.append(['time', 'Te-ft5', 'dTe-ft5', 'Ti-ft5', 'dTi-ft5', 'flux-Te-ft5', 'flux-Ti-ft5'])\n",
    "active_t.append(['time', 'Te-ft6', 'dTe-ft6', 'Ti-ft6', 'dTi-ft6', 'flux-Te-ft6', 'flux-Ti-ft6'])\n",
    "active_t.append(['time', 'Te-ft7', 'dTe-ft7', 'Ti-ft7', 'dTi-ft7', 'flux-Te-ft7', 'flux-Ti-ft7'])\n",
    "active_t.append(['time', 'Te-ft8', 'dTe-ft8', 'Ti-ft8', 'dTi-ft8', 'flux-Te-ft8', 'flux-Ti-ft8'])"
   ]
  },
  {
   "cell_type": "markdown",
   "metadata": {
    "slideshow": {
     "slide_type": "slide"
    }
   },
   "source": [
    "## Read and examine the UQ data"
   ]
  },
  {
   "cell_type": "code",
   "execution_count": null,
   "metadata": {
    "ExecuteTime": {
     "end_time": "2020-08-19T15:44:40.861452Z",
     "start_time": "2020-08-19T15:44:40.805886Z"
    }
   },
   "outputs": [],
   "source": [
    "# read the data from the AUG single flux tube UQ runs\n",
    "G = pd.read_csv('../../data/gem_uq_inoutput.csv')\n",
    "G.describe().T"
   ]
  },
  {
   "cell_type": "markdown",
   "metadata": {
    "slideshow": {
     "slide_type": "slide"
    }
   },
   "source": [
    "### Set up some column selections"
   ]
  },
  {
   "cell_type": "code",
   "execution_count": null,
   "metadata": {
    "ExecuteTime": {
     "end_time": "2020-08-19T15:44:40.878463Z",
     "start_time": "2020-08-19T15:44:40.865953Z"
    }
   },
   "outputs": [],
   "source": [
    "# setup some column groups \n",
    "Te_cols = ['Te-ft1', 'Te-ft2', 'Te-ft3', 'Te-ft4', 'Te-ft5', 'Te-ft6', 'Te-ft7', 'Te-ft8']\n",
    "Ti_cols = ['Ti-ft1', 'Ti-ft2', 'Ti-ft3', 'Ti-ft4', 'Ti-ft5', 'Ti-ft6', 'Ti-ft7', 'Ti-ft8']\n",
    "dTe_cols = ['dTe-ft1', 'dTe-ft2', 'dTe-ft3', 'dTe-ft4', 'dTe-ft5', 'dTe-ft6', 'dTe-ft7', 'dTe-ft8']\n",
    "dTi_cols = ['dTi-ft1', 'dTi-ft2', 'dTi-ft3', 'dTi-ft4', 'dTi-ft5', 'dTi-ft6', 'dTi-ft7', 'dTi-ft8']\n",
    "Te_flux_cols = ['flux-Te-ft1', 'flux-Te-ft2', 'flux-Te-ft3', 'flux-Te-ft4', \n",
    "                'flux-Te-ft5', 'flux-Te-ft6', 'flux-Te-ft7', 'flux-Te-ft8'] \n",
    "Ti_flux_cols = ['flux-Ti-ft1', 'flux-Ti-ft2', 'flux-Ti-ft3', 'flux-Ti-ft4', \n",
    "                'flux-Ti-ft5', 'flux-Ti-ft6', 'flux-Ti-ft7', 'flux-Ti-ft8']"
   ]
  },
  {
   "cell_type": "markdown",
   "metadata": {
    "ExecuteTime": {
     "end_time": "2020-08-15T13:03:43.226502Z",
     "start_time": "2020-08-15T13:03:43.221791Z"
    },
    "slideshow": {
     "slide_type": "slide"
    }
   },
   "source": [
    "## Plot the correlations for the various flux tubes (complete data set, every 100th data point)"
   ]
  },
  {
   "cell_type": "code",
   "execution_count": null,
   "metadata": {
    "ExecuteTime": {
     "end_time": "2020-08-19T15:45:27.119937Z",
     "start_time": "2020-08-19T15:44:40.884399Z"
    },
    "scrolled": true,
    "slideshow": {
     "slide_type": "-"
    }
   },
   "outputs": [],
   "source": [
    "for t in active_t:\n",
    "    axes = pd.plotting.scatter_matrix(AUG_gem.iloc[::100][t], alpha=0.5, diagonal='hist', figsize=(7,4))\n",
    "    corr = np.array(AUG_gem[::100][t].corr())\n",
    "    for i, j in zip(*plt.np.triu_indices_from(axes, k=1)):\n",
    "        axes[i, j].annotate(\"%.3f\" %corr[i,j], (0.8, 0.8), xycoords='axes fraction', ha='center', va='center')\n",
    "    plt.figure(figsize=(7,4))\n",
    "    plt.imshow(corr, cmap='RdBu_r', vmin=-1, vmax=+1)\n",
    "    plt.xticks(np.arange(corr.shape[0]), t, rotation=90); plt.yticks(np.arange(corr.shape[1]), t); plt.colorbar();"
   ]
  },
  {
   "cell_type": "markdown",
   "metadata": {
    "slideshow": {
     "slide_type": "slide"
    }
   },
   "source": [
    "## Plot the correlations for the various flux tubes (starting from 3000th point, every 10th data point)"
   ]
  },
  {
   "cell_type": "code",
   "execution_count": null,
   "metadata": {
    "ExecuteTime": {
     "end_time": "2020-08-19T15:46:25.811637Z",
     "start_time": "2020-08-19T15:45:27.123711Z"
    },
    "scrolled": true
   },
   "outputs": [],
   "source": [
    "for t in active_t:\n",
    "    axes = pd.plotting.scatter_matrix(AUG_gem.iloc[3000::10][t], alpha=0.5, diagonal='hist', figsize=(7,4))\n",
    "    corr = np.array(AUG_gem[3000::10][t].corr())\n",
    "    for i, j in zip(*plt.np.triu_indices_from(axes, k=1)):\n",
    "        axes[i, j].annotate(\"%.3f\" %corr[i,j], (0.8, 0.8), xycoords='axes fraction', ha='center', va='center')\n",
    "    plt.figure(figsize=(7,4))\n",
    "    plt.imshow(corr, cmap='RdBu_r', vmin=-1, vmax=+1)\n",
    "    plt.xticks(np.arange(corr.shape[0]), t, rotation=90); plt.yticks(np.arange(corr.shape[1]), t); plt.colorbar();"
   ]
  },
  {
   "cell_type": "markdown",
   "metadata": {
    "slideshow": {
     "slide_type": "slide"
    }
   },
   "source": [
    "## Worryingly we see a trend in time for flux-Te-ft1\n",
    "\n",
    "Let's plot the electron and ion energy fluxes"
   ]
  },
  {
   "cell_type": "code",
   "execution_count": null,
   "metadata": {
    "ExecuteTime": {
     "end_time": "2020-08-19T15:46:28.698672Z",
     "start_time": "2020-08-19T15:46:25.819427Z"
    },
    "scrolled": true
   },
   "outputs": [],
   "source": [
    "fig, ax = plt.subplots(1,2, figsize=(24,8))\n",
    "AUG_gem.plot(x='time', y=Te_flux_cols, logy=True, ax=ax[0]); ax[0].set_ylabel('flux_Te');\n",
    "AUG_gem.plot(x='time', y=Ti_flux_cols, logy=True, ax=ax[1]); ax[1].set_ylabel('flux_Ti');"
   ]
  },
  {
   "cell_type": "markdown",
   "metadata": {
    "slideshow": {
     "slide_type": "slide"
    }
   },
   "source": [
    "## Let's do some averaging"
   ]
  },
  {
   "cell_type": "code",
   "execution_count": null,
   "metadata": {
    "ExecuteTime": {
     "end_time": "2020-08-19T15:46:31.527226Z",
     "start_time": "2020-08-19T15:46:28.705722Z"
    }
   },
   "outputs": [],
   "source": [
    "from numba import jit\n",
    "from numba import float64\n",
    "from numba import int64\n",
    "@jit((float64[:], float64), nopython=True, nogil=True)\n",
    "def _ewma(arr_in, alpha):\n",
    "    r\"\"\"Exponentialy weighted moving average specified by a decay parameter\n",
    "\n",
    "        y[t] = (x[t] + (1-a)*x[t-1] + (1-a)^2*x[t-2] + ... + (1-a)^n*x[t-n]) /\n",
    "               (1 + (1-a) + (1-a)^2 + ... + (1-a)^n).\n",
    "\n",
    "    Parameters\n",
    "    ----------\n",
    "    arr_in : np.ndarray, float64\n",
    "        A single dimenisional numpy array\n",
    "    alpha : int64\n",
    "        The decay parameter\n",
    "\n",
    "    Returns\n",
    "    -------\n",
    "    np.ndarray\n",
    "        The EWMA vector, same length / shape as ``arr_in``\n",
    "    \"\"\"\n",
    "    n = arr_in.shape[0]\n",
    "    ewma = np.empty(n, dtype=float64)\n",
    "    w = 1\n",
    "    ewma_old = arr_in[0]\n",
    "    ewma[0] = ewma_old\n",
    "    for i in range(1, n):\n",
    "        w += (1-alpha)**i\n",
    "        ewma_old = ewma_old*(1-alpha) + arr_in[i]\n",
    "        ewma[i] = ewma_old / w\n",
    "    return ewma"
   ]
  },
  {
   "cell_type": "markdown",
   "metadata": {
    "slideshow": {
     "slide_type": "slide"
    }
   },
   "source": [
    "### Smoothed electron energy fluxes"
   ]
  },
  {
   "cell_type": "code",
   "execution_count": null,
   "metadata": {
    "ExecuteTime": {
     "end_time": "2020-08-19T15:46:32.210920Z",
     "start_time": "2020-08-19T15:46:31.529745Z"
    }
   },
   "outputs": [],
   "source": [
    "plt.figure(figsize=(16,8))\n",
    "for c in Te_flux_cols:\n",
    "    plt.plot(AUG_gem.time, _ewma(np.array(AUG_gem[c]), 1e-3), label=c)\n",
    "plt.legend(loc=0, ncol=2) ; plt.title('smoothing alpha = 1e-3')\n",
    "plt.ylim(0,0.8e5) ; plt.xlabel('time [s]') ; plt.ylabel('electron energy flux density [W m^{-2}]');"
   ]
  },
  {
   "cell_type": "markdown",
   "metadata": {
    "slideshow": {
     "slide_type": "slide"
    }
   },
   "source": [
    "### Smoothed ion energy fluxes"
   ]
  },
  {
   "cell_type": "code",
   "execution_count": null,
   "metadata": {
    "ExecuteTime": {
     "end_time": "2020-08-19T15:46:32.964588Z",
     "start_time": "2020-08-19T15:46:32.213837Z"
    }
   },
   "outputs": [],
   "source": [
    "plt.figure(figsize=(16,8))\n",
    "for c in Ti_flux_cols:\n",
    "    plt.plot(AUG_gem.time, _ewma(np.array(AUG_gem[c]), float64(1e-3)), label=c)\n",
    "plt.legend(loc=0, ncol=2) ; plt.title('smoothing alpha = 1e-3')\n",
    "plt.ylim(0,1.1e5) ; plt.xlabel('time [s]') ; plt.ylabel('ion energy flux density [W m^{-2}]');"
   ]
  },
  {
   "cell_type": "markdown",
   "metadata": {
    "slideshow": {
     "slide_type": "slide"
    }
   },
   "source": [
    "## Now analyze column groups"
   ]
  },
  {
   "cell_type": "code",
   "execution_count": null,
   "metadata": {
    "ExecuteTime": {
     "end_time": "2020-08-19T15:46:33.016133Z",
     "start_time": "2020-08-19T15:46:32.976771Z"
    }
   },
   "outputs": [],
   "source": [
    "def analyze(AUG_columns, uq_columns, xlabel):\n",
    "    fig, ax = plt.subplots(2,2, figsize=(16,8))\n",
    "    AUG_gem.plot(x='time', y=AUG_columns, ax=ax[0][0]);\n",
    "\n",
    "    AUG_gem.iloc[3000:].plot(x='time', y=AUG_columns, ax=ax[0][1]);\n",
    "\n",
    "    cols = AUG_columns.copy()\n",
    "    for c in cols:\n",
    "        AUG_gem.hist(column=c, alpha=0.25, density=True, ax=ax[1][0])\n",
    "    G.hist(column=uq_columns, alpha=0.75, density=True, ax=ax[1][0])\n",
    "    cols.append(uq_columns)\n",
    "    ax[1][0].legend(cols, ncol=3)\n",
    "    ax[1][0].set_xlabel(xlabel)\n",
    "    ax[1][0].set_title(\"all rows\");\n",
    "    \n",
    "    cols = AUG_columns.copy()\n",
    "    for c in cols:\n",
    "        AUG_gem.iloc[3000:].hist(column=c, alpha=0.25, density=True, ax=ax[1][1])\n",
    "    G.hist(column=uq_columns, alpha=0.75, density=True, ax=ax[1][1])\n",
    "    cols.append(uq_columns)\n",
    "    ax[1][1].legend(cols, ncol=3)\n",
    "    ax[1][1].set_xlabel(xlabel)\n",
    "    ax[1][1].set_title(\"from row 3000 onwards\");"
   ]
  },
  {
   "cell_type": "markdown",
   "metadata": {
    "slideshow": {
     "slide_type": "slide"
    }
   },
   "source": [
    "### Te"
   ]
  },
  {
   "cell_type": "code",
   "execution_count": null,
   "metadata": {
    "ExecuteTime": {
     "end_time": "2020-08-19T15:46:36.522341Z",
     "start_time": "2020-08-19T15:46:33.027795Z"
    },
    "scrolled": true
   },
   "outputs": [],
   "source": [
    "analyze(Te_cols, 'te_value', 'Te [eV]')"
   ]
  },
  {
   "cell_type": "markdown",
   "metadata": {},
   "source": [
    "* from about ???? onwards Te is in a quasi steady-state\n",
    "* the Te choices for the UQ are too wide for a single flux tube\n",
    "  * but not wide enough for all of the flux tubes \n",
    "  (which wouldn't make sense since other things also change)"
   ]
  },
  {
   "cell_type": "markdown",
   "metadata": {
    "slideshow": {
     "slide_type": "slide"
    }
   },
   "source": [
    "### d/drho Te"
   ]
  },
  {
   "cell_type": "code",
   "execution_count": null,
   "metadata": {
    "ExecuteTime": {
     "end_time": "2020-08-19T15:46:40.098413Z",
     "start_time": "2020-08-19T15:46:36.527254Z"
    },
    "scrolled": true
   },
   "outputs": [],
   "source": [
    "analyze(dTe_cols, 'te_ddrho', 'd/drho Te [eV/m]')"
   ]
  },
  {
   "cell_type": "markdown",
   "metadata": {},
   "source": [
    "* dTe is much noisier than Te!\n",
    "* from about ???? onwards Te is in a quasi steady-state\n",
    "* the dTe choices seem to be a bit narrow given the noise levels"
   ]
  },
  {
   "cell_type": "markdown",
   "metadata": {
    "slideshow": {
     "slide_type": "slide"
    }
   },
   "source": [
    "### Ti"
   ]
  },
  {
   "cell_type": "code",
   "execution_count": null,
   "metadata": {
    "ExecuteTime": {
     "end_time": "2020-08-19T15:46:43.926199Z",
     "start_time": "2020-08-19T15:46:40.120673Z"
    },
    "scrolled": true
   },
   "outputs": [],
   "source": [
    "analyze(Ti_cols, 'ti_value', 'Ti [eV]')"
   ]
  },
  {
   "cell_type": "markdown",
   "metadata": {},
   "source": [
    "* Ti seems to be noisier than Te (limiting only applied to Te?)\n",
    "* from about ???? onwards Ti is in a quasi steady-state\n",
    "* the Ti choices for the UQ are too wide for a single flux tube\n",
    "  * but not wide enough for all of the flux tubes \n",
    "  (which wouldn't make sense since other things also change)"
   ]
  },
  {
   "cell_type": "markdown",
   "metadata": {
    "slideshow": {
     "slide_type": "slide"
    }
   },
   "source": [
    "### d/drho Ti"
   ]
  },
  {
   "cell_type": "code",
   "execution_count": null,
   "metadata": {
    "ExecuteTime": {
     "end_time": "2020-08-19T15:46:47.803559Z",
     "start_time": "2020-08-19T15:46:43.928827Z"
    },
    "scrolled": true
   },
   "outputs": [],
   "source": [
    "analyze(dTi_cols, 'ti_ddrho', 'd/drho Ti [eV/m]')"
   ]
  },
  {
   "cell_type": "markdown",
   "metadata": {},
   "source": [
    "* dTi is much noisier than Ti and dTe!\n",
    "* from about ???? onwards dTi is perhaps in a quasi steady-state\n",
    "* the dTi choices seem to be a bit narrow given the noise levels"
   ]
  },
  {
   "cell_type": "markdown",
   "metadata": {
    "slideshow": {
     "slide_type": "slide"
    }
   },
   "source": [
    "# The End"
   ]
  }
 ],
 "metadata": {
  "celltoolbar": "Slideshow",
  "kernelspec": {
   "display_name": "Python 3",
   "language": "python",
   "name": "python3"
  },
  "language_info": {
   "codemirror_mode": {
    "name": "ipython",
    "version": 3
   },
   "file_extension": ".py",
   "mimetype": "text/x-python",
   "name": "python",
   "nbconvert_exporter": "python",
   "pygments_lexer": "ipython3",
   "version": "3.7.3"
  },
  "latex_envs": {
   "LaTeX_envs_menu_present": true,
   "autoclose": false,
   "autocomplete": true,
   "bibliofile": "biblio.bib",
   "cite_by": "apalike",
   "current_citInitial": 1,
   "eqLabelWithNumbers": true,
   "eqNumInitial": 1,
   "hotkeys": {
    "equation": "Ctrl-E",
    "itemize": "Ctrl-I"
   },
   "labels_anchors": false,
   "latex_user_defs": false,
   "report_style_numbering": false,
   "user_envs_cfg": false
  },
  "latex_metadata": {
   "affiliation": "Max Planck Institute for Plasma Physics, Garching, Germany",
   "author": "David P. Coster",
   "title": "VECMA Fusion Notebooks"
  }
 },
 "nbformat": 4,
 "nbformat_minor": 4
}
