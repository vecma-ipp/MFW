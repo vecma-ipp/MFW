{
 "cells": [
  {
   "cell_type": "code",
   "execution_count": 10,
   "metadata": {
    "ExecuteTime": {
     "end_time": "2021-01-12T12:55:42.669137Z",
     "start_time": "2021-01-12T12:55:42.664327Z"
    }
   },
   "outputs": [],
   "source": [
    "import sys\n",
    "sys.path.append('ASCII_UAL')\n",
    "import ascii_cpo\n",
    "import numpy as np\n",
    "import scipy.interpolate\n",
    "import matplotlib.pyplot as plt\n",
    "import scipy.constants"
   ]
  },
  {
   "cell_type": "code",
   "execution_count": 11,
   "metadata": {
    "ExecuteTime": {
     "end_time": "2021-01-12T12:55:42.684386Z",
     "start_time": "2021-01-12T12:55:42.673977Z"
    }
   },
   "outputs": [],
   "source": [
    "EQ_name = 'CPO_GEM0/chease_equilibrium_0100.cpo'\n",
    "EQ_name = '../../../workflows/AUG_28906_6/ets_equilibrium_in.cpo'"
   ]
  },
  {
   "cell_type": "code",
   "execution_count": 12,
   "metadata": {
    "ExecuteTime": {
     "end_time": "2021-01-12T12:55:43.524818Z",
     "start_time": "2021-01-12T12:55:42.686248Z"
    }
   },
   "outputs": [],
   "source": [
    "EQ = ascii_cpo.read(EQ_name, 'equilibrium')"
   ]
  },
  {
   "cell_type": "code",
   "execution_count": 13,
   "metadata": {
    "ExecuteTime": {
     "end_time": "2021-01-12T12:55:43.965476Z",
     "start_time": "2021-01-12T12:55:43.531858Z"
    }
   },
   "outputs": [
    {
     "name": "stderr",
     "output_type": "stream",
     "text": [
      "/toks/scratch/dpc/GIT/EasyVVUQ/env/lib/python3.6/site-packages/ipykernel_launcher.py:8: MatplotlibDeprecationWarning: Adding an axes using the same arguments as a previous axes currently reuses the earlier instance.  In a future version, a new instance will always be created and returned.  Meanwhile, this warning can be suppressed, and the future behavior ensured, by passing a unique label to each axes instance.\n",
      "  \n"
     ]
    },
    {
     "data": {
      "image/png": "[encoded data removed]",
      "text/plain": [
       "<Figure size 216x360 with 1 Axes>"
      ]
     },
     "metadata": {
      "needs_background": "light"
     },
     "output_type": "display_data"
    }
   ],
   "source": [
    "R = EQ.eqgeometry.boundary[0].r\n",
    "Z = EQ.eqgeometry.boundary[0].z\n",
    "R_geo = (R.max() + R.min())/2\n",
    "plt.figure(figsize=(3,5))\n",
    "plt.plot(R, Z)\n",
    "R = 2*R_geo - R\n",
    "plt.plot(R, Z)\n",
    "plt.axes().set_aspect('equal', 'datalim')"
   ]
  },
  {
   "cell_type": "code",
   "execution_count": 14,
   "metadata": {
    "ExecuteTime": {
     "end_time": "2021-01-12T12:55:43.987968Z",
     "start_time": "2021-01-12T12:55:43.967915Z"
    }
   },
   "outputs": [
    {
     "name": "stdout",
     "output_type": "stream",
     "text": [
      "1.6206353639286202\n"
     ]
    }
   ],
   "source": [
    "print(R_geo)"
   ]
  },
  {
   "cell_type": "code",
   "execution_count": 15,
   "metadata": {
    "ExecuteTime": {
     "end_time": "2021-01-12T12:55:45.560051Z",
     "start_time": "2021-01-12T12:55:43.990395Z"
    }
   },
   "outputs": [
    {
     "data": {
      "text/plain": [
       "0"
      ]
     },
     "execution_count": 15,
     "metadata": {},
     "output_type": "execute_result"
    }
   ],
   "source": [
    "EQ.eqgeometry.boundary[0].r = R\n"
   ]
  },
  {
   "cell_type": "code",
   "execution_count": null,
   "metadata": {},
   "outputs": [],
   "source": []
  }
 ],
 "metadata": {
  "kernelspec": {
   "display_name": "Python 3",
   "language": "python",
   "name": "python3"
  },
  "language_info": {
   "codemirror_mode": {
    "name": "ipython",
    "version": 3
   },
   "file_extension": ".py",
   "mimetype": "text/x-python",
   "name": "python",
   "nbconvert_exporter": "python",
   "pygments_lexer": "ipython3",
   "version": "3.6.7"
  },
  "latex_envs": {
   "LaTeX_envs_menu_present": true,
   "autoclose": false,
   "autocomplete": true,
   "bibliofile": "biblio.bib",
   "cite_by": "apalike",
   "current_citInitial": 1,
   "eqLabelWithNumbers": true,
   "eqNumInitial": 1,
   "hotkeys": {
    "equation": "Ctrl-E",
    "itemize": "Ctrl-I"
   },
   "labels_anchors": false,
   "latex_user_defs": false,
   "report_style_numbering": false,
   "user_envs_cfg": false
  }
 },
 "nbformat": 4,
 "nbformat_minor": 4
}
