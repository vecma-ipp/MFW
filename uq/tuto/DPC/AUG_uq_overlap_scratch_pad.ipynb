{
 "cells": [
  {
   "cell_type": "markdown",
   "metadata": {
    "slideshow": {
     "slide_type": "slide"
    }
   },
   "source": [
    "# Explore the AUG workflow and single flux tube UQ data sets\n",
    "\n",
    "- this uses \n",
    "  - uq/data/AUG_mix-lim_gem_inoutput.txt for the WF data\n",
    "    - with limits on Te, dTe, Ti and dTi\n",
    "  - uq/data/gem_uq_inoutput.csv for the single flux tube UQ data"
   ]
  },
  {
   "cell_type": "markdown",
   "metadata": {
    "ExecuteTime": {
     "end_time": "2020-08-15T12:19:21.864321Z",
     "start_time": "2020-08-15T12:19:21.861536Z"
    },
    "slideshow": {
     "slide_type": "slide"
    }
   },
   "source": [
    "## A fairly standard set of imports"
   ]
  },
  {
   "cell_type": "code",
   "execution_count": null,
   "metadata": {
    "ExecuteTime": {
     "end_time": "2020-09-09T19:09:51.142111Z",
     "start_time": "2020-09-09T19:09:42.241297Z"
    }
   },
   "outputs": [],
   "source": [
    "%matplotlib inline\n",
    "#%matplotlib notebook\n",
    "import os\n",
    "import matplotlib\n",
    "if not os.getenv(\"DISPLAY\"): matplotlib.use('Agg')\n",
    "import matplotlib.pylab as plt\n",
    "from IPython.display import set_matplotlib_formats\n",
    "set_matplotlib_formats('png', 'pdf')\n",
    "import numpy as np\n",
    "import pandas as pd\n",
    "pd.options.display.max_rows = 100\n",
    "from utility import _ewma, plot_smoothed, plot_unsmoothed"
   ]
  },
  {
   "cell_type": "markdown",
   "metadata": {
    "slideshow": {
     "slide_type": "slide"
    }
   },
   "source": [
    "## Read and examine the workflow data"
   ]
  },
  {
   "cell_type": "code",
   "execution_count": null,
   "metadata": {
    "ExecuteTime": {
     "end_time": "2020-09-09T19:09:54.025795Z",
     "start_time": "2020-09-09T19:09:51.145575Z"
    }
   },
   "outputs": [],
   "source": [
    "# read the data from the AUG workflow runs\n",
    "AUG_gem1 = pd.read_table('../../data/AUG_gem_inoutput.txt', delimiter='  *', engine='python')\n",
    "AUG_gem2 = pd.read_table('../../data/AUG_mix-lim_gem_inoutput.txt', delimiter='  *', engine='python') "
   ]
  },
  {
   "cell_type": "code",
   "execution_count": null,
   "metadata": {
    "ExecuteTime": {
     "end_time": "2020-09-09T19:09:54.778583Z",
     "start_time": "2020-09-09T19:09:54.051428Z"
    }
   },
   "outputs": [],
   "source": [
    "AUG_gem1.describe().T"
   ]
  },
  {
   "cell_type": "code",
   "execution_count": null,
   "metadata": {
    "ExecuteTime": {
     "end_time": "2020-09-09T19:09:55.469336Z",
     "start_time": "2020-09-09T19:09:54.783847Z"
    }
   },
   "outputs": [],
   "source": [
    "AUG_gem2.describe().T"
   ]
  },
  {
   "cell_type": "code",
   "execution_count": null,
   "metadata": {
    "ExecuteTime": {
     "end_time": "2020-09-09T19:09:56.356751Z",
     "start_time": "2020-09-09T19:09:55.474236Z"
    },
    "scrolled": true
   },
   "outputs": [],
   "source": [
    "AUG_tmp = pd.read_table('../../data/AUG_mix-lim_flux_area.txt', delimiter='  *', engine='python')\n",
    "AUG_tmp.describe().T\n",
    "\n"
   ]
  },
  {
   "cell_type": "markdown",
   "metadata": {
    "slideshow": {
     "slide_type": "slide"
    }
   },
   "source": [
    "### Set up some column selections"
   ]
  },
  {
   "cell_type": "code",
   "execution_count": null,
   "metadata": {
    "ExecuteTime": {
     "end_time": "2020-09-09T19:09:56.382097Z",
     "start_time": "2020-09-09T19:09:56.367740Z"
    }
   },
   "outputs": [],
   "source": [
    "active_t = []\n",
    "active_t.append(['time', 'Te-ft1', 'dTe-ft1', 'Ti-ft1', 'dTi-ft1', 'flux-Te-ft1', 'flux-Ti-ft1'])\n",
    "active_t.append(['time', 'Te-ft2', 'dTe-ft2', 'Ti-ft2', 'dTi-ft2', 'flux-Te-ft2', 'flux-Ti-ft2'])\n",
    "active_t.append(['time', 'Te-ft3', 'dTe-ft3', 'Ti-ft3', 'dTi-ft3', 'flux-Te-ft3', 'flux-Ti-ft3'])\n",
    "active_t.append(['time', 'Te-ft4', 'dTe-ft4', 'Ti-ft4', 'dTi-ft4', 'flux-Te-ft4', 'flux-Ti-ft4'])\n",
    "active_t.append(['time', 'Te-ft5', 'dTe-ft5', 'Ti-ft5', 'dTi-ft5', 'flux-Te-ft5', 'flux-Ti-ft5'])\n",
    "active_t.append(['time', 'Te-ft6', 'dTe-ft6', 'Ti-ft6', 'dTi-ft6', 'flux-Te-ft6', 'flux-Ti-ft6'])\n",
    "active_t.append(['time', 'Te-ft7', 'dTe-ft7', 'Ti-ft7', 'dTi-ft7', 'flux-Te-ft7', 'flux-Ti-ft7'])\n",
    "active_t.append(['time', 'Te-ft8', 'dTe-ft8', 'Ti-ft8', 'dTi-ft8', 'flux-Te-ft8', 'flux-Ti-ft8'])"
   ]
  },
  {
   "cell_type": "markdown",
   "metadata": {
    "slideshow": {
     "slide_type": "slide"
    }
   },
   "source": [
    "## Read and examine the UQ data"
   ]
  },
  {
   "cell_type": "code",
   "execution_count": null,
   "metadata": {
    "ExecuteTime": {
     "end_time": "2020-09-09T19:09:56.506911Z",
     "start_time": "2020-09-09T19:09:56.395362Z"
    }
   },
   "outputs": [],
   "source": [
    "# read the data from the AUG single flux tube UQ runs\n",
    "G = pd.read_csv('../../data/gem_uq_inoutput.csv')\n",
    "G.describe().T"
   ]
  },
  {
   "cell_type": "markdown",
   "metadata": {
    "slideshow": {
     "slide_type": "slide"
    }
   },
   "source": [
    "### Set up some column selections"
   ]
  },
  {
   "cell_type": "code",
   "execution_count": null,
   "metadata": {
    "ExecuteTime": {
     "end_time": "2020-09-09T19:09:56.573881Z",
     "start_time": "2020-09-09T19:09:56.536176Z"
    }
   },
   "outputs": [],
   "source": [
    "# setup some column groups \n",
    "Te_cols = ['Te-ft1', 'Te-ft2', 'Te-ft3', 'Te-ft4', 'Te-ft5', 'Te-ft6', 'Te-ft7', 'Te-ft8']\n",
    "Ti_cols = ['Ti-ft1', 'Ti-ft2', 'Ti-ft3', 'Ti-ft4', 'Ti-ft5', 'Ti-ft6', 'Ti-ft7', 'Ti-ft8']\n",
    "dTe_cols = ['dTe-ft1', 'dTe-ft2', 'dTe-ft3', 'dTe-ft4', 'dTe-ft5', 'dTe-ft6', 'dTe-ft7', 'dTe-ft8']\n",
    "dTi_cols = ['dTi-ft1', 'dTi-ft2', 'dTi-ft3', 'dTi-ft4', 'dTi-ft5', 'dTi-ft6', 'dTi-ft7', 'dTi-ft8']\n",
    "Te_flux_cols = ['flux-Te-ft1', 'flux-Te-ft2', 'flux-Te-ft3', 'flux-Te-ft4', \n",
    "                'flux-Te-ft5', 'flux-Te-ft6', 'flux-Te-ft7', 'flux-Te-ft8'] \n",
    "Ti_flux_cols = ['flux-Ti-ft1', 'flux-Ti-ft2', 'flux-Ti-ft3', 'flux-Ti-ft4', \n",
    "                'flux-Ti-ft5', 'flux-Ti-ft6', 'flux-Ti-ft7', 'flux-Ti-ft8']\n",
    "ne_cols = ['ne-ft1', 'ne-ft2', 'ne-ft3', 'ne-ft4', 'ne-ft5', 'ne-ft6', 'ne-ft7', 'ne-ft8']\n",
    "dne_cols = ['dne-ft1', 'dne-ft2', 'dne-ft3', 'dne-ft4', 'dne-ft5', 'dne-ft6', 'dne-ft7', 'dne-ft8']\n",
    "ne_flux_cols = ['flux-ne-ft1', 'flux-ne-ft2', 'flux-ne-ft3', 'flux-ne-ft4', \n",
    "                'flux-ne-ft5', 'flux-ne-ft6', 'flux-ne-ft7', 'flux-ne-ft8']"
   ]
  },
  {
   "cell_type": "code",
   "execution_count": null,
   "metadata": {
    "ExecuteTime": {
     "end_time": "2020-09-09T19:09:56.600855Z",
     "start_time": "2020-09-09T19:09:56.585748Z"
    }
   },
   "outputs": [],
   "source": [
    "# setup some column groups \n",
    "dvdrho_cols = ['dvdrho1', 'dvdrho2', 'dvdrho3', 'dvdrho4', 'dvdrho5', 'dvdrho6', 'dvdrho7', 'dvdrho8']\n",
    "surfaceA_cols = ['surfaceA1', 'surfaceA2', 'surfaceA3', 'surfaceA4', 'surfaceA5', 'surfaceA6', 'surfaceA7', 'surfaceA8']\n",
    "Te_source_int_cols = ['Te-source-int-ft1', 'Te-source-int-ft2', 'Te-source-int-ft3', 'Te-source-int-ft4', \n",
    "                'Te-source-int-ft5', 'Te-source-int-ft6', 'Te-source-int-ft7', 'Te-source-int-ft8'] \n",
    "Ti_source_int_cols = ['Ti-source-int-ft1', 'Ti-source-int-ft2', 'Ti-source-int-ft3', 'Ti-source-int-ft4', \n",
    "                'Ti-source-int-ft5', 'Ti-source-int-ft6', 'Ti-source-int-ft7', 'Ti-source-int-ft8']\n",
    "E_source_int_cols = ['E-source-int-ft1', 'E-source-int-ft2', 'E-source-int-ft3', 'E-source-int-ft4', \n",
    "                'E-source-int-ft5', 'E-source-int-ft6', 'E-source-int-ft7', 'E-source-int-ft8']\n",
    "E_flux_cols = ['flux-E-ft1', 'flux-E-ft2', 'flux-E-ft3', 'flux-E-ft4', \n",
    "               'flux-E-ft5', 'flux-E-ft6', 'flux-E-ft7', 'flux-E-ft8']"
   ]
  },
  {
   "cell_type": "code",
   "execution_count": null,
   "metadata": {
    "ExecuteTime": {
     "end_time": "2020-09-09T19:29:54.408270Z",
     "start_time": "2020-09-09T19:29:54.144924Z"
    }
   },
   "outputs": [],
   "source": [
    "AUG_tmp[E_source_int_cols] = np.array(AUG_tmp[Te_source_int_cols]) + np.array(AUG_tmp[Ti_source_int_cols])\n",
    "AUG_tmp[Te_flux_cols] = np.array(AUG_tmp[Te_source_int_cols]) / np.array(AUG_tmp[dvdrho_cols])\n",
    "AUG_tmp[Ti_flux_cols] = np.array(AUG_tmp[Ti_source_int_cols]) / np.array(AUG_tmp[dvdrho_cols])\n",
    "AUG_tmp[E_flux_cols] = np.array(AUG_tmp[E_source_int_cols]) / np.array(AUG_tmp[dvdrho_cols])\n",
    "AUG_gem2[E_flux_cols] = np.array(AUG_gem2[Te_flux_cols]) + np.array(AUG_gem2[Ti_flux_cols])"
   ]
  },
  {
   "cell_type": "code",
   "execution_count": null,
   "metadata": {
    "ExecuteTime": {
     "end_time": "2020-09-09T19:09:56.799914Z",
     "start_time": "2020-09-09T19:09:56.702315Z"
    }
   },
   "outputs": [],
   "source": [
    "AUG_tmp[E_flux_cols].describe().T"
   ]
  },
  {
   "cell_type": "code",
   "execution_count": null,
   "metadata": {
    "ExecuteTime": {
     "end_time": "2020-09-09T19:26:18.409168Z",
     "start_time": "2020-09-09T19:25:51.357109Z"
    }
   },
   "outputs": [],
   "source": [
    "fig, ax = plt.subplots(4, 2, figsize=(24,24))\n",
    "AUG_tmp.plot(x='time', y=dvdrho_cols, ax=ax[0,0])\n",
    "AUG_tmp.plot(x='time', y=surfaceA_cols, ax=ax[0,1])\n",
    "AUG_tmp.plot(x='time', y=Te_source_int_cols, ax=ax[1,0])\n",
    "AUG_tmp.plot(x='time', y=Ti_source_int_cols, ax=ax[1,1])\n",
    "AUG_tmp.plot(x='time', y=Te_flux_cols, ax=ax[2,0])\n",
    "AUG_tmp.plot(x='time', y=Ti_flux_cols, ax=ax[2,1])\n",
    "AUG_tmp.plot(x='time', y=E_source_int_cols, ax=ax[3,0])\n",
    "AUG_tmp.plot(x='time', y=E_flux_cols, ax=ax[3,1]);"
   ]
  },
  {
   "cell_type": "code",
   "execution_count": null,
   "metadata": {
    "ExecuteTime": {
     "end_time": "2020-09-09T19:10:11.683913Z",
     "start_time": "2020-09-09T19:10:11.270594Z"
    }
   },
   "outputs": [],
   "source": [
    "import importlib, utility\n",
    "importlib.reload(utility)\n",
    "from utility import _ewma, plot_smoothed, plot_unsmoothed"
   ]
  },
  {
   "cell_type": "markdown",
   "metadata": {
    "slideshow": {
     "slide_type": "slide"
    }
   },
   "source": [
    "## Flux tube electron and ion energy fluxes"
   ]
  },
  {
   "cell_type": "code",
   "execution_count": null,
   "metadata": {
    "ExecuteTime": {
     "end_time": "2020-09-09T19:10:19.369844Z",
     "start_time": "2020-09-09T19:10:11.687004Z"
    }
   },
   "outputs": [],
   "source": [
    "plot_unsmoothed(\n",
    "    [{\"data\": AUG_gem1, \"style\": '-.'}, {\"data\": AUG_gem2, \"style\": '-'}, {\"data\": AUG_tmp, \"style\": ':'}],\n",
    "    [{\"cols\": Te_flux_cols, \"label\": 'electron energy flux density [W m^{-2}]', \"limit\": (1e2,1e6)},\n",
    "     {\"cols\": Ti_flux_cols, \"label\": 'ion energy flux density [W m^{-2}]', \"limit\": (1e2,1e6)}],\n",
    "    logy=True)"
   ]
  },
  {
   "cell_type": "markdown",
   "metadata": {
    "slideshow": {
     "slide_type": "slide"
    }
   },
   "source": [
    "### Smoothed electron and ion energy fluxes"
   ]
  },
  {
   "cell_type": "code",
   "execution_count": null,
   "metadata": {
    "ExecuteTime": {
     "end_time": "2020-09-09T19:10:29.133364Z",
     "start_time": "2020-09-09T19:10:19.375827Z"
    }
   },
   "outputs": [],
   "source": [
    "plot_smoothed(\n",
    "    [{\"data\": AUG_gem1, \"style\": '-.'}, {\"data\": AUG_gem2, \"style\": '-'}, {\"data\": AUG_tmp, \"style\": ':'}],\n",
    "    [{\"cols\": Te_flux_cols, \"label\": 'electron energy flux density [W m^{-2}]', \"limit\": (1e2,0.7e5)},\n",
    "     {\"cols\": Ti_flux_cols, \"label\": 'ion energy flux density [W m^{-2}]', \"limit\": (1e2,1.2e5)}])"
   ]
  },
  {
   "cell_type": "code",
   "execution_count": null,
   "metadata": {
    "ExecuteTime": {
     "end_time": "2020-09-09T19:10:35.304592Z",
     "start_time": "2020-09-09T19:10:29.138031Z"
    },
    "slideshow": {
     "slide_type": "slide"
    }
   },
   "outputs": [],
   "source": [
    "plot_smoothed(\n",
    "    [{\"data\": AUG_gem2, \"style\": '-'}, {\"data\": AUG_tmp, \"style\": ':'}],\n",
    "    [{\"cols\": Te_flux_cols, \"label\": 'electron energy flux density [W m^{-2}]', \"limit\": (0e4,0.7e5)},\n",
    "     {\"cols\": Ti_flux_cols, \"label\": 'ion energy flux density [W m^{-2}]', \"limit\": (0e4,1.2e5)}],\n",
    "    logy=False)"
   ]
  },
  {
   "cell_type": "markdown",
   "metadata": {
    "slideshow": {
     "slide_type": "slide"
    }
   },
   "source": [
    "## Flux tube Te & Ti"
   ]
  },
  {
   "cell_type": "code",
   "execution_count": null,
   "metadata": {
    "ExecuteTime": {
     "end_time": "2020-09-09T19:10:43.821403Z",
     "start_time": "2020-09-09T19:10:35.316805Z"
    }
   },
   "outputs": [],
   "source": [
    "plot_unsmoothed(\n",
    "    [{\"data\": AUG_gem1, \"style\": '-.'}, {\"data\": AUG_gem2, \"style\": ':'}],\n",
    "    [{\"cols\": Te_cols, \"label\": 'electron temperature [eV]', \"limit\": (200,3500)},\n",
    "     {\"cols\": Ti_cols, \"label\": 'ion temperature [eV]', \"limit\": (200,2500)}])"
   ]
  },
  {
   "cell_type": "code",
   "execution_count": null,
   "metadata": {
    "ExecuteTime": {
     "end_time": "2020-09-09T19:10:53.303028Z",
     "start_time": "2020-09-09T19:10:43.828730Z"
    }
   },
   "outputs": [],
   "source": [
    "plot_smoothed(\n",
    "    [{\"data\": AUG_gem1, \"style\": '-.'}, {\"data\": AUG_gem2, \"style\": ':'}],\n",
    "    [{\"cols\": Te_cols, \"label\": 'electron temperature [eV]', \"limit\": (200,3500)},\n",
    "     {\"cols\": Ti_cols, \"label\": 'ion temperature [eV]', \"limit\": (200,2500)}])"
   ]
  },
  {
   "cell_type": "markdown",
   "metadata": {
    "slideshow": {
     "slide_type": "slide"
    }
   },
   "source": [
    "## Flux tube dTe & dTi"
   ]
  },
  {
   "cell_type": "code",
   "execution_count": null,
   "metadata": {
    "ExecuteTime": {
     "end_time": "2020-09-09T19:10:58.512691Z",
     "start_time": "2020-09-09T19:10:53.306264Z"
    }
   },
   "outputs": [],
   "source": [
    "plot_unsmoothed(\n",
    "    [{\"data\": AUG_gem1, \"style\": '-.'}, {\"data\": AUG_gem2, \"style\": ':'}],\n",
    "    [{\"cols\": dTe_cols, \"label\": 'electron temperature gradient [eV/m]', \"limit\": (-8000,0)},\n",
    "     {\"cols\": dTi_cols, \"label\": 'ion temperature gradient [eV/m]', \"limit\": (-5000,0)}],\n",
    "    logy=False)"
   ]
  },
  {
   "cell_type": "code",
   "execution_count": null,
   "metadata": {
    "ExecuteTime": {
     "end_time": "2020-09-09T19:11:03.016192Z",
     "start_time": "2020-09-09T19:10:58.515102Z"
    }
   },
   "outputs": [],
   "source": [
    "plot_smoothed(\n",
    "    [{\"data\": AUG_gem1, \"style\": '-.'}, {\"data\": AUG_gem2, \"style\": ':'}],\n",
    "    [{\"cols\": dTe_cols, \"label\": 'electron temperature gradient [eV/m]', \"limit\": (-8000,0)},\n",
    "     {\"cols\": dTi_cols, \"label\": 'ion temperature gradient [eV/m]', \"limit\": (-5000,0)}],\n",
    "    logy=False)"
   ]
  },
  {
   "cell_type": "markdown",
   "metadata": {
    "slideshow": {
     "slide_type": "slide"
    }
   },
   "source": [
    "## Flux tube ne & dne (not evolved so should be pretty much constant)"
   ]
  },
  {
   "cell_type": "code",
   "execution_count": null,
   "metadata": {
    "ExecuteTime": {
     "end_time": "2020-09-09T19:11:05.621218Z",
     "start_time": "2020-09-09T19:11:03.021104Z"
    }
   },
   "outputs": [],
   "source": [
    "plot_unsmoothed(\n",
    "    [{\"data\": AUG_gem1, \"style\": '-.'}, {\"data\": AUG_gem2, \"style\": ':'}],\n",
    "    [{\"cols\": ne_cols, \"label\": 'electron density [m^{-3}]', \"limit\": (3.5e19,4.5e19)},\n",
    "     {\"cols\": dne_cols, \"label\": 'electron density gradient [m^{-3}/m]', \"limit\": (-0.65e19,-0.45e19)}],\n",
    "    logy=False)"
   ]
  },
  {
   "cell_type": "markdown",
   "metadata": {
    "slideshow": {
     "slide_type": "slide"
    }
   },
   "source": [
    "## Flux tube ne fluxes"
   ]
  },
  {
   "cell_type": "code",
   "execution_count": null,
   "metadata": {
    "ExecuteTime": {
     "end_time": "2020-09-09T19:11:09.271845Z",
     "start_time": "2020-09-09T19:11:05.637015Z"
    }
   },
   "outputs": [],
   "source": [
    "plot_unsmoothed(\n",
    "    [{\"data\": AUG_gem1, \"style\": '-.'}, {\"data\": AUG_gem2, \"style\": ':'}],\n",
    "    [{\"cols\": ne_flux_cols, \"label\": 'electron particle flux [s^{-1}]', \"limit\": (-2e20,2e20)},\n",
    "     {\"cols\": ne_flux_cols, \"label\": 'electron particle flux [s^{-1}]', \"limit\": (-1e20,1e20)}],\n",
    "    logy=False)"
   ]
  },
  {
   "cell_type": "code",
   "execution_count": null,
   "metadata": {
    "ExecuteTime": {
     "end_time": "2020-09-09T19:11:13.474055Z",
     "start_time": "2020-09-09T19:11:09.286622Z"
    }
   },
   "outputs": [],
   "source": [
    "plot_smoothed(\n",
    "    [{\"data\": AUG_gem1, \"style\": '-.'}, {\"data\": AUG_gem2, \"style\": ':'}],\n",
    "    [{\"cols\": ne_flux_cols, \"label\": 'electron particle flux [s^{-1}]', \"limit\": (-2e20,2e20)},\n",
    "     {\"cols\": ne_flux_cols, \"label\": 'electron particle flux [s^{-1}]', \"limit\": (-1e20,1e20)}],\n",
    "    logy=False)"
   ]
  },
  {
   "cell_type": "markdown",
   "metadata": {
    "slideshow": {
     "slide_type": "slide"
    }
   },
   "source": [
    "## Summed energy fluxes"
   ]
  },
  {
   "cell_type": "code",
   "execution_count": null,
   "metadata": {
    "ExecuteTime": {
     "end_time": "2020-09-09T19:43:55.172270Z",
     "start_time": "2020-09-09T19:43:51.942962Z"
    }
   },
   "outputs": [],
   "source": [
    "plot_smoothed(\n",
    "    [{\"data\": AUG_gem2, \"style\": '-'}, {\"data\": AUG_tmp, \"style\": ':'}],\n",
    "    [{\"cols\": E_flux_cols, \"label\": 'summed energy flux density [W m^{-2}]', \"limit\": (0e4,2.0e5)}],\n",
    "    logy=False, figsize=(24,16))"
   ]
  },
  {
   "cell_type": "code",
   "execution_count": null,
   "metadata": {
    "ExecuteTime": {
     "end_time": "2020-09-09T19:43:26.463655Z",
     "start_time": "2020-09-09T19:43:25.956389Z"
    }
   },
   "outputs": [],
   "source": [
    "import utility, importlib\n",
    "importlib.reload(utility)\n",
    "from utility import _ewma, plot_smoothed, plot_unsmoothed"
   ]
  },
  {
   "cell_type": "markdown",
   "metadata": {
    "slideshow": {
     "slide_type": "slide"
    }
   },
   "source": [
    "# The End"
   ]
  }
 ],
 "metadata": {
  "celltoolbar": "Slideshow",
  "kernelspec": {
   "display_name": "Python 3",
   "language": "python",
   "name": "python3"
  },
  "language_info": {
   "codemirror_mode": {
    "name": "ipython",
    "version": 3
   },
   "file_extension": ".py",
   "mimetype": "text/x-python",
   "name": "python",
   "nbconvert_exporter": "python",
   "pygments_lexer": "ipython3",
   "version": "3.7.3"
  },
  "latex_envs": {
   "LaTeX_envs_menu_present": true,
   "autoclose": false,
   "autocomplete": true,
   "bibliofile": "biblio.bib",
   "cite_by": "apalike",
   "current_citInitial": 1,
   "eqLabelWithNumbers": true,
   "eqNumInitial": 1,
   "hotkeys": {
    "equation": "Ctrl-E",
    "itemize": "Ctrl-I"
   },
   "labels_anchors": false,
   "latex_user_defs": false,
   "report_style_numbering": false,
   "user_envs_cfg": false
  },
  "latex_metadata": {
   "affiliation": "Max Planck Institute for Plasma Physics, Garching, Germany",
   "author": "David P. Coster",
   "title": "VECMA Fusion Notebooks"
  }
 },
 "nbformat": 4,
 "nbformat_minor": 4
}
