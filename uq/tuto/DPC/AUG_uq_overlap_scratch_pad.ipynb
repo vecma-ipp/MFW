{
 "cells": [
  {
   "cell_type": "markdown",
   "metadata": {
    "slideshow": {
     "slide_type": "slide"
    }
   },
   "source": [
    "# Explore the AUG workflow and single flux tube UQ data sets\n",
    "\n",
    "- this uses \n",
    "  - uq/data/AUG_mix-lim_gem_inoutput.txt for the WF data\n",
    "    - with limits on Te, dTe, Ti and dTi\n",
    "  - uq/data/gem_uq_inoutput.csv for the single flux tube UQ data"
   ]
  },
  {
   "cell_type": "markdown",
   "metadata": {
    "ExecuteTime": {
     "end_time": "2020-08-15T12:19:21.864321Z",
     "start_time": "2020-08-15T12:19:21.861536Z"
    },
    "slideshow": {
     "slide_type": "slide"
    }
   },
   "source": [
    "## A fairly standard set of imports"
   ]
  },
  {
   "cell_type": "code",
   "execution_count": null,
   "metadata": {
    "ExecuteTime": {
     "end_time": "2020-09-01T06:59:39.392132Z",
     "start_time": "2020-09-01T06:59:37.168920Z"
    }
   },
   "outputs": [],
   "source": [
    "%matplotlib inline\n",
    "#%matplotlib notebook\n",
    "import os\n",
    "import matplotlib\n",
    "if not os.getenv(\"DISPLAY\"): matplotlib.use('Agg')\n",
    "import matplotlib.pylab as plt\n",
    "from IPython.display import set_matplotlib_formats\n",
    "set_matplotlib_formats('png', 'pdf')\n",
    "import numpy as np\n",
    "import pandas as pd\n",
    "pd.options.display.max_rows = 100\n",
    "from utility import _ewma, plot_smoothed, plot_unsmoothed"
   ]
  },
  {
   "cell_type": "markdown",
   "metadata": {
    "slideshow": {
     "slide_type": "slide"
    }
   },
   "source": [
    "## Read and examine the workflow data"
   ]
  },
  {
   "cell_type": "code",
   "execution_count": null,
   "metadata": {
    "ExecuteTime": {
     "end_time": "2020-09-02T16:59:40.302246Z",
     "start_time": "2020-09-02T16:59:29.712531Z"
    }
   },
   "outputs": [],
   "source": [
    "# read the data from the AUG workflow runs\n",
    "AUG_gem1 = pd.read_table('../../data/AUG_gem_inoutput.txt', delimiter='  *', engine='python')\n",
    "AUG_gem2 = pd.read_table('../../data/AUG_mix-lim_gem_inoutput.txt', delimiter='  *', engine='python') "
   ]
  },
  {
   "cell_type": "code",
   "execution_count": null,
   "metadata": {
    "ExecuteTime": {
     "end_time": "2020-09-02T17:19:25.510559Z",
     "start_time": "2020-09-02T17:19:21.136662Z"
    }
   },
   "outputs": [],
   "source": [
    "AUG_tmp = pd.read_table('../../data/AUG_mix-lim_flux_area.txt', delimiter='  *', engine='python')\n",
    "AUG_tmp.describe().T\n",
    "\n"
   ]
  },
  {
   "cell_type": "code",
   "execution_count": null,
   "metadata": {
    "ExecuteTime": {
     "end_time": "2020-09-02T16:59:55.323810Z",
     "start_time": "2020-09-02T16:59:52.191341Z"
    }
   },
   "outputs": [],
   "source": [
    "AUG_gem1.describe().T"
   ]
  },
  {
   "cell_type": "code",
   "execution_count": null,
   "metadata": {
    "ExecuteTime": {
     "end_time": "2020-09-02T17:00:58.897795Z",
     "start_time": "2020-09-02T17:00:58.045791Z"
    }
   },
   "outputs": [],
   "source": [
    "AUG_gem2.describe().T"
   ]
  },
  {
   "cell_type": "markdown",
   "metadata": {
    "slideshow": {
     "slide_type": "slide"
    }
   },
   "source": [
    "### Set up some column selections"
   ]
  },
  {
   "cell_type": "code",
   "execution_count": null,
   "metadata": {
    "ExecuteTime": {
     "end_time": "2020-09-02T17:01:09.035168Z",
     "start_time": "2020-09-02T17:01:08.977817Z"
    }
   },
   "outputs": [],
   "source": [
    "active_t = []\n",
    "active_t.append(['time', 'Te-ft1', 'dTe-ft1', 'Ti-ft1', 'dTi-ft1', 'flux-Te-ft1', 'flux-Ti-ft1'])\n",
    "active_t.append(['time', 'Te-ft2', 'dTe-ft2', 'Ti-ft2', 'dTi-ft2', 'flux-Te-ft2', 'flux-Ti-ft2'])\n",
    "active_t.append(['time', 'Te-ft3', 'dTe-ft3', 'Ti-ft3', 'dTi-ft3', 'flux-Te-ft3', 'flux-Ti-ft3'])\n",
    "active_t.append(['time', 'Te-ft4', 'dTe-ft4', 'Ti-ft4', 'dTi-ft4', 'flux-Te-ft4', 'flux-Ti-ft4'])\n",
    "active_t.append(['time', 'Te-ft5', 'dTe-ft5', 'Ti-ft5', 'dTi-ft5', 'flux-Te-ft5', 'flux-Ti-ft5'])\n",
    "active_t.append(['time', 'Te-ft6', 'dTe-ft6', 'Ti-ft6', 'dTi-ft6', 'flux-Te-ft6', 'flux-Ti-ft6'])\n",
    "active_t.append(['time', 'Te-ft7', 'dTe-ft7', 'Ti-ft7', 'dTi-ft7', 'flux-Te-ft7', 'flux-Ti-ft7'])\n",
    "active_t.append(['time', 'Te-ft8', 'dTe-ft8', 'Ti-ft8', 'dTi-ft8', 'flux-Te-ft8', 'flux-Ti-ft8'])"
   ]
  },
  {
   "cell_type": "markdown",
   "metadata": {
    "slideshow": {
     "slide_type": "slide"
    }
   },
   "source": [
    "## Read and examine the UQ data"
   ]
  },
  {
   "cell_type": "code",
   "execution_count": null,
   "metadata": {
    "ExecuteTime": {
     "end_time": "2020-09-02T17:01:15.213109Z",
     "start_time": "2020-09-02T17:01:15.008837Z"
    }
   },
   "outputs": [],
   "source": [
    "# read the data from the AUG single flux tube UQ runs\n",
    "G = pd.read_csv('../../data/gem_uq_inoutput.csv')\n",
    "G.describe().T"
   ]
  },
  {
   "cell_type": "markdown",
   "metadata": {
    "slideshow": {
     "slide_type": "slide"
    }
   },
   "source": [
    "### Set up some column selections"
   ]
  },
  {
   "cell_type": "code",
   "execution_count": null,
   "metadata": {
    "ExecuteTime": {
     "end_time": "2020-09-02T17:01:19.709603Z",
     "start_time": "2020-09-02T17:01:19.665902Z"
    }
   },
   "outputs": [],
   "source": [
    "# setup some column groups \n",
    "Te_cols = ['Te-ft1', 'Te-ft2', 'Te-ft3', 'Te-ft4', 'Te-ft5', 'Te-ft6', 'Te-ft7', 'Te-ft8']\n",
    "Ti_cols = ['Ti-ft1', 'Ti-ft2', 'Ti-ft3', 'Ti-ft4', 'Ti-ft5', 'Ti-ft6', 'Ti-ft7', 'Ti-ft8']\n",
    "dTe_cols = ['dTe-ft1', 'dTe-ft2', 'dTe-ft3', 'dTe-ft4', 'dTe-ft5', 'dTe-ft6', 'dTe-ft7', 'dTe-ft8']\n",
    "dTi_cols = ['dTi-ft1', 'dTi-ft2', 'dTi-ft3', 'dTi-ft4', 'dTi-ft5', 'dTi-ft6', 'dTi-ft7', 'dTi-ft8']\n",
    "Te_flux_cols = ['flux-Te-ft1', 'flux-Te-ft2', 'flux-Te-ft3', 'flux-Te-ft4', \n",
    "                'flux-Te-ft5', 'flux-Te-ft6', 'flux-Te-ft7', 'flux-Te-ft8'] \n",
    "Ti_flux_cols = ['flux-Ti-ft1', 'flux-Ti-ft2', 'flux-Ti-ft3', 'flux-Ti-ft4', \n",
    "                'flux-Ti-ft5', 'flux-Ti-ft6', 'flux-Ti-ft7', 'flux-Ti-ft8']"
   ]
  },
  {
   "cell_type": "code",
   "execution_count": null,
   "metadata": {
    "ExecuteTime": {
     "end_time": "2020-09-02T17:01:39.153551Z",
     "start_time": "2020-09-02T17:01:29.205477Z"
    }
   },
   "outputs": [],
   "source": [
    "import importlib, utility\n",
    "importlib.reload(utility)\n",
    "from utility import _ewma, plot_smoothed, plot_unsmoothed"
   ]
  },
  {
   "cell_type": "markdown",
   "metadata": {
    "slideshow": {
     "slide_type": "slide"
    }
   },
   "source": [
    "## Flux tube electron and ion energy fluxes"
   ]
  },
  {
   "cell_type": "code",
   "execution_count": null,
   "metadata": {
    "ExecuteTime": {
     "end_time": "2020-09-02T17:01:44.624690Z",
     "start_time": "2020-09-02T17:01:39.156179Z"
    }
   },
   "outputs": [],
   "source": [
    "plot_unsmoothed(\n",
    "    [{\"data\": AUG_gem1, \"style\": '-.'}, {\"data\": AUG_gem2, \"style\": ':'}],\n",
    "    [{\"cols\": Te_flux_cols, \"label\": 'electron energy flux density [W m^{-2}]', \"limit\": (1e2,1e6)},\n",
    "     {\"cols\": Ti_flux_cols, \"label\": 'ion energy flux density [W m^{-2}]', \"limit\": (1e2,1e6)}],\n",
    "    logy=True)"
   ]
  },
  {
   "cell_type": "markdown",
   "metadata": {
    "slideshow": {
     "slide_type": "slide"
    }
   },
   "source": [
    "### Smoothed electron and ion energy fluxes"
   ]
  },
  {
   "cell_type": "code",
   "execution_count": null,
   "metadata": {
    "ExecuteTime": {
     "end_time": "2020-09-02T17:02:21.913659Z",
     "start_time": "2020-09-02T17:02:13.231558Z"
    }
   },
   "outputs": [],
   "source": [
    "plot_smoothed(\n",
    "    [{\"data\": AUG_gem1, \"style\": '-.'}, {\"data\": AUG_gem2, \"style\": ':'}],\n",
    "    [{\"cols\": Te_flux_cols, \"label\": 'electron energy flux density [W m^{-2}]', \"limit\": (1e2,0.7e5)},\n",
    "     {\"cols\": Ti_flux_cols, \"label\": 'ion energy flux density [W m^{-2}]', \"limit\": (1e2,1.2e5)}])"
   ]
  },
  {
   "cell_type": "markdown",
   "metadata": {
    "slideshow": {
     "slide_type": "slide"
    }
   },
   "source": [
    "## Flux tube Te & Ti"
   ]
  },
  {
   "cell_type": "code",
   "execution_count": null,
   "metadata": {
    "ExecuteTime": {
     "end_time": "2020-09-02T17:09:07.582444Z",
     "start_time": "2020-09-02T17:09:02.092412Z"
    }
   },
   "outputs": [],
   "source": [
    "plot_unsmoothed(\n",
    "    [{\"data\": AUG_gem1, \"style\": '-.'}, {\"data\": AUG_gem2, \"style\": ':'}],\n",
    "    [{\"cols\": Te_cols, \"label\": 'electron temperature [eV]', \"limit\": (200,3500)},\n",
    "     {\"cols\": Ti_cols, \"label\": 'ion temperature [eV]', \"limit\": (200,2500)}])"
   ]
  },
  {
   "cell_type": "code",
   "execution_count": null,
   "metadata": {
    "ExecuteTime": {
     "end_time": "2020-09-02T17:09:38.817018Z",
     "start_time": "2020-09-02T17:09:32.322683Z"
    }
   },
   "outputs": [],
   "source": [
    "plot_smoothed(\n",
    "    [{\"data\": AUG_gem1, \"style\": '-.'}, {\"data\": AUG_gem2, \"style\": ':'}],\n",
    "    [{\"cols\": Te_cols, \"label\": 'electron temperature [eV]', \"limit\": (200,3500)},\n",
    "     {\"cols\": Ti_cols, \"label\": 'ion temperature [eV]', \"limit\": (200,2500)}])"
   ]
  },
  {
   "cell_type": "markdown",
   "metadata": {
    "slideshow": {
     "slide_type": "slide"
    }
   },
   "source": [
    "## Flux tube dTe & dTi"
   ]
  },
  {
   "cell_type": "code",
   "execution_count": null,
   "metadata": {
    "ExecuteTime": {
     "end_time": "2020-09-02T17:11:14.844048Z",
     "start_time": "2020-09-02T17:11:11.005096Z"
    }
   },
   "outputs": [],
   "source": [
    "plot_unsmoothed(\n",
    "    [{\"data\": AUG_gem1, \"style\": '-.'}, {\"data\": AUG_gem2, \"style\": ':'}],\n",
    "    [{\"cols\": dTe_cols, \"label\": 'electron temperature gradient [eV/m]', \"limit\": (-8000,0)},\n",
    "     {\"cols\": dTi_cols, \"label\": 'ion temperature gradient [eV/m]', \"limit\": (-5000,0)}],\n",
    "    logy=False)"
   ]
  },
  {
   "cell_type": "code",
   "execution_count": null,
   "metadata": {
    "ExecuteTime": {
     "end_time": "2020-09-02T17:11:32.103198Z",
     "start_time": "2020-09-02T17:11:27.580129Z"
    }
   },
   "outputs": [],
   "source": [
    "plot_smoothed(\n",
    "    [{\"data\": AUG_gem1, \"style\": '-.'}, {\"data\": AUG_gem2, \"style\": ':'}],\n",
    "    [{\"cols\": dTe_cols, \"label\": 'electron temperature gradient [eV/m]', \"limit\": (-8000,0)},\n",
    "     {\"cols\": dTi_cols, \"label\": 'ion temperature gradient [eV/m]', \"limit\": (-5000,0)}],\n",
    "    logy=False)"
   ]
  },
  {
   "cell_type": "markdown",
   "metadata": {
    "slideshow": {
     "slide_type": "slide"
    }
   },
   "source": [
    "# The End"
   ]
  }
 ],
 "metadata": {
  "celltoolbar": "Slideshow",
  "kernelspec": {
   "display_name": "Python 3",
   "language": "python",
   "name": "python3"
  },
  "language_info": {
   "codemirror_mode": {
    "name": "ipython",
    "version": 3
   },
   "file_extension": ".py",
   "mimetype": "text/x-python",
   "name": "python",
   "nbconvert_exporter": "python",
   "pygments_lexer": "ipython3",
   "version": "3.7.3"
  },
  "latex_envs": {
   "LaTeX_envs_menu_present": true,
   "autoclose": false,
   "autocomplete": true,
   "bibliofile": "biblio.bib",
   "cite_by": "apalike",
   "current_citInitial": 1,
   "eqLabelWithNumbers": true,
   "eqNumInitial": 1,
   "hotkeys": {
    "equation": "Ctrl-E",
    "itemize": "Ctrl-I"
   },
   "labels_anchors": false,
   "latex_user_defs": false,
   "report_style_numbering": false,
   "user_envs_cfg": false
  },
  "latex_metadata": {
   "affiliation": "Max Planck Institute for Plasma Physics, Garching, Germany",
   "author": "David P. Coster",
   "title": "VECMA Fusion Notebooks"
  }
 },
 "nbformat": 4,
 "nbformat_minor": 4
}
