{
 "cells": [
  {
   "cell_type": "markdown",
   "metadata": {},
   "source": [
    "Combining the fusion.py code with the ComPat stochastic inducer\n",
    "======================================================\n",
    "\n"
   ]
  },
  {
   "cell_type": "code",
   "execution_count": null,
   "metadata": {},
   "outputs": [],
   "source": [
    "%matplotlib inline\n",
    "#notebook\n",
    "import numpy as np\n",
    "import fusion\n",
    "import matplotlib.pyplot as plt\n",
    "plt.ion()\n",
    "import scipy.constants  \n",
    "eV = scipy.constants.eV\n",
    "import ComPat\n",
    "from IPython.display import set_matplotlib_formats\n",
    "set_matplotlib_formats('png', 'pdf')"
   ]
  },
  {
   "cell_type": "markdown",
   "metadata": {},
   "source": [
    "**fusion.solve_Te** solves\n",
    "\n",
    "$$\\frac{3}{2}\\;\\frac{\\partial}{\\partial t}\\left(n(\\rho,t) T(\\rho,t)\\right) =\n",
    "    \\nabla_\\rho \\left[ n(\\rho,t) \\chi(\\rho,t) \\nabla_\\rho\n",
    "    (T(\\rho,t))\\right] + S(\\rho, t)$$\n",
    "\n",
    "with a boundary condition given by $Te_{bc}$ and an initial\n",
    "uniform temperatore of 1000 eV; the quantities are\n",
    "\n",
    "- $n(\\rho,t)$ characterizes the plasma density\n",
    "\n",
    "- $\\chi(\\rho,t)$ characterizes the thermal conductivity\n",
    "\n",
    "- $S(\\rho,t)$ characterizes the source\n",
    "\n",
    "The geometry of the simulation is characterised by the minor radius\n",
    "$a_0$, major radius $R_0$ and elongation $E_0$\n",
    "(while the geometry is solved in the cylindrical approximation, the\n",
    "actual radius used, $a$, is adjusted on the basis of $a_0$\n",
    "and $E_0$).\n",
    "\n",
    "Use the default case as the basis."
   ]
  },
  {
   "cell_type": "code",
   "execution_count": null,
   "metadata": {},
   "outputs": [],
   "source": [
    "Te, ne, rho, rho_norm, Qe = fusion.solve_Te()"
   ]
  },
  {
   "cell_type": "markdown",
   "metadata": {},
   "source": [
    "Calculate the flux by differentiation and by integration of the source."
   ]
  },
  {
   "cell_type": "code",
   "execution_count": null,
   "metadata": {},
   "outputs": [],
   "source": [
    "Gd = -np.gradient(Te, rho) * ne * eV\n",
    " \n",
    "Gi = np.cumsum(Qe *  np.diff(rho).mean() * rho) / (rho + np.diff(rho).mean()/2)\n",
    "Gi = np.append([Gi[0]/2],(Gi[1:]+Gi[:-1])/2)\n",
    "\n",
    "plt.figure()\n",
    "plt.plot( rho, Gd, label='Direct differentiation' )\n",
    "plt.plot( rho, Gi, label='From source integration' )\n",
    "plt.legend(loc=0)\n",
    "plt.xlabel('rho')\n",
    "plt.ylabel('flux')"
   ]
  },
  {
   "cell_type": "markdown",
   "metadata": {},
   "source": [
    "Parameters for the ComPat stochastic model\n",
    "- Starting flux, destination flux and overshoot level all set by the steady state flux at mid radius\n",
    "- 100 points of which the first 10 are overshoot and the remaining 90 the \"steady-state\" phase"
   ]
  },
  {
   "cell_type": "code",
   "execution_count": null,
   "metadata": {},
   "outputs": [],
   "source": [
    "s2 = 0.2; s3 = 0.2; d2 = 10; d3 = 10\n",
    "N1 = 10; N2 = 90; N3 = 30\n",
    "l1 = np.log10(Gi[Gi.shape[0]//2])\n",
    "l2 = l1; l3 = l1\n",
    "x1 = l1; x2 = l1**2"
   ]
  },
  {
   "cell_type": "markdown",
   "metadata": {},
   "source": [
    "First just calculate what the stochastic flux is, and the derived chi assuming the initial Te.\n",
    "\n",
    "Note that each block is just a restart from the initial state."
   ]
  },
  {
   "cell_type": "code",
   "execution_count": null,
   "metadata": {},
   "outputs": [],
   "source": [
    "alpha=0.01\n",
    "\n",
    "runs = {}\n",
    "for N in  np.arange(0,1000): \n",
    "  runs[N] = {}\n",
    "  runs[N]['x'], runs[N]['mean'], runs[N]['std'], runs[N]['xrange'], runs[N]['x1'], runs[N]['x2'] = ComPat.randomize(N1, N2, N3, l1, l2, l3, s2, s3, d2, d3, x1, x2, alpha)\n",
    "  runs[N]['chi'] = 10 ** runs[N]['x1'] / Gd[Gd.shape[0]//2]\n",
    "\n",
    "plt.figure()\n",
    "plt.plot(10**np.array([r['x1'] for r in runs.values()]))\n",
    "plt.xlabel('macro iteration')\n",
    "plt.ylabel('flux')\n",
    "plt.plot([0,1000], [10**x1, 10**x1])\n",
    "plt.title('alpha = %s' % (alpha))"
   ]
  },
  {
   "cell_type": "code",
   "execution_count": null,
   "metadata": {},
   "outputs": [],
   "source": [
    "plt.figure()\n",
    "plt.hist(np.array([r['chi'] for r in runs.values()]))\n",
    "plt.xlabel('chi')\n",
    "plt.ylabel('count')\n",
    "plt.title('alpha = %s' % (alpha))"
   ]
  },
  {
   "cell_type": "markdown",
   "metadata": {},
   "source": [
    "Now we will calculate the steady state Te profile for each of the cases"
   ]
  },
  {
   "cell_type": "code",
   "execution_count": null,
   "metadata": {},
   "outputs": [],
   "source": [
    "for N in  np.arange(0,1000): \n",
    "  print(N)\n",
    "  runs[N]['Te'], runs[N]['ne'], runs[N]['rho'], runs[N]['rho_norm'], runs[N]['Qe'] = fusion.solve_Te(chi = runs[N]['chi'], plots=False)"
   ]
  },
  {
   "cell_type": "markdown",
   "metadata": {},
   "source": [
    "Plot the temperatures for all of the cases"
   ]
  },
  {
   "cell_type": "code",
   "execution_count": null,
   "metadata": {},
   "outputs": [],
   "source": [
    "plt.figure()\n",
    "for k, v in runs.items():\n",
    "  plt.plot(v['rho'], v['Te'], label=k, alpha=0.25)\n",
    "plt.plot(rho, Te, linewidth=3, alpha=0.5, label='REF')\n",
    "plt.xlabel('rho')\n",
    "plt.ylabel('Te')\n",
    "plt.title('alpha = %s' % (alpha))"
   ]
  },
  {
   "cell_type": "markdown",
   "metadata": {},
   "source": [
    "And now look at the distribution function of the core Te and chi"
   ]
  },
  {
   "cell_type": "code",
   "execution_count": null,
   "metadata": {},
   "outputs": [],
   "source": [
    "Te_runs = np.array([r['Te'] for r in runs.values()])\n",
    "plt.figure()\n",
    "plt.hist(Te_runs[:,0], bins=20)\n",
    "print(Te[0])\n",
    "print(np.mean(Te_runs, axis=0)[0], np.std(Te_runs, axis=0)[0])\n",
    "plt.xlabel('Te[0]')\n",
    "plt.ylabel('count')\n",
    "plt.title('alpha = %s' % (alpha))"
   ]
  },
  {
   "cell_type": "markdown",
   "metadata": {},
   "source": [
    "Now consider the approach to steady-state where the initial flux is 10% of the steady-state flux."
   ]
  },
  {
   "cell_type": "code",
   "execution_count": null,
   "metadata": {},
   "outputs": [],
   "source": [
    "alpha=0.001\n",
    "l1_c = x1/10\n",
    "x1_c = x1/10\n",
    "\n",
    "new_runs = {}\n",
    "for N in  np.arange(0,1000): \n",
    "  new_runs[N] = {}\n",
    "  new_runs[N]['x'], new_runs[N]['mean'], new_runs[N]['std'], new_runs[N]['xrange'], new_runs[N]['x1'], new_runs[N]['x2'] = ComPat.randomize(N1, N2, N3, l1=l1_c, l2=l2, l3=l3, s2=s2, s3=s3, d2=d2, d3=d3, x1=x1_c, x2=x2, alpha=alpha)\n",
    "  x1_c = new_runs[N]['x1']\n",
    "  l1_c = x1_c\n",
    "  new_runs[N]['chi'] = 10 ** new_runs[N]['x1'] / Gd[Gd.shape[0]//2]\n",
    "\n",
    "plt.figure()\n",
    "plt.plot(10**np.array([r['x1'] for r in new_runs.values()]))\n",
    "plt.xlabel('macro iteration')\n",
    "plt.ylabel('flux')\n",
    "plt.plot([0,1000], [10**x1, 10**x1])\n",
    "plt.title('alpha = %s' % (alpha))"
   ]
  },
  {
   "cell_type": "code",
   "execution_count": null,
   "metadata": {},
   "outputs": [],
   "source": [
    "for N in  np.arange(0,1000): \n",
    "  print(N)\n",
    "  new_runs[N]['Te'], new_runs[N]['ne'], new_runs[N]['rho'], new_runs[N]['rho_norm'], new_runs[N]['Qe'] = fusion.solve_Te(chi = new_runs[N]['chi'], plots=False)"
   ]
  },
  {
   "cell_type": "markdown",
   "metadata": {},
   "source": [
    "Plot the central Te as a function of macro iteration number."
   ]
  },
  {
   "cell_type": "code",
   "execution_count": null,
   "metadata": {},
   "outputs": [],
   "source": [
    "Te_runs = np.array([r['Te'] for r in new_runs.values()])\n",
    "plt.figure()\n",
    "plt.semilogy(Te_runs[:,0])\n",
    "plt.xlabel('macro iteration')\n",
    "plt.ylabel('central Te')\n",
    "plt.plot([0,1000], [Te[0], Te[0]])\n",
    "plt.title('alpha = %s' % (alpha))"
   ]
  },
  {
   "cell_type": "markdown",
   "metadata": {},
   "source": [
    "And now look at the distribution of central Te"
   ]
  },
  {
   "cell_type": "code",
   "execution_count": null,
   "metadata": {},
   "outputs": [],
   "source": [
    "plt.figure()\n",
    "plt.hist(Te_runs[:,0], bins=20)\n",
    "plt.xlabel('Te[0]')\n",
    "plt.ylabel('count')\n",
    "plt.title('alpha = %s' % (alpha))\n",
    "print(Te[0])\n",
    "print(np.mean(Te_runs, axis=0)[0], np.std(Te_runs, axis=0)[0])"
   ]
  },
  {
   "cell_type": "code",
   "execution_count": null,
   "metadata": {},
   "outputs": [],
   "source": [
    "plt.figure()\n",
    "plt.hist(Te_runs[100:,0], bins=20)\n",
    "plt.xlabel('Te[0]')\n",
    "plt.ylabel('count')\n",
    "plt.title('alpha = %s' % (alpha))\n",
    "print(Te[0])\n",
    "print(np.mean(Te_runs[100:], axis=0)[0], np.std(Te_runs[100:], axis=0)[0])"
   ]
  },
  {
   "cell_type": "code",
   "execution_count": null,
   "metadata": {},
   "outputs": [],
   "source": []
  }
 ],
 "metadata": {
  "kernelspec": {
   "display_name": "Python 3",
   "language": "python",
   "name": "python3"
  },
  "language_info": {
   "codemirror_mode": {
    "name": "ipython",
    "version": 3
   },
   "file_extension": ".py",
   "mimetype": "text/x-python",
   "name": "python",
   "nbconvert_exporter": "python",
   "pygments_lexer": "ipython3",
   "version": "3.7.3"
  }
 },
 "nbformat": 4,
 "nbformat_minor": 4
}
