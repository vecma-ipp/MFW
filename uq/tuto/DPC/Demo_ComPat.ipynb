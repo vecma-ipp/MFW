{
 "cells": [
  {
   "cell_type": "markdown",
   "metadata": {},
   "source": [
    "Simple model for effects of turbulence\n",
    "===============================\n",
    "\n",
    "The code below uses ComPat.series to calculate a mimic of the output of a turbulence code.\n",
    "\n",
    "This is then run as a series of steps (each involving 100 \"time-steps\"), and the values of the mean and standard deviation are calculated for each step.  At the same time running exponential averages are calculated for value and the value squared, and these are then used to calculate the (averaged) mean and standard deviation."
   ]
  },
  {
   "cell_type": "code",
   "execution_count": null,
   "metadata": {
    "ExecuteTime": {
     "end_time": "2020-08-11T06:26:03.995027Z",
     "start_time": "2020-08-11T06:26:02.834696Z"
    }
   },
   "outputs": [],
   "source": [
    "#%matplotlib inline\n",
    "%matplotlib notebook\n",
    "import numpy as np\n",
    "import matplotlib.pylab as plt\n",
    "import ComPat\n",
    "from IPython.display import set_matplotlib_formats\n",
    "set_matplotlib_formats('png', 'pdf')"
   ]
  },
  {
   "cell_type": "markdown",
   "metadata": {},
   "source": [
    "Typical output from randomize is shown below.\n",
    "- the overshoot period is from 0 to 10\n",
    "- the normal period is from 10 until 190\n",
    "- averaging is done from 50 onwards\n",
    "- the initial value is 0.0\n",
    "- the overshoot value is 1.5\n",
    "- the normal value is 1.0\n",
    "- 10% noise is imposed in both the overshoot and normal period\n",
    "- the time constant for attempting to return to the target value is 10 iterations for both periods"
   ]
  },
  {
   "cell_type": "code",
   "execution_count": null,
   "metadata": {
    "ExecuteTime": {
     "end_time": "2020-08-11T06:26:06.312126Z",
     "start_time": "2020-08-11T06:26:03.997470Z"
    }
   },
   "outputs": [],
   "source": [
    "plt.figure()\n",
    "x, mean, std, xrange, x1, x2 = ComPat.randomize(10, 190, 50, 0.0, 1.5, 1.0, 0.1, 0.1, 10, 10, 0.0, 0.0, 0.001)\n",
    "plt.plot(x,'k')\n",
    "plt.plot(xrange,[mean-std,mean-std],'r')\n",
    "plt.plot(xrange,[mean,mean],'b')\n",
    "plt.plot(xrange,[mean+std,mean+std],'r');"
   ]
  },
  {
   "cell_type": "code",
   "execution_count": null,
   "metadata": {
    "ExecuteTime": {
     "end_time": "2020-08-11T06:26:06.407416Z",
     "start_time": "2020-08-11T06:26:06.324486Z"
    }
   },
   "outputs": [],
   "source": [
    "plt.figure()\n",
    "x, mean, std, xrange, x1, x2 = ComPat.randomize(10, 9990, 50, 0.0, 1.5, 1.0, 0.1, 0.1, 10, 10, 0.0, 0.0, 0.001)\n",
    "plt.plot(x,'k',alpha=0.1)\n",
    "plt.plot(xrange,[mean-std,mean-std],'r')\n",
    "plt.plot(xrange,[mean,mean],'b')\n",
    "plt.plot(xrange,[mean+std,mean+std],'r')\n",
    "plt.plot(xrange, [x1,x1],'c')\n",
    "plt.plot(xrange, [x1+np.sqrt(x2-x1**2),x1+np.sqrt(x2-x1**2)],'c')\n",
    "plt.plot(xrange, [x1-np.sqrt(x2-x1**2),x1-np.sqrt(x2-x1**2)],'c');"
   ]
  },
  {
   "cell_type": "code",
   "execution_count": null,
   "metadata": {
    "ExecuteTime": {
     "end_time": "2020-08-11T06:26:06.437478Z",
     "start_time": "2020-08-11T06:26:06.420315Z"
    }
   },
   "outputs": [],
   "source": [
    "print(\"Directly calculated mean and standard deviation = %0.3f ± %0.3f\\nFrom exponential averaging, mean and standard deviation = %0.3f ± %0.3f\" % (mean, std, x1, np.sqrt(x2-x1**2)))"
   ]
  },
  {
   "cell_type": "code",
   "execution_count": null,
   "metadata": {
    "ExecuteTime": {
     "end_time": "2020-08-11T06:26:06.455255Z",
     "start_time": "2020-08-11T06:26:06.442963Z"
    }
   },
   "outputs": [],
   "source": [
    "s2 = 0.2\n",
    "s3 = 0.2\n",
    "d2 = 10\n",
    "d3 = 10\n",
    "\n",
    "N1 = 10\n",
    "N2 = 90\n",
    "N3 = 30"
   ]
  },
  {
   "cell_type": "code",
   "execution_count": null,
   "metadata": {
    "ExecuteTime": {
     "end_time": "2020-08-11T06:26:36.186332Z",
     "start_time": "2020-08-11T06:26:06.460835Z"
    },
    "scrolled": false
   },
   "outputs": [],
   "source": [
    "X1 = {} ; X2 = {}\n",
    "for alpha in [0.1, 0.01, 0.001, 0.0001]:\n",
    "    plt.figure()\n",
    "    X1[alpha], X2[alpha] = ComPat.series (alpha, N1, N2, N3, s2, s3, d2, d3)\n",
    "    plt.ylim(1e9,1e11)"
   ]
  },
  {
   "cell_type": "code",
   "execution_count": null,
   "metadata": {
    "ExecuteTime": {
     "end_time": "2020-08-11T06:26:36.292534Z",
     "start_time": "2020-08-11T06:26:36.191154Z"
    }
   },
   "outputs": [],
   "source": [
    "plt.figure()\n",
    "plt.clf()\n",
    "for k, v in X1.items():\n",
    "    plt.plot(10**np.array(v), label=k)\n",
    "plt.legend(loc=0)\n",
    "plt.yscale('log'); plt.ylabel('Mean')\n",
    "plt.title('N1=%s, N2=%s, N3=%s, s2=%s, s3=%s, d2=%s, d3=%s' % (N1, N2, N3, s2, s3, d2, d3));"
   ]
  },
  {
   "cell_type": "code",
   "execution_count": null,
   "metadata": {
    "ExecuteTime": {
     "end_time": "2020-08-11T06:26:36.387057Z",
     "start_time": "2020-08-11T06:26:36.300348Z"
    }
   },
   "outputs": [],
   "source": [
    "plt.figure()\n",
    "plt.clf()\n",
    "for k in X1.keys():\n",
    "    plt.plot((np.sqrt(X2[k]-np.array(X1[k])**2)), label=k)\n",
    "plt.legend(loc=0)\n",
    "plt.yscale('log'); plt.ylabel('Fractional standard deviation')\n",
    "plt.title('N1=%s, N2=%s, N3=%s, s2=%s, s3=%s, d2=%s, d3=%s' % (N1, N2, N3, s2, s3, d2, d3));"
   ]
  }
 ],
 "metadata": {
  "kernelspec": {
   "display_name": "Python 3",
   "language": "python",
   "name": "python3"
  },
  "language_info": {
   "codemirror_mode": {
    "name": "ipython",
    "version": 3
   },
   "file_extension": ".py",
   "mimetype": "text/x-python",
   "name": "python",
   "nbconvert_exporter": "python",
   "pygments_lexer": "ipython3",
   "version": "3.7.3"
  }
 },
 "nbformat": 4,
 "nbformat_minor": 4
}
