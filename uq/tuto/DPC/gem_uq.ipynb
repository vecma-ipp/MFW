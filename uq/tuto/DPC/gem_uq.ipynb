{
 "cells": [
  {
   "cell_type": "markdown",
   "metadata": {
    "slideshow": {
     "slide_type": "slide"
    }
   },
   "source": [
    "# Look at the AUG 1 flux tube UQ results\n",
    "\n",
    "Applying various fitting schemes to the AUG 1 flux tube GEM data\n",
    "\n",
    "- GPR\n",
    "- various linear multivariate options\n",
    "- various SVM options\n",
    "- various degree polynomial multivariate options "
   ]
  },
  {
   "cell_type": "markdown",
   "metadata": {
    "slideshow": {
     "slide_type": "slide"
    }
   },
   "source": [
    "## A pretty standard set of imports"
   ]
  },
  {
   "cell_type": "code",
   "execution_count": 1,
   "metadata": {
    "ExecuteTime": {
     "end_time": "2020-08-18T13:22:20.791199Z",
     "start_time": "2020-08-18T13:22:16.645975Z"
    }
   },
   "outputs": [
    {
     "name": "stderr",
     "output_type": "stream",
     "text": [
      "/tmp/ipykernel_49012/1565318038.py:8: DeprecationWarning: `set_matplotlib_formats` is deprecated since IPython 7.23, directly use `matplotlib_inline.backend_inline.set_matplotlib_formats()`\n",
      "  set_matplotlib_formats('png', 'pdf')\n"
     ]
    }
   ],
   "source": [
    "%matplotlib inline\n",
    "#%matplotlib notebook\n",
    "import os\n",
    "import matplotlib\n",
    "#if not os.getenv(\"DISPLAY\"): matplotlib.use('Agg')\n",
    "import matplotlib.pylab as plt\n",
    "from IPython.display import set_matplotlib_formats\n",
    "set_matplotlib_formats('png', 'pdf')\n",
    "import numpy as np\n",
    "import pandas as pd\n",
    "from sklearn.gaussian_process import GaussianProcessRegressor\n",
    "from sklearn.gaussian_process.kernels \\\n",
    "    import RBF, WhiteKernel, RationalQuadratic, ExpSineSquared, Matern, ConstantKernel\n",
    "import pickle, gzip\n",
    "import itertools\n",
    "from timeit import default_timer as timer\n",
    "import resource, sys\n",
    "import functools\n",
    "import operator"
   ]
  },
  {
   "cell_type": "markdown",
   "metadata": {
    "slideshow": {
     "slide_type": "slide"
    }
   },
   "source": [
    "## Read the data"
   ]
  },
  {
   "cell_type": "code",
   "execution_count": 2,
   "metadata": {
    "ExecuteTime": {
     "end_time": "2020-08-18T13:22:20.884888Z",
     "start_time": "2020-08-18T13:22:20.796115Z"
    }
   },
   "outputs": [
    {
     "data": {
      "text/html": [
       "<div>\n",
       "<style scoped>\n",
       "    .dataframe tbody tr th:only-of-type {\n",
       "        vertical-align: middle;\n",
       "    }\n",
       "\n",
       "    .dataframe tbody tr th {\n",
       "        vertical-align: top;\n",
       "    }\n",
       "\n",
       "    .dataframe thead th {\n",
       "        text-align: right;\n",
       "    }\n",
       "</style>\n",
       "<table border=\"1\" class=\"dataframe\">\n",
       "  <thead>\n",
       "    <tr style=\"text-align: right;\">\n",
       "      <th></th>\n",
       "      <th>count</th>\n",
       "      <th>mean</th>\n",
       "      <th>std</th>\n",
       "      <th>min</th>\n",
       "      <th>25%</th>\n",
       "      <th>50%</th>\n",
       "      <th>75%</th>\n",
       "      <th>max</th>\n",
       "    </tr>\n",
       "  </thead>\n",
       "  <tbody>\n",
       "    <tr>\n",
       "      <th>Unnamed: 0</th>\n",
       "      <td>16.0</td>\n",
       "      <td>7.500000e+00</td>\n",
       "      <td>4.760952</td>\n",
       "      <td>0.000000e+00</td>\n",
       "      <td>3.750000e+00</td>\n",
       "      <td>7.500000e+00</td>\n",
       "      <td>1.125000e+01</td>\n",
       "      <td>1.500000e+01</td>\n",
       "    </tr>\n",
       "    <tr>\n",
       "      <th>name</th>\n",
       "      <td>0.0</td>\n",
       "      <td>NaN</td>\n",
       "      <td>NaN</td>\n",
       "      <td>NaN</td>\n",
       "      <td>NaN</td>\n",
       "      <td>NaN</td>\n",
       "      <td>NaN</td>\n",
       "      <td>NaN</td>\n",
       "    </tr>\n",
       "    <tr>\n",
       "      <th>te_value</th>\n",
       "      <td>16.0</td>\n",
       "      <td>5.510258e+02</td>\n",
       "      <td>32.856830</td>\n",
       "      <td>5.192123e+02</td>\n",
       "      <td>5.192123e+02</td>\n",
       "      <td>5.510258e+02</td>\n",
       "      <td>5.828393e+02</td>\n",
       "      <td>5.828393e+02</td>\n",
       "    </tr>\n",
       "    <tr>\n",
       "      <th>ti_value</th>\n",
       "      <td>16.0</td>\n",
       "      <td>6.397011e+02</td>\n",
       "      <td>38.144404</td>\n",
       "      <td>6.027679e+02</td>\n",
       "      <td>6.027679e+02</td>\n",
       "      <td>6.397011e+02</td>\n",
       "      <td>6.766343e+02</td>\n",
       "      <td>6.766343e+02</td>\n",
       "    </tr>\n",
       "    <tr>\n",
       "      <th>te_ddrho</th>\n",
       "      <td>16.0</td>\n",
       "      <td>-9.438055e+03</td>\n",
       "      <td>562.776857</td>\n",
       "      <td>-9.982961e+03</td>\n",
       "      <td>-9.982961e+03</td>\n",
       "      <td>-9.438055e+03</td>\n",
       "      <td>-8.893148e+03</td>\n",
       "      <td>-8.893148e+03</td>\n",
       "    </tr>\n",
       "    <tr>\n",
       "      <th>ti_ddrho</th>\n",
       "      <td>16.0</td>\n",
       "      <td>-9.185803e+03</td>\n",
       "      <td>547.735466</td>\n",
       "      <td>-9.716146e+03</td>\n",
       "      <td>-9.716146e+03</td>\n",
       "      <td>-9.185803e+03</td>\n",
       "      <td>-8.655460e+03</td>\n",
       "      <td>-8.655460e+03</td>\n",
       "    </tr>\n",
       "    <tr>\n",
       "      <th>ti_transp_flux</th>\n",
       "      <td>16.0</td>\n",
       "      <td>2.410740e+06</td>\n",
       "      <td>340744.282128</td>\n",
       "      <td>1.867451e+06</td>\n",
       "      <td>2.182214e+06</td>\n",
       "      <td>2.432694e+06</td>\n",
       "      <td>2.657536e+06</td>\n",
       "      <td>2.932325e+06</td>\n",
       "    </tr>\n",
       "    <tr>\n",
       "      <th>ti_transp_flux_std</th>\n",
       "      <td>16.0</td>\n",
       "      <td>4.155682e+05</td>\n",
       "      <td>124296.062992</td>\n",
       "      <td>2.512994e+05</td>\n",
       "      <td>3.155689e+05</td>\n",
       "      <td>4.138249e+05</td>\n",
       "      <td>4.926996e+05</td>\n",
       "      <td>7.388254e+05</td>\n",
       "    </tr>\n",
       "    <tr>\n",
       "      <th>ti_transp_flux_stem</th>\n",
       "      <td>16.0</td>\n",
       "      <td>2.847054e+05</td>\n",
       "      <td>143183.032476</td>\n",
       "      <td>7.069798e+04</td>\n",
       "      <td>1.729624e+05</td>\n",
       "      <td>2.339132e+05</td>\n",
       "      <td>4.271206e+05</td>\n",
       "      <td>5.194665e+05</td>\n",
       "    </tr>\n",
       "  </tbody>\n",
       "</table>\n",
       "</div>"
      ],
      "text/plain": [
       "                     count          mean            std           min  \\\n",
       "Unnamed: 0            16.0  7.500000e+00       4.760952  0.000000e+00   \n",
       "name                   0.0           NaN            NaN           NaN   \n",
       "te_value              16.0  5.510258e+02      32.856830  5.192123e+02   \n",
       "ti_value              16.0  6.397011e+02      38.144404  6.027679e+02   \n",
       "te_ddrho              16.0 -9.438055e+03     562.776857 -9.982961e+03   \n",
       "ti_ddrho              16.0 -9.185803e+03     547.735466 -9.716146e+03   \n",
       "ti_transp_flux        16.0  2.410740e+06  340744.282128  1.867451e+06   \n",
       "ti_transp_flux_std    16.0  4.155682e+05  124296.062992  2.512994e+05   \n",
       "ti_transp_flux_stem   16.0  2.847054e+05  143183.032476  7.069798e+04   \n",
       "\n",
       "                              25%           50%           75%           max  \n",
       "Unnamed: 0           3.750000e+00  7.500000e+00  1.125000e+01  1.500000e+01  \n",
       "name                          NaN           NaN           NaN           NaN  \n",
       "te_value             5.192123e+02  5.510258e+02  5.828393e+02  5.828393e+02  \n",
       "ti_value             6.027679e+02  6.397011e+02  6.766343e+02  6.766343e+02  \n",
       "te_ddrho            -9.982961e+03 -9.438055e+03 -8.893148e+03 -8.893148e+03  \n",
       "ti_ddrho            -9.716146e+03 -9.185803e+03 -8.655460e+03 -8.655460e+03  \n",
       "ti_transp_flux       2.182214e+06  2.432694e+06  2.657536e+06  2.932325e+06  \n",
       "ti_transp_flux_std   3.155689e+05  4.138249e+05  4.926996e+05  7.388254e+05  \n",
       "ti_transp_flux_stem  1.729624e+05  2.339132e+05  4.271206e+05  5.194665e+05  "
      ]
     },
     "execution_count": 2,
     "metadata": {},
     "output_type": "execute_result"
    }
   ],
   "source": [
    "filepath = '../../data/gem_uq_inoutput.csv'\n",
    "filepath = '../../resuq_main_ti_transp_flux_all_moj202gj_11.csv'\n",
    "G = pd.read_csv(filepath)\n",
    "G.describe().T"
   ]
  },
  {
   "cell_type": "code",
   "execution_count": 3,
   "metadata": {},
   "outputs": [
    {
     "name": "stderr",
     "output_type": "stream",
     "text": [
      "/tmp/ipykernel_49012/475852022.py:1: FutureWarning: In a future version of pandas all arguments of DataFrame.drop except for the argument 'labels' will be keyword-only.\n",
      "  G=G.drop('name',1)\n"
     ]
    }
   ],
   "source": [
    "G=G.drop('name',1)"
   ]
  },
  {
   "cell_type": "markdown",
   "metadata": {
    "slideshow": {
     "slide_type": "slide"
    }
   },
   "source": [
    "# Transform the data"
   ]
  },
  {
   "cell_type": "code",
   "execution_count": 4,
   "metadata": {
    "ExecuteTime": {
     "end_time": "2020-08-18T13:22:21.006468Z",
     "start_time": "2020-08-18T13:22:20.895642Z"
    }
   },
   "outputs": [
    {
     "data": {
      "text/html": [
       "<div>\n",
       "<style scoped>\n",
       "    .dataframe tbody tr th:only-of-type {\n",
       "        vertical-align: middle;\n",
       "    }\n",
       "\n",
       "    .dataframe tbody tr th {\n",
       "        vertical-align: top;\n",
       "    }\n",
       "\n",
       "    .dataframe thead th {\n",
       "        text-align: right;\n",
       "    }\n",
       "</style>\n",
       "<table border=\"1\" class=\"dataframe\">\n",
       "  <thead>\n",
       "    <tr style=\"text-align: right;\">\n",
       "      <th></th>\n",
       "      <th>count</th>\n",
       "      <th>mean</th>\n",
       "      <th>std</th>\n",
       "      <th>min</th>\n",
       "      <th>25%</th>\n",
       "      <th>50%</th>\n",
       "      <th>75%</th>\n",
       "      <th>max</th>\n",
       "    </tr>\n",
       "  </thead>\n",
       "  <tbody>\n",
       "    <tr>\n",
       "      <th>Unnamed: 0</th>\n",
       "      <td>16.0</td>\n",
       "      <td>7.500000</td>\n",
       "      <td>4.760952</td>\n",
       "      <td>0.000000</td>\n",
       "      <td>3.750000</td>\n",
       "      <td>7.500000</td>\n",
       "      <td>11.250000</td>\n",
       "      <td>15.000000</td>\n",
       "    </tr>\n",
       "    <tr>\n",
       "      <th>te_value</th>\n",
       "      <td>16.0</td>\n",
       "      <td>2.740447</td>\n",
       "      <td>0.025925</td>\n",
       "      <td>2.715345</td>\n",
       "      <td>2.715345</td>\n",
       "      <td>2.740447</td>\n",
       "      <td>2.765549</td>\n",
       "      <td>2.765549</td>\n",
       "    </tr>\n",
       "    <tr>\n",
       "      <th>ti_value</th>\n",
       "      <td>16.0</td>\n",
       "      <td>2.805252</td>\n",
       "      <td>0.025925</td>\n",
       "      <td>2.780150</td>\n",
       "      <td>2.780150</td>\n",
       "      <td>2.805252</td>\n",
       "      <td>2.830354</td>\n",
       "      <td>2.830354</td>\n",
       "    </tr>\n",
       "    <tr>\n",
       "      <th>te_ddrho</th>\n",
       "      <td>16.0</td>\n",
       "      <td>3.974157</td>\n",
       "      <td>0.025925</td>\n",
       "      <td>3.949056</td>\n",
       "      <td>3.949056</td>\n",
       "      <td>3.974157</td>\n",
       "      <td>3.999259</td>\n",
       "      <td>3.999259</td>\n",
       "    </tr>\n",
       "    <tr>\n",
       "      <th>ti_ddrho</th>\n",
       "      <td>16.0</td>\n",
       "      <td>3.962392</td>\n",
       "      <td>0.025925</td>\n",
       "      <td>3.937290</td>\n",
       "      <td>3.937290</td>\n",
       "      <td>3.962392</td>\n",
       "      <td>3.987494</td>\n",
       "      <td>3.987494</td>\n",
       "    </tr>\n",
       "    <tr>\n",
       "      <th>ti_transp_flux</th>\n",
       "      <td>16.0</td>\n",
       "      <td>6.377998</td>\n",
       "      <td>0.062382</td>\n",
       "      <td>6.271249</td>\n",
       "      <td>6.338882</td>\n",
       "      <td>6.386068</td>\n",
       "      <td>6.424386</td>\n",
       "      <td>6.467212</td>\n",
       "    </tr>\n",
       "    <tr>\n",
       "      <th>ti_transp_flux_std</th>\n",
       "      <td>16.0</td>\n",
       "      <td>415568.166317</td>\n",
       "      <td>124296.062992</td>\n",
       "      <td>251299.351002</td>\n",
       "      <td>315568.943854</td>\n",
       "      <td>413824.913316</td>\n",
       "      <td>492699.605459</td>\n",
       "      <td>738825.402934</td>\n",
       "    </tr>\n",
       "    <tr>\n",
       "      <th>ti_transp_flux_stem</th>\n",
       "      <td>16.0</td>\n",
       "      <td>284705.446653</td>\n",
       "      <td>143183.032476</td>\n",
       "      <td>70697.983210</td>\n",
       "      <td>172962.445898</td>\n",
       "      <td>233913.208029</td>\n",
       "      <td>427120.602313</td>\n",
       "      <td>519466.500311</td>\n",
       "    </tr>\n",
       "  </tbody>\n",
       "</table>\n",
       "</div>"
      ],
      "text/plain": [
       "                     count           mean            std            min  \\\n",
       "Unnamed: 0            16.0       7.500000       4.760952       0.000000   \n",
       "te_value              16.0       2.740447       0.025925       2.715345   \n",
       "ti_value              16.0       2.805252       0.025925       2.780150   \n",
       "te_ddrho              16.0       3.974157       0.025925       3.949056   \n",
       "ti_ddrho              16.0       3.962392       0.025925       3.937290   \n",
       "ti_transp_flux        16.0       6.377998       0.062382       6.271249   \n",
       "ti_transp_flux_std    16.0  415568.166317  124296.062992  251299.351002   \n",
       "ti_transp_flux_stem   16.0  284705.446653  143183.032476   70697.983210   \n",
       "\n",
       "                               25%            50%            75%  \\\n",
       "Unnamed: 0                3.750000       7.500000      11.250000   \n",
       "te_value                  2.715345       2.740447       2.765549   \n",
       "ti_value                  2.780150       2.805252       2.830354   \n",
       "te_ddrho                  3.949056       3.974157       3.999259   \n",
       "ti_ddrho                  3.937290       3.962392       3.987494   \n",
       "ti_transp_flux            6.338882       6.386068       6.424386   \n",
       "ti_transp_flux_std   315568.943854  413824.913316  492699.605459   \n",
       "ti_transp_flux_stem  172962.445898  233913.208029  427120.602313   \n",
       "\n",
       "                               max  \n",
       "Unnamed: 0               15.000000  \n",
       "te_value                  2.765549  \n",
       "ti_value                  2.830354  \n",
       "te_ddrho                  3.999259  \n",
       "ti_ddrho                  3.987494  \n",
       "ti_transp_flux            6.467212  \n",
       "ti_transp_flux_std   738825.402934  \n",
       "ti_transp_flux_stem  519466.500311  "
      ]
     },
     "execution_count": 4,
     "metadata": {},
     "output_type": "execute_result"
    }
   ],
   "source": [
    "G.te_value = np.log10(G.te_value)\n",
    "G.ti_value = np.log10(G.ti_value)\n",
    "G.te_ddrho = np.log10(-G.te_ddrho)\n",
    "G.ti_ddrho = np.log10(-G.ti_ddrho)\n",
    "#G.te_transp_flux = np.log10(G.te_transp_flux)\n",
    "G.ti_transp_flux = np.log10(G.ti_transp_flux)\n",
    "G.describe().T"
   ]
  },
  {
   "cell_type": "markdown",
   "metadata": {
    "slideshow": {
     "slide_type": "slide"
    }
   },
   "source": [
    "## Examine correlations"
   ]
  },
  {
   "cell_type": "code",
   "execution_count": 5,
   "metadata": {
    "ExecuteTime": {
     "end_time": "2020-08-18T13:22:30.483032Z",
     "start_time": "2020-08-18T13:22:21.053499Z"
    },
    "slideshow": {
     "slide_type": "-"
    }
   },
   "outputs": [
    {
     "data": {
      "application/pdf": "[encoded data removed]",
      "image/png": "[encoded data removed]",
      "text/plain": [
       "<Figure size 1008x576 with 64 Axes>"
      ]
     },
     "metadata": {
      "needs_background": "light"
     },
     "output_type": "display_data"
    }
   ],
   "source": [
    "axes = pd.plotting.scatter_matrix(G, alpha=0.5, diagonal='hist', figsize=(14,8))\n",
    "corr = np.array(G.corr())\n",
    "for i, j in zip(*plt.np.triu_indices_from(axes, k=1)):\n",
    "    axes[i, j].annotate(\"%.3f\" %corr[i,j], (0.8, 0.8), xycoords='axes fraction', ha='center', va='center')\n",
    "plt.show()"
   ]
  },
  {
   "cell_type": "markdown",
   "metadata": {
    "slideshow": {
     "slide_type": "slide"
    }
   },
   "source": [
    "## Prepare for fitting"
   ]
  },
  {
   "cell_type": "code",
   "execution_count": 6,
   "metadata": {
    "ExecuteTime": {
     "end_time": "2020-08-18T13:22:30.513000Z",
     "start_time": "2020-08-18T13:22:30.487263Z"
    }
   },
   "outputs": [],
   "source": [
    "XLABELS = ['te_value', 'ti_value', 'te_ddrho', 'ti_ddrho']\n",
    "X = G[XLABELS].values\n",
    "#YLABELS = ['te_transp_flux', 'ti_transp_flux']\n",
    "YLABELS = ['ti_transp_flux']\n",
    "Y = G[YLABELS].values"
   ]
  },
  {
   "cell_type": "markdown",
   "metadata": {
    "slideshow": {
     "slide_type": "slide"
    }
   },
   "source": [
    "## Fit the data using GPR"
   ]
  },
  {
   "cell_type": "code",
   "execution_count": 7,
   "metadata": {
    "ExecuteTime": {
     "end_time": "2020-08-18T13:22:37.068143Z",
     "start_time": "2020-08-18T13:22:30.519048Z"
    }
   },
   "outputs": [
    {
     "name": "stdout",
     "output_type": "stream",
     "text": [
      "Number of points =  16\n",
      "ti_transp_flux 0.00316**2 + Matern(length_scale=1e-05, nu=1.5) + WhiteKernel(noise_level=0.000973)\n",
      "Calculating GPR took 0.255 seconds\n"
     ]
    },
    {
     "name": "stderr",
     "output_type": "stream",
     "text": [
      "/u/yyudin/conda-envs/python394/lib/python3.9/site-packages/sklearn/gaussian_process/kernels.py:420: ConvergenceWarning: The optimal value found for dimension 0 of parameter k1__k1__constant_value is close to the specified lower bound 1e-05. Decreasing the bound and calling fit again may find a better value.\n",
      "  warnings.warn(\n",
      "/u/yyudin/conda-envs/python394/lib/python3.9/site-packages/sklearn/gaussian_process/kernels.py:420: ConvergenceWarning: The optimal value found for dimension 0 of parameter k1__k2__length_scale is close to the specified lower bound 1e-05. Decreasing the bound and calling fit again may find a better value.\n",
      "  warnings.warn(\n"
     ]
    }
   ],
   "source": [
    "NX = len(XLABELS)\n",
    "NY = len(YLABELS)\n",
    "print('Number of points = ', X.shape[0])\n",
    "\n",
    "kernel = ConstantKernel() + Matern(length_scale=2, nu=3/2) + WhiteKernel(noise_level=1)\n",
    "\n",
    "start=timer()\n",
    "GP = []\n",
    "for F in range(NY): \n",
    "    gp = GaussianProcessRegressor(kernel=kernel, normalize_y=True)\n",
    "#    %time \n",
    "    gp.fit(X, Y[:,F])\n",
    "    print(YLABELS[F], gp.kernel_)\n",
    "    GP.append(gp)\n",
    "end=timer()\n",
    "print('Calculating GPR took %0.3f seconds' % (end-start))\n"
   ]
  },
  {
   "cell_type": "markdown",
   "metadata": {
    "ExecuteTime": {
     "end_time": "2020-08-18T10:59:17.176401Z",
     "start_time": "2020-08-18T10:59:17.169748Z"
    },
    "slideshow": {
     "slide_type": "slide"
    }
   },
   "source": [
    "## Calculate the data at the fit points"
   ]
  },
  {
   "cell_type": "code",
   "execution_count": 8,
   "metadata": {
    "ExecuteTime": {
     "end_time": "2020-08-18T13:22:37.368043Z",
     "start_time": "2020-08-18T13:22:37.082588Z"
    }
   },
   "outputs": [
    {
     "name": "stdout",
     "output_type": "stream",
     "text": [
      "Calculating GPR on grid took 0.030 seconds\n"
     ]
    }
   ],
   "source": [
    "start=timer()\n",
    "Xt = X.copy()\n",
    "Yt = np.zeros((Xt.shape[0],NY))\n",
    "Yts = np.zeros((Xt.shape[0],NY))\n",
    "for F in range(NY):\n",
    "  Yt[:,F], Yts[:,F] = GP[F].predict(Xt, return_std=True)\n",
    "end=timer()\n",
    "print('Calculating GPR on grid took %0.3f seconds' % (end-start))"
   ]
  },
  {
   "cell_type": "markdown",
   "metadata": {},
   "source": [
    "RMSE at the points (should be small) and mean of the predicted variance at the points"
   ]
  },
  {
   "cell_type": "code",
   "execution_count": 9,
   "metadata": {
    "ExecuteTime": {
     "end_time": "2020-08-18T13:22:37.419902Z",
     "start_time": "2020-08-18T13:22:37.399015Z"
    }
   },
   "outputs": [
    {
     "name": "stdout",
     "output_type": "stream",
     "text": [
      "RMSE = [5.08786087e-05]\n"
     ]
    }
   ],
   "source": [
    "print('RMSE =', np.sqrt((Y-Yt)**2).mean(axis=0))"
   ]
  },
  {
   "cell_type": "code",
   "execution_count": 10,
   "metadata": {
    "ExecuteTime": {
     "end_time": "2020-08-18T13:22:37.485368Z",
     "start_time": "2020-08-18T13:22:37.453910Z"
    }
   },
   "outputs": [
    {
     "name": "stdout",
     "output_type": "stream",
     "text": [
      "Means of predicted variance = [0.00266428]\n"
     ]
    }
   ],
   "source": [
    "print('Means of predicted variance =', Yts.mean(axis=0))"
   ]
  },
  {
   "cell_type": "markdown",
   "metadata": {
    "slideshow": {
     "slide_type": "slide"
    }
   },
   "source": [
    "## Prepare to plot the data along various cuts"
   ]
  },
  {
   "cell_type": "code",
   "execution_count": 11,
   "metadata": {
    "ExecuteTime": {
     "end_time": "2020-08-18T13:22:37.514965Z",
     "start_time": "2020-08-18T13:22:37.495020Z"
    }
   },
   "outputs": [],
   "source": [
    "Xvals = np.array([np.unique(X[:,i]) for i in range(X.shape[1])])"
   ]
  },
  {
   "cell_type": "code",
   "execution_count": 12,
   "metadata": {
    "ExecuteTime": {
     "end_time": "2020-08-18T13:22:37.616122Z",
     "start_time": "2020-08-18T13:22:37.547020Z"
    }
   },
   "outputs": [],
   "source": [
    "def vis(slice, axis=None):\n",
    "    if slice == 0:\n",
    "        Xt = np.array([i for i in itertools.product(np.linspace(Xvals[0].min(), Xvals[0].max(), 100), \n",
    "                                                    [Xvals[1,2]], \n",
    "                                                    [Xvals[2,2]],\n",
    "                                                    [Xvals[3,2]])])\n",
    "    elif slice == 1:\n",
    "        Xt = np.array([i for i in itertools.product([Xvals[0,2]], \n",
    "                                                    np.linspace(Xvals[1].min(), Xvals[1].max(), 100), \n",
    "                                                    [Xvals[2,2]],\n",
    "                                                    [Xvals[3,2]])])\n",
    "    elif slice == 2:\n",
    "        Xt = np.array([i for i in itertools.product([Xvals[0,2]], \n",
    "                                                    [Xvals[1,2]],\n",
    "                                                    np.linspace(Xvals[2].min(), Xvals[2].max(), 100), \n",
    "                                                    [Xvals[3,2]])])\n",
    "    elif slice == 3:\n",
    "        Xt = np.array([i for i in itertools.product([Xvals[0,2]], \n",
    "                                                    [Xvals[1,2]],\n",
    "                                                    [Xvals[2,2]],\n",
    "                                                    np.linspace(Xvals[3].min(), Xvals[3].max(), 100))])\n",
    "    Yt = np.zeros((Xt.shape[0],NY))\n",
    "    Yts = np.zeros((Xt.shape[0],NY))\n",
    "    for F in range(NY):\n",
    "      Yt[:,F], Yts[:,F] = GP[F].predict(Xt, return_std=True)\n",
    "    \n",
    "    if axis is None:\n",
    "        fig, axis = plt.subplots(figsize=(8,6))\n",
    "    axis.plot(10.0**(Xt[:,slice]), 10.0**(Yt[:,0]), 'r', label=YLABELS[0])\n",
    "    axis.fill_between(10.0**(Xt[:,slice]), 10.0**(Yt[:,0]-Yts[:,0]), 10.0**(Yt[:,0]+Yts[:,0]), color='red', alpha=0.5)\n",
    "    axis.plot(10.0**(Xt[:,slice]), 10.0**(Yt[:,1]), 'b', label=YLABELS[1])\n",
    "    axis.fill_between(10.0**(Xt[:,slice]), 10.0**(Yt[:,1]-Yts[:,1]), 10.0**(Yt[:,1]+Yts[:,1]), color='blue', alpha=0.5)\n",
    "    axis.set_xlabel(XLABELS[slice])\n",
    "    #axis.set_legend(loc=0)\n",
    "    axis.set_title(\"%s=%0.3f, %s=%0.3f, %s=%0.3f\" % \n",
    "              functools.reduce(operator.concat, \n",
    "                               tuple([(XLABELS[i], 10.0**Xvals[i,2]) for i in range(len(XLABELS)) if i != slice])))"
   ]
  },
  {
   "cell_type": "code",
   "execution_count": 13,
   "metadata": {},
   "outputs": [],
   "source": [
    "def vis2(slice, axis=None):\n",
    "    if slice == 0:\n",
    "        Xt = np.array([i for i in itertools.product(np.linspace(Xvals[0].min(), Xvals[0].max(), 100), \n",
    "                                                    [Xvals[1,1]], \n",
    "                                                    [Xvals[2,1]],\n",
    "                                                    [Xvals[3,1]])])\n",
    "    elif slice == 1:\n",
    "        Xt = np.array([i for i in itertools.product([Xvals[0,1]], \n",
    "                                                    np.linspace(Xvals[1].min(), Xvals[1].max(), 100), \n",
    "                                                    [Xvals[2,1]],\n",
    "                                                    [Xvals[3,1]])])\n",
    "    elif slice == 2:\n",
    "        Xt = np.array([i for i in itertools.product([Xvals[0,1]], \n",
    "                                                    [Xvals[1,1]],\n",
    "                                                    np.linspace(Xvals[2].min(), Xvals[2].max(), 100), \n",
    "                                                    [Xvals[3,1]])])\n",
    "    elif slice == 3:\n",
    "        Xt = np.array([i for i in itertools.product([Xvals[0,1]], \n",
    "                                                    [Xvals[1,1]],\n",
    "                                                    [Xvals[2,1]],\n",
    "                                                    np.linspace(Xvals[3].min(), Xvals[3].max(), 100))])\n",
    "    Yt = np.zeros((Xt.shape[0],NY))\n",
    "    Yts = np.zeros((Xt.shape[0],NY))\n",
    "    for F in range(NY):\n",
    "      Yt[:,F], Yts[:,F] = GP[F].predict(Xt, return_std=True)\n",
    "    \n",
    "    if axis is None:\n",
    "        fig, axis = plt.subplots(figsize=(8,6))\n",
    "    axis.plot(10.0**(Xt[:,slice]), 10.0**(Yt[:,0]), 'r', label=YLABELS[0])\n",
    "    axis.fill_between(10.0**(Xt[:,slice]), 10.0**(Yt[:,0]-Yts[:,0]), 10.0**(Yt[:,0]+Yts[:,0]), color='red', alpha=0.5)\n",
    "    #axis.plot(10.0**(Xt[:,slice]), 10.0**(Yt[:,1]), 'b', label=YLABELS[1])\n",
    "    #axis.fill_between(10.0**(Xt[:,slice]), 10.0**(Yt[:,1]-Yts[:,1]), 10.0**(Yt[:,1]+Yts[:,1]), color='blue', alpha=0.5)\n",
    "    axis.set_xlabel(XLABELS[slice])\n",
    "    #axis.set_legend(loc=0)\n",
    "    axis.set_title(\"%s=%0.3f, %s=%0.3f, %s=%0.3f\" % \n",
    "              functools.reduce(operator.concat, \n",
    "                               tuple([(XLABELS[i], 10.0**Xvals[i,0]) for i in range(len(XLABELS)) if i != slice])))"
   ]
  },
  {
   "cell_type": "markdown",
   "metadata": {
    "slideshow": {
     "slide_type": "slide"
    }
   },
   "source": [
    "## Plot the data along various cuts"
   ]
  },
  {
   "cell_type": "code",
   "execution_count": 14,
   "metadata": {
    "ExecuteTime": {
     "end_time": "2020-08-18T13:24:26.671015Z",
     "start_time": "2020-08-18T13:24:25.127634Z"
    },
    "slideshow": {
     "slide_type": "-"
    }
   },
   "outputs": [
    {
     "data": {
      "application/pdf": "[encoded data removed]",
      "image/png": "[encoded data removed]",
      "text/plain": [
       "<Figure size 1296x576 with 4 Axes>"
      ]
     },
     "metadata": {
      "needs_background": "light"
     },
     "output_type": "display_data"
    }
   ],
   "source": [
    "plt.figure(figsize=(18,8))\n",
    "for i in range(NX):\n",
    "    ax=plt.subplot(2,2,i+1)\n",
    "    #vis(i, ax)\n",
    "    vis2(i, ax)\n",
    "plt.subplots_adjust(hspace=0.4)"
   ]
  },
  {
   "cell_type": "markdown",
   "metadata": {
    "slideshow": {
     "slide_type": "slide"
    }
   },
   "source": [
    "## Scan over various fitting methods: imports"
   ]
  },
  {
   "cell_type": "code",
   "execution_count": 15,
   "metadata": {
    "ExecuteTime": {
     "end_time": "2020-08-18T13:22:40.845041Z",
     "start_time": "2020-08-18T13:22:40.277091Z"
    }
   },
   "outputs": [],
   "source": [
    "from sklearn import linear_model\n",
    "from sklearn.linear_model import LinearRegression\n",
    "from sklearn.linear_model import RidgeCV\n",
    "from sklearn.linear_model import RANSACRegressor\n",
    "from sklearn.metrics import mean_squared_error, r2_score\n",
    "from sklearn.model_selection import train_test_split\n",
    "from sklearn.model_selection import GridSearchCV\n",
    "from sklearn.preprocessing import PolynomialFeatures\n",
    "from sklearn.pipeline import Pipeline\n",
    "from sklearn import svm\n",
    "import tabulate"
   ]
  },
  {
   "cell_type": "markdown",
   "metadata": {
    "slideshow": {
     "slide_type": "slide"
    }
   },
   "source": [
    "### GPR"
   ]
  },
  {
   "cell_type": "code",
   "execution_count": 16,
   "metadata": {
    "ExecuteTime": {
     "end_time": "2020-08-18T13:22:40.897450Z",
     "start_time": "2020-08-18T13:22:40.847406Z"
    }
   },
   "outputs": [
    {
     "name": "stdout",
     "output_type": "stream",
     "text": [
      "Mean squared error: 0.000\n",
      "RMSE  [5.87320974e-05]\n",
      "Variance score: 1.000\n",
      "['GPR', array([5.87320974e-05]), 0.9999990544926283]\n"
     ]
    }
   ],
   "source": [
    "L=[]\n",
    "\n",
    "Y_pred = np.zeros_like(Y)\n",
    "for F in range(Y.shape[1]):\n",
    "    Y_pred[:,F] = GP[F].predict(X, return_std=False)\n",
    "print(\"Mean squared error: %.3f\" % mean_squared_error(Y, Y_pred))\n",
    "RMSE = np.sqrt(mean_squared_error(Y, Y_pred, multioutput='raw_values'))\n",
    "print(\"RMSE \", RMSE)\n",
    "# Explained variance score: 1 is perfect prediction\n",
    "VarianceScore = r2_score(Y, Y_pred)\n",
    "print('Variance score: %.3f' % VarianceScore)\n",
    "L.append(['GPR', RMSE, VarianceScore])\n",
    "print(L[-1])"
   ]
  },
  {
   "cell_type": "markdown",
   "metadata": {
    "slideshow": {
     "slide_type": "slide"
    }
   },
   "source": [
    "### GPR: effects from differing training fractions"
   ]
  },
  {
   "cell_type": "code",
   "execution_count": 19,
   "metadata": {
    "ExecuteTime": {
     "end_time": "2020-08-18T13:23:09.959214Z",
     "start_time": "2020-08-18T13:22:40.901821Z"
    }
   },
   "outputs": [
    {
     "name": "stderr",
     "output_type": "stream",
     "text": [
      "/u/yyudin/conda-envs/python394/lib/python3.9/site-packages/sklearn/gaussian_process/kernels.py:420: ConvergenceWarning: The optimal value found for dimension 0 of parameter k1__k1__constant_value is close to the specified lower bound 1e-05. Decreasing the bound and calling fit again may find a better value.\n",
      "  warnings.warn(\n",
      "/u/yyudin/conda-envs/python394/lib/python3.9/site-packages/sklearn/gaussian_process/kernels.py:420: ConvergenceWarning: The optimal value found for dimension 0 of parameter k1__k1__constant_value is close to the specified lower bound 1e-05. Decreasing the bound and calling fit again may find a better value.\n",
      "  warnings.warn(\n",
      "/u/yyudin/conda-envs/python394/lib/python3.9/site-packages/sklearn/gaussian_process/kernels.py:420: ConvergenceWarning: The optimal value found for dimension 0 of parameter k1__k2__length_scale is close to the specified lower bound 1e-05. Decreasing the bound and calling fit again may find a better value.\n",
      "  warnings.warn(\n",
      "/u/yyudin/conda-envs/python394/lib/python3.9/site-packages/sklearn/gaussian_process/kernels.py:420: ConvergenceWarning: The optimal value found for dimension 0 of parameter k1__k1__constant_value is close to the specified lower bound 1e-05. Decreasing the bound and calling fit again may find a better value.\n",
      "  warnings.warn(\n",
      "/u/yyudin/conda-envs/python394/lib/python3.9/site-packages/sklearn/gaussian_process/kernels.py:420: ConvergenceWarning: The optimal value found for dimension 0 of parameter k1__k2__length_scale is close to the specified lower bound 1e-05. Decreasing the bound and calling fit again may find a better value.\n",
      "  warnings.warn(\n",
      "/u/yyudin/conda-envs/python394/lib/python3.9/site-packages/sklearn/gaussian_process/kernels.py:420: ConvergenceWarning: The optimal value found for dimension 0 of parameter k1__k1__constant_value is close to the specified lower bound 1e-05. Decreasing the bound and calling fit again may find a better value.\n",
      "  warnings.warn(\n",
      "/u/yyudin/conda-envs/python394/lib/python3.9/site-packages/sklearn/gaussian_process/kernels.py:420: ConvergenceWarning: The optimal value found for dimension 0 of parameter k1__k1__constant_value is close to the specified lower bound 1e-05. Decreasing the bound and calling fit again may find a better value.\n",
      "  warnings.warn(\n",
      "/u/yyudin/conda-envs/python394/lib/python3.9/site-packages/sklearn/gaussian_process/kernels.py:420: ConvergenceWarning: The optimal value found for dimension 0 of parameter k1__k2__length_scale is close to the specified lower bound 1e-05. Decreasing the bound and calling fit again may find a better value.\n",
      "  warnings.warn(\n",
      "/u/yyudin/conda-envs/python394/lib/python3.9/site-packages/sklearn/gaussian_process/kernels.py:420: ConvergenceWarning: The optimal value found for dimension 0 of parameter k1__k1__constant_value is close to the specified lower bound 1e-05. Decreasing the bound and calling fit again may find a better value.\n",
      "  warnings.warn(\n",
      "/u/yyudin/conda-envs/python394/lib/python3.9/site-packages/sklearn/gaussian_process/kernels.py:420: ConvergenceWarning: The optimal value found for dimension 0 of parameter k1__k2__length_scale is close to the specified lower bound 1e-05. Decreasing the bound and calling fit again may find a better value.\n",
      "  warnings.warn(\n",
      "/u/yyudin/conda-envs/python394/lib/python3.9/site-packages/sklearn/gaussian_process/kernels.py:420: ConvergenceWarning: The optimal value found for dimension 0 of parameter k1__k1__constant_value is close to the specified lower bound 1e-05. Decreasing the bound and calling fit again may find a better value.\n",
      "  warnings.warn(\n",
      "/u/yyudin/conda-envs/python394/lib/python3.9/site-packages/sklearn/gaussian_process/kernels.py:420: ConvergenceWarning: The optimal value found for dimension 0 of parameter k1__k2__length_scale is close to the specified lower bound 1e-05. Decreasing the bound and calling fit again may find a better value.\n",
      "  warnings.warn(\n"
     ]
    }
   ],
   "source": [
    "S={}\n",
    "test_fractions = [0.80, 0.70, 0.60, 0.50, 0.40, 0.30, 0.20]\n",
    "#for trF in [0.99, 0.98, 0.95, 0.90, 0.80, 0.70, 0.60, 0.50, 0.40, 0.30, 0.20, 0.10, 0.05, 0.02, 0.01]:\n",
    "for trF in test_fractions:\n",
    "    S[str(trF)] = {}\n",
    "    S[str(trF)]['trF'] = trF\n",
    "    X_trn, X_tst, Y_trn, Y_tst = train_test_split(X, Y, test_size=trF)\n",
    "    Y_pred = np.zeros_like(Y_tst)\n",
    "    for F in range(Y.shape[1]): \n",
    "        gp = GaussianProcessRegressor(kernel=kernel, normalize_y=True)\n",
    "        gp.fit(X_trn, Y_trn[:,F])\n",
    "        Y_pred[:,F] = gp.predict(X_tst, return_std=False)\n",
    "    S[str(trF)]['RMSE'] = np.sqrt(mean_squared_error(Y_tst, Y_pred, multioutput='raw_values'))\n",
    "    S[str(trF)]['VarianceScore'] = r2_score(Y_tst, Y_pred)"
   ]
  },
  {
   "cell_type": "markdown",
   "metadata": {
    "slideshow": {
     "slide_type": "slide"
    }
   },
   "source": [
    "#### GPR: effects from differing training fractions --- plot of RMSE"
   ]
  },
  {
   "cell_type": "code",
   "execution_count": 20,
   "metadata": {
    "ExecuteTime": {
     "end_time": "2020-08-18T13:23:10.508272Z",
     "start_time": "2020-08-18T13:23:09.962611Z"
    }
   },
   "outputs": [
    {
     "data": {
      "application/pdf": "[encoded data removed]",
      "image/png": "[encoded data removed]",
      "text/plain": [
       "<Figure size 1008x504 with 1 Axes>"
      ]
     },
     "metadata": {
      "needs_background": "light"
     },
     "output_type": "display_data"
    }
   ],
   "source": [
    "plt.figure(figsize=(14,7))\n",
    "plt.plot([S[s]['trF'] for s in np.sort(list(S.keys()))] , [S[s]['RMSE'] for s in np.sort(list(S.keys()))])\n",
    "plt.xlabel('Test fraction') ; plt.ylabel('RMSE') ; plt.ylim(-0.1,1)\n",
    "plt.legend(loc=0, labels=YLABELS)\n",
    "plt.gca().set_prop_cycle(None)\n",
    "plt.plot([0, 1], np.broadcast_to(RMSE, (2,2)), '-.' )\n",
    "plt.title('Gaussian process regression in the logarithmic space');"
   ]
  },
  {
   "cell_type": "markdown",
   "metadata": {
    "slideshow": {
     "slide_type": "slide"
    }
   },
   "source": [
    "#### GPR: effects from differing training fractions --- plot of VarianceScore"
   ]
  },
  {
   "cell_type": "code",
   "execution_count": 21,
   "metadata": {
    "ExecuteTime": {
     "end_time": "2020-08-18T13:23:10.989901Z",
     "start_time": "2020-08-18T13:23:10.510554Z"
    }
   },
   "outputs": [
    {
     "data": {
      "application/pdf": "[encoded data removed]",
      "image/png": "[encoded data removed]",
      "text/plain": [
       "<Figure size 1008x504 with 1 Axes>"
      ]
     },
     "metadata": {
      "needs_background": "light"
     },
     "output_type": "display_data"
    }
   ],
   "source": [
    "plt.figure(figsize=(14,7))\n",
    "plt.plot([S[s]['trF'] for s in np.sort(list(S.keys()))] , [S[s]['VarianceScore'] for s in np.sort(list(S.keys()))])\n",
    "plt.xlabel('Test fraction') ; plt.ylabel('VarianceScore') ; plt.ylim(0,1.1)\n",
    "plt.gca().set_prop_cycle(None)\n",
    "plt.plot([0, 1], [VarianceScore, VarianceScore], '-.' )\n",
    "plt.title('Gaussian process regression in the logarithmic space');"
   ]
  },
  {
   "cell_type": "markdown",
   "metadata": {},
   "source": [
    "### ADDITION: HYPERPARAMETER SCAN with scikit-learn tuner"
   ]
  },
  {
   "cell_type": "code",
   "execution_count": 22,
   "metadata": {},
   "outputs": [],
   "source": [
    "from sklearn.model_selection import GridSearchCV\n",
    "from sklearn.gaussian_process.kernels import RBF, Matern"
   ]
  },
  {
   "cell_type": "code",
   "execution_count": 24,
   "metadata": {},
   "outputs": [
    {
     "data": {
      "text/plain": [
       "dict_keys(['alpha', 'copy_X_train', 'kernel', 'n_restarts_optimizer', 'normalize_y', 'optimizer', 'random_state'])"
      ]
     },
     "execution_count": 24,
     "metadata": {},
     "output_type": "execute_result"
    }
   ],
   "source": [
    "GaussianProcessRegressor().get_params().keys()"
   ]
  },
  {
   "cell_type": "code",
   "execution_count": 41,
   "metadata": {},
   "outputs": [],
   "source": [
    "test_fractions = [0.80, 0.70, 0.60, 0.50, 0.40, 0.30, 0.20]\n",
    "tf = test_fractions[3]\n",
    "\n",
    "X_train, X_test, y_train, y_test = train_test_split(X, Y, test_size=tf, random_state=0)"
   ]
  },
  {
   "cell_type": "code",
   "execution_count": 105,
   "metadata": {},
   "outputs": [],
   "source": [
    "\"\"\"\n",
    "hyperameters_vary = [\n",
    "    {\"kernel\": [\"rbf\"], \"length_scale\":[.1, 1., 10.]},\n",
    "    {\"kernel\":[\"matern\"], \"length_scale\":[.1, 1., 10.]},\n",
    "]\n",
    "\"\"\"\n",
    "\n",
    "kernel_name_dict = {\n",
    "    \"rbf\": RBF(),\n",
    "    \"matern\": Matern(),\n",
    "    \"composite\": ConstantKernel() * Matern() + WhiteKernel(),\n",
    "}\n",
    "\n",
    "kernel_dict = {\n",
    "            \"rbf\": {\"length_scale\": [0.01, 0.1, 1.]}, \n",
    "            \"matern\": {\"length_scale\": [0.01, 0.1, 1.]},\n",
    "            \"composite\": {\"k1__k1__constant_value\": [0.01, 0.1, 1.], \"k1__k2__length_scale\": [0.01, 0.1, 1.], \"k2__noise_level\": [0.01, 0.1, 1.0]},\n",
    "}\n",
    "\n",
    "score_names = [\"r2\", \"explained_variance\"]"
   ]
  },
  {
   "cell_type": "code",
   "execution_count": 106,
   "metadata": {},
   "outputs": [
    {
     "name": "stdout",
     "output_type": "stream",
     "text": [
      "The model with initial kernel of rbf_length_scale_0.01 has r2 score=7.35710895404369e-01\n",
      "The model with initial kernel of rbf_length_scale_0.1 has r2 score=7.357108953840408e-01\n",
      "The model with initial kernel of rbf_length_scale_1.0 has r2 score=-1.2438858001987071e+04\n",
      "The model with initial kernel of matern_length_scale_0.01 has r2 score=7.838170764043274e-01\n",
      "The model with initial kernel of matern_length_scale_0.1 has r2 score=7.838170865962363e-01\n",
      "The model with initial kernel of matern_length_scale_1.0 has r2 score=7.838170759972596e-01\n",
      "The model with initial kernel of composite_k1__k1__constant_value_0.01_k1__k2__length_scale_0.01_k2__noise_level_0.01 has r2 score=-5.3444941516447964e-02\n",
      "The model with initial kernel of composite_k1__k1__constant_value_0.01_k1__k2__length_scale_0.01_k2__noise_level_0.1 has r2 score=7.605557856772036e-01\n",
      "The model with initial kernel of composite_k1__k1__constant_value_0.01_k1__k2__length_scale_0.01_k2__noise_level_1.0 has r2 score=-1.2438806923159202e+04\n",
      "The model with initial kernel of composite_k1__k1__constant_value_0.01_k1__k2__length_scale_0.1_k2__noise_level_0.01 has r2 score=-5.3444944543318496e-02\n",
      "The model with initial kernel of composite_k1__k1__constant_value_0.01_k1__k2__length_scale_0.1_k2__noise_level_0.1 has r2 score=-5.344494126872723e-02\n",
      "The model with initial kernel of composite_k1__k1__constant_value_0.01_k1__k2__length_scale_0.1_k2__noise_level_1.0 has r2 score=7.605558548166074e-01\n"
     ]
    },
    {
     "name": "stderr",
     "output_type": "stream",
     "text": [
      "/u/yyudin/conda-envs/python394/lib/python3.9/site-packages/sklearn/gaussian_process/kernels.py:420: ConvergenceWarning: The optimal value found for dimension 0 of parameter length_scale is close to the specified lower bound 1e-05. Decreasing the bound and calling fit again may find a better value.\n",
      "  warnings.warn(\n",
      "/u/yyudin/conda-envs/python394/lib/python3.9/site-packages/sklearn/gaussian_process/kernels.py:430: ConvergenceWarning: The optimal value found for dimension 0 of parameter k1__k2__length_scale is close to the specified upper bound 1e+05. Increasing the bound and calling fit again may find a better value.\n",
      "  warnings.warn(\n"
     ]
    },
    {
     "name": "stdout",
     "output_type": "stream",
     "text": [
      "The model with initial kernel of composite_k1__k1__constant_value_0.01_k1__k2__length_scale_1.0_k2__noise_level_0.01 has r2 score=-5.3444940037459476e-02\n",
      "The model with initial kernel of composite_k1__k1__constant_value_0.01_k1__k2__length_scale_1.0_k2__noise_level_0.1 has r2 score=7.605557558281816e-01\n",
      "The model with initial kernel of composite_k1__k1__constant_value_0.01_k1__k2__length_scale_1.0_k2__noise_level_1.0 has r2 score=7.605558319074356e-01\n",
      "The model with initial kernel of composite_k1__k1__constant_value_0.1_k1__k2__length_scale_0.01_k2__noise_level_0.01 has r2 score=-5.344494084015228e-02\n",
      "The model with initial kernel of composite_k1__k1__constant_value_0.1_k1__k2__length_scale_0.01_k2__noise_level_0.1 has r2 score=7.605558529091416e-01\n",
      "The model with initial kernel of composite_k1__k1__constant_value_0.1_k1__k2__length_scale_0.01_k2__noise_level_1.0 has r2 score=-5.3444934448626746e-02\n",
      "The model with initial kernel of composite_k1__k1__constant_value_0.1_k1__k2__length_scale_0.1_k2__noise_level_0.01 has r2 score=-5.3444943576445914e-02\n",
      "The model with initial kernel of composite_k1__k1__constant_value_0.1_k1__k2__length_scale_0.1_k2__noise_level_0.1 has r2 score=-5.3444936691195544e-02\n",
      "The model with initial kernel of composite_k1__k1__constant_value_0.1_k1__k2__length_scale_0.1_k2__noise_level_1.0 has r2 score=-5.344493915260817e-02"
     ]
    },
    {
     "name": "stderr",
     "output_type": "stream",
     "text": [
      "/u/yyudin/conda-envs/python394/lib/python3.9/site-packages/sklearn/gaussian_process/kernels.py:430: ConvergenceWarning: The optimal value found for dimension 0 of parameter k1__k2__length_scale is close to the specified upper bound 1e+05. Increasing the bound and calling fit again may find a better value.\n",
      "  warnings.warn(\n",
      "/u/yyudin/conda-envs/python394/lib/python3.9/site-packages/sklearn/gaussian_process/kernels.py:430: ConvergenceWarning: The optimal value found for dimension 0 of parameter k1__k2__length_scale is close to the specified upper bound 1e+05. Increasing the bound and calling fit again may find a better value.\n",
      "  warnings.warn(\n"
     ]
    },
    {
     "name": "stdout",
     "output_type": "stream",
     "text": [
      "\n",
      "The model with initial kernel of composite_k1__k1__constant_value_0.1_k1__k2__length_scale_1.0_k2__noise_level_0.01 has r2 score=7.605562720603903e-01\n",
      "The model with initial kernel of composite_k1__k1__constant_value_0.1_k1__k2__length_scale_1.0_k2__noise_level_0.1 has r2 score=7.605558902765635e-01\n",
      "The model with initial kernel of composite_k1__k1__constant_value_0.1_k1__k2__length_scale_1.0_k2__noise_level_1.0 has r2 score=7.605557764379401e-01\n",
      "The model with initial kernel of composite_k1__k1__constant_value_1.0_k1__k2__length_scale_0.01_k2__noise_level_0.01 has r2 score=-5.3444849725749144e-02\n",
      "The model with initial kernel of composite_k1__k1__constant_value_1.0_k1__k2__length_scale_0.01_k2__noise_level_0.1 has r2 score=7.605558344739282e-01\n",
      "The model with initial kernel of composite_k1__k1__constant_value_1.0_k1__k2__length_scale_0.01_k2__noise_level_1.0 has r2 score=-5.344407935068696e-02\n",
      "The model with initial kernel of composite_k1__k1__constant_value_1.0_k1__k2__length_scale_0.1_k2__noise_level_0.01 has r2 score=-5.3444442773797673e-02\n",
      "The model with initial kernel of composite_k1__k1__constant_value_1.0_k1__k2__length_scale_0.1_k2__noise_level_0.1 has r2 score=-5.344471073534596e-02\n",
      "The model with initial kernel of composite_k1__k1__constant_value_1.0_k1__k2__length_scale_0.1_k2__noise_level_1.0 has r2 score=-5.344253856945547e-02\n",
      "The model with initial kernel of composite_k1__k1__constant_value_1.0_k1__k2__length_scale_1.0_k2__noise_level_0.01 has r2 score=7.60555774371424e-01\n",
      "The model with initial kernel of composite_k1__k1__constant_value_1.0_k1__k2__length_scale_1.0_k2__noise_level_0.1 has r2 score=7.605564005005077e-01\n",
      "The model with initial kernel of composite_k1__k1__constant_value_1.0_k1__k2__length_scale_1.0_k2__noise_level_1.0 has r2 score=7.605558596674753e-01\n",
      "\n",
      ">>> Best parameter values out of tested ones is matern_length_scale_0.1 with score of 0.7838170865962363\n",
      ">>> Its parameters are: Matern(length_scale=0.795, nu=1.5)\n"
     ]
    }
   ],
   "source": [
    "models = {}\n",
    "score_vals = {}\n",
    "\n",
    "#reg = GridSearchCV(GaussianProcessRegressor(), hyperameters_vary, scoring=\"r2\")\n",
    "#reg.fit(X_train, y_train)\n",
    "\n",
    "# Iterate over different types of kernels\n",
    "for k_name in kernel_dict.keys():\n",
    "\n",
    "    # Store default values for kernel parameters\n",
    "    kernel_params_conc = {}\n",
    "    #for k,v in kernel_dict[k_name].items():\n",
    "    #    # As default take first element of each parameter value list\n",
    "    #    kernel_params_conc[k] = v[0]\n",
    "\n",
    "    ## Change the parameter values: iterate over parameters\n",
    "    #for par in kernel_dict[k_name].keys():\n",
    "    # Iterate over carthesian product of all possible kernel parameter values\n",
    "    for par_val in itertools.product(*kernel_dict[k_name].values()):\n",
    "        #print(par_val) #DEBUG\n",
    "\n",
    "        ## Assign parameter dictionary default value for non-running variable\n",
    "        #kernel_params_conc[par] = kernel_dict[k_name][par][0]\n",
    "        \n",
    "        ## Iterate over possible values for chosen parameter \n",
    "        ##for val in kernel_dict[k_name][par]:\n",
    "        \n",
    "        for i, k in enumerate(kernel_dict[k_name].keys()):\n",
    "            kernel_params_conc[k] = par_val[i]\n",
    "\n",
    "        #print(kernel_params_conc) #DEBUG\n",
    "        #print(kernel_name_dict[k_name].get_params().keys()) #DEBUG\n",
    "\n",
    "        # Set the parameters of kernel object from the dictionary, create model and fit it\n",
    "        kernel = kernel_name_dict[k_name].set_params(**kernel_params_conc)\n",
    "        reg = GaussianProcessRegressor(kernel=kernel)\n",
    "        reg.fit(X_train, y_train)\n",
    "        \n",
    "        # Save parameter values as a dictionary key and store the model\n",
    "        model_key = k_name\n",
    "        for (k,v) in kernel_params_conc.items():\n",
    "            model_key += '_' + k + '_' + str(v)\n",
    "        models[model_key] = reg\n",
    "\n",
    "        # Save R2 scores on test set for each model \n",
    "        sc = reg.score(X_test, y_test)\n",
    "        score_vals[model_key] = sc\n",
    "        print('The model with initial kernel of {0} has {1} score={2}'.format(model_key, score_names[0], str(sc)))\n",
    "\n",
    "best_param = max(score_vals.items(), key=operator.itemgetter(1))[0]\n",
    "\n",
    "print('')\n",
    "print('>>> Best parameter values out of tested ones is {0} with score of {1}'.format(best_param, score_vals[best_param]))\n",
    "print('>>> Its parameters are: {0}'.format(models[best_param].kernel_))\n",
    "\n",
    "#print(score_vals) #DEBUG\n",
    "\n"
   ]
  },
  {
   "cell_type": "code",
   "execution_count": null,
   "metadata": {},
   "outputs": [],
   "source": [
    "NX = len(XLABELS)\n",
    "NY = len(YLABELS)\n",
    "print('Number of points = ', X.shape[0])\n",
    "\n",
    "model_cur = models[best_param]\n",
    "\n",
    "Xt = X_test.copy()\n",
    "Yt = np.zeros((Xt.shape[0],NY))\n",
    "Yts = np.zeros((Xt.shape[0],NY))\n",
    "for F in range(NY):\n",
    "  Yt[:,F], Yts[:,F] = model_cur.predict(Xt, return_std=True)\n",
    "\n",
    "Xvals = np.array([np.unique(X[:,i]) for i in range(X.shape[1])])\n",
    "\n",
    "plt.figure(figsize=(27,12))\n",
    "for i in range(NX):\n",
    "    ax=plt.subplot(2,2,i+1)\n",
    "    #vis(i, ax)\n",
    "    vis2(i, ax)\n",
    "plt.subplots_adjust(hspace=0.4)"
   ]
  },
  {
   "cell_type": "markdown",
   "metadata": {
    "slideshow": {
     "slide_type": "slide"
    }
   },
   "source": [
    "### Linear regression"
   ]
  },
  {
   "cell_type": "code",
   "execution_count": null,
   "metadata": {
    "ExecuteTime": {
     "end_time": "2020-08-18T13:23:11.032557Z",
     "start_time": "2020-08-18T13:23:10.998496Z"
    }
   },
   "outputs": [],
   "source": [
    "reg = linear_model.LinearRegression(n_jobs=-1)\n",
    "reg.fit (X, Y)\n",
    "Y_pred = reg.predict(X)\n",
    "print(\"Mean squared error: %.3f\" % mean_squared_error(Y, Y_pred))\n",
    "RMSE = np.sqrt(mean_squared_error(Y, Y_pred, multioutput='raw_values'))\n",
    "print(\"RMSE \", RMSE)\n",
    "# Explained variance score: 1 is perfect prediction\n",
    "VarianceScore = r2_score(Y, Y_pred)\n",
    "print('Variance score: %.3f' % VarianceScore)\n",
    "L.append(['Linear', RMSE, VarianceScore])\n",
    "print(L[-1])"
   ]
  },
  {
   "cell_type": "markdown",
   "metadata": {
    "slideshow": {
     "slide_type": "slide"
    }
   },
   "source": [
    "### Linear regression: effects from differing training fractions"
   ]
  },
  {
   "cell_type": "code",
   "execution_count": null,
   "metadata": {
    "ExecuteTime": {
     "end_time": "2020-08-18T13:23:11.093195Z",
     "start_time": "2020-08-18T13:23:11.040790Z"
    }
   },
   "outputs": [],
   "source": [
    "S={}\n",
    "for trF in [0.99, 0.98, 0.95, 0.90, 0.80, 0.70, 0.60, 0.50, 0.40, 0.30, 0.20, 0.10, 0.05, 0.02, 0.01]:\n",
    "    S[str(trF)] = {}\n",
    "    S[str(trF)]['trF'] = trF\n",
    "    X_trn, X_tst, Y_trn, Y_tst = train_test_split(X, Y, test_size=trF)\n",
    "    reg = linear_model.LinearRegression(n_jobs=-1)\n",
    "    reg.fit (X_trn, Y_trn)\n",
    "    Y_pred = reg.predict(X_tst)\n",
    "    S[str(trF)]['RMSE'] = np.sqrt(mean_squared_error(Y_tst, Y_pred, multioutput='raw_values'))\n",
    "    S[str(trF)]['VarianceScore'] = r2_score(Y_tst, Y_pred)"
   ]
  },
  {
   "cell_type": "markdown",
   "metadata": {
    "slideshow": {
     "slide_type": "slide"
    }
   },
   "source": [
    "### Linear regression: effects from differing training fractions --- plot of RMSE"
   ]
  },
  {
   "cell_type": "code",
   "execution_count": null,
   "metadata": {
    "ExecuteTime": {
     "end_time": "2020-08-18T13:23:11.617232Z",
     "start_time": "2020-08-18T13:23:11.098472Z"
    }
   },
   "outputs": [],
   "source": [
    "plt.figure(figsize=(14,7))\n",
    "plt.plot([S[s]['trF'] for s in np.sort(list(S.keys()))] , [S[s]['RMSE'] for s in np.sort(list(S.keys()))] )\n",
    "plt.xlabel('Test fraction') ; plt.ylabel('RMSE') ; plt.ylim(0,1)\n",
    "plt.legend(loc=0, labels=YLABELS)\n",
    "plt.gca().set_prop_cycle(None)\n",
    "plt.plot([0, 1] , np.broadcast_to(RMSE, (2,2)), '-.' )\n",
    "plt.title('Linear regression in the logarithmic space');"
   ]
  },
  {
   "cell_type": "markdown",
   "metadata": {
    "slideshow": {
     "slide_type": "slide"
    }
   },
   "source": [
    "### Ridge linear regression"
   ]
  },
  {
   "cell_type": "code",
   "execution_count": null,
   "metadata": {
    "ExecuteTime": {
     "end_time": "2020-08-18T13:23:11.652068Z",
     "start_time": "2020-08-18T13:23:11.624167Z"
    }
   },
   "outputs": [],
   "source": [
    "reg = linear_model.Ridge (alpha = 0.5)\n",
    "reg.fit (X, Y)\n",
    "Y_pred = reg.predict(X)\n",
    "print(\"Mean squared error: %.3f\" % mean_squared_error(Y, Y_pred))\n",
    "RMSE = np.sqrt(mean_squared_error(Y, Y_pred, multioutput='raw_values'))\n",
    "print(\"RMSE \", RMSE)\n",
    "# Explained variance score: 1 is perfect prediction\n",
    "VarianceScore = r2_score(Y, Y_pred)\n",
    "print('Variance score: %.3f' % VarianceScore)\n",
    "L.append(['Ridge', RMSE, VarianceScore])\n",
    "print(L[-1])"
   ]
  },
  {
   "cell_type": "markdown",
   "metadata": {
    "slideshow": {
     "slide_type": "slide"
    }
   },
   "source": [
    "### RidgeCV linear regression"
   ]
  },
  {
   "cell_type": "code",
   "execution_count": null,
   "metadata": {
    "ExecuteTime": {
     "end_time": "2020-08-18T13:23:11.699067Z",
     "start_time": "2020-08-18T13:23:11.661184Z"
    }
   },
   "outputs": [],
   "source": [
    "reg = linear_model.RidgeCV(alphas=[0.1, 1.0, 10.0])\n",
    "reg.fit (X, Y)\n",
    "Y_pred = reg.predict(X)\n",
    "print(\"Mean squared error: %.3f\" % mean_squared_error(Y, Y_pred))\n",
    "RMSE = np.sqrt(mean_squared_error(Y, Y_pred, multioutput='raw_values'))\n",
    "print(\"RMSE \", RMSE)\n",
    "# Explained variance score: 1 is perfect prediction\n",
    "VarianceScore = r2_score(Y, Y_pred)\n",
    "print('Variance score: %.3f' % VarianceScore)\n",
    "L.append(['RidgeCV', RMSE, VarianceScore])\n",
    "print(L[-1])"
   ]
  },
  {
   "cell_type": "markdown",
   "metadata": {
    "slideshow": {
     "slide_type": "slide"
    }
   },
   "source": [
    "### Lasso linear regression"
   ]
  },
  {
   "cell_type": "code",
   "execution_count": null,
   "metadata": {
    "ExecuteTime": {
     "end_time": "2020-08-18T13:23:11.754023Z",
     "start_time": "2020-08-18T13:23:11.740329Z"
    }
   },
   "outputs": [],
   "source": [
    "reg = linear_model.Lasso(alpha = 1e-6)\n",
    "reg.fit (X, Y)\n",
    "Y_pred = reg.predict(X)\n",
    "print(\"Mean squared error: %.3f\" % mean_squared_error(Y, Y_pred))\n",
    "RMSE = np.sqrt(mean_squared_error(Y, Y_pred, multioutput='raw_values'))\n",
    "print(\"RMSE \", RMSE)\n",
    "# Explained variance score: 1 is perfect prediction\n",
    "VarianceScore = r2_score(Y, Y_pred)\n",
    "print('Variance score: %.3f' % VarianceScore)\n",
    "L.append(['Lasso', RMSE, VarianceScore])\n",
    "print(L[-1])"
   ]
  },
  {
   "cell_type": "markdown",
   "metadata": {
    "slideshow": {
     "slide_type": "slide"
    }
   },
   "source": [
    "### Bayesian ridge linear regression"
   ]
  },
  {
   "cell_type": "code",
   "execution_count": null,
   "metadata": {
    "ExecuteTime": {
     "end_time": "2020-08-18T13:23:11.801604Z",
     "start_time": "2020-08-18T13:23:11.765936Z"
    }
   },
   "outputs": [],
   "source": [
    "reg = linear_model.BayesianRidge()\n",
    "Y_pred = np.zeros_like(Y)\n",
    "for F in range(Y.shape[1]):  reg.fit (X, Y[:,F]) ; Y_pred[:,F] = reg.predict(X)\n",
    "print(\"Mean squared error: %.3f\" % mean_squared_error(Y, Y_pred))\n",
    "RMSE = np.sqrt(mean_squared_error(Y, Y_pred, multioutput='raw_values'))\n",
    "print(\"RMSE \", RMSE)\n",
    "# Explained variance score: 1 is perfect prediction\n",
    "VarianceScore = r2_score(Y, Y_pred)\n",
    "print('Variance score: %.3f' % VarianceScore)\n",
    "L.append(['BayesianRidge', RMSE, VarianceScore])\n",
    "print(L[-1])"
   ]
  },
  {
   "cell_type": "markdown",
   "metadata": {
    "slideshow": {
     "slide_type": "slide"
    }
   },
   "source": [
    "### SVM SVR "
   ]
  },
  {
   "cell_type": "code",
   "execution_count": null,
   "metadata": {
    "ExecuteTime": {
     "end_time": "2020-08-18T13:23:11.894610Z",
     "start_time": "2020-08-18T13:23:11.845157Z"
    }
   },
   "outputs": [],
   "source": [
    "Y_pred = np.zeros_like(Y)\n",
    "for F in range(Y.shape[1]): \n",
    "    model = Pipeline([('poly', PolynomialFeatures(degree=1, include_bias=False)), ('svm', svm.SVR(kernel='rbf'))])\n",
    "    RES = model.fit(X, Y[:,F]) ; Y_pred[:,F] = RES.predict(X)\n",
    "print(\"Mean squared error: %.3f\" % mean_squared_error(Y, Y_pred))\n",
    "RMSE = np.sqrt(mean_squared_error(Y, Y_pred, multioutput='raw_values'))\n",
    "print(\"RMSE \", RMSE)\n",
    "# Explained variance score: 1 is perfect prediction\n",
    "VarianceScore = r2_score(Y, Y_pred)\n",
    "print('Variance score: %.3f' % VarianceScore)\n",
    "L.append(['SVR', RMSE, VarianceScore])\n",
    "print(L[-1])"
   ]
  },
  {
   "cell_type": "markdown",
   "metadata": {
    "slideshow": {
     "slide_type": "slide"
    }
   },
   "source": [
    "### SVM nuSVR "
   ]
  },
  {
   "cell_type": "code",
   "execution_count": null,
   "metadata": {
    "ExecuteTime": {
     "end_time": "2020-08-18T13:23:12.040920Z",
     "start_time": "2020-08-18T13:23:11.908192Z"
    }
   },
   "outputs": [],
   "source": [
    "Y_pred = np.zeros_like(Y)\n",
    "for F in range(Y.shape[1]): \n",
    "    model = Pipeline([('poly', PolynomialFeatures(degree=1, include_bias=False)), ('svm', svm.NuSVR(kernel='rbf'))])\n",
    "    RES = model.fit(X, Y[:,F]) ; Y_pred[:,F] = RES.predict(X)\n",
    "print(\"Mean squared error: %.3f\" % mean_squared_error(Y, Y_pred))\n",
    "RMSE = np.sqrt(mean_squared_error(Y, Y_pred, multioutput='raw_values'))\n",
    "print(\"RMSE \", RMSE)\n",
    "# Explained variance score: 1 is perfect prediction\n",
    "VarianceScore = r2_score(Y, Y_pred)\n",
    "print('Variance score: %.3f' % VarianceScore)\n",
    "L.append(['NuSVR', RMSE, VarianceScore])\n",
    "print(L[-1])"
   ]
  },
  {
   "cell_type": "markdown",
   "metadata": {
    "slideshow": {
     "slide_type": "slide"
    }
   },
   "source": [
    "### SVM SVR (C=1, gamma=1)"
   ]
  },
  {
   "cell_type": "code",
   "execution_count": null,
   "metadata": {
    "ExecuteTime": {
     "end_time": "2020-08-18T13:23:12.101514Z",
     "start_time": "2020-08-18T13:23:12.053254Z"
    }
   },
   "outputs": [],
   "source": [
    "Y_pred = np.zeros_like(Y)\n",
    "for F in range(Y.shape[1]): \n",
    "    model = Pipeline([('poly', PolynomialFeatures(degree=1, include_bias=False)), ('svm', svm.SVR(C=1, gamma=1, kernel='rbf'))])\n",
    "    RES = model.fit(X, Y[:,F]) ; Y_pred[:,F] = RES.predict(X)\n",
    "print(\"Mean squared error: %.3f\" % mean_squared_error(Y, Y_pred))\n",
    "RMSE = np.sqrt(mean_squared_error(Y, Y_pred, multioutput='raw_values'))\n",
    "print(\"RMSE \", RMSE)\n",
    "# Explained variance score: 1 is perfect prediction\n",
    "VarianceScore = r2_score(Y, Y_pred)\n",
    "print('Variance score: %.3f' % VarianceScore)\n",
    "L.append(['SVR(C=1,gamma=1)', RMSE, VarianceScore])\n",
    "print(L[-1])"
   ]
  },
  {
   "cell_type": "markdown",
   "metadata": {
    "slideshow": {
     "slide_type": "slide"
    }
   },
   "source": [
    "### Multivariate polynomial regression"
   ]
  },
  {
   "cell_type": "code",
   "execution_count": null,
   "metadata": {
    "ExecuteTime": {
     "end_time": "2020-08-18T13:23:13.565945Z",
     "start_time": "2020-08-18T13:23:12.104860Z"
    }
   },
   "outputs": [],
   "source": [
    "S={}\n",
    "for i in range(13):  #13\n",
    "    S[i]={}\n",
    "    model = Pipeline([('poly', PolynomialFeatures(degree=i+1)), ('linear', RidgeCV(alphas=[0.1, 0.2, 0.5, 1.0, 2.0, 5.0, 10.0, 100.0], fit_intercept=False))])\n",
    "    RES = model.fit(X, Y)\n",
    "    S[i]['RES'] = RES\n",
    "    S[i]['alpha'] = RES.named_steps['linear'].alpha_\n",
    "    S[i]['coef'] = RES.named_steps['linear'].coef_\n",
    "    S[i]['intercept'] = RES.named_steps['linear'].intercept_\n",
    "    Y_pred = RES.predict(X)\n",
    "    S[i]['degree'] = i+1\n",
    "    print('Polynomial of degree ', i+1)\n",
    "    S[i]['MSE'] = mean_squared_error(Y, Y_pred)\n",
    "    print(\"Mean squared error: %.3f\" % mean_squared_error(Y, Y_pred))\n",
    "    S[i]['VarianceScore'] = r2_score(Y, Y_pred)\n",
    "    print('Variance score: %.3f' % r2_score(Y, Y_pred))\n",
    "    S[i]['RMSE'] = np.sqrt(mean_squared_error(Y, Y_pred, multioutput='raw_values'))\n",
    "    print(\"RMSE \", np.sqrt(mean_squared_error(Y, Y_pred, multioutput='raw_values')))"
   ]
  },
  {
   "cell_type": "markdown",
   "metadata": {
    "slideshow": {
     "slide_type": "slide"
    }
   },
   "source": [
    "### Multivariate polynomial regression: RMSE vs degree"
   ]
  },
  {
   "cell_type": "code",
   "execution_count": null,
   "metadata": {
    "ExecuteTime": {
     "end_time": "2020-08-18T13:23:14.137915Z",
     "start_time": "2020-08-18T13:23:13.574361Z"
    }
   },
   "outputs": [],
   "source": [
    "plt.figure(figsize=(14,7))\n",
    "plt.plot([S[s]['degree'] for s in np.sort(list(S.keys()))] , [S[s]['RMSE'] for s in np.sort(list(S.keys()))] )\n",
    "plt.xlabel('Degree') ; plt.ylabel('RMSE') ; plt.ylim(0,1)\n",
    "plt.legend(loc=0, labels=YLABELS)\n",
    "plt.title('RidgeCV regression with polynomial extension\\nin the logarithmic space')"
   ]
  },
  {
   "cell_type": "markdown",
   "metadata": {
    "slideshow": {
     "slide_type": "slide"
    }
   },
   "source": [
    "### Multivariate polynomial regression: effect of training fraction"
   ]
  },
  {
   "cell_type": "code",
   "execution_count": null,
   "metadata": {
    "ExecuteTime": {
     "end_time": "2020-08-18T13:23:33.433434Z",
     "start_time": "2020-08-18T13:23:14.144384Z"
    },
    "scrolled": false
   },
   "outputs": [],
   "source": [
    "for C in S:\n",
    "    print('degree ', S[C]['degree'])\n",
    "    S2={}\n",
    "    for trF in [0.99, 0.98, 0.95, 0.90, 0.80, 0.70, 0.60, 0.50, 0.40, 0.30, 0.20, 0.10, 0.05, 0.02, 0.01]:\n",
    "        S2[str(trF)] = {}\n",
    "        S2[str(trF)]['trF'] = trF\n",
    "        X_trn, X_tst, Y_trn, Y_tst = train_test_split(X, Y, test_size=trF)\n",
    "        model = Pipeline([('poly', PolynomialFeatures(degree=S[C]['degree'])), ('linear', RidgeCV(alphas=[0.1, 0.2, 0.5, 1.0, 2.0, 5.0, 10.0, 100.0], fit_intercept=False))])\n",
    "        RES = model.fit(X_trn, Y_trn)\n",
    "        Y_pred = RES.predict(X_tst)\n",
    "        S2[str(trF)]['RMSE'] = np.sqrt(mean_squared_error(Y_tst, Y_pred, multioutput='raw_values'))\n",
    "        S2[str(trF)]['VarianceScore'] = r2_score(Y_tst, Y_pred)\n",
    "\n",
    "    plt.figure(figsize=(14,7))\n",
    "    plt.plot([S2[s]['trF'] for s in np.sort(list(S2.keys()))] , [S2[s]['RMSE'] for s in np.sort(list(S2.keys()))] )\n",
    "    plt.xlabel('Test fraction') ; plt.ylabel('RMSE') ; plt.ylim(0,1)\n",
    "    plt.legend(loc=0, labels=YLABELS)\n",
    "    plt.gca().set_prop_cycle(None)\n",
    "    plt.plot([0, 1] , np.broadcast_to(S[C]['RMSE'], (2,2)), '-.' )\n",
    "    plt.title('RidgeCV regression with polynomial extension %s\\nin the normalised logarithmic space' % (S[C]['degree']));"
   ]
  },
  {
   "cell_type": "markdown",
   "metadata": {
    "slideshow": {
     "slide_type": "slide"
    }
   },
   "source": [
    "## Summary of results"
   ]
  },
  {
   "cell_type": "code",
   "execution_count": null,
   "metadata": {
    "ExecuteTime": {
     "end_time": "2020-08-18T13:23:33.485932Z",
     "start_time": "2020-08-18T13:23:33.446348Z"
    }
   },
   "outputs": [],
   "source": [
    "LL = []\n",
    "for l in L:\n",
    "    LLL=[] ; LLL.append(l[0]) ; LLL.extend(l[1]) ; LLL.append(l[2])\n",
    "    LL.append(LLL)\n",
    "for s in S: \n",
    "    SSS=[] ; SSS.append('RidgeCV_with_polynomial_extension=%s' % S[s]['degree'])\n",
    "    SSS.extend(S[s]['RMSE']) ; SSS.append(S[s]['VarianceScore'])\n",
    "    LL.append(SSS)\n",
    "headers=['method'] ; headers.extend(YLABELS) ; headers.append('VarianceScore')\n",
    "print(tabulate.tabulate(LL, tablefmt=\"simple\", headers=headers, floatfmt='5.3f'))"
   ]
  }
 ],
 "metadata": {
  "celltoolbar": "Slideshow",
  "interpreter": {
   "hash": "69668a4b2fb52951c5fd82350c45ffb2ba0fd626ce639522560a094fc69c9c71"
  },
  "kernelspec": {
   "display_name": "Python 3.9.4 ('python394')",
   "language": "python",
   "name": "python3"
  },
  "language_info": {
   "codemirror_mode": {
    "name": "ipython",
    "version": 3
   },
   "file_extension": ".py",
   "mimetype": "text/x-python",
   "name": "python",
   "nbconvert_exporter": "python",
   "pygments_lexer": "ipython3",
   "version": "3.9.4"
  },
  "latex_metadata": {
   "affiliation": "Max Planck Institute for Plasma Physics, Garching, Germany",
   "author": "David P. Coster",
   "title": "VECMA Fusion Notebooks"
  }
 },
 "nbformat": 4,
 "nbformat_minor": 4
}
