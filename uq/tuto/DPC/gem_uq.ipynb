{
 "cells": [
  {
   "cell_type": "code",
   "execution_count": null,
   "metadata": {
    "ExecuteTime": {
     "end_time": "2020-08-12T16:51:56.942167Z",
     "start_time": "2020-08-12T16:51:53.748889Z"
    }
   },
   "outputs": [],
   "source": [
    "%matplotlib inline\n",
    "#%matplotlib notebook\n",
    "import os\n",
    "import matplotlib\n",
    "if not os.getenv(\"DISPLAY\"): matplotlib.use('Agg')\n",
    "import matplotlib.pylab as plt\n",
    "from IPython.display import set_matplotlib_formats\n",
    "set_matplotlib_formats('png', 'pdf')\n",
    "import numpy as np\n",
    "import pandas as pd\n",
    "from sklearn.gaussian_process import GaussianProcessRegressor\n",
    "from sklearn.gaussian_process.kernels \\\n",
    "    import RBF, WhiteKernel, RationalQuadratic, ExpSineSquared, Matern, ConstantKernel\n",
    "import pickle, gzip\n",
    "import itertools\n",
    "from timeit import default_timer as timer\n",
    "import resource, sys"
   ]
  },
  {
   "cell_type": "code",
   "execution_count": null,
   "metadata": {
    "ExecuteTime": {
     "end_time": "2020-08-12T16:51:57.068889Z",
     "start_time": "2020-08-12T16:51:56.948692Z"
    }
   },
   "outputs": [],
   "source": [
    "G = pd.read_csv('../../data/gem_uq_inoutput.csv')\n",
    "G.describe().T"
   ]
  },
  {
   "cell_type": "code",
   "execution_count": null,
   "metadata": {
    "ExecuteTime": {
     "end_time": "2020-08-12T16:51:57.218832Z",
     "start_time": "2020-08-12T16:51:57.099203Z"
    }
   },
   "outputs": [],
   "source": [
    "G.te_value = np.log10(G.te_value)\n",
    "G.ti_value = np.log10(G.ti_value)\n",
    "G.te_ddrho = np.log10(-G.te_ddrho)\n",
    "G.ti_ddrho = np.log10(-G.ti_ddrho)\n",
    "G.te_transp_flux = np.log10(G.te_transp_flux)\n",
    "G.ti_transp_flux = np.log10(G.ti_transp_flux)\n",
    "G.describe().T"
   ]
  },
  {
   "cell_type": "code",
   "execution_count": null,
   "metadata": {
    "ExecuteTime": {
     "end_time": "2020-08-12T16:52:13.307247Z",
     "start_time": "2020-08-12T16:51:57.232263Z"
    }
   },
   "outputs": [],
   "source": [
    "axes = pd.plotting.scatter_matrix(G, alpha=0.5, diagonal='hist', figsize=(8,6))\n",
    "corr = np.array(G.corr())\n",
    "for i, j in zip(*plt.np.triu_indices_from(axes, k=1)):\n",
    "    axes[i, j].annotate(\"%.3f\" %corr[i,j], (0.8, 0.8), xycoords='axes fraction', ha='center', va='center')\n",
    "plt.show()"
   ]
  },
  {
   "cell_type": "code",
   "execution_count": null,
   "metadata": {
    "ExecuteTime": {
     "end_time": "2020-08-12T16:52:13.349349Z",
     "start_time": "2020-08-12T16:52:13.314593Z"
    }
   },
   "outputs": [],
   "source": [
    "XLABELS = ['te_value', 'ti_value', 'te_ddrho', 'ti_ddrho']\n",
    "X = G[XLABELS].values\n",
    "YLABELS = ['te_transp_flux', 'ti_transp_flux']\n",
    "Y = G[YLABELS].values"
   ]
  },
  {
   "cell_type": "code",
   "execution_count": null,
   "metadata": {
    "ExecuteTime": {
     "end_time": "2020-08-12T16:52:20.660611Z",
     "start_time": "2020-08-12T16:52:13.371694Z"
    }
   },
   "outputs": [],
   "source": [
    "NX = len(XLABELS)\n",
    "NY = len(YLABELS)\n",
    "print('Number of points = ', X.shape[0])\n",
    "\n",
    "kernel = ConstantKernel() + Matern(length_scale=2, nu=3/2) + WhiteKernel(noise_level=1)\n",
    "\n",
    "start=timer()\n",
    "GP = []\n",
    "for F in range(NY): \n",
    "    gp = GaussianProcessRegressor(kernel=kernel, normalize_y=True)\n",
    "#    %time \n",
    "    gp.fit(X, Y[:,F])\n",
    "    print(YLABELS[F], gp.kernel_)\n",
    "    GP.append(gp)\n",
    "end=timer()\n",
    "print('Calculating GPR took %0.3f seconds' % (end-start))\n"
   ]
  },
  {
   "cell_type": "code",
   "execution_count": null,
   "metadata": {
    "ExecuteTime": {
     "end_time": "2020-08-12T16:52:21.027986Z",
     "start_time": "2020-08-12T16:52:20.670683Z"
    }
   },
   "outputs": [],
   "source": [
    "start=timer()\n",
    "Xt = X.copy()\n",
    "Yt = np.zeros((Xt.shape[0],NY))\n",
    "Yts = np.zeros((Xt.shape[0],NY))\n",
    "for F in range(NY):\n",
    "  Yt[:,F], Yts[:,F] = GP[F].predict(Xt, return_std=True)\n",
    "end=timer()\n",
    "end=timer()\n",
    "print('Calculating GPR on grid took %0.3f seconds' % (end-start))"
   ]
  },
  {
   "cell_type": "code",
   "execution_count": null,
   "metadata": {
    "ExecuteTime": {
     "end_time": "2020-08-12T16:52:21.112560Z",
     "start_time": "2020-08-12T16:52:21.065558Z"
    }
   },
   "outputs": [],
   "source": [
    "np.sqrt((Y-Yt)**2).mean(axis=0)"
   ]
  },
  {
   "cell_type": "code",
   "execution_count": null,
   "metadata": {
    "ExecuteTime": {
     "end_time": "2020-08-12T16:52:21.194445Z",
     "start_time": "2020-08-12T16:52:21.133054Z"
    }
   },
   "outputs": [],
   "source": [
    "Yts.mean(axis=0)"
   ]
  },
  {
   "cell_type": "code",
   "execution_count": null,
   "metadata": {
    "ExecuteTime": {
     "end_time": "2020-08-12T16:52:21.244342Z",
     "start_time": "2020-08-12T16:52:21.205473Z"
    }
   },
   "outputs": [],
   "source": [
    "Xvals = np.array([np.unique(X[:,i]) for i in range(X.shape[1])])"
   ]
  },
  {
   "cell_type": "code",
   "execution_count": null,
   "metadata": {
    "ExecuteTime": {
     "end_time": "2020-08-12T16:52:21.358025Z",
     "start_time": "2020-08-12T16:52:21.280532Z"
    }
   },
   "outputs": [],
   "source": [
    "def vis(slice):\n",
    "    if slice == 0:\n",
    "        Xt = np.array([i for i in itertools.product(np.linspace(Xvals[0].min(), Xvals[0].max(), 100), \n",
    "                                                    [Xvals[1,2]], \n",
    "                                                    [Xvals[2,2]],\n",
    "                                                    [Xvals[3,2]])])\n",
    "    elif slice == 1:\n",
    "        Xt = np.array([i for i in itertools.product([Xvals[0,2]], \n",
    "                                                    np.linspace(Xvals[1].min(), Xvals[1].max(), 100), \n",
    "                                                    [Xvals[2,2]],\n",
    "                                                    [Xvals[3,2]])])\n",
    "    elif slice == 2:\n",
    "        Xt = np.array([i for i in itertools.product([Xvals[0,2]], \n",
    "                                                    [Xvals[1,2]],\n",
    "                                                    np.linspace(Xvals[2].min(), Xvals[2].max(), 100), \n",
    "                                                    [Xvals[3,2]])])\n",
    "    elif slice == 3:\n",
    "        Xt = np.array([i for i in itertools.product([Xvals[0,2]], \n",
    "                                                    [Xvals[1,2]],\n",
    "                                                    [Xvals[2,2]],\n",
    "                                                    np.linspace(Xvals[3].min(), Xvals[3].max(), 100))])\n",
    "    start=timer()\n",
    "    Yt = np.zeros((Xt.shape[0],NY))\n",
    "    Yts = np.zeros((Xt.shape[0],NY))\n",
    "    for F in range(NY):\n",
    "      Yt[:,F], Yts[:,F] = GP[F].predict(Xt, return_std=True)\n",
    "    end=timer()\n",
    "    print('Calculating GPR on grid took %0.3f seconds' % (end-start))\n",
    "    \n",
    "    plt.figure(figsize=(8,6))\n",
    "    plt.plot(10.0**(Xt[:,slice]), 10.0**(Yt[:,0]), 'r', label=YLABELS[0])\n",
    "    plt.fill_between(10.0**(Xt[:,slice]), 10.0**(Yt[:,0]-Yts[:,0]), 10.0**(Yt[:,0]+Yts[:,0]), color='red', alpha=0.5)\n",
    "    plt.plot(10.0**(Xt[:,slice]), 10.0**(Yt[:,1]), 'b', label=YLABELS[1])\n",
    "    plt.fill_between(10.0**(Xt[:,slice]), 10.0**(Yt[:,1]-Yts[:,1]), 10.0**(Yt[:,1]+Yts[:,1]), color='blue', alpha=0.5)\n",
    "    plt.xlabel(XLABELS[slice])\n",
    "    plt.legend(loc=0)"
   ]
  },
  {
   "cell_type": "code",
   "execution_count": null,
   "metadata": {
    "ExecuteTime": {
     "end_time": "2020-08-12T16:52:39.439346Z",
     "start_time": "2020-08-12T16:52:21.368875Z"
    }
   },
   "outputs": [],
   "source": [
    "for i in range(NX):\n",
    "    vis(i)"
   ]
  }
 ],
 "metadata": {
  "kernelspec": {
   "display_name": "Python 3",
   "language": "python",
   "name": "python3"
  },
  "language_info": {
   "codemirror_mode": {
    "name": "ipython",
    "version": 3
   },
   "file_extension": ".py",
   "mimetype": "text/x-python",
   "name": "python",
   "nbconvert_exporter": "python",
   "pygments_lexer": "ipython3",
   "version": "3.8.5"
  }
 },
 "nbformat": 4,
 "nbformat_minor": 4
}
