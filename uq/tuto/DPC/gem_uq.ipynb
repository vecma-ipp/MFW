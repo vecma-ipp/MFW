{
 "cells": [
  {
   "cell_type": "code",
   "execution_count": null,
   "metadata": {
    "ExecuteTime": {
     "end_time": "2020-08-14T11:49:02.710043Z",
     "start_time": "2020-08-14T11:48:58.123903Z"
    }
   },
   "outputs": [],
   "source": [
    "%matplotlib inline\n",
    "#%matplotlib notebook\n",
    "import os\n",
    "import matplotlib\n",
    "if not os.getenv(\"DISPLAY\"): matplotlib.use('Agg')\n",
    "import matplotlib.pylab as plt\n",
    "from IPython.display import set_matplotlib_formats\n",
    "set_matplotlib_formats('png', 'pdf')\n",
    "import numpy as np\n",
    "import pandas as pd\n",
    "from sklearn.gaussian_process import GaussianProcessRegressor\n",
    "from sklearn.gaussian_process.kernels \\\n",
    "    import RBF, WhiteKernel, RationalQuadratic, ExpSineSquared, Matern, ConstantKernel\n",
    "import pickle, gzip\n",
    "import itertools\n",
    "from timeit import default_timer as timer\n",
    "import resource, sys\n",
    "import functools\n",
    "import operator"
   ]
  },
  {
   "cell_type": "code",
   "execution_count": null,
   "metadata": {
    "ExecuteTime": {
     "end_time": "2020-08-14T11:49:02.824390Z",
     "start_time": "2020-08-14T11:49:02.715076Z"
    }
   },
   "outputs": [],
   "source": [
    "G = pd.read_csv('../../data/gem_uq_inoutput.csv')\n",
    "G.describe().T"
   ]
  },
  {
   "cell_type": "code",
   "execution_count": null,
   "metadata": {
    "ExecuteTime": {
     "end_time": "2020-08-14T11:49:02.952192Z",
     "start_time": "2020-08-14T11:49:02.832603Z"
    }
   },
   "outputs": [],
   "source": [
    "G.te_value = np.log10(G.te_value)\n",
    "G.ti_value = np.log10(G.ti_value)\n",
    "G.te_ddrho = np.log10(-G.te_ddrho)\n",
    "G.ti_ddrho = np.log10(-G.ti_ddrho)\n",
    "G.te_transp_flux = np.log10(G.te_transp_flux)\n",
    "G.ti_transp_flux = np.log10(G.ti_transp_flux)\n",
    "G.describe().T"
   ]
  },
  {
   "cell_type": "code",
   "execution_count": null,
   "metadata": {
    "ExecuteTime": {
     "end_time": "2020-08-14T11:49:16.758842Z",
     "start_time": "2020-08-14T11:49:02.960729Z"
    }
   },
   "outputs": [],
   "source": [
    "axes = pd.plotting.scatter_matrix(G, alpha=0.5, diagonal='hist', figsize=(8,6))\n",
    "corr = np.array(G.corr())\n",
    "for i, j in zip(*plt.np.triu_indices_from(axes, k=1)):\n",
    "    axes[i, j].annotate(\"%.3f\" %corr[i,j], (0.8, 0.8), xycoords='axes fraction', ha='center', va='center')\n",
    "plt.show()"
   ]
  },
  {
   "cell_type": "code",
   "execution_count": null,
   "metadata": {
    "ExecuteTime": {
     "end_time": "2020-08-14T11:49:16.795909Z",
     "start_time": "2020-08-14T11:49:16.763181Z"
    }
   },
   "outputs": [],
   "source": [
    "XLABELS = ['te_value', 'ti_value', 'te_ddrho', 'ti_ddrho']\n",
    "X = G[XLABELS].values\n",
    "YLABELS = ['te_transp_flux', 'ti_transp_flux']\n",
    "Y = G[YLABELS].values"
   ]
  },
  {
   "cell_type": "code",
   "execution_count": null,
   "metadata": {
    "ExecuteTime": {
     "end_time": "2020-08-14T11:49:23.551651Z",
     "start_time": "2020-08-14T11:49:16.822635Z"
    }
   },
   "outputs": [],
   "source": [
    "NX = len(XLABELS)\n",
    "NY = len(YLABELS)\n",
    "print('Number of points = ', X.shape[0])\n",
    "\n",
    "kernel = ConstantKernel() + Matern(length_scale=2, nu=3/2) + WhiteKernel(noise_level=1)\n",
    "\n",
    "start=timer()\n",
    "GP = []\n",
    "for F in range(NY): \n",
    "    gp = GaussianProcessRegressor(kernel=kernel, normalize_y=True)\n",
    "#    %time \n",
    "    gp.fit(X, Y[:,F])\n",
    "    print(YLABELS[F], gp.kernel_)\n",
    "    GP.append(gp)\n",
    "end=timer()\n",
    "print('Calculating GPR took %0.3f seconds' % (end-start))\n"
   ]
  },
  {
   "cell_type": "code",
   "execution_count": null,
   "metadata": {
    "ExecuteTime": {
     "end_time": "2020-08-14T11:49:23.833265Z",
     "start_time": "2020-08-14T11:49:23.558681Z"
    }
   },
   "outputs": [],
   "source": [
    "start=timer()\n",
    "Xt = X.copy()\n",
    "Yt = np.zeros((Xt.shape[0],NY))\n",
    "Yts = np.zeros((Xt.shape[0],NY))\n",
    "for F in range(NY):\n",
    "  Yt[:,F], Yts[:,F] = GP[F].predict(Xt, return_std=True)\n",
    "end=timer()\n",
    "print('Calculating GPR on grid took %0.3f seconds' % (end-start))"
   ]
  },
  {
   "cell_type": "code",
   "execution_count": null,
   "metadata": {
    "ExecuteTime": {
     "end_time": "2020-08-14T11:49:23.892273Z",
     "start_time": "2020-08-14T11:49:23.847836Z"
    }
   },
   "outputs": [],
   "source": [
    "np.sqrt((Y-Yt)**2).mean(axis=0)"
   ]
  },
  {
   "cell_type": "code",
   "execution_count": null,
   "metadata": {
    "ExecuteTime": {
     "end_time": "2020-08-14T11:49:23.949688Z",
     "start_time": "2020-08-14T11:49:23.916910Z"
    }
   },
   "outputs": [],
   "source": [
    "Yts.mean(axis=0)"
   ]
  },
  {
   "cell_type": "code",
   "execution_count": null,
   "metadata": {
    "ExecuteTime": {
     "end_time": "2020-08-14T11:49:24.018360Z",
     "start_time": "2020-08-14T11:49:23.983628Z"
    }
   },
   "outputs": [],
   "source": [
    "Xvals = np.array([np.unique(X[:,i]) for i in range(X.shape[1])])"
   ]
  },
  {
   "cell_type": "code",
   "execution_count": null,
   "metadata": {
    "ExecuteTime": {
     "end_time": "2020-08-14T11:49:24.097762Z",
     "start_time": "2020-08-14T11:49:24.028017Z"
    }
   },
   "outputs": [],
   "source": [
    "def vis(slice):\n",
    "    if slice == 0:\n",
    "        Xt = np.array([i for i in itertools.product(np.linspace(Xvals[0].min(), Xvals[0].max(), 100), \n",
    "                                                    [Xvals[1,2]], \n",
    "                                                    [Xvals[2,2]],\n",
    "                                                    [Xvals[3,2]])])\n",
    "    elif slice == 1:\n",
    "        Xt = np.array([i for i in itertools.product([Xvals[0,2]], \n",
    "                                                    np.linspace(Xvals[1].min(), Xvals[1].max(), 100), \n",
    "                                                    [Xvals[2,2]],\n",
    "                                                    [Xvals[3,2]])])\n",
    "    elif slice == 2:\n",
    "        Xt = np.array([i for i in itertools.product([Xvals[0,2]], \n",
    "                                                    [Xvals[1,2]],\n",
    "                                                    np.linspace(Xvals[2].min(), Xvals[2].max(), 100), \n",
    "                                                    [Xvals[3,2]])])\n",
    "    elif slice == 3:\n",
    "        Xt = np.array([i for i in itertools.product([Xvals[0,2]], \n",
    "                                                    [Xvals[1,2]],\n",
    "                                                    [Xvals[2,2]],\n",
    "                                                    np.linspace(Xvals[3].min(), Xvals[3].max(), 100))])\n",
    "    start=timer()\n",
    "    Yt = np.zeros((Xt.shape[0],NY))\n",
    "    Yts = np.zeros((Xt.shape[0],NY))\n",
    "    for F in range(NY):\n",
    "      Yt[:,F], Yts[:,F] = GP[F].predict(Xt, return_std=True)\n",
    "    end=timer()\n",
    "    print('Calculating GPR on grid took %0.3f seconds' % (end-start))\n",
    "    \n",
    "    plt.figure(figsize=(8,6))\n",
    "    plt.plot(10.0**(Xt[:,slice]), 10.0**(Yt[:,0]), 'r', label=YLABELS[0])\n",
    "    plt.fill_between(10.0**(Xt[:,slice]), 10.0**(Yt[:,0]-Yts[:,0]), 10.0**(Yt[:,0]+Yts[:,0]), color='red', alpha=0.5)\n",
    "    plt.plot(10.0**(Xt[:,slice]), 10.0**(Yt[:,1]), 'b', label=YLABELS[1])\n",
    "    plt.fill_between(10.0**(Xt[:,slice]), 10.0**(Yt[:,1]-Yts[:,1]), 10.0**(Yt[:,1]+Yts[:,1]), color='blue', alpha=0.5)\n",
    "    plt.xlabel(XLABELS[slice])\n",
    "    plt.legend(loc=0)\n",
    "    plt.title(\"%s=%0.3f, %s=%0.3f, %s=%0.3f\" % \n",
    "              functools.reduce(operator.concat, \n",
    "                               tuple([(XLABELS[i], 10.0**Xvals[i,2]) for i in range(len(XLABELS)) if i != slice])))"
   ]
  },
  {
   "cell_type": "code",
   "execution_count": null,
   "metadata": {
    "ExecuteTime": {
     "end_time": "2020-08-14T11:49:33.470896Z",
     "start_time": "2020-08-14T11:49:24.103509Z"
    }
   },
   "outputs": [],
   "source": [
    "for i in range(NX):\n",
    "    vis(i)"
   ]
  },
  {
   "cell_type": "code",
   "execution_count": null,
   "metadata": {
    "ExecuteTime": {
     "end_time": "2020-08-14T11:49:33.642251Z",
     "start_time": "2020-08-14T11:49:33.475477Z"
    }
   },
   "outputs": [],
   "source": [
    "from sklearn import linear_model\n",
    "from sklearn.linear_model import LinearRegression\n",
    "from sklearn.linear_model import RidgeCV\n",
    "from sklearn.linear_model import RANSACRegressor\n",
    "from sklearn.metrics import mean_squared_error, r2_score\n",
    "from sklearn.model_selection import train_test_split\n",
    "from sklearn.model_selection import GridSearchCV\n",
    "from sklearn.preprocessing import PolynomialFeatures\n",
    "from sklearn.pipeline import Pipeline\n",
    "from sklearn import svm\n",
    "import tabulate"
   ]
  },
  {
   "cell_type": "code",
   "execution_count": null,
   "metadata": {
    "ExecuteTime": {
     "end_time": "2020-08-14T11:49:33.754620Z",
     "start_time": "2020-08-14T11:49:33.646143Z"
    }
   },
   "outputs": [],
   "source": [
    "L=[]\n",
    "\n",
    "Y_pred = np.zeros_like(Y)\n",
    "for F in range(Y.shape[1]):\n",
    "    Y_pred[:,F] = GP[F].predict(X, return_std=False)\n",
    "print(\"Mean squared error: %.3f\" % mean_squared_error(Y, Y_pred))\n",
    "RMSE = np.sqrt(mean_squared_error(Y, Y_pred, multioutput='raw_values'))\n",
    "print(\"RMSE \", RMSE)\n",
    "# Explained variance score: 1 is perfect prediction\n",
    "VarianceScore = r2_score(Y, Y_pred)\n",
    "print('Variance score: %.3f' % VarianceScore)\n",
    "L.append(['GPR', RMSE, VarianceScore])\n",
    "print(L[-1])"
   ]
  },
  {
   "cell_type": "code",
   "execution_count": null,
   "metadata": {
    "ExecuteTime": {
     "end_time": "2020-08-14T11:50:16.941710Z",
     "start_time": "2020-08-14T11:49:33.761543Z"
    }
   },
   "outputs": [],
   "source": [
    "S={}\n",
    "for trF in [0.99, 0.98, 0.95, 0.90, 0.80, 0.70, 0.60, 0.50, 0.40, 0.30, 0.20, 0.10, 0.05, 0.02, 0.01]:\n",
    "    S[str(trF)] = {}\n",
    "    S[str(trF)]['trF'] = trF\n",
    "    X_trn, X_tst, Y_trn, Y_tst = train_test_split(X, Y, test_size=trF)\n",
    "    Y_pred = np.zeros_like(Y_tst)\n",
    "    for F in range(Y.shape[1]): \n",
    "        gp = GaussianProcessRegressor(kernel=kernel, normalize_y=True)\n",
    "        gp.fit(X_trn, Y_trn[:,F])\n",
    "        Y_pred[:,F] = gp.predict(X_tst, return_std=False)\n",
    "    S[str(trF)]['RMSE'] = np.sqrt(mean_squared_error(Y_tst, Y_pred, multioutput='raw_values'))\n",
    "    S[str(trF)]['VarianceScore'] = r2_score(Y_tst, Y_pred)\n",
    "\n",
    "plt.figure()\n",
    "plt.plot([S[s]['trF'] for s in np.sort(list(S.keys()))] , [S[s]['RMSE'] for s in np.sort(list(S.keys()))])\n",
    "plt.xlabel('Test fraction')\n",
    "plt.ylabel('RMSE')\n",
    "plt.ylim(-0.1,1)\n",
    "plt.legend(loc=0, labels=YLABELS)\n",
    "plt.gca().set_prop_cycle(None)\n",
    "plt.plot([0, 1], np.broadcast_to(RMSE, (2,2)), '-.' )\n",
    "plt.title('Gaussian process regression in the logarithmic space')\n",
    "\n",
    "plt.figure()\n",
    "plt.plot([S[s]['trF'] for s in np.sort(list(S.keys()))] , [S[s]['VarianceScore'] for s in np.sort(list(S.keys()))])\n",
    "plt.xlabel('Test fraction')\n",
    "plt.ylabel('VarianceScore')\n",
    "plt.ylim(0,1.1)\n",
    "plt.gca().set_prop_cycle(None)\n",
    "plt.plot([0, 1], [VarianceScore, VarianceScore], '-.' )\n",
    "plt.title('Gaussian process regression in the logarithmic space');"
   ]
  },
  {
   "cell_type": "code",
   "execution_count": null,
   "metadata": {
    "ExecuteTime": {
     "end_time": "2020-08-14T11:50:17.020567Z",
     "start_time": "2020-08-14T11:50:16.951478Z"
    }
   },
   "outputs": [],
   "source": [
    "reg = linear_model.LinearRegression(n_jobs=-1)\n",
    "reg.fit (X, Y)\n",
    "Y_pred = reg.predict(X)\n",
    "print(\"Mean squared error: %.3f\" % mean_squared_error(Y, Y_pred))\n",
    "RMSE = np.sqrt(mean_squared_error(Y, Y_pred, multioutput='raw_values'))\n",
    "print(\"RMSE \", RMSE)\n",
    "# Explained variance score: 1 is perfect prediction\n",
    "VarianceScore = r2_score(Y, Y_pred)\n",
    "print('Variance score: %.3f' % VarianceScore)\n",
    "L.append(['Linear', RMSE, VarianceScore])\n",
    "print(L[-1])"
   ]
  },
  {
   "cell_type": "code",
   "execution_count": null,
   "metadata": {
    "ExecuteTime": {
     "end_time": "2020-08-14T11:50:18.236717Z",
     "start_time": "2020-08-14T11:50:17.038563Z"
    }
   },
   "outputs": [],
   "source": [
    "S={}\n",
    "for trF in [0.99, 0.98, 0.95, 0.90, 0.80, 0.70, 0.60, 0.50, 0.40, 0.30, 0.20, 0.10, 0.05, 0.02, 0.01]:\n",
    "    S[str(trF)] = {}\n",
    "    S[str(trF)]['trF'] = trF\n",
    "    X_trn, X_tst, Y_trn, Y_tst = train_test_split(X, Y, test_size=trF)\n",
    "    reg = linear_model.LinearRegression(n_jobs=-1)\n",
    "    reg.fit (X_trn, Y_trn)\n",
    "    Y_pred = reg.predict(X_tst)\n",
    "    S[str(trF)]['RMSE'] = np.sqrt(mean_squared_error(Y_tst, Y_pred, multioutput='raw_values'))\n",
    "    S[str(trF)]['VarianceScore'] = r2_score(Y_tst, Y_pred)\n",
    "\n",
    "plt.clf()\n",
    "plt.plot([S[s]['trF'] for s in np.sort(list(S.keys()))] , [S[s]['RMSE'] for s in np.sort(list(S.keys()))] )\n",
    "plt.xlabel('Test fraction')\n",
    "plt.ylabel('RMSE')\n",
    "plt.ylim(0,1)\n",
    "plt.legend(loc=0, labels=YLABELS)\n",
    "plt.gca().set_prop_cycle(None)\n",
    "plt.plot([0, 1] , np.broadcast_to(RMSE, (2,2)), '-.' )\n",
    "plt.title('Linear regression in the logarithmic space');"
   ]
  },
  {
   "cell_type": "code",
   "execution_count": null,
   "metadata": {
    "ExecuteTime": {
     "end_time": "2020-08-14T11:50:18.288530Z",
     "start_time": "2020-08-14T11:50:18.242919Z"
    }
   },
   "outputs": [],
   "source": [
    "reg = linear_model.Ridge (alpha = 0.5)\n",
    "reg.fit (X, Y)\n",
    "Y_pred = reg.predict(X)\n",
    "print(\"Mean squared error: %.3f\" % mean_squared_error(Y, Y_pred))\n",
    "RMSE = np.sqrt(mean_squared_error(Y, Y_pred, multioutput='raw_values'))\n",
    "print(\"RMSE \", RMSE)\n",
    "# Explained variance score: 1 is perfect prediction\n",
    "VarianceScore = r2_score(Y, Y_pred)\n",
    "print('Variance score: %.3f' % VarianceScore)\n",
    "L.append(['Ridge', RMSE, VarianceScore])\n",
    "print(L[-1])"
   ]
  },
  {
   "cell_type": "code",
   "execution_count": null,
   "metadata": {
    "ExecuteTime": {
     "end_time": "2020-08-14T11:50:18.349838Z",
     "start_time": "2020-08-14T11:50:18.295706Z"
    }
   },
   "outputs": [],
   "source": [
    "reg = linear_model.RidgeCV(alphas=[0.1, 1.0, 10.0])\n",
    "reg.fit (X, Y)\n",
    "Y_pred = reg.predict(X)\n",
    "print(\"Mean squared error: %.3f\" % mean_squared_error(Y, Y_pred))\n",
    "RMSE = np.sqrt(mean_squared_error(Y, Y_pred, multioutput='raw_values'))\n",
    "print(\"RMSE \", RMSE)\n",
    "# Explained variance score: 1 is perfect prediction\n",
    "VarianceScore = r2_score(Y, Y_pred)\n",
    "print('Variance score: %.3f' % VarianceScore)\n",
    "L.append(['RidgeCV', RMSE, VarianceScore])\n",
    "print(L[-1])"
   ]
  },
  {
   "cell_type": "code",
   "execution_count": null,
   "metadata": {
    "ExecuteTime": {
     "end_time": "2020-08-14T11:50:18.410169Z",
     "start_time": "2020-08-14T11:50:18.358405Z"
    }
   },
   "outputs": [],
   "source": [
    "reg = linear_model.Lasso(alpha = 1e-6)\n",
    "reg.fit (X, Y)\n",
    "Y_pred = reg.predict(X)\n",
    "print(\"Mean squared error: %.3f\" % mean_squared_error(Y, Y_pred))\n",
    "RMSE = np.sqrt(mean_squared_error(Y, Y_pred, multioutput='raw_values'))\n",
    "print(\"RMSE \", RMSE)\n",
    "# Explained variance score: 1 is perfect prediction\n",
    "VarianceScore = r2_score(Y, Y_pred)\n",
    "print('Variance score: %.3f' % VarianceScore)\n",
    "L.append(['Lasso', RMSE, VarianceScore])\n",
    "print(L[-1])"
   ]
  },
  {
   "cell_type": "code",
   "execution_count": null,
   "metadata": {
    "ExecuteTime": {
     "end_time": "2020-08-14T11:50:18.466936Z",
     "start_time": "2020-08-14T11:50:18.420959Z"
    }
   },
   "outputs": [],
   "source": [
    "reg = linear_model.BayesianRidge()\n",
    "Y_pred = np.zeros_like(Y)\n",
    "for F in range(Y.shape[1]):  reg.fit (X, Y[:,F]) ; Y_pred[:,F] = reg.predict(X)\n",
    "print(\"Mean squared error: %.3f\" % mean_squared_error(Y, Y_pred))\n",
    "RMSE = np.sqrt(mean_squared_error(Y, Y_pred, multioutput='raw_values'))\n",
    "print(\"RMSE \", RMSE)\n",
    "# Explained variance score: 1 is perfect prediction\n",
    "VarianceScore = r2_score(Y, Y_pred)\n",
    "print('Variance score: %.3f' % VarianceScore)\n",
    "L.append(['BayesianRidge', RMSE, VarianceScore])\n",
    "print(L[-1])"
   ]
  },
  {
   "cell_type": "code",
   "execution_count": null,
   "metadata": {
    "ExecuteTime": {
     "end_time": "2020-08-14T11:50:18.617483Z",
     "start_time": "2020-08-14T11:50:18.476805Z"
    }
   },
   "outputs": [],
   "source": [
    "Y_pred = np.zeros_like(Y)\n",
    "for F in range(Y.shape[1]): model = Pipeline([('poly', PolynomialFeatures(degree=1, include_bias=False)), ('svm', svm.SVR(kernel='rbf'))]) ; RES = model.fit(X, Y[:,F]) ; Y_pred[:,F] = RES.predict(X)\n",
    "print(\"Mean squared error: %.3f\" % mean_squared_error(Y, Y_pred))\n",
    "RMSE = np.sqrt(mean_squared_error(Y, Y_pred, multioutput='raw_values'))\n",
    "print(\"RMSE \", RMSE)\n",
    "# Explained variance score: 1 is perfect prediction\n",
    "VarianceScore = r2_score(Y, Y_pred)\n",
    "print('Variance score: %.3f' % VarianceScore)\n",
    "L.append(['SVR', RMSE, VarianceScore])\n",
    "print(L[-1])"
   ]
  },
  {
   "cell_type": "code",
   "execution_count": null,
   "metadata": {
    "ExecuteTime": {
     "end_time": "2020-08-14T11:50:18.843617Z",
     "start_time": "2020-08-14T11:50:18.641426Z"
    }
   },
   "outputs": [],
   "source": [
    "Y_pred = np.zeros_like(Y)\n",
    "for F in range(Y.shape[1]): model = Pipeline([('poly', PolynomialFeatures(degree=1, include_bias=False)), ('svm', svm.NuSVR(kernel='rbf'))]) ; RES = model.fit(X, Y[:,F]) ; Y_pred[:,F] = RES.predict(X)\n",
    "print(\"Mean squared error: %.3f\" % mean_squared_error(Y, Y_pred))\n",
    "RMSE = np.sqrt(mean_squared_error(Y, Y_pred, multioutput='raw_values'))\n",
    "print(\"RMSE \", RMSE)\n",
    "# Explained variance score: 1 is perfect prediction\n",
    "VarianceScore = r2_score(Y, Y_pred)\n",
    "print('Variance score: %.3f' % VarianceScore)\n",
    "L.append(['NuSVR', RMSE, VarianceScore])\n",
    "print(L[-1])"
   ]
  },
  {
   "cell_type": "code",
   "execution_count": null,
   "metadata": {
    "ExecuteTime": {
     "end_time": "2020-08-14T11:50:18.947973Z",
     "start_time": "2020-08-14T11:50:18.850081Z"
    }
   },
   "outputs": [],
   "source": [
    "Y_pred = np.zeros_like(Y)\n",
    "for F in range(Y.shape[1]): model = Pipeline([('poly', PolynomialFeatures(degree=1, include_bias=False)), ('svm', svm.SVR(C=1, gamma=1, kernel='rbf'))]) ; RES = model.fit(X, Y[:,F]) ; Y_pred[:,F] = RES.predict(X)\n",
    "print(\"Mean squared error: %.3f\" % mean_squared_error(Y, Y_pred))\n",
    "RMSE = np.sqrt(mean_squared_error(Y, Y_pred, multioutput='raw_values'))\n",
    "print(\"RMSE \", RMSE)\n",
    "# Explained variance score: 1 is perfect prediction\n",
    "VarianceScore = r2_score(Y, Y_pred)\n",
    "print('Variance score: %.3f' % VarianceScore)\n",
    "L.append(['SVR(C=1,gamma=1)', RMSE, VarianceScore])\n",
    "print(L[-1])"
   ]
  },
  {
   "cell_type": "code",
   "execution_count": null,
   "metadata": {
    "ExecuteTime": {
     "end_time": "2020-08-14T11:50:21.551217Z",
     "start_time": "2020-08-14T11:50:18.957157Z"
    }
   },
   "outputs": [],
   "source": [
    "S={}\n",
    "for i in range(13):  #13\n",
    "    S[i]={}\n",
    "    model = Pipeline([('poly', PolynomialFeatures(degree=i+1)), ('linear', RidgeCV(alphas=[0.1, 0.2, 0.5, 1.0, 2.0, 5.0, 10.0, 100.0], fit_intercept=False))])\n",
    "    RES = model.fit(X, Y)\n",
    "    S[i]['RES'] = RES\n",
    "    S[i]['alpha'] = RES.named_steps['linear'].alpha_\n",
    "    S[i]['coef'] = RES.named_steps['linear'].coef_\n",
    "    S[i]['intercept'] = RES.named_steps['linear'].intercept_\n",
    "    Y_pred = RES.predict(X)\n",
    "    S[i]['degree'] = i+1\n",
    "    print('Polynomial of degree ', i+1)\n",
    "    S[i]['MSE'] = mean_squared_error(Y, Y_pred)\n",
    "    print(\"Mean squared error: %.3f\" % mean_squared_error(Y, Y_pred))\n",
    "    S[i]['VarianceScore'] = r2_score(Y, Y_pred)\n",
    "    print('Variance score: %.3f' % r2_score(Y, Y_pred))\n",
    "    S[i]['RMSE'] = np.sqrt(mean_squared_error(Y, Y_pred, multioutput='raw_values'))\n",
    "    print(\"RMSE \", np.sqrt(mean_squared_error(Y, Y_pred, multioutput='raw_values')))"
   ]
  },
  {
   "cell_type": "code",
   "execution_count": null,
   "metadata": {
    "ExecuteTime": {
     "end_time": "2020-08-14T11:50:22.692263Z",
     "start_time": "2020-08-14T11:50:21.557949Z"
    }
   },
   "outputs": [],
   "source": [
    "plt.clf()\n",
    "plt.plot([S[s]['degree'] for s in np.sort(list(S.keys()))] , [S[s]['RMSE'] for s in np.sort(list(S.keys()))] )\n",
    "plt.xlabel('Degree')\n",
    "plt.ylabel('RMSE')\n",
    "plt.ylim(0,1)\n",
    "plt.legend(loc=0, labels=YLABELS)\n",
    "plt.title('RidgeCV regression with polynomial extension\\nin the logarithmic space')"
   ]
  },
  {
   "cell_type": "code",
   "execution_count": null,
   "metadata": {
    "ExecuteTime": {
     "end_time": "2020-08-14T11:50:50.018962Z",
     "start_time": "2020-08-14T11:50:22.713202Z"
    },
    "scrolled": false
   },
   "outputs": [],
   "source": [
    "for C in S:\n",
    "    print('degree ', S[C]['degree'])\n",
    "    S2={}\n",
    "    for trF in [0.99, 0.98, 0.95, 0.90, 0.80, 0.70, 0.60, 0.50, 0.40, 0.30, 0.20, 0.10, 0.05, 0.02, 0.01]:\n",
    "        S2[str(trF)] = {}\n",
    "        S2[str(trF)]['trF'] = trF\n",
    "        X_trn, X_tst, Y_trn, Y_tst = train_test_split(X, Y, test_size=trF)\n",
    "        model = Pipeline([('poly', PolynomialFeatures(degree=S[C]['degree'])), ('linear', RidgeCV(alphas=[0.1, 0.2, 0.5, 1.0, 2.0, 5.0, 10.0, 100.0], fit_intercept=False))])\n",
    "        RES = model.fit(X_trn, Y_trn)\n",
    "        Y_pred = RES.predict(X_tst)\n",
    "        S2[str(trF)]['RMSE'] = np.sqrt(mean_squared_error(Y_tst, Y_pred, multioutput='raw_values'))\n",
    "        S2[str(trF)]['VarianceScore'] = r2_score(Y_tst, Y_pred)\n",
    "\n",
    "    plt.figure()\n",
    "    plt.plot([S2[s]['trF'] for s in np.sort(list(S2.keys()))] , [S2[s]['RMSE'] for s in np.sort(list(S2.keys()))] )\n",
    "    plt.xlabel('Test fraction')\n",
    "    plt.ylabel('RMSE')\n",
    "    plt.ylim(0,1)\n",
    "    plt.legend(loc=0, labels=YLABELS)\n",
    "    plt.gca().set_prop_cycle(None)\n",
    "    plt.plot([0, 1] , np.broadcast_to(S[C]['RMSE'], (2,2)), '-.' )\n",
    "    plt.title('RidgeCV regression with polynomial extension %s\\nin the normalised logarithmic space' % (S[C]['degree']));"
   ]
  },
  {
   "cell_type": "code",
   "execution_count": null,
   "metadata": {
    "ExecuteTime": {
     "end_time": "2020-08-14T11:50:50.075628Z",
     "start_time": "2020-08-14T11:50:50.032256Z"
    }
   },
   "outputs": [],
   "source": [
    "LL = []\n",
    "for l in L:\n",
    "    LLL=[]\n",
    "    LLL.append(l[0])\n",
    "    LLL.extend(l[1])\n",
    "    LLL.append(l[2])\n",
    "    LL.append(LLL)\n",
    "for s in S: \n",
    "    SSS=[] ; SSS.append('RidgeCV_with_polynomial_extension=%s' % S[s]['degree'])\n",
    "    SSS.extend(S[s]['RMSE'])\n",
    "    SSS.append(S[s]['VarianceScore'])\n",
    "    LL.append(SSS)\n",
    "\n",
    "headers=['method'] ; headers.extend(YLABELS) ; headers.append('VarianceScore')\n",
    "print(tabulate.tabulate(LL, tablefmt=\"simple\", headers=headers, floatfmt='5.3f'))"
   ]
  }
 ],
 "metadata": {
  "kernelspec": {
   "display_name": "Python 3",
   "language": "python",
   "name": "python3"
  },
  "language_info": {
   "codemirror_mode": {
    "name": "ipython",
    "version": 3
   },
   "file_extension": ".py",
   "mimetype": "text/x-python",
   "name": "python",
   "nbconvert_exporter": "python",
   "pygments_lexer": "ipython3",
   "version": "3.8.5"
  },
  "latex_metadata": {
   "affiliation": "Max Planck Institute for Plasma Physics, Garching, Germany",
   "author": "David P. Coster",
   "title": "VECMA Fusion Notebooks"
  }
 },
 "nbformat": 4,
 "nbformat_minor": 4
}
